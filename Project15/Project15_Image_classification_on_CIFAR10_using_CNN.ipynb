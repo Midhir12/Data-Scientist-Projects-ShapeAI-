{
  "nbformat": 4,
  "nbformat_minor": 0,
  "metadata": {
    "colab": {
      "provenance": []
    },
    "kernelspec": {
      "name": "python3",
      "display_name": "Python 3"
    },
    "language_info": {
      "name": "python"
    }
  },
  "cells": [
    {
      "cell_type": "markdown",
      "source": [
        "## **SHAPEAI - DATA SCIENTIST TRAINING & INTERNSHIP**"
      ],
      "metadata": {
        "id": "fx-TvpLGz9j8"
      }
    },
    {
      "cell_type": "markdown",
      "source": [
        "### **Author: Midhir Nambiar**"
      ],
      "metadata": {
        "id": "LziMeVbH0HEP"
      }
    },
    {
      "cell_type": "markdown",
      "source": [
        "### **Task: Image classification on CIFAR10 using CNN**"
      ],
      "metadata": {
        "id": "m586ew6c0KRy"
      }
    },
    {
      "cell_type": "markdown",
      "source": [
        "Outline:\n",
        "\n",
        "1. Importing Libraries\n",
        "2. Data Analysis\n",
        "3. Feature Scaling\n",
        "4. Model Building & Evaluation"
      ],
      "metadata": {
        "id": "MrSBiEyH07Ad"
      }
    },
    {
      "cell_type": "markdown",
      "source": [
        "**Importing Libraries**"
      ],
      "metadata": {
        "id": "ZnDwIlns0SZf"
      }
    },
    {
      "cell_type": "code",
      "execution_count": 1,
      "metadata": {
        "id": "e8apipSxL39E"
      },
      "outputs": [],
      "source": [
        "import tensorflow as tf\n",
        "from tensorflow.keras import datasets, layers, models\n",
        "import matplotlib.pyplot as plt\n",
        "import numpy as np"
      ]
    },
    {
      "cell_type": "markdown",
      "source": [
        "**Data Analysis**"
      ],
      "metadata": {
        "id": "HSElMZhI0Xq4"
      }
    },
    {
      "cell_type": "code",
      "source": [
        "# Load the dataset\n",
        "(x_train,y_train) , (x_test,y_test) = datasets.cifar10.load_data()"
      ],
      "metadata": {
        "colab": {
          "base_uri": "https://localhost:8080/"
        },
        "id": "cej8QBwlxHJH",
        "outputId": "f61560be-ab8f-488a-83f7-db382d8c62ce"
      },
      "execution_count": 2,
      "outputs": [
        {
          "output_type": "stream",
          "name": "stdout",
          "text": [
            "Downloading data from https://www.cs.toronto.edu/~kriz/cifar-10-python.tar.gz\n",
            "170498071/170498071 [==============================] - 4s 0us/step\n"
          ]
        }
      ]
    },
    {
      "cell_type": "code",
      "source": [
        "print(x_train.shape)\n",
        "print(x_test.shape)"
      ],
      "metadata": {
        "colab": {
          "base_uri": "https://localhost:8080/"
        },
        "id": "gg1tBlJmxZVh",
        "outputId": "976e5a5e-c7db-41e2-b133-33b531cd2029"
      },
      "execution_count": 3,
      "outputs": [
        {
          "output_type": "stream",
          "name": "stdout",
          "text": [
            "(50000, 32, 32, 3)\n",
            "(10000, 32, 32, 3)\n"
          ]
        }
      ]
    },
    {
      "cell_type": "code",
      "source": [
        "print(y_train.shape)\n",
        "print(y_test[:5])"
      ],
      "metadata": {
        "colab": {
          "base_uri": "https://localhost:8080/"
        },
        "id": "LhhMxS8oyv6D",
        "outputId": "964df30e-e54c-49d7-ccf1-dfc92523ee61"
      },
      "execution_count": 4,
      "outputs": [
        {
          "output_type": "stream",
          "name": "stdout",
          "text": [
            "(50000, 1)\n",
            "[[3]\n",
            " [8]\n",
            " [8]\n",
            " [0]\n",
            " [6]]\n"
          ]
        }
      ]
    },
    {
      "cell_type": "code",
      "source": [
        "# Converting it into a single array\n",
        "y_train = y_train.reshape(-1,)\n",
        "y_train[:10]"
      ],
      "metadata": {
        "colab": {
          "base_uri": "https://localhost:8080/"
        },
        "id": "j1quXAHhzFp9",
        "outputId": "8c8b15a9-7696-470e-bef2-75238a7f7a00"
      },
      "execution_count": 5,
      "outputs": [
        {
          "output_type": "execute_result",
          "data": {
            "text/plain": [
              "array([6, 9, 9, 4, 1, 1, 2, 7, 8, 3], dtype=uint8)"
            ]
          },
          "metadata": {},
          "execution_count": 5
        }
      ]
    },
    {
      "cell_type": "code",
      "source": [
        "plt.figure(figsize=(5,2))\n",
        "plt.imshow(x_train[0])\n",
        "plt.show()"
      ],
      "metadata": {
        "colab": {
          "base_uri": "https://localhost:8080/",
          "height": 217
        },
        "id": "U_nGbk0i0u2Q",
        "outputId": "d3fe44d8-ada2-461f-af7b-096ed4001778"
      },
      "execution_count": 6,
      "outputs": [
        {
          "output_type": "display_data",
          "data": {
            "text/plain": [
              "<Figure size 500x200 with 1 Axes>"
            ],
            "image/png": "[encoded data removed]"
          },
          "metadata": {}
        }
      ]
    },
    {
      "cell_type": "code",
      "source": [
        "y_train[0]"
      ],
      "metadata": {
        "colab": {
          "base_uri": "https://localhost:8080/"
        },
        "id": "Rmep5MUD0wU_",
        "outputId": "9ec460da-5f2b-4f7e-f978-8aaccc38f9bb"
      },
      "execution_count": 7,
      "outputs": [
        {
          "output_type": "execute_result",
          "data": {
            "text/plain": [
              "6"
            ]
          },
          "metadata": {},
          "execution_count": 7
        }
      ]
    },
    {
      "cell_type": "markdown",
      "source": [
        "This is an image of a Frog"
      ],
      "metadata": {
        "id": "46eFu9G01FVC"
      }
    },
    {
      "cell_type": "code",
      "source": [
        "plt.figure(figsize=(5,2))\n",
        "plt.imshow(x_train[1])\n",
        "plt.show()"
      ],
      "metadata": {
        "colab": {
          "base_uri": "https://localhost:8080/",
          "height": 217
        },
        "id": "n7L76k_L007L",
        "outputId": "feb83f91-5f61-4f3b-add9-c8b7037e72c7"
      },
      "execution_count": 8,
      "outputs": [
        {
          "output_type": "display_data",
          "data": {
            "text/plain": [
              "<Figure size 500x200 with 1 Axes>"
            ],
            "image/png": "[encoded data removed]"
          },
          "metadata": {}
        }
      ]
    },
    {
      "cell_type": "code",
      "source": [
        "y_train[1]"
      ],
      "metadata": {
        "colab": {
          "base_uri": "https://localhost:8080/"
        },
        "id": "IcwEq-T503L6",
        "outputId": "0d701f35-1e73-452e-f073-477c66bbf0f4"
      },
      "execution_count": 9,
      "outputs": [
        {
          "output_type": "execute_result",
          "data": {
            "text/plain": [
              "9"
            ]
          },
          "metadata": {},
          "execution_count": 9
        }
      ]
    },
    {
      "cell_type": "markdown",
      "source": [
        "This is a image of a Truck"
      ],
      "metadata": {
        "id": "rEynu7hj1IZ2"
      }
    },
    {
      "cell_type": "code",
      "source": [
        "x_train[0]"
      ],
      "metadata": {
        "colab": {
          "base_uri": "https://localhost:8080/"
        },
        "id": "5OK_E4Qk1HCP",
        "outputId": "df42aa87-070d-4b3c-a6c9-e5edabb52469"
      },
      "execution_count": 10,
      "outputs": [
        {
          "output_type": "execute_result",
          "data": {
            "text/plain": [
              "array([[[ 59,  62,  63],\n",
              "        [ 43,  46,  45],\n",
              "        [ 50,  48,  43],\n",
              "        ...,\n",
              "        [158, 132, 108],\n",
              "        [152, 125, 102],\n",
              "        [148, 124, 103]],\n",
              "\n",
              "       [[ 16,  20,  20],\n",
              "        [  0,   0,   0],\n",
              "        [ 18,   8,   0],\n",
              "        ...,\n",
              "        [123,  88,  55],\n",
              "        [119,  83,  50],\n",
              "        [122,  87,  57]],\n",
              "\n",
              "       [[ 25,  24,  21],\n",
              "        [ 16,   7,   0],\n",
              "        [ 49,  27,   8],\n",
              "        ...,\n",
              "        [118,  84,  50],\n",
              "        [120,  84,  50],\n",
              "        [109,  73,  42]],\n",
              "\n",
              "       ...,\n",
              "\n",
              "       [[208, 170,  96],\n",
              "        [201, 153,  34],\n",
              "        [198, 161,  26],\n",
              "        ...,\n",
              "        [160, 133,  70],\n",
              "        [ 56,  31,   7],\n",
              "        [ 53,  34,  20]],\n",
              "\n",
              "       [[180, 139,  96],\n",
              "        [173, 123,  42],\n",
              "        [186, 144,  30],\n",
              "        ...,\n",
              "        [184, 148,  94],\n",
              "        [ 97,  62,  34],\n",
              "        [ 83,  53,  34]],\n",
              "\n",
              "       [[177, 144, 116],\n",
              "        [168, 129,  94],\n",
              "        [179, 142,  87],\n",
              "        ...,\n",
              "        [216, 184, 140],\n",
              "        [151, 118,  84],\n",
              "        [123,  92,  72]]], dtype=uint8)"
            ]
          },
          "metadata": {},
          "execution_count": 10
        }
      ]
    },
    {
      "cell_type": "markdown",
      "source": [
        "**Feature Scaling**"
      ],
      "metadata": {
        "id": "byVnyDNN0giP"
      }
    },
    {
      "cell_type": "code",
      "source": [
        "x_train = x_train/255\n",
        "x_test = x_test/255"
      ],
      "metadata": {
        "id": "YIDra5aH1M1u"
      },
      "execution_count": 11,
      "outputs": []
    },
    {
      "cell_type": "code",
      "source": [
        "x_train[0][0]"
      ],
      "metadata": {
        "colab": {
          "base_uri": "https://localhost:8080/"
        },
        "id": "525i7pl21SIB",
        "outputId": "4342b075-ef63-40c6-cc0c-906a46480e9c"
      },
      "execution_count": 12,
      "outputs": [
        {
          "output_type": "execute_result",
          "data": {
            "text/plain": [
              "array([[0.23137255, 0.24313725, 0.24705882],\n",
              "       [0.16862745, 0.18039216, 0.17647059],\n",
              "       [0.19607843, 0.18823529, 0.16862745],\n",
              "       [0.26666667, 0.21176471, 0.16470588],\n",
              "       [0.38431373, 0.28627451, 0.20392157],\n",
              "       [0.46666667, 0.35686275, 0.24705882],\n",
              "       [0.54509804, 0.41960784, 0.29411765],\n",
              "       [0.56862745, 0.43137255, 0.31372549],\n",
              "       [0.58431373, 0.45882353, 0.34901961],\n",
              "       [0.58431373, 0.47058824, 0.36470588],\n",
              "       [0.51372549, 0.40392157, 0.30196078],\n",
              "       [0.49019608, 0.38823529, 0.29803922],\n",
              "       [0.55686275, 0.45098039, 0.35686275],\n",
              "       [0.56470588, 0.43921569, 0.3372549 ],\n",
              "       [0.5372549 , 0.41176471, 0.30980392],\n",
              "       [0.50588235, 0.38039216, 0.27843137],\n",
              "       [0.5372549 , 0.41568627, 0.30980392],\n",
              "       [0.5254902 , 0.41568627, 0.29803922],\n",
              "       [0.48627451, 0.38039216, 0.25098039],\n",
              "       [0.54509804, 0.44313725, 0.30588235],\n",
              "       [0.54509804, 0.43921569, 0.29411765],\n",
              "       [0.52156863, 0.41176471, 0.27058824],\n",
              "       [0.53333333, 0.41176471, 0.29019608],\n",
              "       [0.54509804, 0.42352941, 0.30196078],\n",
              "       [0.59607843, 0.47058824, 0.34901961],\n",
              "       [0.63921569, 0.51372549, 0.39215686],\n",
              "       [0.65882353, 0.53333333, 0.42352941],\n",
              "       [0.62352941, 0.50588235, 0.4       ],\n",
              "       [0.61960784, 0.50980392, 0.40784314],\n",
              "       [0.61960784, 0.51764706, 0.42352941],\n",
              "       [0.59607843, 0.49019608, 0.4       ],\n",
              "       [0.58039216, 0.48627451, 0.40392157]])"
            ]
          },
          "metadata": {},
          "execution_count": 12
        }
      ]
    },
    {
      "cell_type": "markdown",
      "source": [
        "**Model Building & Evaluation**"
      ],
      "metadata": {
        "id": "eJz08PvY0llP"
      }
    },
    {
      "cell_type": "code",
      "source": [
        "# Build a simple neural network for Image Classification\n",
        "# Optimizer is used to reduce the loss\n",
        "ann = models.Sequential([layers.Flatten(input_shape=(32,32,3)),\n",
        "                        layers.Dense(4000, activation = 'relu'),\n",
        "                        layers.Dense(2000, activation = 'relu'),\n",
        "                        layers.Dense(10, activation = 'sigmoid'),\n",
        "                        ])\n",
        "ann.compile(optimizer='adam', loss='sparse_categorical_crossentropy',metrics=['accuracy'])\n",
        "ann.fit(x_train,y_train, epochs=10)"
      ],
      "metadata": {
        "colab": {
          "base_uri": "https://localhost:8080/"
        },
        "id": "NUoYsBeg1htY",
        "outputId": "21a46d65-b0c5-4ff7-9fb1-8a812e9e5470"
      },
      "execution_count": 13,
      "outputs": [
        {
          "output_type": "stream",
          "name": "stdout",
          "text": [
            "Epoch 1/10\n",
            "1563/1563 [==============================] - 527s 336ms/step - loss: 1.8918 - accuracy: 0.3261\n",
            "Epoch 2/10\n",
            "1563/1563 [==============================] - 552s 353ms/step - loss: 1.6659 - accuracy: 0.4034\n",
            "Epoch 3/10\n",
            "1563/1563 [==============================] - 535s 342ms/step - loss: 1.5857 - accuracy: 0.4306\n",
            "Epoch 4/10\n",
            "1563/1563 [==============================] - 551s 353ms/step - loss: 1.5313 - accuracy: 0.4545\n",
            "Epoch 5/10\n",
            "1563/1563 [==============================] - 532s 340ms/step - loss: 1.4975 - accuracy: 0.4624\n",
            "Epoch 6/10\n",
            "1563/1563 [==============================] - 539s 345ms/step - loss: 1.4660 - accuracy: 0.4761\n",
            "Epoch 7/10\n",
            "1563/1563 [==============================] - 539s 345ms/step - loss: 1.4420 - accuracy: 0.4856\n",
            "Epoch 8/10\n",
            "1563/1563 [==============================] - 537s 344ms/step - loss: 1.4161 - accuracy: 0.4927\n",
            "Epoch 9/10\n",
            "1563/1563 [==============================] - 535s 343ms/step - loss: 1.4004 - accuracy: 0.4990\n",
            "Epoch 10/10\n",
            "1563/1563 [==============================] - 549s 351ms/step - loss: 1.3812 - accuracy: 0.5066\n"
          ]
        },
        {
          "output_type": "execute_result",
          "data": {
            "text/plain": [
              "<keras.callbacks.History at 0x7fbfc371d840>"
            ]
          },
          "metadata": {},
          "execution_count": 13
        }
      ]
    },
    {
      "cell_type": "markdown",
      "source": [
        "ANN gives us a low accuracy"
      ],
      "metadata": {
        "id": "gLoFM_fk0pqy"
      }
    },
    {
      "cell_type": "code",
      "source": [
        "# Building a CNN to train our images (padding='same' and strides=(1,1) can be added depending on performance)\n",
        "cnn = models.Sequential([\n",
        "    layers.Convolution2D(filters=64, kernel_size=(3,3),activation='relu',input_shape=(32,32,3)),\n",
        "    layers.MaxPooling2D((2,2)),\n",
        "    layers.Convolution2D(filters=32, kernel_size=(3,3),activation='relu'),\n",
        "    layers.MaxPooling2D((2,2)),\n",
        "    layers.Flatten(),\n",
        "    layers.Dense(64, activation = 'relu'),\n",
        "    layers.Dense(32, activation = 'relu'),\n",
        "    layers.Dense(10, activation = 'softmax'),\n",
        "                        ])"
      ],
      "metadata": {
        "id": "SREbrq05UMiK"
      },
      "execution_count": 14,
      "outputs": []
    },
    {
      "cell_type": "code",
      "source": [
        "# Categorical_crossentropy only works when output is generated in one-hot encoding manner(0 & 1)\n",
        "# Dropout layer - if neural network is overfitted, this layer is added, this layer randomly drops out neurons.\n",
        "cnn.compile(optimizer='adam', loss='sparse_categorical_crossentropy',metrics=['accuracy'])\n",
        "cnn.fit(x_train,y_train, epochs=20)"
      ],
      "metadata": {
        "colab": {
          "base_uri": "https://localhost:8080/"
        },
        "id": "pvIdDi00WuHt",
        "outputId": "f922a038-25ba-4f0a-ff00-1922955986cb"
      },
      "execution_count": 15,
      "outputs": [
        {
          "output_type": "stream",
          "name": "stdout",
          "text": [
            "Epoch 1/20\n",
            "1563/1563 [==============================] - 106s 67ms/step - loss: 1.5842 - accuracy: 0.4222\n",
            "Epoch 2/20\n",
            "1563/1563 [==============================] - 104s 66ms/step - loss: 1.2355 - accuracy: 0.5576\n",
            "Epoch 3/20\n",
            "1563/1563 [==============================] - 103s 66ms/step - loss: 1.0995 - accuracy: 0.6117\n",
            "Epoch 4/20\n",
            "1563/1563 [==============================] - 102s 66ms/step - loss: 1.0240 - accuracy: 0.6414\n",
            "Epoch 5/20\n",
            "1563/1563 [==============================] - 101s 64ms/step - loss: 0.9592 - accuracy: 0.6643\n",
            "Epoch 6/20\n",
            "1563/1563 [==============================] - 105s 67ms/step - loss: 0.9111 - accuracy: 0.6831\n",
            "Epoch 7/20\n",
            "1563/1563 [==============================] - 103s 66ms/step - loss: 0.8732 - accuracy: 0.6941\n",
            "Epoch 8/20\n",
            "1563/1563 [==============================] - 102s 65ms/step - loss: 0.8337 - accuracy: 0.7100\n",
            "Epoch 9/20\n",
            "1563/1563 [==============================] - 100s 64ms/step - loss: 0.8123 - accuracy: 0.7159\n",
            "Epoch 10/20\n",
            "1563/1563 [==============================] - 102s 65ms/step - loss: 0.7821 - accuracy: 0.7255\n",
            "Epoch 11/20\n",
            "1563/1563 [==============================] - 102s 65ms/step - loss: 0.7598 - accuracy: 0.7338\n",
            "Epoch 12/20\n",
            "1563/1563 [==============================] - 101s 65ms/step - loss: 0.7451 - accuracy: 0.7391\n",
            "Epoch 13/20\n",
            "1563/1563 [==============================] - 102s 65ms/step - loss: 0.7245 - accuracy: 0.7453\n",
            "Epoch 14/20\n",
            "1563/1563 [==============================] - 102s 65ms/step - loss: 0.7071 - accuracy: 0.7526\n",
            "Epoch 15/20\n",
            "1563/1563 [==============================] - 102s 66ms/step - loss: 0.6906 - accuracy: 0.7571\n",
            "Epoch 16/20\n",
            "1563/1563 [==============================] - 102s 65ms/step - loss: 0.6739 - accuracy: 0.7639\n",
            "Epoch 17/20\n",
            "1563/1563 [==============================] - 102s 65ms/step - loss: 0.6583 - accuracy: 0.7689\n",
            "Epoch 18/20\n",
            "1563/1563 [==============================] - 102s 65ms/step - loss: 0.6453 - accuracy: 0.7723\n",
            "Epoch 19/20\n",
            "1563/1563 [==============================] - 102s 65ms/step - loss: 0.6304 - accuracy: 0.7772\n",
            "Epoch 20/20\n",
            "1563/1563 [==============================] - 101s 65ms/step - loss: 0.6196 - accuracy: 0.7818\n"
          ]
        },
        {
          "output_type": "execute_result",
          "data": {
            "text/plain": [
              "<keras.callbacks.History at 0x7fbf5c749d50>"
            ]
          },
          "metadata": {},
          "execution_count": 15
        }
      ]
    },
    {
      "cell_type": "markdown",
      "source": [
        "We get an accuracy of 78.18% on our training data"
      ],
      "metadata": {
        "id": "gYhLqX1_8ps6"
      }
    },
    {
      "cell_type": "code",
      "source": [
        "y_test[:5]"
      ],
      "metadata": {
        "colab": {
          "base_uri": "https://localhost:8080/"
        },
        "id": "pZTPI-p7YwnR",
        "outputId": "2a5fb88d-f0e0-4eee-eacb-85be9833f1b2"
      },
      "execution_count": 16,
      "outputs": [
        {
          "output_type": "execute_result",
          "data": {
            "text/plain": [
              "array([[3],\n",
              "       [8],\n",
              "       [8],\n",
              "       [0],\n",
              "       [6]], dtype=uint8)"
            ]
          },
          "metadata": {},
          "execution_count": 16
        }
      ]
    },
    {
      "cell_type": "code",
      "source": [
        "y_test = y_test.reshape(-1,)\n",
        "y_test[:5]"
      ],
      "metadata": {
        "colab": {
          "base_uri": "https://localhost:8080/"
        },
        "id": "1oqAK35U7DaA",
        "outputId": "5cbeff4a-d186-4299-d501-89f54c7602c5"
      },
      "execution_count": 17,
      "outputs": [
        {
          "output_type": "execute_result",
          "data": {
            "text/plain": [
              "array([3, 8, 8, 0, 6], dtype=uint8)"
            ]
          },
          "metadata": {},
          "execution_count": 17
        }
      ]
    },
    {
      "cell_type": "code",
      "source": [
        "cnn.evaluate(x_test,y_test)"
      ],
      "metadata": {
        "colab": {
          "base_uri": "https://localhost:8080/"
        },
        "id": "GTjSa9P47JF0",
        "outputId": "87346a89-095d-4b47-a4d0-c004d4961df8"
      },
      "execution_count": 18,
      "outputs": [
        {
          "output_type": "stream",
          "name": "stdout",
          "text": [
            "313/313 [==============================] - 5s 15ms/step - loss: 0.9680 - accuracy: 0.6848\n"
          ]
        },
        {
          "output_type": "execute_result",
          "data": {
            "text/plain": [
              "[0.9679901599884033, 0.6848000288009644]"
            ]
          },
          "metadata": {},
          "execution_count": 18
        }
      ]
    },
    {
      "cell_type": "markdown",
      "source": [
        "We get an accuracy of only 68.4% on our test data"
      ],
      "metadata": {
        "id": "l5Z41ULu8veK"
      }
    },
    {
      "cell_type": "markdown",
      "source": [
        "As we can see, our model gives a good performance on our training data but produces a poor result on our testing data, this is a case of overfitting which can be solved by adding dropout layers."
      ],
      "metadata": {
        "id": "dCFlLJ8R7bOd"
      }
    },
    {
      "cell_type": "code",
      "source": [
        "# Adding the dropout layer\n",
        "cnn = models.Sequential([\n",
        "    layers.Convolution2D(filters=64, kernel_size=(3,3),activation='relu',input_shape=(32,32,3)),\n",
        "    layers.MaxPooling2D((2,2)),\n",
        "    layers.Dropout((0.25)),\n",
        "    layers.Convolution2D(filters=32, kernel_size=(3,3),activation='relu'),\n",
        "    layers.MaxPooling2D((2,2)),\n",
        "    layers.Dropout((0.25)),\n",
        "    layers.Flatten(),\n",
        "    layers.Dense(64, activation = 'relu'),\n",
        "    layers.Dense(32, activation = 'relu'),\n",
        "    layers.Dense(10, activation = 'softmax'),\n",
        "                        ])"
      ],
      "metadata": {
        "id": "V6wu9CYV7eIu"
      },
      "execution_count": 23,
      "outputs": []
    },
    {
      "cell_type": "code",
      "source": [
        "cnn.compile(optimizer='adam', loss='sparse_categorical_crossentropy',metrics=['accuracy'])\n",
        "cnn.fit(x_train,y_train, epochs=20)"
      ],
      "metadata": {
        "colab": {
          "base_uri": "https://localhost:8080/"
        },
        "id": "JTbNJ07P8B4B",
        "outputId": "f241cb48-0bad-471a-a908-4e62522d56c5"
      },
      "execution_count": 24,
      "outputs": [
        {
          "output_type": "stream",
          "name": "stdout",
          "text": [
            "Epoch 1/20\n",
            "1563/1563 [==============================] - 131s 83ms/step - loss: 1.5855 - accuracy: 0.4181\n",
            "Epoch 2/20\n",
            "1563/1563 [==============================] - 127s 81ms/step - loss: 1.2662 - accuracy: 0.5489\n",
            "Epoch 3/20\n",
            "1563/1563 [==============================] - 126s 81ms/step - loss: 1.1518 - accuracy: 0.5901\n",
            "Epoch 4/20\n",
            "1563/1563 [==============================] - 127s 81ms/step - loss: 1.0722 - accuracy: 0.6213\n",
            "Epoch 5/20\n",
            "1563/1563 [==============================] - 124s 80ms/step - loss: 1.0294 - accuracy: 0.6347\n",
            "Epoch 6/20\n",
            "1563/1563 [==============================] - 112s 72ms/step - loss: 0.9852 - accuracy: 0.6517\n",
            "Epoch 7/20\n",
            "1563/1563 [==============================] - 125s 80ms/step - loss: 0.9544 - accuracy: 0.6644\n",
            "Epoch 8/20\n",
            "1563/1563 [==============================] - 127s 81ms/step - loss: 0.9193 - accuracy: 0.6765\n",
            "Epoch 9/20\n",
            "1563/1563 [==============================] - 125s 80ms/step - loss: 0.8937 - accuracy: 0.6851\n",
            "Epoch 10/20\n",
            "1563/1563 [==============================] - 126s 81ms/step - loss: 0.8743 - accuracy: 0.6925\n",
            "Epoch 11/20\n",
            "1563/1563 [==============================] - 116s 74ms/step - loss: 0.8534 - accuracy: 0.6998\n",
            "Epoch 12/20\n",
            "1563/1563 [==============================] - 111s 71ms/step - loss: 0.8341 - accuracy: 0.7060\n",
            "Epoch 13/20\n",
            "1563/1563 [==============================] - 112s 72ms/step - loss: 0.8205 - accuracy: 0.7100\n",
            "Epoch 14/20\n",
            "1563/1563 [==============================] - 112s 72ms/step - loss: 0.8037 - accuracy: 0.7156\n",
            "Epoch 15/20\n",
            "1563/1563 [==============================] - 113s 72ms/step - loss: 0.7958 - accuracy: 0.7186\n",
            "Epoch 16/20\n",
            "1563/1563 [==============================] - 112s 72ms/step - loss: 0.7818 - accuracy: 0.7214\n",
            "Epoch 17/20\n",
            "1563/1563 [==============================] - 121s 77ms/step - loss: 0.7658 - accuracy: 0.7289\n",
            "Epoch 18/20\n",
            "1563/1563 [==============================] - 114s 73ms/step - loss: 0.7526 - accuracy: 0.7352\n",
            "Epoch 19/20\n",
            "1563/1563 [==============================] - 112s 72ms/step - loss: 0.7505 - accuracy: 0.7353\n",
            "Epoch 20/20\n",
            "1563/1563 [==============================] - 113s 72ms/step - loss: 0.7398 - accuracy: 0.7388\n"
          ]
        },
        {
          "output_type": "execute_result",
          "data": {
            "text/plain": [
              "<keras.callbacks.History at 0x7fbf5d4e7160>"
            ]
          },
          "metadata": {},
          "execution_count": 24
        }
      ]
    },
    {
      "cell_type": "code",
      "source": [
        "y_test[:5]"
      ],
      "metadata": {
        "colab": {
          "base_uri": "https://localhost:8080/"
        },
        "id": "0a41E0RvyO9a",
        "outputId": "0b040a45-dc38-436c-ecc1-3c2320e2377a"
      },
      "execution_count": 26,
      "outputs": [
        {
          "output_type": "execute_result",
          "data": {
            "text/plain": [
              "array([3, 8, 8, 0, 6], dtype=uint8)"
            ]
          },
          "metadata": {},
          "execution_count": 26
        }
      ]
    },
    {
      "cell_type": "code",
      "source": [
        "y_test.reshape(-1,)\n",
        "y_test[:5]"
      ],
      "metadata": {
        "colab": {
          "base_uri": "https://localhost:8080/"
        },
        "id": "hVkdg3YmyZ6H",
        "outputId": "a61c3642-55cb-4656-d530-2fbbfa9e5280"
      },
      "execution_count": 29,
      "outputs": [
        {
          "output_type": "execute_result",
          "data": {
            "text/plain": [
              "array([3, 8, 8, 0, 6], dtype=uint8)"
            ]
          },
          "metadata": {},
          "execution_count": 29
        }
      ]
    },
    {
      "cell_type": "code",
      "source": [
        "cnn.evaluate(x_test,y_test)"
      ],
      "metadata": {
        "colab": {
          "base_uri": "https://localhost:8080/"
        },
        "id": "NBSK88_N3QHj",
        "outputId": "704e92db-414e-41cc-da99-4c4dfb005ea5"
      },
      "execution_count": 25,
      "outputs": [
        {
          "output_type": "stream",
          "name": "stdout",
          "text": [
            "313/313 [==============================] - 6s 20ms/step - loss: 0.8398 - accuracy: 0.7090\n"
          ]
        },
        {
          "output_type": "execute_result",
          "data": {
            "text/plain": [
              "[0.8398147225379944, 0.7089999914169312]"
            ]
          },
          "metadata": {},
          "execution_count": 25
        }
      ]
    },
    {
      "cell_type": "markdown",
      "source": [
        "Our model gives an accuracy of 73% on our trainig data and 71% on our testing data, which is quite good."
      ],
      "metadata": {
        "id": "dNKduZQkxgzX"
      }
    },
    {
      "cell_type": "code",
      "source": [
        "y_pred = cnn.predict(x_test)"
      ],
      "metadata": {
        "colab": {
          "base_uri": "https://localhost:8080/"
        },
        "id": "pNQjw-5uxmfe",
        "outputId": "fb26ea78-cc4c-4e79-f3d0-3ab6718990ba"
      },
      "execution_count": 30,
      "outputs": [
        {
          "output_type": "stream",
          "name": "stdout",
          "text": [
            "313/313 [==============================] - 6s 16ms/step\n"
          ]
        }
      ]
    },
    {
      "cell_type": "code",
      "source": [
        "y_pred[:5]"
      ],
      "metadata": {
        "colab": {
          "base_uri": "https://localhost:8080/"
        },
        "id": "nl77JkzIyx62",
        "outputId": "ccfdccf4-f115-4765-f1b8-b29c8f5e2116"
      },
      "execution_count": 31,
      "outputs": [
        {
          "output_type": "execute_result",
          "data": {
            "text/plain": [
              "array([[4.5481320e-03, 6.0709948e-03, 1.3751472e-02, 6.1872822e-01,\n",
              "        4.0359842e-03, 2.8991452e-01, 3.2328978e-02, 3.6067991e-03,\n",
              "        2.6299527e-02, 7.1535609e-04],\n",
              "       [1.0663810e-02, 8.7762624e-02, 1.3160784e-06, 1.1090172e-05,\n",
              "        3.9099066e-07, 1.0440820e-07, 8.0708759e-07, 1.8660477e-07,\n",
              "        9.0030366e-01, 1.2559409e-03],\n",
              "       [9.8867051e-02, 1.0839470e-01, 2.3147948e-03, 8.0352630e-03,\n",
              "        2.5426357e-03, 6.5609056e-04, 1.9920666e-03, 7.7432638e-04,\n",
              "        7.5600845e-01, 2.0414505e-02],\n",
              "       [8.1934768e-01, 1.3394114e-02, 1.5162161e-03, 4.2602099e-03,\n",
              "        1.6815288e-04, 8.8538458e-05, 3.5676063e-04, 2.0867136e-04,\n",
              "        1.5349132e-01, 7.1681864e-03],\n",
              "       [2.9210029e-05, 7.1373026e-05, 1.9617263e-02, 2.3170257e-02,\n",
              "        8.5044193e-01, 2.3004015e-03, 1.0395777e-01, 2.1485146e-04,\n",
              "        4.3702577e-05, 1.5332045e-04]], dtype=float32)"
            ]
          },
          "metadata": {},
          "execution_count": 31
        }
      ]
    },
    {
      "cell_type": "code",
      "source": [
        "y_label = [np.argmax(i) for i in y_pred]\n",
        "y_label[:5]"
      ],
      "metadata": {
        "colab": {
          "base_uri": "https://localhost:8080/"
        },
        "id": "rcZr8ZyQy4Ko",
        "outputId": "685e277b-b886-48dd-c4dc-57c90f9c526a"
      },
      "execution_count": 33,
      "outputs": [
        {
          "output_type": "execute_result",
          "data": {
            "text/plain": [
              "[3, 8, 8, 0, 4]"
            ]
          },
          "metadata": {},
          "execution_count": 33
        }
      ]
    },
    {
      "cell_type": "code",
      "source": [
        "y_test[:5]"
      ],
      "metadata": {
        "colab": {
          "base_uri": "https://localhost:8080/"
        },
        "id": "jMC8tMIVzGfu",
        "outputId": "c4c3daeb-2062-4444-c9c6-3680132d3a77"
      },
      "execution_count": 34,
      "outputs": [
        {
          "output_type": "execute_result",
          "data": {
            "text/plain": [
              "array([3, 8, 8, 0, 6], dtype=uint8)"
            ]
          },
          "metadata": {},
          "execution_count": 34
        }
      ]
    },
    {
      "cell_type": "code",
      "source": [
        "from sklearn.metrics import classification_report, confusion_matrix\n",
        "print(classification_report(y_test,y_label))"
      ],
      "metadata": {
        "colab": {
          "base_uri": "https://localhost:8080/"
        },
        "id": "kR95KsvLzO7b",
        "outputId": "66eb496b-37dd-44e8-84f0-d802ac5aa4d7"
      },
      "execution_count": 37,
      "outputs": [
        {
          "output_type": "stream",
          "name": "stdout",
          "text": [
            "              precision    recall  f1-score   support\n",
            "\n",
            "           0       0.65      0.80      0.72      1000\n",
            "           1       0.88      0.82      0.84      1000\n",
            "           2       0.61      0.57      0.59      1000\n",
            "           3       0.50      0.55      0.52      1000\n",
            "           4       0.63      0.70      0.66      1000\n",
            "           5       0.70      0.50      0.58      1000\n",
            "           6       0.81      0.77      0.79      1000\n",
            "           7       0.77      0.77      0.77      1000\n",
            "           8       0.75      0.85      0.80      1000\n",
            "           9       0.83      0.78      0.80      1000\n",
            "\n",
            "    accuracy                           0.71     10000\n",
            "   macro avg       0.71      0.71      0.71     10000\n",
            "weighted avg       0.71      0.71      0.71     10000\n",
            "\n"
          ]
        }
      ]
    },
    {
      "cell_type": "code",
      "source": [
        "print(confusion_matrix(y_test,y_label))"
      ],
      "metadata": {
        "colab": {
          "base_uri": "https://localhost:8080/"
        },
        "id": "J7J2BuyozgGI",
        "outputId": "fcee5f59-a96b-4fc3-b82b-85da5817dfa2"
      },
      "execution_count": 39,
      "outputs": [
        {
          "output_type": "stream",
          "name": "stdout",
          "text": [
            "[[796  10  27  16  16   0   4  10 102  19]\n",
            " [ 41 816   3  11   2   1  10   5  33  78]\n",
            " [110   3 575  79  93  40  41  29  24   6]\n",
            " [ 44   8  69 548  90 106  55  45  25  10]\n",
            " [ 28   2  80  61 697  15  43  51  18   5]\n",
            " [ 24   3  83 242  61 498  15  55  10   9]\n",
            " [ 11   6  60  61  59  10 766  12  14   1]\n",
            " [ 36   2  31  47  67  33   4 766   6   8]\n",
            " [ 78  19   5  12  10   1   2   2 853  18]\n",
            " [ 48  63   4  24  13   5   6  14  48 775]]\n"
          ]
        }
      ]
    },
    {
      "cell_type": "markdown",
      "source": [
        "### **THANK YOU**"
      ],
      "metadata": {
        "id": "kQtUvK4IzsRN"
      }
    }
  ]
}
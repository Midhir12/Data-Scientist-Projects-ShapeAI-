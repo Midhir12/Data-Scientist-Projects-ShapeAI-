{
  "nbformat": 4,
  "nbformat_minor": 0,
  "metadata": {
    "colab": {
      "name": "Project6_SVM_SVR.ipynb",
      "provenance": [],
      "collapsed_sections": []
    },
    "kernelspec": {
      "name": "python3",
      "display_name": "Python 3"
    },
    "language_info": {
      "name": "python"
    }
  },
  "cells": [
    {
      "cell_type": "markdown",
      "source": [
        "### **SHAPEAI - DATA SCIENTIST TRAINING & INTERNSHIP**"
      ],
      "metadata": {
        "id": "5y5hSileLF8Q"
      }
    },
    {
      "cell_type": "markdown",
      "source": [
        "### **Author : Midhir Nambiar**"
      ],
      "metadata": {
        "id": "7jVgdvnXLFxq"
      }
    },
    {
      "cell_type": "markdown",
      "source": [
        "### **Task : Support Vector Regressor**"
      ],
      "metadata": {
        "id": "5fSnaPeSLFuw"
      }
    },
    {
      "cell_type": "markdown",
      "source": [
        "Outline:\n",
        "\n",
        "1. Importing Dataset\n",
        "2. Data Analysis\n",
        "3. Feature Scaling\n",
        "4. Train-Test Split\n",
        "5. Model Building\n",
        "6. Model Evaluation"
      ],
      "metadata": {
        "id": "KEi3px5yMIsw"
      }
    },
    {
      "cell_type": "markdown",
      "source": [
        "Problem Statement - In this dataset we have one independent feature which is 'Hours of Study' and one dependent variable which is 'Marks'. We have to train our SVR model to understand the relationship between the 'Hours' and 'Marks' to predict student's marks based on their number of hours dedicated to study"
      ],
      "metadata": {
        "id": "hwwY2WSLytj1"
      }
    },
    {
      "cell_type": "markdown",
      "source": [
        "**Importing Libraries and Dataset**"
      ],
      "metadata": {
        "id": "6RD5TMlELiMv"
      }
    },
    {
      "cell_type": "code",
      "execution_count": 1,
      "metadata": {
        "id": "cr3VVXIKwjYS"
      },
      "outputs": [],
      "source": [
        "import numpy as np\n",
        "import pandas as pd\n",
        "import matplotlib.pyplot as plt\n",
        "%matplotlib inline\n",
        "import seaborn as sns\n",
        "import warnings\n",
        "warnings.filterwarnings('ignore')\n",
        "# For regular expressions\n",
        "import re\n",
        "# For score purpose\n",
        "from sklearn.metrics import r2_score , mean_absolute_error , mean_squared_error\n",
        "from sklearn.svm import SVR\n",
        "from sklearn.model_selection import train_test_split\n"
      ]
    },
    {
      "cell_type": "code",
      "source": [
        "df = pd.read_csv('https://raw.githubusercontent.com/mk-gurucharan/Regression/master/SampleData.csv')"
      ],
      "metadata": {
        "id": "dtVSvG_hw_ES"
      },
      "execution_count": 2,
      "outputs": []
    },
    {
      "cell_type": "markdown",
      "source": [
        "**Data Analysis**"
      ],
      "metadata": {
        "id": "MrXtQHOiLoNe"
      }
    },
    {
      "cell_type": "code",
      "source": [
        "df.head()"
      ],
      "metadata": {
        "colab": {
          "base_uri": "https://localhost:8080/",
          "height": 206
        },
        "id": "FCclsX9bxCy0",
        "outputId": "130fcbc7-622b-4529-92f2-4265f8431e56"
      },
      "execution_count": 3,
      "outputs": [
        {
          "output_type": "execute_result",
          "data": {
            "text/plain": [
              "   Hours of Study      Marks\n",
              "0       32.502345  31.707006\n",
              "1       53.426804  68.777596\n",
              "2       61.530358  62.562382\n",
              "3       47.475640  71.546632\n",
              "4       59.813208  87.230925"
            ],
            "text/html": [
              "\n",
              "  <div id=\"df-aeb8c33e-5f14-44fc-853b-85e11f8632d8\">\n",
              "    <div class=\"colab-df-container\">\n",
              "      <div>\n",
              "<style scoped>\n",
              "    .dataframe tbody tr th:only-of-type {\n",
              "        vertical-align: middle;\n",
              "    }\n",
              "\n",
              "    .dataframe tbody tr th {\n",
              "        vertical-align: top;\n",
              "    }\n",
              "\n",
              "    .dataframe thead th {\n",
              "        text-align: right;\n",
              "    }\n",
              "</style>\n",
              "<table border=\"1\" class=\"dataframe\">\n",
              "  <thead>\n",
              "    <tr style=\"text-align: right;\">\n",
              "      <th></th>\n",
              "      <th>Hours of Study</th>\n",
              "      <th>Marks</th>\n",
              "    </tr>\n",
              "  </thead>\n",
              "  <tbody>\n",
              "    <tr>\n",
              "      <th>0</th>\n",
              "      <td>32.502345</td>\n",
              "      <td>31.707006</td>\n",
              "    </tr>\n",
              "    <tr>\n",
              "      <th>1</th>\n",
              "      <td>53.426804</td>\n",
              "      <td>68.777596</td>\n",
              "    </tr>\n",
              "    <tr>\n",
              "      <th>2</th>\n",
              "      <td>61.530358</td>\n",
              "      <td>62.562382</td>\n",
              "    </tr>\n",
              "    <tr>\n",
              "      <th>3</th>\n",
              "      <td>47.475640</td>\n",
              "      <td>71.546632</td>\n",
              "    </tr>\n",
              "    <tr>\n",
              "      <th>4</th>\n",
              "      <td>59.813208</td>\n",
              "      <td>87.230925</td>\n",
              "    </tr>\n",
              "  </tbody>\n",
              "</table>\n",
              "</div>\n",
              "      <button class=\"colab-df-convert\" onclick=\"convertToInteractive('df-aeb8c33e-5f14-44fc-853b-85e11f8632d8')\"\n",
              "              title=\"Convert this dataframe to an interactive table.\"\n",
              "              style=\"display:none;\">\n",
              "        \n",
              "  <svg xmlns=\"http://www.w3.org/2000/svg\" height=\"24px\"viewBox=\"0 0 24 24\"\n",
              "       width=\"24px\">\n",
              "    <path d=\"M0 0h24v24H0V0z\" fill=\"none\"/>\n",
              "    <path d=\"M18.56 5.44l.94 2.06.94-2.06 2.06-.94-2.06-.94-.94-2.06-.94 2.06-2.06.94zm-11 1L8.5 8.5l.94-2.06 2.06-.94-2.06-.94L8.5 2.5l-.94 2.06-2.06.94zm10 10l.94 2.06.94-2.06 2.06-.94-2.06-.94-.94-2.06-.94 2.06-2.06.94z\"/><path d=\"M17.41 7.96l-1.37-1.37c-.4-.4-.92-.59-1.43-.59-.52 0-1.04.2-1.43.59L10.3 9.45l-7.72 7.72c-.78.78-.78 2.05 0 2.83L4 21.41c.39.39.9.59 1.41.59.51 0 1.02-.2 1.41-.59l7.78-7.78 2.81-2.81c.8-.78.8-2.07 0-2.86zM5.41 20L4 18.59l7.72-7.72 1.47 1.35L5.41 20z\"/>\n",
              "  </svg>\n",
              "      </button>\n",
              "      \n",
              "  <style>\n",
              "    .colab-df-container {\n",
              "      display:flex;\n",
              "      flex-wrap:wrap;\n",
              "      gap: 12px;\n",
              "    }\n",
              "\n",
              "    .colab-df-convert {\n",
              "      background-color: #E8F0FE;\n",
              "      border: none;\n",
              "      border-radius: 50%;\n",
              "      cursor: pointer;\n",
              "      display: none;\n",
              "      fill: #1967D2;\n",
              "      height: 32px;\n",
              "      padding: 0 0 0 0;\n",
              "      width: 32px;\n",
              "    }\n",
              "\n",
              "    .colab-df-convert:hover {\n",
              "      background-color: #E2EBFA;\n",
              "      box-shadow: 0px 1px 2px rgba(60, 64, 67, 0.3), 0px 1px 3px 1px rgba(60, 64, 67, 0.15);\n",
              "      fill: #174EA6;\n",
              "    }\n",
              "\n",
              "    [theme=dark] .colab-df-convert {\n",
              "      background-color: #3B4455;\n",
              "      fill: #D2E3FC;\n",
              "    }\n",
              "\n",
              "    [theme=dark] .colab-df-convert:hover {\n",
              "      background-color: #434B5C;\n",
              "      box-shadow: 0px 1px 3px 1px rgba(0, 0, 0, 0.15);\n",
              "      filter: drop-shadow(0px 1px 2px rgba(0, 0, 0, 0.3));\n",
              "      fill: #FFFFFF;\n",
              "    }\n",
              "  </style>\n",
              "\n",
              "      <script>\n",
              "        const buttonEl =\n",
              "          document.querySelector('#df-aeb8c33e-5f14-44fc-853b-85e11f8632d8 button.colab-df-convert');\n",
              "        buttonEl.style.display =\n",
              "          google.colab.kernel.accessAllowed ? 'block' : 'none';\n",
              "\n",
              "        async function convertToInteractive(key) {\n",
              "          const element = document.querySelector('#df-aeb8c33e-5f14-44fc-853b-85e11f8632d8');\n",
              "          const dataTable =\n",
              "            await google.colab.kernel.invokeFunction('convertToInteractive',\n",
              "                                                     [key], {});\n",
              "          if (!dataTable) return;\n",
              "\n",
              "          const docLinkHtml = 'Like what you see? Visit the ' +\n",
              "            '<a target=\"_blank\" href=https://colab.research.google.com/notebooks/data_table.ipynb>data table notebook</a>'\n",
              "            + ' to learn more about interactive tables.';\n",
              "          element.innerHTML = '';\n",
              "          dataTable['output_type'] = 'display_data';\n",
              "          await google.colab.output.renderOutput(dataTable, element);\n",
              "          const docLink = document.createElement('div');\n",
              "          docLink.innerHTML = docLinkHtml;\n",
              "          element.appendChild(docLink);\n",
              "        }\n",
              "      </script>\n",
              "    </div>\n",
              "  </div>\n",
              "  "
            ]
          },
          "metadata": {},
          "execution_count": 3
        }
      ]
    },
    {
      "cell_type": "code",
      "source": [
        "df.tail()"
      ],
      "metadata": {
        "colab": {
          "base_uri": "https://localhost:8080/",
          "height": 206
        },
        "id": "8Zi72uHmyRhz",
        "outputId": "b5c32dc5-edce-4847-c923-88009e469b3c"
      },
      "execution_count": 4,
      "outputs": [
        {
          "output_type": "execute_result",
          "data": {
            "text/plain": [
              "    Hours of Study      Marks\n",
              "95       50.030174  81.536991\n",
              "96       49.239765  72.111832\n",
              "97       50.039576  85.232007\n",
              "98       48.149859  66.224958\n",
              "99       25.128485  53.454394"
            ],
            "text/html": [
              "\n",
              "  <div id=\"df-3f403f89-231c-47d8-96d3-abb57650116c\">\n",
              "    <div class=\"colab-df-container\">\n",
              "      <div>\n",
              "<style scoped>\n",
              "    .dataframe tbody tr th:only-of-type {\n",
              "        vertical-align: middle;\n",
              "    }\n",
              "\n",
              "    .dataframe tbody tr th {\n",
              "        vertical-align: top;\n",
              "    }\n",
              "\n",
              "    .dataframe thead th {\n",
              "        text-align: right;\n",
              "    }\n",
              "</style>\n",
              "<table border=\"1\" class=\"dataframe\">\n",
              "  <thead>\n",
              "    <tr style=\"text-align: right;\">\n",
              "      <th></th>\n",
              "      <th>Hours of Study</th>\n",
              "      <th>Marks</th>\n",
              "    </tr>\n",
              "  </thead>\n",
              "  <tbody>\n",
              "    <tr>\n",
              "      <th>95</th>\n",
              "      <td>50.030174</td>\n",
              "      <td>81.536991</td>\n",
              "    </tr>\n",
              "    <tr>\n",
              "      <th>96</th>\n",
              "      <td>49.239765</td>\n",
              "      <td>72.111832</td>\n",
              "    </tr>\n",
              "    <tr>\n",
              "      <th>97</th>\n",
              "      <td>50.039576</td>\n",
              "      <td>85.232007</td>\n",
              "    </tr>\n",
              "    <tr>\n",
              "      <th>98</th>\n",
              "      <td>48.149859</td>\n",
              "      <td>66.224958</td>\n",
              "    </tr>\n",
              "    <tr>\n",
              "      <th>99</th>\n",
              "      <td>25.128485</td>\n",
              "      <td>53.454394</td>\n",
              "    </tr>\n",
              "  </tbody>\n",
              "</table>\n",
              "</div>\n",
              "      <button class=\"colab-df-convert\" onclick=\"convertToInteractive('df-3f403f89-231c-47d8-96d3-abb57650116c')\"\n",
              "              title=\"Convert this dataframe to an interactive table.\"\n",
              "              style=\"display:none;\">\n",
              "        \n",
              "  <svg xmlns=\"http://www.w3.org/2000/svg\" height=\"24px\"viewBox=\"0 0 24 24\"\n",
              "       width=\"24px\">\n",
              "    <path d=\"M0 0h24v24H0V0z\" fill=\"none\"/>\n",
              "    <path d=\"M18.56 5.44l.94 2.06.94-2.06 2.06-.94-2.06-.94-.94-2.06-.94 2.06-2.06.94zm-11 1L8.5 8.5l.94-2.06 2.06-.94-2.06-.94L8.5 2.5l-.94 2.06-2.06.94zm10 10l.94 2.06.94-2.06 2.06-.94-2.06-.94-.94-2.06-.94 2.06-2.06.94z\"/><path d=\"M17.41 7.96l-1.37-1.37c-.4-.4-.92-.59-1.43-.59-.52 0-1.04.2-1.43.59L10.3 9.45l-7.72 7.72c-.78.78-.78 2.05 0 2.83L4 21.41c.39.39.9.59 1.41.59.51 0 1.02-.2 1.41-.59l7.78-7.78 2.81-2.81c.8-.78.8-2.07 0-2.86zM5.41 20L4 18.59l7.72-7.72 1.47 1.35L5.41 20z\"/>\n",
              "  </svg>\n",
              "      </button>\n",
              "      \n",
              "  <style>\n",
              "    .colab-df-container {\n",
              "      display:flex;\n",
              "      flex-wrap:wrap;\n",
              "      gap: 12px;\n",
              "    }\n",
              "\n",
              "    .colab-df-convert {\n",
              "      background-color: #E8F0FE;\n",
              "      border: none;\n",
              "      border-radius: 50%;\n",
              "      cursor: pointer;\n",
              "      display: none;\n",
              "      fill: #1967D2;\n",
              "      height: 32px;\n",
              "      padding: 0 0 0 0;\n",
              "      width: 32px;\n",
              "    }\n",
              "\n",
              "    .colab-df-convert:hover {\n",
              "      background-color: #E2EBFA;\n",
              "      box-shadow: 0px 1px 2px rgba(60, 64, 67, 0.3), 0px 1px 3px 1px rgba(60, 64, 67, 0.15);\n",
              "      fill: #174EA6;\n",
              "    }\n",
              "\n",
              "    [theme=dark] .colab-df-convert {\n",
              "      background-color: #3B4455;\n",
              "      fill: #D2E3FC;\n",
              "    }\n",
              "\n",
              "    [theme=dark] .colab-df-convert:hover {\n",
              "      background-color: #434B5C;\n",
              "      box-shadow: 0px 1px 3px 1px rgba(0, 0, 0, 0.15);\n",
              "      filter: drop-shadow(0px 1px 2px rgba(0, 0, 0, 0.3));\n",
              "      fill: #FFFFFF;\n",
              "    }\n",
              "  </style>\n",
              "\n",
              "      <script>\n",
              "        const buttonEl =\n",
              "          document.querySelector('#df-3f403f89-231c-47d8-96d3-abb57650116c button.colab-df-convert');\n",
              "        buttonEl.style.display =\n",
              "          google.colab.kernel.accessAllowed ? 'block' : 'none';\n",
              "\n",
              "        async function convertToInteractive(key) {\n",
              "          const element = document.querySelector('#df-3f403f89-231c-47d8-96d3-abb57650116c');\n",
              "          const dataTable =\n",
              "            await google.colab.kernel.invokeFunction('convertToInteractive',\n",
              "                                                     [key], {});\n",
              "          if (!dataTable) return;\n",
              "\n",
              "          const docLinkHtml = 'Like what you see? Visit the ' +\n",
              "            '<a target=\"_blank\" href=https://colab.research.google.com/notebooks/data_table.ipynb>data table notebook</a>'\n",
              "            + ' to learn more about interactive tables.';\n",
              "          element.innerHTML = '';\n",
              "          dataTable['output_type'] = 'display_data';\n",
              "          await google.colab.output.renderOutput(dataTable, element);\n",
              "          const docLink = document.createElement('div');\n",
              "          docLink.innerHTML = docLinkHtml;\n",
              "          element.appendChild(docLink);\n",
              "        }\n",
              "      </script>\n",
              "    </div>\n",
              "  </div>\n",
              "  "
            ]
          },
          "metadata": {},
          "execution_count": 4
        }
      ]
    },
    {
      "cell_type": "code",
      "source": [
        "print(df.shape)"
      ],
      "metadata": {
        "colab": {
          "base_uri": "https://localhost:8080/"
        },
        "id": "2Sf8iPnMyZnr",
        "outputId": "4439a7f8-2b77-4fa1-832b-a0aa7d78e39a"
      },
      "execution_count": 5,
      "outputs": [
        {
          "output_type": "stream",
          "name": "stdout",
          "text": [
            "(100, 2)\n"
          ]
        }
      ]
    },
    {
      "cell_type": "code",
      "source": [
        "df.describe()"
      ],
      "metadata": {
        "colab": {
          "base_uri": "https://localhost:8080/",
          "height": 300
        },
        "id": "39FAH-KuyUHy",
        "outputId": "c237b28c-e83d-4217-bc9f-b4ba5d3defb0"
      },
      "execution_count": 6,
      "outputs": [
        {
          "output_type": "execute_result",
          "data": {
            "text/plain": [
              "       Hours of Study       Marks\n",
              "count      100.000000  100.000000\n",
              "mean        48.958341   72.035051\n",
              "std          9.746379   15.200087\n",
              "min         25.128485   31.707006\n",
              "25%         41.526164   60.788586\n",
              "50%         49.634970   72.179542\n",
              "75%         56.762631   83.215080\n",
              "max         70.346076   99.051415"
            ],
            "text/html": [
              "\n",
              "  <div id=\"df-a66a25b8-1291-4497-8c2a-3cf43f7d5ef6\">\n",
              "    <div class=\"colab-df-container\">\n",
              "      <div>\n",
              "<style scoped>\n",
              "    .dataframe tbody tr th:only-of-type {\n",
              "        vertical-align: middle;\n",
              "    }\n",
              "\n",
              "    .dataframe tbody tr th {\n",
              "        vertical-align: top;\n",
              "    }\n",
              "\n",
              "    .dataframe thead th {\n",
              "        text-align: right;\n",
              "    }\n",
              "</style>\n",
              "<table border=\"1\" class=\"dataframe\">\n",
              "  <thead>\n",
              "    <tr style=\"text-align: right;\">\n",
              "      <th></th>\n",
              "      <th>Hours of Study</th>\n",
              "      <th>Marks</th>\n",
              "    </tr>\n",
              "  </thead>\n",
              "  <tbody>\n",
              "    <tr>\n",
              "      <th>count</th>\n",
              "      <td>100.000000</td>\n",
              "      <td>100.000000</td>\n",
              "    </tr>\n",
              "    <tr>\n",
              "      <th>mean</th>\n",
              "      <td>48.958341</td>\n",
              "      <td>72.035051</td>\n",
              "    </tr>\n",
              "    <tr>\n",
              "      <th>std</th>\n",
              "      <td>9.746379</td>\n",
              "      <td>15.200087</td>\n",
              "    </tr>\n",
              "    <tr>\n",
              "      <th>min</th>\n",
              "      <td>25.128485</td>\n",
              "      <td>31.707006</td>\n",
              "    </tr>\n",
              "    <tr>\n",
              "      <th>25%</th>\n",
              "      <td>41.526164</td>\n",
              "      <td>60.788586</td>\n",
              "    </tr>\n",
              "    <tr>\n",
              "      <th>50%</th>\n",
              "      <td>49.634970</td>\n",
              "      <td>72.179542</td>\n",
              "    </tr>\n",
              "    <tr>\n",
              "      <th>75%</th>\n",
              "      <td>56.762631</td>\n",
              "      <td>83.215080</td>\n",
              "    </tr>\n",
              "    <tr>\n",
              "      <th>max</th>\n",
              "      <td>70.346076</td>\n",
              "      <td>99.051415</td>\n",
              "    </tr>\n",
              "  </tbody>\n",
              "</table>\n",
              "</div>\n",
              "      <button class=\"colab-df-convert\" onclick=\"convertToInteractive('df-a66a25b8-1291-4497-8c2a-3cf43f7d5ef6')\"\n",
              "              title=\"Convert this dataframe to an interactive table.\"\n",
              "              style=\"display:none;\">\n",
              "        \n",
              "  <svg xmlns=\"http://www.w3.org/2000/svg\" height=\"24px\"viewBox=\"0 0 24 24\"\n",
              "       width=\"24px\">\n",
              "    <path d=\"M0 0h24v24H0V0z\" fill=\"none\"/>\n",
              "    <path d=\"M18.56 5.44l.94 2.06.94-2.06 2.06-.94-2.06-.94-.94-2.06-.94 2.06-2.06.94zm-11 1L8.5 8.5l.94-2.06 2.06-.94-2.06-.94L8.5 2.5l-.94 2.06-2.06.94zm10 10l.94 2.06.94-2.06 2.06-.94-2.06-.94-.94-2.06-.94 2.06-2.06.94z\"/><path d=\"M17.41 7.96l-1.37-1.37c-.4-.4-.92-.59-1.43-.59-.52 0-1.04.2-1.43.59L10.3 9.45l-7.72 7.72c-.78.78-.78 2.05 0 2.83L4 21.41c.39.39.9.59 1.41.59.51 0 1.02-.2 1.41-.59l7.78-7.78 2.81-2.81c.8-.78.8-2.07 0-2.86zM5.41 20L4 18.59l7.72-7.72 1.47 1.35L5.41 20z\"/>\n",
              "  </svg>\n",
              "      </button>\n",
              "      \n",
              "  <style>\n",
              "    .colab-df-container {\n",
              "      display:flex;\n",
              "      flex-wrap:wrap;\n",
              "      gap: 12px;\n",
              "    }\n",
              "\n",
              "    .colab-df-convert {\n",
              "      background-color: #E8F0FE;\n",
              "      border: none;\n",
              "      border-radius: 50%;\n",
              "      cursor: pointer;\n",
              "      display: none;\n",
              "      fill: #1967D2;\n",
              "      height: 32px;\n",
              "      padding: 0 0 0 0;\n",
              "      width: 32px;\n",
              "    }\n",
              "\n",
              "    .colab-df-convert:hover {\n",
              "      background-color: #E2EBFA;\n",
              "      box-shadow: 0px 1px 2px rgba(60, 64, 67, 0.3), 0px 1px 3px 1px rgba(60, 64, 67, 0.15);\n",
              "      fill: #174EA6;\n",
              "    }\n",
              "\n",
              "    [theme=dark] .colab-df-convert {\n",
              "      background-color: #3B4455;\n",
              "      fill: #D2E3FC;\n",
              "    }\n",
              "\n",
              "    [theme=dark] .colab-df-convert:hover {\n",
              "      background-color: #434B5C;\n",
              "      box-shadow: 0px 1px 3px 1px rgba(0, 0, 0, 0.15);\n",
              "      filter: drop-shadow(0px 1px 2px rgba(0, 0, 0, 0.3));\n",
              "      fill: #FFFFFF;\n",
              "    }\n",
              "  </style>\n",
              "\n",
              "      <script>\n",
              "        const buttonEl =\n",
              "          document.querySelector('#df-a66a25b8-1291-4497-8c2a-3cf43f7d5ef6 button.colab-df-convert');\n",
              "        buttonEl.style.display =\n",
              "          google.colab.kernel.accessAllowed ? 'block' : 'none';\n",
              "\n",
              "        async function convertToInteractive(key) {\n",
              "          const element = document.querySelector('#df-a66a25b8-1291-4497-8c2a-3cf43f7d5ef6');\n",
              "          const dataTable =\n",
              "            await google.colab.kernel.invokeFunction('convertToInteractive',\n",
              "                                                     [key], {});\n",
              "          if (!dataTable) return;\n",
              "\n",
              "          const docLinkHtml = 'Like what you see? Visit the ' +\n",
              "            '<a target=\"_blank\" href=https://colab.research.google.com/notebooks/data_table.ipynb>data table notebook</a>'\n",
              "            + ' to learn more about interactive tables.';\n",
              "          element.innerHTML = '';\n",
              "          dataTable['output_type'] = 'display_data';\n",
              "          await google.colab.output.renderOutput(dataTable, element);\n",
              "          const docLink = document.createElement('div');\n",
              "          docLink.innerHTML = docLinkHtml;\n",
              "          element.appendChild(docLink);\n",
              "        }\n",
              "      </script>\n",
              "    </div>\n",
              "  </div>\n",
              "  "
            ]
          },
          "metadata": {},
          "execution_count": 6
        }
      ]
    },
    {
      "cell_type": "code",
      "source": [
        "df.info()"
      ],
      "metadata": {
        "colab": {
          "base_uri": "https://localhost:8080/"
        },
        "id": "KRCUAZXuyWcq",
        "outputId": "303628a0-c444-422e-f8d2-f7aa8b9a50ad"
      },
      "execution_count": 7,
      "outputs": [
        {
          "output_type": "stream",
          "name": "stdout",
          "text": [
            "<class 'pandas.core.frame.DataFrame'>\n",
            "RangeIndex: 100 entries, 0 to 99\n",
            "Data columns (total 2 columns):\n",
            " #   Column          Non-Null Count  Dtype  \n",
            "---  ------          --------------  -----  \n",
            " 0   Hours of Study  100 non-null    float64\n",
            " 1   Marks           100 non-null    float64\n",
            "dtypes: float64(2)\n",
            "memory usage: 1.7 KB\n"
          ]
        }
      ]
    },
    {
      "cell_type": "code",
      "source": [
        "df.isnull().sum()"
      ],
      "metadata": {
        "colab": {
          "base_uri": "https://localhost:8080/"
        },
        "id": "S1TPAgdQzj7C",
        "outputId": "a4f28d68-e9de-4e3e-b831-39d6f80b0e87"
      },
      "execution_count": 8,
      "outputs": [
        {
          "output_type": "execute_result",
          "data": {
            "text/plain": [
              "Hours of Study    0\n",
              "Marks             0\n",
              "dtype: int64"
            ]
          },
          "metadata": {},
          "execution_count": 8
        }
      ]
    },
    {
      "cell_type": "code",
      "source": [
        "df.rename(columns={'Hours of Study' : 'Hours'},inplace = True)\n",
        "df"
      ],
      "metadata": {
        "colab": {
          "base_uri": "https://localhost:8080/",
          "height": 424
        },
        "id": "p8jOvvlczyej",
        "outputId": "1b714dc7-adb5-4bbb-ec6b-8b2ddd2840f9"
      },
      "execution_count": 9,
      "outputs": [
        {
          "output_type": "execute_result",
          "data": {
            "text/plain": [
              "        Hours      Marks\n",
              "0   32.502345  31.707006\n",
              "1   53.426804  68.777596\n",
              "2   61.530358  62.562382\n",
              "3   47.475640  71.546632\n",
              "4   59.813208  87.230925\n",
              "..        ...        ...\n",
              "95  50.030174  81.536991\n",
              "96  49.239765  72.111832\n",
              "97  50.039576  85.232007\n",
              "98  48.149859  66.224958\n",
              "99  25.128485  53.454394\n",
              "\n",
              "[100 rows x 2 columns]"
            ],
            "text/html": [
              "\n",
              "  <div id=\"df-b7790d95-1c42-4753-932b-111a292650a0\">\n",
              "    <div class=\"colab-df-container\">\n",
              "      <div>\n",
              "<style scoped>\n",
              "    .dataframe tbody tr th:only-of-type {\n",
              "        vertical-align: middle;\n",
              "    }\n",
              "\n",
              "    .dataframe tbody tr th {\n",
              "        vertical-align: top;\n",
              "    }\n",
              "\n",
              "    .dataframe thead th {\n",
              "        text-align: right;\n",
              "    }\n",
              "</style>\n",
              "<table border=\"1\" class=\"dataframe\">\n",
              "  <thead>\n",
              "    <tr style=\"text-align: right;\">\n",
              "      <th></th>\n",
              "      <th>Hours</th>\n",
              "      <th>Marks</th>\n",
              "    </tr>\n",
              "  </thead>\n",
              "  <tbody>\n",
              "    <tr>\n",
              "      <th>0</th>\n",
              "      <td>32.502345</td>\n",
              "      <td>31.707006</td>\n",
              "    </tr>\n",
              "    <tr>\n",
              "      <th>1</th>\n",
              "      <td>53.426804</td>\n",
              "      <td>68.777596</td>\n",
              "    </tr>\n",
              "    <tr>\n",
              "      <th>2</th>\n",
              "      <td>61.530358</td>\n",
              "      <td>62.562382</td>\n",
              "    </tr>\n",
              "    <tr>\n",
              "      <th>3</th>\n",
              "      <td>47.475640</td>\n",
              "      <td>71.546632</td>\n",
              "    </tr>\n",
              "    <tr>\n",
              "      <th>4</th>\n",
              "      <td>59.813208</td>\n",
              "      <td>87.230925</td>\n",
              "    </tr>\n",
              "    <tr>\n",
              "      <th>...</th>\n",
              "      <td>...</td>\n",
              "      <td>...</td>\n",
              "    </tr>\n",
              "    <tr>\n",
              "      <th>95</th>\n",
              "      <td>50.030174</td>\n",
              "      <td>81.536991</td>\n",
              "    </tr>\n",
              "    <tr>\n",
              "      <th>96</th>\n",
              "      <td>49.239765</td>\n",
              "      <td>72.111832</td>\n",
              "    </tr>\n",
              "    <tr>\n",
              "      <th>97</th>\n",
              "      <td>50.039576</td>\n",
              "      <td>85.232007</td>\n",
              "    </tr>\n",
              "    <tr>\n",
              "      <th>98</th>\n",
              "      <td>48.149859</td>\n",
              "      <td>66.224958</td>\n",
              "    </tr>\n",
              "    <tr>\n",
              "      <th>99</th>\n",
              "      <td>25.128485</td>\n",
              "      <td>53.454394</td>\n",
              "    </tr>\n",
              "  </tbody>\n",
              "</table>\n",
              "<p>100 rows × 2 columns</p>\n",
              "</div>\n",
              "      <button class=\"colab-df-convert\" onclick=\"convertToInteractive('df-b7790d95-1c42-4753-932b-111a292650a0')\"\n",
              "              title=\"Convert this dataframe to an interactive table.\"\n",
              "              style=\"display:none;\">\n",
              "        \n",
              "  <svg xmlns=\"http://www.w3.org/2000/svg\" height=\"24px\"viewBox=\"0 0 24 24\"\n",
              "       width=\"24px\">\n",
              "    <path d=\"M0 0h24v24H0V0z\" fill=\"none\"/>\n",
              "    <path d=\"M18.56 5.44l.94 2.06.94-2.06 2.06-.94-2.06-.94-.94-2.06-.94 2.06-2.06.94zm-11 1L8.5 8.5l.94-2.06 2.06-.94-2.06-.94L8.5 2.5l-.94 2.06-2.06.94zm10 10l.94 2.06.94-2.06 2.06-.94-2.06-.94-.94-2.06-.94 2.06-2.06.94z\"/><path d=\"M17.41 7.96l-1.37-1.37c-.4-.4-.92-.59-1.43-.59-.52 0-1.04.2-1.43.59L10.3 9.45l-7.72 7.72c-.78.78-.78 2.05 0 2.83L4 21.41c.39.39.9.59 1.41.59.51 0 1.02-.2 1.41-.59l7.78-7.78 2.81-2.81c.8-.78.8-2.07 0-2.86zM5.41 20L4 18.59l7.72-7.72 1.47 1.35L5.41 20z\"/>\n",
              "  </svg>\n",
              "      </button>\n",
              "      \n",
              "  <style>\n",
              "    .colab-df-container {\n",
              "      display:flex;\n",
              "      flex-wrap:wrap;\n",
              "      gap: 12px;\n",
              "    }\n",
              "\n",
              "    .colab-df-convert {\n",
              "      background-color: #E8F0FE;\n",
              "      border: none;\n",
              "      border-radius: 50%;\n",
              "      cursor: pointer;\n",
              "      display: none;\n",
              "      fill: #1967D2;\n",
              "      height: 32px;\n",
              "      padding: 0 0 0 0;\n",
              "      width: 32px;\n",
              "    }\n",
              "\n",
              "    .colab-df-convert:hover {\n",
              "      background-color: #E2EBFA;\n",
              "      box-shadow: 0px 1px 2px rgba(60, 64, 67, 0.3), 0px 1px 3px 1px rgba(60, 64, 67, 0.15);\n",
              "      fill: #174EA6;\n",
              "    }\n",
              "\n",
              "    [theme=dark] .colab-df-convert {\n",
              "      background-color: #3B4455;\n",
              "      fill: #D2E3FC;\n",
              "    }\n",
              "\n",
              "    [theme=dark] .colab-df-convert:hover {\n",
              "      background-color: #434B5C;\n",
              "      box-shadow: 0px 1px 3px 1px rgba(0, 0, 0, 0.15);\n",
              "      filter: drop-shadow(0px 1px 2px rgba(0, 0, 0, 0.3));\n",
              "      fill: #FFFFFF;\n",
              "    }\n",
              "  </style>\n",
              "\n",
              "      <script>\n",
              "        const buttonEl =\n",
              "          document.querySelector('#df-b7790d95-1c42-4753-932b-111a292650a0 button.colab-df-convert');\n",
              "        buttonEl.style.display =\n",
              "          google.colab.kernel.accessAllowed ? 'block' : 'none';\n",
              "\n",
              "        async function convertToInteractive(key) {\n",
              "          const element = document.querySelector('#df-b7790d95-1c42-4753-932b-111a292650a0');\n",
              "          const dataTable =\n",
              "            await google.colab.kernel.invokeFunction('convertToInteractive',\n",
              "                                                     [key], {});\n",
              "          if (!dataTable) return;\n",
              "\n",
              "          const docLinkHtml = 'Like what you see? Visit the ' +\n",
              "            '<a target=\"_blank\" href=https://colab.research.google.com/notebooks/data_table.ipynb>data table notebook</a>'\n",
              "            + ' to learn more about interactive tables.';\n",
              "          element.innerHTML = '';\n",
              "          dataTable['output_type'] = 'display_data';\n",
              "          await google.colab.output.renderOutput(dataTable, element);\n",
              "          const docLink = document.createElement('div');\n",
              "          docLink.innerHTML = docLinkHtml;\n",
              "          element.appendChild(docLink);\n",
              "        }\n",
              "      </script>\n",
              "    </div>\n",
              "  </div>\n",
              "  "
            ]
          },
          "metadata": {},
          "execution_count": 9
        }
      ]
    },
    {
      "cell_type": "code",
      "source": [
        "plt.figure(figsize=(6,6))\n",
        "plt.scatter(df.Hours , df.Marks)\n",
        "plt.xlabel('Hours')\n",
        "plt.ylabel('Marks')\n",
        "plt.show()"
      ],
      "metadata": {
        "colab": {
          "base_uri": "https://localhost:8080/",
          "height": 388
        },
        "id": "G3WzX9jm0OU8",
        "outputId": "4075a42d-9cd8-41c2-b18b-3a804e43775a"
      },
      "execution_count": 10,
      "outputs": [
        {
          "output_type": "display_data",
          "data": {
            "text/plain": [
              "<Figure size 432x432 with 1 Axes>"
            ],
            "image/png": "[encoded data removed]"
          },
          "metadata": {
            "needs_background": "light"
          }
        }
      ]
    },
    {
      "cell_type": "code",
      "source": [
        "plt.figure(figsize=(7,7))\n",
        "sns.heatmap(df.corr(),annot = True)\n",
        "plt.show()"
      ],
      "metadata": {
        "colab": {
          "base_uri": "https://localhost:8080/",
          "height": 432
        },
        "id": "TKtNXEYq02oE",
        "outputId": "db1eb618-9ff2-40eb-f1cf-fd1fecbc90d0"
      },
      "execution_count": 11,
      "outputs": [
        {
          "output_type": "display_data",
          "data": {
            "text/plain": [
              "<Figure size 504x504 with 2 Axes>"
            ],
            "image/png": "[encoded data removed]"
          },
          "metadata": {
            "needs_background": "light"
          }
        }
      ]
    },
    {
      "cell_type": "code",
      "source": [
        "plt.figure(figsize=(6,6))\n",
        "plt.plot(df.Hours , df.Marks)\n",
        "plt.show()"
      ],
      "metadata": {
        "colab": {
          "base_uri": "https://localhost:8080/",
          "height": 374
        },
        "id": "a-PkNC531Yb0",
        "outputId": "dc74ab85-c34e-419a-faf4-94b44a65bdc6"
      },
      "execution_count": 12,
      "outputs": [
        {
          "output_type": "display_data",
          "data": {
            "text/plain": [
              "<Figure size 432x432 with 1 Axes>"
            ],
            "image/png": "[encoded data removed]"
          },
          "metadata": {
            "needs_background": "light"
          }
        }
      ]
    },
    {
      "cell_type": "markdown",
      "source": [
        "**Feature Scaling**"
      ],
      "metadata": {
        "id": "c5y0FQ7ZLw8f"
      }
    },
    {
      "cell_type": "markdown",
      "source": [
        "Here , the choice of Feature Scaling is upto you since there is not much difference."
      ],
      "metadata": {
        "id": "de2GhlLL1o98"
      }
    },
    {
      "cell_type": "code",
      "source": [
        "from sklearn.preprocessing import StandardScaler"
      ],
      "metadata": {
        "id": "l8_CtK7-1vdr"
      },
      "execution_count": 13,
      "outputs": []
    },
    {
      "cell_type": "code",
      "source": [
        "# x = df['Marks'] also works \n",
        "y = df.iloc[:,-1].values\n",
        "y"
      ],
      "metadata": {
        "colab": {
          "base_uri": "https://localhost:8080/"
        },
        "id": "iwPtEtUn2OKy",
        "outputId": "ce5b50b9-02fd-49a5-e82e-2d6a9935ef29"
      },
      "execution_count": 14,
      "outputs": [
        {
          "output_type": "execute_result",
          "data": {
            "text/plain": [
              "array([31.70700585, 68.77759598, 62.5623823 , 71.54663223, 87.23092513,\n",
              "       78.21151827, 79.64197305, 59.17148932, 75.3312423 , 71.30087989,\n",
              "       55.16567715, 82.47884676, 62.00892325, 75.39287043, 81.43619216,\n",
              "       60.72360244, 82.89250373, 97.37989686, 48.84715332, 56.87721319,\n",
              "       83.87856466, 98.5912173 , 57.25181946, 51.39174408, 75.38065167,\n",
              "       74.76556403, 95.45505292, 95.22936602, 79.05240617, 83.43207142,\n",
              "       63.35879032, 41.4128853 , 76.61734128, 96.76956643, 74.08413012,\n",
              "       66.58814441, 77.76848242, 50.71958891, 62.12457082, 60.81024665,\n",
              "       52.68298337, 58.56982472, 82.90598149, 61.4247098 , 95.2441528 ,\n",
              "       45.57058882, 54.0840548 , 87.99445276, 52.72549438, 93.57611869,\n",
              "       80.16627545, 65.10171157, 65.56230126, 65.28088692, 73.43464155,\n",
              "       71.13972786, 79.10282968, 86.52053844, 84.74269781, 59.35885025,\n",
              "       61.68403752, 69.84760416, 86.09829121, 59.10883927, 69.89968164,\n",
              "       44.86249071, 85.49806778, 95.53668685, 70.25193442, 52.72173496,\n",
              "       50.39267014, 63.64239878, 72.24725107, 57.81251298, 94.25710159,\n",
              "       86.64202032, 91.486778  , 55.23166089, 79.55043668, 44.84712424,\n",
              "       80.20752314, 83.14274979, 55.72348926, 77.63418251, 99.05141484,\n",
              "       79.12064627, 69.58889785, 69.51050331, 73.68756432, 61.36690454,\n",
              "       67.17065577, 85.66820315, 94.85387123, 90.12357207, 97.91982104,\n",
              "       81.53699078, 72.11183247, 85.23200734, 66.22495789, 53.45439421])"
            ]
          },
          "metadata": {},
          "execution_count": 14
        }
      ]
    },
    {
      "cell_type": "code",
      "source": [
        "# x = df['Hours'] also works \n",
        "x = df.iloc[:,:-1].values\n",
        "x"
      ],
      "metadata": {
        "colab": {
          "base_uri": "https://localhost:8080/"
        },
        "id": "YMdtXDKr3-qs",
        "outputId": "790601ae-4eab-4d8a-8951-2d013f4c3199"
      },
      "execution_count": 15,
      "outputs": [
        {
          "output_type": "execute_result",
          "data": {
            "text/plain": [
              "array([[32.50234527],\n",
              "       [53.42680403],\n",
              "       [61.53035803],\n",
              "       [47.47563963],\n",
              "       [59.81320787],\n",
              "       [55.14218841],\n",
              "       [52.21179669],\n",
              "       [39.29956669],\n",
              "       [48.10504169],\n",
              "       [52.55001444],\n",
              "       [45.41973014],\n",
              "       [54.35163488],\n",
              "       [44.1640495 ],\n",
              "       [58.16847072],\n",
              "       [56.72720806],\n",
              "       [48.95588857],\n",
              "       [44.68719623],\n",
              "       [60.29732685],\n",
              "       [45.61864377],\n",
              "       [38.81681754],\n",
              "       [66.18981661],\n",
              "       [65.41605175],\n",
              "       [47.48120861],\n",
              "       [41.57564262],\n",
              "       [51.84518691],\n",
              "       [59.37082201],\n",
              "       [57.31000344],\n",
              "       [63.61556125],\n",
              "       [46.73761941],\n",
              "       [50.55676015],\n",
              "       [52.22399609],\n",
              "       [35.56783005],\n",
              "       [42.43647694],\n",
              "       [58.16454011],\n",
              "       [57.50444762],\n",
              "       [45.44053073],\n",
              "       [61.89622268],\n",
              "       [33.09383174],\n",
              "       [36.43600951],\n",
              "       [37.67565486],\n",
              "       [44.55560838],\n",
              "       [43.31828263],\n",
              "       [50.07314563],\n",
              "       [43.87061265],\n",
              "       [62.99748075],\n",
              "       [32.66904376],\n",
              "       [40.16689901],\n",
              "       [53.57507753],\n",
              "       [33.86421497],\n",
              "       [64.70713867],\n",
              "       [38.11982403],\n",
              "       [44.50253806],\n",
              "       [40.59953838],\n",
              "       [41.72067636],\n",
              "       [51.08863468],\n",
              "       [55.0780959 ],\n",
              "       [41.37772653],\n",
              "       [62.49469743],\n",
              "       [49.20388754],\n",
              "       [41.10268519],\n",
              "       [41.18201611],\n",
              "       [50.18638949],\n",
              "       [52.37844622],\n",
              "       [50.13548549],\n",
              "       [33.64470601],\n",
              "       [39.55790122],\n",
              "       [56.13038882],\n",
              "       [57.36205213],\n",
              "       [60.26921439],\n",
              "       [35.67809389],\n",
              "       [31.588117  ],\n",
              "       [53.66093226],\n",
              "       [46.68222865],\n",
              "       [43.10782022],\n",
              "       [70.34607562],\n",
              "       [44.49285588],\n",
              "       [57.5045333 ],\n",
              "       [36.93007661],\n",
              "       [55.80573336],\n",
              "       [38.95476907],\n",
              "       [56.9012147 ],\n",
              "       [56.86890066],\n",
              "       [34.3331247 ],\n",
              "       [59.04974121],\n",
              "       [57.78822399],\n",
              "       [54.28232871],\n",
              "       [51.0887199 ],\n",
              "       [50.28283635],\n",
              "       [44.21174175],\n",
              "       [38.00548801],\n",
              "       [32.94047994],\n",
              "       [53.69163957],\n",
              "       [68.76573427],\n",
              "       [46.2309665 ],\n",
              "       [68.31936082],\n",
              "       [50.03017434],\n",
              "       [49.23976534],\n",
              "       [50.03957594],\n",
              "       [48.14985889],\n",
              "       [25.12848465]])"
            ]
          },
          "metadata": {},
          "execution_count": 15
        }
      ]
    },
    {
      "cell_type": "code",
      "source": [
        "stanscale = StandardScaler()"
      ],
      "metadata": {
        "id": "jnTxV3AN4DBM"
      },
      "execution_count": 16,
      "outputs": []
    },
    {
      "cell_type": "code",
      "source": [
        "# You can reshape only a array not a series\n",
        "x = stanscale.fit_transform(x.reshape(-1,1))\n",
        "x"
      ],
      "metadata": {
        "colab": {
          "base_uri": "https://localhost:8080/"
        },
        "id": "__GBs6co6DOy",
        "outputId": "4f728545-00cd-4115-fe0a-3379437c111d"
      },
      "execution_count": 17,
      "outputs": [
        {
          "output_type": "execute_result",
          "data": {
            "text/plain": [
              "array([[-1.69692744e+00],\n",
              "       [ 4.60783817e-01],\n",
              "       [ 1.29641497e+00],\n",
              "       [-1.52894871e-01],\n",
              "       [ 1.11934400e+00],\n",
              "       [ 6.37672702e-01],\n",
              "       [ 3.35493359e-01],\n",
              "       [-9.96004115e-01],\n",
              "       [-8.79915004e-02],\n",
              "       [ 3.70370068e-01],\n",
              "       [-3.64898398e-01],\n",
              "       [ 5.56151537e-01],\n",
              "       [-4.94383049e-01],\n",
              "       [ 9.49740196e-01],\n",
              "       [ 8.01118494e-01],\n",
              "       [-2.52939962e-04],\n",
              "       [-4.40436632e-01],\n",
              "       [ 1.16926591e+00],\n",
              "       [-3.44386604e-01],\n",
              "       [-1.04578477e+00],\n",
              "       [ 1.77689413e+00],\n",
              "       [ 1.69710419e+00],\n",
              "       [-1.52320603e-01],\n",
              "       [-7.61297225e-01],\n",
              "       [ 2.97688891e-01],\n",
              "       [ 1.07372557e+00],\n",
              "       [ 8.61215827e-01],\n",
              "       [ 1.51143924e+00],\n",
              "       [-2.28998849e-01],\n",
              "       [ 1.64827489e-01],\n",
              "       [ 3.36751351e-01],\n",
              "       [-1.38081742e+00],\n",
              "       [-6.72528769e-01],\n",
              "       [ 9.49334875e-01],\n",
              "       [ 8.81266735e-01],\n",
              "       [-3.62753460e-01],\n",
              "       [ 1.33414261e+00],\n",
              "       [-1.63593389e+00],\n",
              "       [-1.29129154e+00],\n",
              "       [-1.16346043e+00],\n",
              "       [-4.54005852e-01],\n",
              "       [-5.81597764e-01],\n",
              "       [ 1.14957597e-01],\n",
              "       [-5.24641992e-01],\n",
              "       [ 1.44770334e+00],\n",
              "       [-1.67973764e+00],\n",
              "       [-9.06565591e-01],\n",
              "       [ 4.76073646e-01],\n",
              "       [-1.55649267e+00],\n",
              "       [ 1.62400172e+00],\n",
              "       [-1.11765811e+00],\n",
              "       [-4.59478415e-01],\n",
              "       [-8.61952211e-01],\n",
              "       [-7.46341477e-01],\n",
              "       [ 2.19673909e-01],\n",
              "       [ 6.31063541e-01],\n",
              "       [-7.81706153e-01],\n",
              "       [ 1.39585678e+00],\n",
              "       [ 2.53204894e-02],\n",
              "       [-8.10068167e-01],\n",
              "       [-8.01887634e-01],\n",
              "       [ 1.26635202e-01],\n",
              "       [ 3.52678108e-01],\n",
              "       [ 1.21386027e-01],\n",
              "       [-1.57912823e+00],\n",
              "       [-9.69364892e-01],\n",
              "       [ 7.39575034e-01],\n",
              "       [ 8.66583041e-01],\n",
              "       [ 1.16636698e+00],\n",
              "       [-1.36944711e+00],\n",
              "       [-1.79120183e+00],\n",
              "       [ 4.84926908e-01],\n",
              "       [-2.34710694e-01],\n",
              "       [-6.03300457e-01],\n",
              "       [ 2.20548379e+00],\n",
              "       [-4.60476833e-01],\n",
              "       [ 8.81275570e-01],\n",
              "       [-1.24034379e+00],\n",
              "       [ 7.06096857e-01],\n",
              "       [-1.03155933e+00],\n",
              "       [ 8.19061902e-01],\n",
              "       [ 8.15729707e-01],\n",
              "       [-1.50813912e+00],\n",
              "       [ 1.04061601e+00],\n",
              "       [ 9.10529497e-01],\n",
              "       [ 5.49004748e-01],\n",
              "       [ 2.19682697e-01],\n",
              "       [ 1.36580714e-01],\n",
              "       [-4.89465068e-01],\n",
              "       [-1.12944834e+00],\n",
              "       [-1.65174739e+00],\n",
              "       [ 4.88093418e-01],\n",
              "       [ 2.04252042e+00],\n",
              "       [-2.81244438e-01],\n",
              "       [ 1.99649080e+00],\n",
              "       [ 1.10526437e-01],\n",
              "       [ 2.90201757e-02],\n",
              "       [ 1.11495921e-01],\n",
              "       [-8.33699913e-02],\n",
              "       [-2.45731327e+00]])"
            ]
          },
          "metadata": {},
          "execution_count": 17
        }
      ]
    },
    {
      "cell_type": "code",
      "source": [
        "y = stanscale.fit_transform(y.reshape(-1,1))\n",
        "y"
      ],
      "metadata": {
        "colab": {
          "base_uri": "https://localhost:8080/"
        },
        "id": "zC12jmss7GsU",
        "outputId": "673c5c4e-bd2d-4906-adba-d43a754a7da4"
      },
      "execution_count": 18,
      "outputs": [
        {
          "output_type": "execute_result",
          "data": {
            "text/plain": [
              "array([[-2.66651176],\n",
              "       [-0.21538463],\n",
              "       [-0.62633786],\n",
              "       [-0.03229448],\n",
              "       [ 1.00475931],\n",
              "       [ 0.40839133],\n",
              "       [ 0.50297376],\n",
              "       [-0.85054551],\n",
              "       [ 0.21794595],\n",
              "       [-0.04854375],\n",
              "       [-1.11541194],\n",
              "       [ 0.69054936],\n",
              "       [-0.66293287],\n",
              "       [ 0.22202084],\n",
              "       [ 0.62160848],\n",
              "       [-0.74791896],\n",
              "       [ 0.71790058],\n",
              "       [ 1.67581471],\n",
              "       [-1.5331961 ],\n",
              "       [-1.00224427],\n",
              "       [ 0.78309945],\n",
              "       [ 1.75590787],\n",
              "       [-0.9774751 ],\n",
              "       [-1.3649464 ],\n",
              "       [ 0.22121292],\n",
              "       [ 0.180543  ],\n",
              "       [ 1.54854301],\n",
              "       [ 1.53362047],\n",
              "       [ 0.46399128],\n",
              "       [ 0.75357708],\n",
              "       [-0.57367894],\n",
              "       [-2.02475385],\n",
              "       [ 0.3029835 ],\n",
              "       [ 1.63545934],\n",
              "       [ 0.13548623],\n",
              "       [-0.36015233],\n",
              "       [ 0.37909756],\n",
              "       [-1.40938966],\n",
              "       [-0.65528619],\n",
              "       [-0.74219   ],\n",
              "       [-1.27956897],\n",
              "       [-0.89032789],\n",
              "       [ 0.71879173],\n",
              "       [-0.70156137],\n",
              "       [ 1.53459818],\n",
              "       [-1.74984428],\n",
              "       [-1.18692938],\n",
              "       [ 1.05524416],\n",
              "       [-1.27675812],\n",
              "       [ 1.42430688],\n",
              "       [ 0.53764091],\n",
              "       [-0.45843606],\n",
              "       [-0.42798163],\n",
              "       [-0.44658889],\n",
              "       [ 0.0925417 ],\n",
              "       [-0.05919921],\n",
              "       [ 0.46732531],\n",
              "       [ 0.95778816],\n",
              "       [ 0.84023639],\n",
              "       [-0.8381571 ],\n",
              "       [-0.68441449],\n",
              "       [-0.14463512],\n",
              "       [ 0.92986895],\n",
              "       [-0.85468796],\n",
              "       [-0.14119173],\n",
              "       [-1.79666411],\n",
              "       [ 0.89018186],\n",
              "       [ 1.55394069],\n",
              "       [-0.11790059],\n",
              "       [-1.2770067 ],\n",
              "       [-1.4310057 ],\n",
              "       [-0.5549266 ],\n",
              "       [ 0.01403081],\n",
              "       [-0.94040175],\n",
              "       [ 1.46933383],\n",
              "       [ 0.96582061],\n",
              "       [ 1.28615856],\n",
              "       [-1.11104906],\n",
              "       [ 0.49692133],\n",
              "       [-1.79768014],\n",
              "       [ 0.54036823],\n",
              "       [ 0.73444698],\n",
              "       [-1.07852911],\n",
              "       [ 0.37021758],\n",
              "       [ 1.78633637],\n",
              "       [ 0.46850336],\n",
              "       [-0.16174092],\n",
              "       [-0.16692441],\n",
              "       [ 0.10926509],\n",
              "       [-0.70538349],\n",
              "       [-0.32163637],\n",
              "       [ 0.9014313 ],\n",
              "       [ 1.50879256],\n",
              "       [ 1.19602266],\n",
              "       [ 1.71151479],\n",
              "       [ 0.62827334],\n",
              "       [ 0.00507686],\n",
              "       [ 0.8725898 ],\n",
              "       [-0.38416642],\n",
              "       [-1.22856288]])"
            ]
          },
          "metadata": {},
          "execution_count": 18
        }
      ]
    },
    {
      "cell_type": "markdown",
      "source": [
        "**Train-Test Split**"
      ],
      "metadata": {
        "id": "E239XWTlL1Ih"
      }
    },
    {
      "cell_type": "code",
      "source": [
        "x_train , x_test , y_train , y_test = train_test_split(x, y, test_size = 0.3 , random_state = 8)"
      ],
      "metadata": {
        "id": "y64aU7w_7phV"
      },
      "execution_count": 19,
      "outputs": []
    },
    {
      "cell_type": "code",
      "source": [
        "x_train.shape"
      ],
      "metadata": {
        "colab": {
          "base_uri": "https://localhost:8080/"
        },
        "id": "oHJjOyQ78LQU",
        "outputId": "76c15f8c-9106-43e6-b65f-ee67f739cdfc"
      },
      "execution_count": 20,
      "outputs": [
        {
          "output_type": "execute_result",
          "data": {
            "text/plain": [
              "(70, 1)"
            ]
          },
          "metadata": {},
          "execution_count": 20
        }
      ]
    },
    {
      "cell_type": "code",
      "source": [
        "y_test.shape"
      ],
      "metadata": {
        "colab": {
          "base_uri": "https://localhost:8080/"
        },
        "id": "_4Uestda8QT8",
        "outputId": "8072b84b-aae5-4b1a-e1bf-eb70c2095263"
      },
      "execution_count": 21,
      "outputs": [
        {
          "output_type": "execute_result",
          "data": {
            "text/plain": [
              "(30, 1)"
            ]
          },
          "metadata": {},
          "execution_count": 21
        }
      ]
    },
    {
      "cell_type": "markdown",
      "source": [
        "**Model Building**"
      ],
      "metadata": {
        "id": "EJqGOYqgL9RY"
      }
    },
    {
      "cell_type": "code",
      "source": [
        "model = SVR(kernel = 'rbf')"
      ],
      "metadata": {
        "id": "3O2ekUfs9B0u"
      },
      "execution_count": 22,
      "outputs": []
    },
    {
      "cell_type": "code",
      "source": [
        "model.fit(x_train , y_train)"
      ],
      "metadata": {
        "colab": {
          "base_uri": "https://localhost:8080/"
        },
        "id": "L-oAXjmK9Vus",
        "outputId": "e7cd6492-b566-4208-e69d-8c3684684bb1"
      },
      "execution_count": 23,
      "outputs": [
        {
          "output_type": "execute_result",
          "data": {
            "text/plain": [
              "SVR()"
            ]
          },
          "metadata": {},
          "execution_count": 23
        }
      ]
    },
    {
      "cell_type": "code",
      "source": [
        "y_pred = model.predict(x_test)\n",
        "y_pred "
      ],
      "metadata": {
        "colab": {
          "base_uri": "https://localhost:8080/"
        },
        "id": "la-qX68z97EG",
        "outputId": "aee454ea-99d3-4112-a60e-98dcd049b4ee"
      },
      "execution_count": 24,
      "outputs": [
        {
          "output_type": "execute_result",
          "data": {
            "text/plain": [
              "array([ 0.84051833, -0.56254075,  0.40260769,  1.05914474,  0.52514063,\n",
              "       -0.76852265,  0.19190548,  0.1406241 ,  0.31243261,  0.7070619 ,\n",
              "       -0.08444068, -0.38048527,  0.4742704 , -0.9327494 , -0.14174305,\n",
              "       -0.436735  ,  0.09069179,  0.29845601, -0.20483232, -0.39987651,\n",
              "        1.01492278, -1.28514095,  0.63609139,  0.26356557, -1.32974   ,\n",
              "        1.40695742, -0.34585532, -0.37733646, -0.81353652, -0.79949864])"
            ]
          },
          "metadata": {},
          "execution_count": 24
        }
      ]
    },
    {
      "cell_type": "code",
      "source": [
        "# Back to orginal form using inverse_transform\n",
        "y_test = stanscale.inverse_transform(y_test)\n",
        "y_test"
      ],
      "metadata": {
        "colab": {
          "base_uri": "https://localhost:8080/"
        },
        "id": "gLQLT80xHFuI",
        "outputId": "8848ecec-f1ad-4977-de77-fc8943d9f546"
      },
      "execution_count": 25,
      "outputs": [
        {
          "output_type": "execute_result",
          "data": {
            "text/plain": [
              "array([[97.37989686],\n",
              "       [51.39174408],\n",
              "       [68.77759598],\n",
              "       [95.2441528 ],\n",
              "       [71.13972786],\n",
              "       [53.45439421],\n",
              "       [69.58889785],\n",
              "       [83.43207142],\n",
              "       [86.09829121],\n",
              "       [96.76956643],\n",
              "       [66.22495789],\n",
              "       [62.00892325],\n",
              "       [82.47884676],\n",
              "       [60.81024665],\n",
              "       [71.54663223],\n",
              "       [58.56982472],\n",
              "       [85.23200734],\n",
              "       [63.35879032],\n",
              "       [72.24725107],\n",
              "       [61.4247098 ],\n",
              "       [86.52053844],\n",
              "       [69.89968164],\n",
              "       [80.20752314],\n",
              "       [75.38065167],\n",
              "       [50.39267014],\n",
              "       [94.85387123],\n",
              "       [82.89250373],\n",
              "       [73.68756432],\n",
              "       [56.87721319],\n",
              "       [44.84712424]])"
            ]
          },
          "metadata": {},
          "execution_count": 25
        }
      ]
    },
    {
      "cell_type": "code",
      "source": [
        "y_pred = stanscale.inverse_transform(y_pred.reshape(-1,1))\n",
        "y_pred"
      ],
      "metadata": {
        "colab": {
          "base_uri": "https://localhost:8080/"
        },
        "id": "lwBFh_noH0L_",
        "outputId": "fc49655d-3574-41e0-d8a3-990b71693d28"
      },
      "execution_count": 26,
      "outputs": [
        {
          "output_type": "execute_result",
          "data": {
            "text/plain": [
              "array([[84.74696171],\n",
              "       [63.52724318],\n",
              "       [78.12404706],\n",
              "       [88.05344475],\n",
              "       [79.97722249],\n",
              "       [60.4119945 ],\n",
              "       [74.93740898],\n",
              "       [74.16183477],\n",
              "       [76.76024857],\n",
              "       [82.72858075],\n",
              "       [70.75797855],\n",
              "       [66.28063109],\n",
              "       [79.20786645],\n",
              "       [57.92824626],\n",
              "       [69.89134356],\n",
              "       [65.42991616],\n",
              "       [73.40666368],\n",
              "       [76.54886802],\n",
              "       [68.93718797],\n",
              "       [65.98736001],\n",
              "       [87.38463649],\n",
              "       [52.59871341],\n",
              "       [81.6552302 ],\n",
              "       [76.02118867],\n",
              "       [51.92420208],\n",
              "       [93.31372723],\n",
              "       [66.80437085],\n",
              "       [66.3282535 ],\n",
              "       [59.73120941],\n",
              "       [59.94351689]])"
            ]
          },
          "metadata": {},
          "execution_count": 26
        }
      ]
    },
    {
      "cell_type": "code",
      "source": [
        "plt.scatter(y_test, y_pred)\n",
        "plt.show()"
      ],
      "metadata": {
        "colab": {
          "base_uri": "https://localhost:8080/",
          "height": 265
        },
        "id": "I9LSUDctILnn",
        "outputId": "c364a4bc-39a7-46ab-ae83-218b2e3e2aaf"
      },
      "execution_count": 27,
      "outputs": [
        {
          "output_type": "display_data",
          "data": {
            "text/plain": [
              "<Figure size 432x288 with 1 Axes>"
            ],
            "image/png": "[encoded data removed]"
          },
          "metadata": {
            "needs_background": "light"
          }
        }
      ]
    },
    {
      "cell_type": "code",
      "source": [
        "# Student studies for 3hrs:\n",
        "stanscale.inverse_transform(model.predict([[3]]).reshape(-1,1))"
      ],
      "metadata": {
        "colab": {
          "base_uri": "https://localhost:8080/"
        },
        "id": "Sh1z3WwMJxN4",
        "outputId": "d3c56888-214f-4e06-ca1d-cc24268a7955"
      },
      "execution_count": 31,
      "outputs": [
        {
          "output_type": "execute_result",
          "data": {
            "text/plain": [
              "array([[80.74671249]])"
            ]
          },
          "metadata": {},
          "execution_count": 31
        }
      ]
    },
    {
      "cell_type": "code",
      "source": [
        "# Student studies for 12hrs:\n",
        "stanscale.inverse_transform(model.predict([[12]]).reshape(-1,1))"
      ],
      "metadata": {
        "colab": {
          "base_uri": "https://localhost:8080/"
        },
        "id": "F8dYfOdrI11H",
        "outputId": "98e2c552-e0de-4992-ab4a-e33154587d43"
      },
      "execution_count": 29,
      "outputs": [
        {
          "output_type": "execute_result",
          "data": {
            "text/plain": [
              "array([[73.10748024]])"
            ]
          },
          "metadata": {},
          "execution_count": 29
        }
      ]
    },
    {
      "cell_type": "markdown",
      "source": [
        "**Model Evaluation**"
      ],
      "metadata": {
        "id": "wVi7bBneMCUX"
      }
    },
    {
      "cell_type": "code",
      "source": [
        "r2_score(y_test , y_pred)"
      ],
      "metadata": {
        "colab": {
          "base_uri": "https://localhost:8080/"
        },
        "id": "tblN-Ny8KQpG",
        "outputId": "87216ec8-81a7-49c5-b117-c16f28ea86f6"
      },
      "execution_count": 32,
      "outputs": [
        {
          "output_type": "execute_result",
          "data": {
            "text/plain": [
              "0.6314498852294589"
            ]
          },
          "metadata": {},
          "execution_count": 32
        }
      ]
    },
    {
      "cell_type": "code",
      "source": [
        "mean_squared_error(y_test , y_pred)"
      ],
      "metadata": {
        "colab": {
          "base_uri": "https://localhost:8080/"
        },
        "id": "9-YESDzwKVEf",
        "outputId": "5732a516-77f4-468b-a697-6cecffd0a378"
      },
      "execution_count": 33,
      "outputs": [
        {
          "output_type": "execute_result",
          "data": {
            "text/plain": [
              "76.02821098810809"
            ]
          },
          "metadata": {},
          "execution_count": 33
        }
      ]
    },
    {
      "cell_type": "code",
      "source": [
        "mean_absolute_error(y_test , y_pred)"
      ],
      "metadata": {
        "colab": {
          "base_uri": "https://localhost:8080/"
        },
        "id": "PdoDy864Kamm",
        "outputId": "3efcf6b6-d258-4f42-df8b-ed8903cf673e"
      },
      "execution_count": 34,
      "outputs": [
        {
          "output_type": "execute_result",
          "data": {
            "text/plain": [
              "7.206083573647409"
            ]
          },
          "metadata": {},
          "execution_count": 34
        }
      ]
    }
  ]
}
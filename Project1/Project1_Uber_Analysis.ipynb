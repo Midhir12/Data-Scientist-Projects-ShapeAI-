{
  "nbformat": 4,
  "nbformat_minor": 0,
  "metadata": {
    "colab": {
      "name": "Uber Analysis.ipynb",
      "provenance": [],
      "collapsed_sections": []
    },
    "kernelspec": {
      "name": "python3",
      "display_name": "Python 3"
    },
    "language_info": {
      "name": "python"
    }
  },
  "cells": [
    {
      "cell_type": "markdown",
      "metadata": {
        "id": "lhXeQ1edeH05"
      },
      "source": [
        "### **SHAPEAI - DATA SCIENTIST TRAINING & INTERNSHIP**"
      ]
    },
    {
      "cell_type": "markdown",
      "metadata": {
        "id": "fv2HG9IpeHxR"
      },
      "source": [
        "### **Author : Midhir Nambiar**"
      ]
    },
    {
      "cell_type": "markdown",
      "metadata": {
        "id": "J1bhxT9LeHtr"
      },
      "source": [
        "### **Task : Exploratory Data Analysis on Uber**"
      ]
    },
    {
      "cell_type": "markdown",
      "metadata": {
        "id": "n9wSXc6jfA08"
      },
      "source": [
        "### **IMPORTING LIBRARIES**"
      ]
    },
    {
      "cell_type": "code",
      "metadata": {
        "id": "GGhRmMyK_rPv"
      },
      "source": [
        "import numpy as np\n",
        "import pandas as pd\n",
        "import matplotlib.pyplot as plt\n",
        "%matplotlib inline\n",
        "import seaborn as sns\n",
        "import warnings\n",
        "warnings.filterwarnings('ignore')"
      ],
      "execution_count": 1,
      "outputs": []
    },
    {
      "cell_type": "markdown",
      "metadata": {
        "id": "ezJk7XXqfvdL"
      },
      "source": [
        "### **DATA ANALYSIS**"
      ]
    },
    {
      "cell_type": "markdown",
      "metadata": {
        "id": "Pf_PpxPcfDmW"
      },
      "source": [
        "Reading and Loading the Dataset"
      ]
    },
    {
      "cell_type": "code",
      "metadata": {
        "colab": {
          "base_uri": "https://localhost:8080/",
          "height": 423
        },
        "id": "NEODlFihBIFF",
        "outputId": "60f1d1f5-4a14-4ff1-f88c-24d318cda28f"
      },
      "source": [
        "df = pd.read_csv('/content/My Uber Drives - 2016.csv', encoding = 'latin1')\n",
        "df"
      ],
      "execution_count": 2,
      "outputs": [
        {
          "output_type": "execute_result",
          "data": {
            "text/html": [
              "<div>\n",
              "<style scoped>\n",
              "    .dataframe tbody tr th:only-of-type {\n",
              "        vertical-align: middle;\n",
              "    }\n",
              "\n",
              "    .dataframe tbody tr th {\n",
              "        vertical-align: top;\n",
              "    }\n",
              "\n",
              "    .dataframe thead th {\n",
              "        text-align: right;\n",
              "    }\n",
              "</style>\n",
              "<table border=\"1\" class=\"dataframe\">\n",
              "  <thead>\n",
              "    <tr style=\"text-align: right;\">\n",
              "      <th></th>\n",
              "      <th>START_DATE*</th>\n",
              "      <th>END_DATE*</th>\n",
              "      <th>CATEGORY*</th>\n",
              "      <th>START*</th>\n",
              "      <th>STOP*</th>\n",
              "      <th>MILES*</th>\n",
              "      <th>PURPOSE*</th>\n",
              "    </tr>\n",
              "  </thead>\n",
              "  <tbody>\n",
              "    <tr>\n",
              "      <th>0</th>\n",
              "      <td>1/1/2016 21:11</td>\n",
              "      <td>1/1/2016 21:17</td>\n",
              "      <td>Business</td>\n",
              "      <td>Fort Pierce</td>\n",
              "      <td>Fort Pierce</td>\n",
              "      <td>5.1</td>\n",
              "      <td>Meal/Entertain</td>\n",
              "    </tr>\n",
              "    <tr>\n",
              "      <th>1</th>\n",
              "      <td>1/2/2016 1:25</td>\n",
              "      <td>1/2/2016 1:37</td>\n",
              "      <td>Business</td>\n",
              "      <td>Fort Pierce</td>\n",
              "      <td>Fort Pierce</td>\n",
              "      <td>5.0</td>\n",
              "      <td>NaN</td>\n",
              "    </tr>\n",
              "    <tr>\n",
              "      <th>2</th>\n",
              "      <td>1/2/2016 20:25</td>\n",
              "      <td>1/2/2016 20:38</td>\n",
              "      <td>Business</td>\n",
              "      <td>Fort Pierce</td>\n",
              "      <td>Fort Pierce</td>\n",
              "      <td>4.8</td>\n",
              "      <td>Errand/Supplies</td>\n",
              "    </tr>\n",
              "    <tr>\n",
              "      <th>3</th>\n",
              "      <td>1/5/2016 17:31</td>\n",
              "      <td>1/5/2016 17:45</td>\n",
              "      <td>Business</td>\n",
              "      <td>Fort Pierce</td>\n",
              "      <td>Fort Pierce</td>\n",
              "      <td>4.7</td>\n",
              "      <td>Meeting</td>\n",
              "    </tr>\n",
              "    <tr>\n",
              "      <th>4</th>\n",
              "      <td>1/6/2016 14:42</td>\n",
              "      <td>1/6/2016 15:49</td>\n",
              "      <td>Business</td>\n",
              "      <td>Fort Pierce</td>\n",
              "      <td>West Palm Beach</td>\n",
              "      <td>63.7</td>\n",
              "      <td>Customer Visit</td>\n",
              "    </tr>\n",
              "    <tr>\n",
              "      <th>...</th>\n",
              "      <td>...</td>\n",
              "      <td>...</td>\n",
              "      <td>...</td>\n",
              "      <td>...</td>\n",
              "      <td>...</td>\n",
              "      <td>...</td>\n",
              "      <td>...</td>\n",
              "    </tr>\n",
              "    <tr>\n",
              "      <th>1151</th>\n",
              "      <td>12/31/2016 13:24</td>\n",
              "      <td>12/31/2016 13:42</td>\n",
              "      <td>Business</td>\n",
              "      <td>Kar?chi</td>\n",
              "      <td>Unknown Location</td>\n",
              "      <td>3.9</td>\n",
              "      <td>Temporary Site</td>\n",
              "    </tr>\n",
              "    <tr>\n",
              "      <th>1152</th>\n",
              "      <td>12/31/2016 15:03</td>\n",
              "      <td>12/31/2016 15:38</td>\n",
              "      <td>Business</td>\n",
              "      <td>Unknown Location</td>\n",
              "      <td>Unknown Location</td>\n",
              "      <td>16.2</td>\n",
              "      <td>Meeting</td>\n",
              "    </tr>\n",
              "    <tr>\n",
              "      <th>1153</th>\n",
              "      <td>12/31/2016 21:32</td>\n",
              "      <td>12/31/2016 21:50</td>\n",
              "      <td>Business</td>\n",
              "      <td>Katunayake</td>\n",
              "      <td>Gampaha</td>\n",
              "      <td>6.4</td>\n",
              "      <td>Temporary Site</td>\n",
              "    </tr>\n",
              "    <tr>\n",
              "      <th>1154</th>\n",
              "      <td>12/31/2016 22:08</td>\n",
              "      <td>12/31/2016 23:51</td>\n",
              "      <td>Business</td>\n",
              "      <td>Gampaha</td>\n",
              "      <td>Ilukwatta</td>\n",
              "      <td>48.2</td>\n",
              "      <td>Temporary Site</td>\n",
              "    </tr>\n",
              "    <tr>\n",
              "      <th>1155</th>\n",
              "      <td>Totals</td>\n",
              "      <td>NaN</td>\n",
              "      <td>NaN</td>\n",
              "      <td>NaN</td>\n",
              "      <td>NaN</td>\n",
              "      <td>12204.7</td>\n",
              "      <td>NaN</td>\n",
              "    </tr>\n",
              "  </tbody>\n",
              "</table>\n",
              "<p>1156 rows × 7 columns</p>\n",
              "</div>"
            ],
            "text/plain": [
              "           START_DATE*         END_DATE*  ...   MILES*         PURPOSE*\n",
              "0       1/1/2016 21:11    1/1/2016 21:17  ...      5.1   Meal/Entertain\n",
              "1        1/2/2016 1:25     1/2/2016 1:37  ...      5.0              NaN\n",
              "2       1/2/2016 20:25    1/2/2016 20:38  ...      4.8  Errand/Supplies\n",
              "3       1/5/2016 17:31    1/5/2016 17:45  ...      4.7          Meeting\n",
              "4       1/6/2016 14:42    1/6/2016 15:49  ...     63.7   Customer Visit\n",
              "...                ...               ...  ...      ...              ...\n",
              "1151  12/31/2016 13:24  12/31/2016 13:42  ...      3.9   Temporary Site\n",
              "1152  12/31/2016 15:03  12/31/2016 15:38  ...     16.2          Meeting\n",
              "1153  12/31/2016 21:32  12/31/2016 21:50  ...      6.4   Temporary Site\n",
              "1154  12/31/2016 22:08  12/31/2016 23:51  ...     48.2   Temporary Site\n",
              "1155            Totals               NaN  ...  12204.7              NaN\n",
              "\n",
              "[1156 rows x 7 columns]"
            ]
          },
          "metadata": {},
          "execution_count": 2
        }
      ]
    },
    {
      "cell_type": "code",
      "metadata": {
        "id": "-mmzDVZkBems"
      },
      "source": [
        "df.columns = df.columns.str.replace(\"*\",\"\")"
      ],
      "execution_count": 3,
      "outputs": []
    },
    {
      "cell_type": "markdown",
      "metadata": {
        "id": "hgQSGjDlfIHv"
      },
      "source": [
        "Shape of the Dataset"
      ]
    },
    {
      "cell_type": "code",
      "metadata": {
        "colab": {
          "base_uri": "https://localhost:8080/"
        },
        "id": "5GDV2TuqBVwj",
        "outputId": "cc34c011-26db-4d19-d5bb-232b41a7d3c9"
      },
      "source": [
        "print(df.shape)"
      ],
      "execution_count": 4,
      "outputs": [
        {
          "output_type": "stream",
          "name": "stdout",
          "text": [
            "(1156, 7)\n"
          ]
        }
      ]
    },
    {
      "cell_type": "markdown",
      "metadata": {
        "id": "WWjysbU0fJn0"
      },
      "source": [
        "First five values using head()"
      ]
    },
    {
      "cell_type": "code",
      "metadata": {
        "colab": {
          "base_uri": "https://localhost:8080/",
          "height": 206
        },
        "id": "QFVwNonqBTds",
        "outputId": "b9cbaabe-cca4-4ca0-8946-98a8873e81a6"
      },
      "source": [
        "df.head()"
      ],
      "execution_count": 5,
      "outputs": [
        {
          "output_type": "execute_result",
          "data": {
            "text/html": [
              "<div>\n",
              "<style scoped>\n",
              "    .dataframe tbody tr th:only-of-type {\n",
              "        vertical-align: middle;\n",
              "    }\n",
              "\n",
              "    .dataframe tbody tr th {\n",
              "        vertical-align: top;\n",
              "    }\n",
              "\n",
              "    .dataframe thead th {\n",
              "        text-align: right;\n",
              "    }\n",
              "</style>\n",
              "<table border=\"1\" class=\"dataframe\">\n",
              "  <thead>\n",
              "    <tr style=\"text-align: right;\">\n",
              "      <th></th>\n",
              "      <th>START_DATE</th>\n",
              "      <th>END_DATE</th>\n",
              "      <th>CATEGORY</th>\n",
              "      <th>START</th>\n",
              "      <th>STOP</th>\n",
              "      <th>MILES</th>\n",
              "      <th>PURPOSE</th>\n",
              "    </tr>\n",
              "  </thead>\n",
              "  <tbody>\n",
              "    <tr>\n",
              "      <th>0</th>\n",
              "      <td>1/1/2016 21:11</td>\n",
              "      <td>1/1/2016 21:17</td>\n",
              "      <td>Business</td>\n",
              "      <td>Fort Pierce</td>\n",
              "      <td>Fort Pierce</td>\n",
              "      <td>5.1</td>\n",
              "      <td>Meal/Entertain</td>\n",
              "    </tr>\n",
              "    <tr>\n",
              "      <th>1</th>\n",
              "      <td>1/2/2016 1:25</td>\n",
              "      <td>1/2/2016 1:37</td>\n",
              "      <td>Business</td>\n",
              "      <td>Fort Pierce</td>\n",
              "      <td>Fort Pierce</td>\n",
              "      <td>5.0</td>\n",
              "      <td>NaN</td>\n",
              "    </tr>\n",
              "    <tr>\n",
              "      <th>2</th>\n",
              "      <td>1/2/2016 20:25</td>\n",
              "      <td>1/2/2016 20:38</td>\n",
              "      <td>Business</td>\n",
              "      <td>Fort Pierce</td>\n",
              "      <td>Fort Pierce</td>\n",
              "      <td>4.8</td>\n",
              "      <td>Errand/Supplies</td>\n",
              "    </tr>\n",
              "    <tr>\n",
              "      <th>3</th>\n",
              "      <td>1/5/2016 17:31</td>\n",
              "      <td>1/5/2016 17:45</td>\n",
              "      <td>Business</td>\n",
              "      <td>Fort Pierce</td>\n",
              "      <td>Fort Pierce</td>\n",
              "      <td>4.7</td>\n",
              "      <td>Meeting</td>\n",
              "    </tr>\n",
              "    <tr>\n",
              "      <th>4</th>\n",
              "      <td>1/6/2016 14:42</td>\n",
              "      <td>1/6/2016 15:49</td>\n",
              "      <td>Business</td>\n",
              "      <td>Fort Pierce</td>\n",
              "      <td>West Palm Beach</td>\n",
              "      <td>63.7</td>\n",
              "      <td>Customer Visit</td>\n",
              "    </tr>\n",
              "  </tbody>\n",
              "</table>\n",
              "</div>"
            ],
            "text/plain": [
              "       START_DATE        END_DATE  ... MILES          PURPOSE\n",
              "0  1/1/2016 21:11  1/1/2016 21:17  ...   5.1   Meal/Entertain\n",
              "1   1/2/2016 1:25   1/2/2016 1:37  ...   5.0              NaN\n",
              "2  1/2/2016 20:25  1/2/2016 20:38  ...   4.8  Errand/Supplies\n",
              "3  1/5/2016 17:31  1/5/2016 17:45  ...   4.7          Meeting\n",
              "4  1/6/2016 14:42  1/6/2016 15:49  ...  63.7   Customer Visit\n",
              "\n",
              "[5 rows x 7 columns]"
            ]
          },
          "metadata": {},
          "execution_count": 5
        }
      ]
    },
    {
      "cell_type": "markdown",
      "metadata": {
        "id": "KyugI-TxfNCE"
      },
      "source": [
        "Last five values using tail()"
      ]
    },
    {
      "cell_type": "code",
      "metadata": {
        "colab": {
          "base_uri": "https://localhost:8080/",
          "height": 206
        },
        "id": "NWLZf8v-B1Du",
        "outputId": "252d8170-e766-42bb-b47f-73b6d42f4902"
      },
      "source": [
        "df.tail()"
      ],
      "execution_count": 6,
      "outputs": [
        {
          "output_type": "execute_result",
          "data": {
            "text/html": [
              "<div>\n",
              "<style scoped>\n",
              "    .dataframe tbody tr th:only-of-type {\n",
              "        vertical-align: middle;\n",
              "    }\n",
              "\n",
              "    .dataframe tbody tr th {\n",
              "        vertical-align: top;\n",
              "    }\n",
              "\n",
              "    .dataframe thead th {\n",
              "        text-align: right;\n",
              "    }\n",
              "</style>\n",
              "<table border=\"1\" class=\"dataframe\">\n",
              "  <thead>\n",
              "    <tr style=\"text-align: right;\">\n",
              "      <th></th>\n",
              "      <th>START_DATE</th>\n",
              "      <th>END_DATE</th>\n",
              "      <th>CATEGORY</th>\n",
              "      <th>START</th>\n",
              "      <th>STOP</th>\n",
              "      <th>MILES</th>\n",
              "      <th>PURPOSE</th>\n",
              "    </tr>\n",
              "  </thead>\n",
              "  <tbody>\n",
              "    <tr>\n",
              "      <th>1151</th>\n",
              "      <td>12/31/2016 13:24</td>\n",
              "      <td>12/31/2016 13:42</td>\n",
              "      <td>Business</td>\n",
              "      <td>Kar?chi</td>\n",
              "      <td>Unknown Location</td>\n",
              "      <td>3.9</td>\n",
              "      <td>Temporary Site</td>\n",
              "    </tr>\n",
              "    <tr>\n",
              "      <th>1152</th>\n",
              "      <td>12/31/2016 15:03</td>\n",
              "      <td>12/31/2016 15:38</td>\n",
              "      <td>Business</td>\n",
              "      <td>Unknown Location</td>\n",
              "      <td>Unknown Location</td>\n",
              "      <td>16.2</td>\n",
              "      <td>Meeting</td>\n",
              "    </tr>\n",
              "    <tr>\n",
              "      <th>1153</th>\n",
              "      <td>12/31/2016 21:32</td>\n",
              "      <td>12/31/2016 21:50</td>\n",
              "      <td>Business</td>\n",
              "      <td>Katunayake</td>\n",
              "      <td>Gampaha</td>\n",
              "      <td>6.4</td>\n",
              "      <td>Temporary Site</td>\n",
              "    </tr>\n",
              "    <tr>\n",
              "      <th>1154</th>\n",
              "      <td>12/31/2016 22:08</td>\n",
              "      <td>12/31/2016 23:51</td>\n",
              "      <td>Business</td>\n",
              "      <td>Gampaha</td>\n",
              "      <td>Ilukwatta</td>\n",
              "      <td>48.2</td>\n",
              "      <td>Temporary Site</td>\n",
              "    </tr>\n",
              "    <tr>\n",
              "      <th>1155</th>\n",
              "      <td>Totals</td>\n",
              "      <td>NaN</td>\n",
              "      <td>NaN</td>\n",
              "      <td>NaN</td>\n",
              "      <td>NaN</td>\n",
              "      <td>12204.7</td>\n",
              "      <td>NaN</td>\n",
              "    </tr>\n",
              "  </tbody>\n",
              "</table>\n",
              "</div>"
            ],
            "text/plain": [
              "            START_DATE          END_DATE  ...    MILES         PURPOSE\n",
              "1151  12/31/2016 13:24  12/31/2016 13:42  ...      3.9  Temporary Site\n",
              "1152  12/31/2016 15:03  12/31/2016 15:38  ...     16.2         Meeting\n",
              "1153  12/31/2016 21:32  12/31/2016 21:50  ...      6.4  Temporary Site\n",
              "1154  12/31/2016 22:08  12/31/2016 23:51  ...     48.2  Temporary Site\n",
              "1155            Totals               NaN  ...  12204.7             NaN\n",
              "\n",
              "[5 rows x 7 columns]"
            ]
          },
          "metadata": {},
          "execution_count": 6
        }
      ]
    },
    {
      "cell_type": "markdown",
      "metadata": {
        "id": "j_W7KjwSfQSZ"
      },
      "source": [
        "Information about the Dataset"
      ]
    },
    {
      "cell_type": "code",
      "metadata": {
        "colab": {
          "base_uri": "https://localhost:8080/"
        },
        "id": "MM6EdJM4B2wy",
        "outputId": "f4c5d201-ddb2-42de-9c56-af19be9e56c9"
      },
      "source": [
        "df.info()"
      ],
      "execution_count": 7,
      "outputs": [
        {
          "output_type": "stream",
          "name": "stdout",
          "text": [
            "<class 'pandas.core.frame.DataFrame'>\n",
            "RangeIndex: 1156 entries, 0 to 1155\n",
            "Data columns (total 7 columns):\n",
            " #   Column      Non-Null Count  Dtype  \n",
            "---  ------      --------------  -----  \n",
            " 0   START_DATE  1156 non-null   object \n",
            " 1   END_DATE    1155 non-null   object \n",
            " 2   CATEGORY    1155 non-null   object \n",
            " 3   START       1155 non-null   object \n",
            " 4   STOP        1155 non-null   object \n",
            " 5   MILES       1156 non-null   float64\n",
            " 6   PURPOSE     653 non-null    object \n",
            "dtypes: float64(1), object(6)\n",
            "memory usage: 63.3+ KB\n"
          ]
        }
      ]
    },
    {
      "cell_type": "markdown",
      "metadata": {
        "id": "sMScI_P5fTV5"
      },
      "source": [
        "Check for null values if any"
      ]
    },
    {
      "cell_type": "code",
      "metadata": {
        "colab": {
          "base_uri": "https://localhost:8080/"
        },
        "id": "zp30HPpcCWJ7",
        "outputId": "3d8dcbb1-db4b-4439-cccc-c7c8ca09858c"
      },
      "source": [
        "df.isnull().sum()"
      ],
      "execution_count": 8,
      "outputs": [
        {
          "output_type": "execute_result",
          "data": {
            "text/plain": [
              "START_DATE      0\n",
              "END_DATE        1\n",
              "CATEGORY        1\n",
              "START           1\n",
              "STOP            1\n",
              "MILES           0\n",
              "PURPOSE       503\n",
              "dtype: int64"
            ]
          },
          "metadata": {},
          "execution_count": 8
        }
      ]
    },
    {
      "cell_type": "markdown",
      "metadata": {
        "id": "KXZ8e5JhfWL7"
      },
      "source": [
        "Handling null values"
      ]
    },
    {
      "cell_type": "code",
      "metadata": {
        "colab": {
          "base_uri": "https://localhost:8080/",
          "height": 423
        },
        "id": "N7Mg21RjKv4d",
        "outputId": "1d754733-51db-4f6c-f7d0-3a034dc729fa"
      },
      "source": [
        "df.fillna(0)"
      ],
      "execution_count": 9,
      "outputs": [
        {
          "output_type": "execute_result",
          "data": {
            "text/html": [
              "<div>\n",
              "<style scoped>\n",
              "    .dataframe tbody tr th:only-of-type {\n",
              "        vertical-align: middle;\n",
              "    }\n",
              "\n",
              "    .dataframe tbody tr th {\n",
              "        vertical-align: top;\n",
              "    }\n",
              "\n",
              "    .dataframe thead th {\n",
              "        text-align: right;\n",
              "    }\n",
              "</style>\n",
              "<table border=\"1\" class=\"dataframe\">\n",
              "  <thead>\n",
              "    <tr style=\"text-align: right;\">\n",
              "      <th></th>\n",
              "      <th>START_DATE</th>\n",
              "      <th>END_DATE</th>\n",
              "      <th>CATEGORY</th>\n",
              "      <th>START</th>\n",
              "      <th>STOP</th>\n",
              "      <th>MILES</th>\n",
              "      <th>PURPOSE</th>\n",
              "    </tr>\n",
              "  </thead>\n",
              "  <tbody>\n",
              "    <tr>\n",
              "      <th>0</th>\n",
              "      <td>1/1/2016 21:11</td>\n",
              "      <td>1/1/2016 21:17</td>\n",
              "      <td>Business</td>\n",
              "      <td>Fort Pierce</td>\n",
              "      <td>Fort Pierce</td>\n",
              "      <td>5.1</td>\n",
              "      <td>Meal/Entertain</td>\n",
              "    </tr>\n",
              "    <tr>\n",
              "      <th>1</th>\n",
              "      <td>1/2/2016 1:25</td>\n",
              "      <td>1/2/2016 1:37</td>\n",
              "      <td>Business</td>\n",
              "      <td>Fort Pierce</td>\n",
              "      <td>Fort Pierce</td>\n",
              "      <td>5.0</td>\n",
              "      <td>0</td>\n",
              "    </tr>\n",
              "    <tr>\n",
              "      <th>2</th>\n",
              "      <td>1/2/2016 20:25</td>\n",
              "      <td>1/2/2016 20:38</td>\n",
              "      <td>Business</td>\n",
              "      <td>Fort Pierce</td>\n",
              "      <td>Fort Pierce</td>\n",
              "      <td>4.8</td>\n",
              "      <td>Errand/Supplies</td>\n",
              "    </tr>\n",
              "    <tr>\n",
              "      <th>3</th>\n",
              "      <td>1/5/2016 17:31</td>\n",
              "      <td>1/5/2016 17:45</td>\n",
              "      <td>Business</td>\n",
              "      <td>Fort Pierce</td>\n",
              "      <td>Fort Pierce</td>\n",
              "      <td>4.7</td>\n",
              "      <td>Meeting</td>\n",
              "    </tr>\n",
              "    <tr>\n",
              "      <th>4</th>\n",
              "      <td>1/6/2016 14:42</td>\n",
              "      <td>1/6/2016 15:49</td>\n",
              "      <td>Business</td>\n",
              "      <td>Fort Pierce</td>\n",
              "      <td>West Palm Beach</td>\n",
              "      <td>63.7</td>\n",
              "      <td>Customer Visit</td>\n",
              "    </tr>\n",
              "    <tr>\n",
              "      <th>...</th>\n",
              "      <td>...</td>\n",
              "      <td>...</td>\n",
              "      <td>...</td>\n",
              "      <td>...</td>\n",
              "      <td>...</td>\n",
              "      <td>...</td>\n",
              "      <td>...</td>\n",
              "    </tr>\n",
              "    <tr>\n",
              "      <th>1151</th>\n",
              "      <td>12/31/2016 13:24</td>\n",
              "      <td>12/31/2016 13:42</td>\n",
              "      <td>Business</td>\n",
              "      <td>Kar?chi</td>\n",
              "      <td>Unknown Location</td>\n",
              "      <td>3.9</td>\n",
              "      <td>Temporary Site</td>\n",
              "    </tr>\n",
              "    <tr>\n",
              "      <th>1152</th>\n",
              "      <td>12/31/2016 15:03</td>\n",
              "      <td>12/31/2016 15:38</td>\n",
              "      <td>Business</td>\n",
              "      <td>Unknown Location</td>\n",
              "      <td>Unknown Location</td>\n",
              "      <td>16.2</td>\n",
              "      <td>Meeting</td>\n",
              "    </tr>\n",
              "    <tr>\n",
              "      <th>1153</th>\n",
              "      <td>12/31/2016 21:32</td>\n",
              "      <td>12/31/2016 21:50</td>\n",
              "      <td>Business</td>\n",
              "      <td>Katunayake</td>\n",
              "      <td>Gampaha</td>\n",
              "      <td>6.4</td>\n",
              "      <td>Temporary Site</td>\n",
              "    </tr>\n",
              "    <tr>\n",
              "      <th>1154</th>\n",
              "      <td>12/31/2016 22:08</td>\n",
              "      <td>12/31/2016 23:51</td>\n",
              "      <td>Business</td>\n",
              "      <td>Gampaha</td>\n",
              "      <td>Ilukwatta</td>\n",
              "      <td>48.2</td>\n",
              "      <td>Temporary Site</td>\n",
              "    </tr>\n",
              "    <tr>\n",
              "      <th>1155</th>\n",
              "      <td>Totals</td>\n",
              "      <td>0</td>\n",
              "      <td>0</td>\n",
              "      <td>0</td>\n",
              "      <td>0</td>\n",
              "      <td>12204.7</td>\n",
              "      <td>0</td>\n",
              "    </tr>\n",
              "  </tbody>\n",
              "</table>\n",
              "<p>1156 rows × 7 columns</p>\n",
              "</div>"
            ],
            "text/plain": [
              "            START_DATE          END_DATE  ...    MILES          PURPOSE\n",
              "0       1/1/2016 21:11    1/1/2016 21:17  ...      5.1   Meal/Entertain\n",
              "1        1/2/2016 1:25     1/2/2016 1:37  ...      5.0                0\n",
              "2       1/2/2016 20:25    1/2/2016 20:38  ...      4.8  Errand/Supplies\n",
              "3       1/5/2016 17:31    1/5/2016 17:45  ...      4.7          Meeting\n",
              "4       1/6/2016 14:42    1/6/2016 15:49  ...     63.7   Customer Visit\n",
              "...                ...               ...  ...      ...              ...\n",
              "1151  12/31/2016 13:24  12/31/2016 13:42  ...      3.9   Temporary Site\n",
              "1152  12/31/2016 15:03  12/31/2016 15:38  ...     16.2          Meeting\n",
              "1153  12/31/2016 21:32  12/31/2016 21:50  ...      6.4   Temporary Site\n",
              "1154  12/31/2016 22:08  12/31/2016 23:51  ...     48.2   Temporary Site\n",
              "1155            Totals                 0  ...  12204.7                0\n",
              "\n",
              "[1156 rows x 7 columns]"
            ]
          },
          "metadata": {},
          "execution_count": 9
        }
      ]
    },
    {
      "cell_type": "code",
      "metadata": {
        "colab": {
          "base_uri": "https://localhost:8080/"
        },
        "id": "WD8dhVtgKzli",
        "outputId": "4e813da1-0949-4dc3-fff8-d27c72679345"
      },
      "source": [
        "df.isnull().sum()"
      ],
      "execution_count": 10,
      "outputs": [
        {
          "output_type": "execute_result",
          "data": {
            "text/plain": [
              "START_DATE      0\n",
              "END_DATE        1\n",
              "CATEGORY        1\n",
              "START           1\n",
              "STOP            1\n",
              "MILES           0\n",
              "PURPOSE       503\n",
              "dtype: int64"
            ]
          },
          "metadata": {},
          "execution_count": 10
        }
      ]
    },
    {
      "cell_type": "code",
      "metadata": {
        "colab": {
          "base_uri": "https://localhost:8080/"
        },
        "id": "flUEPYzjLGDx",
        "outputId": "9c9f594b-aab4-408f-fb5c-21fd87b79a42"
      },
      "source": [
        "df['PURPOSE'].isnull().sum()/len(df)*100"
      ],
      "execution_count": 11,
      "outputs": [
        {
          "output_type": "execute_result",
          "data": {
            "text/plain": [
              "43.5121107266436"
            ]
          },
          "metadata": {},
          "execution_count": 11
        }
      ]
    },
    {
      "cell_type": "markdown",
      "metadata": {
        "id": "AoM4J8UhfaxG"
      },
      "source": [
        "Using ForwardFill Method"
      ]
    },
    {
      "cell_type": "code",
      "metadata": {
        "id": "U9NkiJmPL7Ey"
      },
      "source": [
        "df['PURPOSE'].fillna(method = 'ffill' , inplace = True)"
      ],
      "execution_count": 12,
      "outputs": []
    },
    {
      "cell_type": "code",
      "metadata": {
        "colab": {
          "base_uri": "https://localhost:8080/"
        },
        "id": "tCKAWgThMIUg",
        "outputId": "25c2b504-d775-442b-d581-2c23970d4917"
      },
      "source": [
        "df.isnull().sum()"
      ],
      "execution_count": 13,
      "outputs": [
        {
          "output_type": "execute_result",
          "data": {
            "text/plain": [
              "START_DATE    0\n",
              "END_DATE      1\n",
              "CATEGORY      1\n",
              "START         1\n",
              "STOP          1\n",
              "MILES         0\n",
              "PURPOSE       0\n",
              "dtype: int64"
            ]
          },
          "metadata": {},
          "execution_count": 13
        }
      ]
    },
    {
      "cell_type": "markdown",
      "metadata": {
        "id": "JaYMZrsHfpWq"
      },
      "source": [
        "### **DATA VISUALISATION**"
      ]
    },
    {
      "cell_type": "markdown",
      "metadata": {
        "id": "gDIZATW7fhfY"
      },
      "source": [
        "Heatmap of our Dataset"
      ]
    },
    {
      "cell_type": "code",
      "metadata": {
        "colab": {
          "base_uri": "https://localhost:8080/",
          "height": 433
        },
        "id": "8Mihr7gfHHNV",
        "outputId": "646a9ccd-b614-47ae-a46c-2d3da3086886"
      },
      "source": [
        "plt.figure(figsize=(11,7))\n",
        "sns.heatmap(df.isnull(),cmap = 'magma', yticklabels = False)\n",
        "plt.show()"
      ],
      "execution_count": 14,
      "outputs": [
        {
          "output_type": "display_data",
          "data": {
            "image/png": "[encoded data removed]",
            "text/plain": [
              "<Figure size 792x504 with 2 Axes>"
            ]
          },
          "metadata": {
            "needs_background": "light"
          }
        }
      ]
    },
    {
      "cell_type": "markdown",
      "metadata": {
        "id": "qSTb-ICLIxkN"
      },
      "source": [
        "Visualising the null values"
      ]
    },
    {
      "cell_type": "code",
      "metadata": {
        "colab": {
          "base_uri": "https://localhost:8080/",
          "height": 764
        },
        "id": "wVoy91riIKvx",
        "outputId": "d4a680ff-922d-4a71-9c80-b04f6ba64e60"
      },
      "source": [
        "!pip install missingno\n",
        "import missingno as msno\n",
        "msno.bar(df)\n",
        "plt.show()"
      ],
      "execution_count": 99,
      "outputs": [
        {
          "output_type": "stream",
          "name": "stdout",
          "text": [
            "Requirement already satisfied: missingno in /usr/local/lib/python3.7/dist-packages (0.5.0)\n",
            "Requirement already satisfied: scipy in /usr/local/lib/python3.7/dist-packages (from missingno) (1.4.1)\n",
            "Requirement already satisfied: seaborn in /usr/local/lib/python3.7/dist-packages (from missingno) (0.11.1)\n",
            "Requirement already satisfied: numpy in /usr/local/lib/python3.7/dist-packages (from missingno) (1.19.5)\n",
            "Requirement already satisfied: matplotlib in /usr/local/lib/python3.7/dist-packages (from missingno) (3.2.2)\n",
            "Requirement already satisfied: cycler>=0.10 in /usr/local/lib/python3.7/dist-packages (from matplotlib->missingno) (0.10.0)\n",
            "Requirement already satisfied: pyparsing!=2.0.4,!=2.1.2,!=2.1.6,>=2.0.1 in /usr/local/lib/python3.7/dist-packages (from matplotlib->missingno) (2.4.7)\n",
            "Requirement already satisfied: python-dateutil>=2.1 in /usr/local/lib/python3.7/dist-packages (from matplotlib->missingno) (2.8.2)\n",
            "Requirement already satisfied: kiwisolver>=1.0.1 in /usr/local/lib/python3.7/dist-packages (from matplotlib->missingno) (1.3.1)\n",
            "Requirement already satisfied: six in /usr/local/lib/python3.7/dist-packages (from cycler>=0.10->matplotlib->missingno) (1.15.0)\n",
            "Requirement already satisfied: pandas>=0.23 in /usr/local/lib/python3.7/dist-packages (from seaborn->missingno) (1.1.5)\n",
            "Requirement already satisfied: pytz>=2017.2 in /usr/local/lib/python3.7/dist-packages (from pandas>=0.23->seaborn->missingno) (2018.9)\n"
          ]
        },
        {
          "output_type": "display_data",
          "data": {
            "image/png": "[encoded data removed]",
            "text/plain": [
              "<Figure size 1800x720 with 3 Axes>"
            ]
          },
          "metadata": {
            "needs_background": "light"
          }
        }
      ]
    },
    {
      "cell_type": "code",
      "metadata": {
        "colab": {
          "base_uri": "https://localhost:8080/",
          "height": 300
        },
        "id": "tllhZOdNCd6U",
        "outputId": "17b5e109-a701-48ec-954f-2e600c8ebc06"
      },
      "source": [
        "df.describe()"
      ],
      "execution_count": 16,
      "outputs": [
        {
          "output_type": "execute_result",
          "data": {
            "text/html": [
              "<div>\n",
              "<style scoped>\n",
              "    .dataframe tbody tr th:only-of-type {\n",
              "        vertical-align: middle;\n",
              "    }\n",
              "\n",
              "    .dataframe tbody tr th {\n",
              "        vertical-align: top;\n",
              "    }\n",
              "\n",
              "    .dataframe thead th {\n",
              "        text-align: right;\n",
              "    }\n",
              "</style>\n",
              "<table border=\"1\" class=\"dataframe\">\n",
              "  <thead>\n",
              "    <tr style=\"text-align: right;\">\n",
              "      <th></th>\n",
              "      <th>MILES</th>\n",
              "    </tr>\n",
              "  </thead>\n",
              "  <tbody>\n",
              "    <tr>\n",
              "      <th>count</th>\n",
              "      <td>1156.000000</td>\n",
              "    </tr>\n",
              "    <tr>\n",
              "      <th>mean</th>\n",
              "      <td>21.115398</td>\n",
              "    </tr>\n",
              "    <tr>\n",
              "      <th>std</th>\n",
              "      <td>359.299007</td>\n",
              "    </tr>\n",
              "    <tr>\n",
              "      <th>min</th>\n",
              "      <td>0.500000</td>\n",
              "    </tr>\n",
              "    <tr>\n",
              "      <th>25%</th>\n",
              "      <td>2.900000</td>\n",
              "    </tr>\n",
              "    <tr>\n",
              "      <th>50%</th>\n",
              "      <td>6.000000</td>\n",
              "    </tr>\n",
              "    <tr>\n",
              "      <th>75%</th>\n",
              "      <td>10.400000</td>\n",
              "    </tr>\n",
              "    <tr>\n",
              "      <th>max</th>\n",
              "      <td>12204.700000</td>\n",
              "    </tr>\n",
              "  </tbody>\n",
              "</table>\n",
              "</div>"
            ],
            "text/plain": [
              "              MILES\n",
              "count   1156.000000\n",
              "mean      21.115398\n",
              "std      359.299007\n",
              "min        0.500000\n",
              "25%        2.900000\n",
              "50%        6.000000\n",
              "75%       10.400000\n",
              "max    12204.700000"
            ]
          },
          "metadata": {},
          "execution_count": 16
        }
      ]
    },
    {
      "cell_type": "markdown",
      "metadata": {
        "id": "-e9WUz8TMN43"
      },
      "source": [
        "Checking over the start and end date"
      ]
    },
    {
      "cell_type": "code",
      "metadata": {
        "colab": {
          "base_uri": "https://localhost:8080/"
        },
        "id": "Vg5xvj1_MNXf",
        "outputId": "010e3562-37c3-4ee5-b56d-e5a3b4064c63"
      },
      "source": [
        "df['START_DATE'] = pd.to_datetime(df['START_DATE'] , errors = 'coerce' )\n",
        "df['END_DATE'] = pd.to_datetime(df['END_DATE'] , errors = 'coerce' )\n",
        "df.info()"
      ],
      "execution_count": 17,
      "outputs": [
        {
          "output_type": "stream",
          "name": "stdout",
          "text": [
            "<class 'pandas.core.frame.DataFrame'>\n",
            "RangeIndex: 1156 entries, 0 to 1155\n",
            "Data columns (total 7 columns):\n",
            " #   Column      Non-Null Count  Dtype         \n",
            "---  ------      --------------  -----         \n",
            " 0   START_DATE  1155 non-null   datetime64[ns]\n",
            " 1   END_DATE    1155 non-null   datetime64[ns]\n",
            " 2   CATEGORY    1155 non-null   object        \n",
            " 3   START       1155 non-null   object        \n",
            " 4   STOP        1155 non-null   object        \n",
            " 5   MILES       1156 non-null   float64       \n",
            " 6   PURPOSE     1156 non-null   object        \n",
            "dtypes: datetime64[ns](2), float64(1), object(4)\n",
            "memory usage: 63.3+ KB\n"
          ]
        }
      ]
    },
    {
      "cell_type": "code",
      "metadata": {
        "colab": {
          "base_uri": "https://localhost:8080/",
          "height": 206
        },
        "id": "8r1zYIOWNEnx",
        "outputId": "32d95056-0668-4221-8c99-90cb9285a610"
      },
      "source": [
        "df.head()"
      ],
      "execution_count": 18,
      "outputs": [
        {
          "output_type": "execute_result",
          "data": {
            "text/html": [
              "<div>\n",
              "<style scoped>\n",
              "    .dataframe tbody tr th:only-of-type {\n",
              "        vertical-align: middle;\n",
              "    }\n",
              "\n",
              "    .dataframe tbody tr th {\n",
              "        vertical-align: top;\n",
              "    }\n",
              "\n",
              "    .dataframe thead th {\n",
              "        text-align: right;\n",
              "    }\n",
              "</style>\n",
              "<table border=\"1\" class=\"dataframe\">\n",
              "  <thead>\n",
              "    <tr style=\"text-align: right;\">\n",
              "      <th></th>\n",
              "      <th>START_DATE</th>\n",
              "      <th>END_DATE</th>\n",
              "      <th>CATEGORY</th>\n",
              "      <th>START</th>\n",
              "      <th>STOP</th>\n",
              "      <th>MILES</th>\n",
              "      <th>PURPOSE</th>\n",
              "    </tr>\n",
              "  </thead>\n",
              "  <tbody>\n",
              "    <tr>\n",
              "      <th>0</th>\n",
              "      <td>2016-01-01 21:11:00</td>\n",
              "      <td>2016-01-01 21:17:00</td>\n",
              "      <td>Business</td>\n",
              "      <td>Fort Pierce</td>\n",
              "      <td>Fort Pierce</td>\n",
              "      <td>5.1</td>\n",
              "      <td>Meal/Entertain</td>\n",
              "    </tr>\n",
              "    <tr>\n",
              "      <th>1</th>\n",
              "      <td>2016-01-02 01:25:00</td>\n",
              "      <td>2016-01-02 01:37:00</td>\n",
              "      <td>Business</td>\n",
              "      <td>Fort Pierce</td>\n",
              "      <td>Fort Pierce</td>\n",
              "      <td>5.0</td>\n",
              "      <td>Meal/Entertain</td>\n",
              "    </tr>\n",
              "    <tr>\n",
              "      <th>2</th>\n",
              "      <td>2016-01-02 20:25:00</td>\n",
              "      <td>2016-01-02 20:38:00</td>\n",
              "      <td>Business</td>\n",
              "      <td>Fort Pierce</td>\n",
              "      <td>Fort Pierce</td>\n",
              "      <td>4.8</td>\n",
              "      <td>Errand/Supplies</td>\n",
              "    </tr>\n",
              "    <tr>\n",
              "      <th>3</th>\n",
              "      <td>2016-01-05 17:31:00</td>\n",
              "      <td>2016-01-05 17:45:00</td>\n",
              "      <td>Business</td>\n",
              "      <td>Fort Pierce</td>\n",
              "      <td>Fort Pierce</td>\n",
              "      <td>4.7</td>\n",
              "      <td>Meeting</td>\n",
              "    </tr>\n",
              "    <tr>\n",
              "      <th>4</th>\n",
              "      <td>2016-01-06 14:42:00</td>\n",
              "      <td>2016-01-06 15:49:00</td>\n",
              "      <td>Business</td>\n",
              "      <td>Fort Pierce</td>\n",
              "      <td>West Palm Beach</td>\n",
              "      <td>63.7</td>\n",
              "      <td>Customer Visit</td>\n",
              "    </tr>\n",
              "  </tbody>\n",
              "</table>\n",
              "</div>"
            ],
            "text/plain": [
              "           START_DATE            END_DATE  ... MILES          PURPOSE\n",
              "0 2016-01-01 21:11:00 2016-01-01 21:17:00  ...   5.1   Meal/Entertain\n",
              "1 2016-01-02 01:25:00 2016-01-02 01:37:00  ...   5.0   Meal/Entertain\n",
              "2 2016-01-02 20:25:00 2016-01-02 20:38:00  ...   4.8  Errand/Supplies\n",
              "3 2016-01-05 17:31:00 2016-01-05 17:45:00  ...   4.7          Meeting\n",
              "4 2016-01-06 14:42:00 2016-01-06 15:49:00  ...  63.7   Customer Visit\n",
              "\n",
              "[5 rows x 7 columns]"
            ]
          },
          "metadata": {},
          "execution_count": 18
        }
      ]
    },
    {
      "cell_type": "code",
      "metadata": {
        "colab": {
          "base_uri": "https://localhost:8080/",
          "height": 556
        },
        "id": "WkN8DJUtNSZb",
        "outputId": "bd06fce5-b1f2-48c2-b106-e342bacf2f84"
      },
      "source": [
        "import missingno as msno\n",
        "msno.bar(df)\n",
        "plt.show()"
      ],
      "execution_count": 19,
      "outputs": [
        {
          "output_type": "display_data",
          "data": {
            "image/png": "[encoded data removed]",
            "text/plain": [
              "<Figure size 1800x720 with 3 Axes>"
            ]
          },
          "metadata": {
            "needs_background": "light"
          }
        }
      ]
    },
    {
      "cell_type": "markdown",
      "metadata": {
        "id": "oL3FFtCNgAkv"
      },
      "source": [
        "Visualisation on the 'Category'"
      ]
    },
    {
      "cell_type": "code",
      "metadata": {
        "colab": {
          "base_uri": "https://localhost:8080/",
          "height": 143
        },
        "id": "loQmbR1QN-vH",
        "outputId": "4ffacd9c-7b0a-46a1-8298-60b6791d5fb5"
      },
      "source": [
        "category = pd.crosstab(index = df['CATEGORY'] , columns = 'Count of travel as per category')\n",
        "category"
      ],
      "execution_count": 20,
      "outputs": [
        {
          "output_type": "execute_result",
          "data": {
            "text/html": [
              "<div>\n",
              "<style scoped>\n",
              "    .dataframe tbody tr th:only-of-type {\n",
              "        vertical-align: middle;\n",
              "    }\n",
              "\n",
              "    .dataframe tbody tr th {\n",
              "        vertical-align: top;\n",
              "    }\n",
              "\n",
              "    .dataframe thead th {\n",
              "        text-align: right;\n",
              "    }\n",
              "</style>\n",
              "<table border=\"1\" class=\"dataframe\">\n",
              "  <thead>\n",
              "    <tr style=\"text-align: right;\">\n",
              "      <th>col_0</th>\n",
              "      <th>Count of travel as per category</th>\n",
              "    </tr>\n",
              "    <tr>\n",
              "      <th>CATEGORY</th>\n",
              "      <th></th>\n",
              "    </tr>\n",
              "  </thead>\n",
              "  <tbody>\n",
              "    <tr>\n",
              "      <th>Business</th>\n",
              "      <td>1078</td>\n",
              "    </tr>\n",
              "    <tr>\n",
              "      <th>Personal</th>\n",
              "      <td>77</td>\n",
              "    </tr>\n",
              "  </tbody>\n",
              "</table>\n",
              "</div>"
            ],
            "text/plain": [
              "col_0     Count of travel as per category\n",
              "CATEGORY                                 \n",
              "Business                             1078\n",
              "Personal                               77"
            ]
          },
          "metadata": {},
          "execution_count": 20
        }
      ]
    },
    {
      "cell_type": "code",
      "metadata": {
        "colab": {
          "base_uri": "https://localhost:8080/",
          "height": 477
        },
        "id": "8haiob_FOiSp",
        "outputId": "1fdf23c7-050c-4a56-c097-e9eb511c4382"
      },
      "source": [
        "category.plot(kind = 'bar' , figsize = (13,7), color = 'red')\n",
        "plt.legend()\n",
        "plt.show()"
      ],
      "execution_count": 21,
      "outputs": [
        {
          "output_type": "display_data",
          "data": {
            "image/png": "[encoded data removed]",
            "text/plain": [
              "<Figure size 936x504 with 1 Axes>"
            ]
          },
          "metadata": {
            "needs_background": "light"
          }
        }
      ]
    },
    {
      "cell_type": "markdown",
      "metadata": {
        "id": "xxUzsHL-gTxW"
      },
      "source": [
        "Observation : There are more of **Business** Travels through Uber Cabs."
      ]
    },
    {
      "cell_type": "markdown",
      "metadata": {
        "id": "fBRxibVYg2L9"
      },
      "source": [
        "Visualisation on the 'Start Point > 10'"
      ]
    },
    {
      "cell_type": "code",
      "metadata": {
        "colab": {
          "base_uri": "https://localhost:8080/"
        },
        "id": "9PF0g3eAWWJb",
        "outputId": "a73790a0-b1a6-45fa-c0c1-7ca76d7291d1"
      },
      "source": [
        "start_point = df.START.value_counts()\n",
        "start_point\n",
        "print(start_point[start_point > 10])"
      ],
      "execution_count": 22,
      "outputs": [
        {
          "output_type": "stream",
          "name": "stdout",
          "text": [
            "Cary                201\n",
            "Unknown Location    148\n",
            "Morrisville          85\n",
            "Whitebridge          68\n",
            "Islamabad            57\n",
            "Durham               37\n",
            "Lahore               36\n",
            "Raleigh              28\n",
            "Kar?chi              27\n",
            "Westpark Place       17\n",
            "Apex                 17\n",
            "Berkeley             16\n",
            "Midtown              14\n",
            "R?walpindi           11\n",
            "Kenner               11\n",
            "Kissimmee            11\n",
            "Name: START, dtype: int64\n"
          ]
        }
      ]
    },
    {
      "cell_type": "code",
      "metadata": {
        "colab": {
          "base_uri": "https://localhost:8080/",
          "height": 411
        },
        "id": "RKWNC3y0W1_j",
        "outputId": "638b8a5c-65e0-4a4d-b1ce-34960676c379"
      },
      "source": [
        "plt.figure(figsize =(15,7))\n",
        "start_point[start_point>10].plot(kind = 'pie' , shadow = True)\n",
        "plt.show()"
      ],
      "execution_count": 68,
      "outputs": [
        {
          "output_type": "display_data",
          "data": {
            "image/png": "[encoded data removed]",
            "text/plain": [
              "<Figure size 1080x504 with 1 Axes>"
            ]
          },
          "metadata": {}
        }
      ]
    },
    {
      "cell_type": "code",
      "metadata": {
        "colab": {
          "base_uri": "https://localhost:8080/",
          "height": 510
        },
        "id": "-wtu4czOXMN6",
        "outputId": "379d68fe-90ed-4e77-ed8e-b9b4aac961c7"
      },
      "source": [
        "start_point[start_point>10][:10].plot(kind = 'bar'  ,figsize =(13,7))\n",
        "plt.show()"
      ],
      "execution_count": 102,
      "outputs": [
        {
          "output_type": "display_data",
          "data": {
            "image/png": "[encoded data removed]",
            "text/plain": [
              "<Figure size 936x504 with 1 Axes>"
            ]
          },
          "metadata": {
            "needs_background": "light"
          }
        }
      ]
    },
    {
      "cell_type": "markdown",
      "metadata": {
        "id": "xPLiSy2qg9Ja"
      },
      "source": [
        "Observation : **Cary** has been the common start point for maximum people when the distance is > 10miles."
      ]
    },
    {
      "cell_type": "markdown",
      "metadata": {
        "id": "qvtQ2b6BlWgj"
      },
      "source": [
        "Visualisation on the 'Start Point <=10'"
      ]
    },
    {
      "cell_type": "code",
      "metadata": {
        "colab": {
          "base_uri": "https://localhost:8080/"
        },
        "id": "dPc6ulNYXd5r",
        "outputId": "2ba315f3-41f4-41ba-dd13-d937476e1b0e"
      },
      "source": [
        "start_point = df.START.value_counts()\n",
        "start_point\n",
        "print(start_point[start_point <= 10])"
      ],
      "execution_count": 25,
      "outputs": [
        {
          "output_type": "stream",
          "name": "stdout",
          "text": [
            "New Orleans      10\n",
            "Emeryville       10\n",
            "Downtown          9\n",
            "Orlando           8\n",
            "San Francisco     8\n",
            "                 ..\n",
            "Coxville          1\n",
            "Arlington         1\n",
            "Almond            1\n",
            "Chalmette         1\n",
            "Seattle           1\n",
            "Name: START, Length: 161, dtype: int64\n"
          ]
        }
      ]
    },
    {
      "cell_type": "code",
      "metadata": {
        "colab": {
          "base_uri": "https://localhost:8080/",
          "height": 492
        },
        "id": "f91wKui4hPUa",
        "outputId": "dcf1e274-6b9b-4ce4-bc3f-2882060b6a8f"
      },
      "source": [
        "start_point[start_point<=10][:10].plot(kind = 'bar'  ,figsize =(13,7))\n",
        "plt.show()"
      ],
      "execution_count": 101,
      "outputs": [
        {
          "output_type": "display_data",
          "data": {
            "image/png": "[encoded data removed]",
            "text/plain": [
              "<Figure size 936x504 with 1 Axes>"
            ]
          },
          "metadata": {
            "needs_background": "light"
          }
        }
      ]
    },
    {
      "cell_type": "markdown",
      "metadata": {
        "id": "CBDuwyrqltae"
      },
      "source": [
        "Observation : **New Orleans** is the common start point when the distance is <= 10miles."
      ]
    },
    {
      "cell_type": "markdown",
      "metadata": {
        "id": "U1LQL86YllKQ"
      },
      "source": [
        "Visualisation on the 'Stop Point > 10'"
      ]
    },
    {
      "cell_type": "code",
      "metadata": {
        "colab": {
          "base_uri": "https://localhost:8080/"
        },
        "id": "vs8DNmmmXiMi",
        "outputId": "f62ab671-b4b7-4d88-85ba-0668060968f1"
      },
      "source": [
        "stop_point = df.STOP.value_counts()\n",
        "stop_point\n",
        "print(stop_point[stop_point > 10])"
      ],
      "execution_count": 26,
      "outputs": [
        {
          "output_type": "stream",
          "name": "stdout",
          "text": [
            "Cary                203\n",
            "Unknown Location    149\n",
            "Morrisville          84\n",
            "Whitebridge          65\n",
            "Islamabad            58\n",
            "Durham               36\n",
            "Lahore               36\n",
            "Raleigh              29\n",
            "Kar?chi              26\n",
            "Apex                 17\n",
            "Berkeley             16\n",
            "Westpark Place       16\n",
            "R?walpindi           13\n",
            "Kissimmee            12\n",
            "Midtown              11\n",
            "Name: STOP, dtype: int64\n"
          ]
        }
      ]
    },
    {
      "cell_type": "code",
      "metadata": {
        "colab": {
          "base_uri": "https://localhost:8080/",
          "height": 428
        },
        "id": "a3l61Nt9YHG8",
        "outputId": "5c36036c-c933-40c1-d12a-3bd9a59a0b34"
      },
      "source": [
        "stop_point[stop_point>10].plot(kind = 'line'  ,figsize =(13,7))\n",
        "plt.show()"
      ],
      "execution_count": 27,
      "outputs": [
        {
          "output_type": "display_data",
          "data": {
            "image/png": "[encoded data removed]",
            "text/plain": [
              "<Figure size 936x504 with 1 Axes>"
            ]
          },
          "metadata": {
            "needs_background": "light"
          }
        }
      ]
    },
    {
      "cell_type": "markdown",
      "metadata": {
        "id": "mmhfdT-Il_a8"
      },
      "source": [
        "Observation : **Cary** has been the most common Stop Point"
      ]
    },
    {
      "cell_type": "markdown",
      "metadata": {
        "id": "gF6Y5rC-mEkl"
      },
      "source": [
        "Visualisation on 'Miles'"
      ]
    },
    {
      "cell_type": "code",
      "metadata": {
        "colab": {
          "base_uri": "https://localhost:8080/"
        },
        "id": "1ZpTjrAYYUsW",
        "outputId": "093612cd-2f0e-4495-b2b1-252bce2d4614"
      },
      "source": [
        "miles = df.MILES.value_counts()\n",
        "miles\n",
        "print(miles[miles>10])"
      ],
      "execution_count": 29,
      "outputs": [
        {
          "output_type": "stream",
          "name": "stdout",
          "text": [
            "9.9     28\n",
            "3.1     26\n",
            "2.1     19\n",
            "10.4    19\n",
            "2.5     19\n",
            "3.0     19\n",
            "1.8     18\n",
            "2.2     18\n",
            "1.7     18\n",
            "2.8     16\n",
            "1.9     16\n",
            "2.0     16\n",
            "3.3     16\n",
            "6.1     15\n",
            "3.8     15\n",
            "1.4     14\n",
            "5.5     14\n",
            "1.6     13\n",
            "7.9     13\n",
            "1.5     12\n",
            "2.7     12\n",
            "6.2     12\n",
            "5.7     12\n",
            "2.9     12\n",
            "2.3     12\n",
            "6.0     11\n",
            "7.7     11\n",
            "1.0     11\n",
            "4.9     11\n",
            "5.1     11\n",
            "Name: MILES, dtype: int64\n"
          ]
        }
      ]
    },
    {
      "cell_type": "code",
      "metadata": {
        "colab": {
          "base_uri": "https://localhost:8080/",
          "height": 441
        },
        "id": "o3OaO_5_YkL7",
        "outputId": "975c1cc4-3aac-4623-d4c5-2ed7b6fbbcf0"
      },
      "source": [
        "miles[miles>10].plot(kind = 'bar'  ,figsize =(13,7) , color = 'cyan')\n",
        "plt.show()"
      ],
      "execution_count": 30,
      "outputs": [
        {
          "output_type": "display_data",
          "data": {
            "image/png": "[encoded data removed]",
            "text/plain": [
              "<Figure size 936x504 with 1 Axes>"
            ]
          },
          "metadata": {
            "needs_background": "light"
          }
        }
      ]
    },
    {
      "cell_type": "markdown",
      "metadata": {
        "id": "pLdSp-l1mJKZ"
      },
      "source": [
        "Observation : Most of the rides have been about **9.9miles** approximately."
      ]
    },
    {
      "cell_type": "code",
      "metadata": {
        "colab": {
          "base_uri": "https://localhost:8080/",
          "height": 295
        },
        "id": "JI3jftRhZbnY",
        "outputId": "c318efcc-21e9-4d33-a0ba-b0c8ee4d2833"
      },
      "source": [
        "miles = pd.crosstab(index = df['MILES']>10 , columns = 'Count of miles')\n",
        "miles.plot(kind = 'bar' , color = 'green')\n",
        "plt.legend()\n",
        "plt.show()"
      ],
      "execution_count": 31,
      "outputs": [
        {
          "output_type": "display_data",
          "data": {
            "image/png": "[encoded data removed]",
            "text/plain": [
              "<Figure size 432x288 with 1 Axes>"
            ]
          },
          "metadata": {
            "needs_background": "light"
          }
        }
      ]
    },
    {
      "cell_type": "markdown",
      "metadata": {
        "id": "FPjSCKvpmWrB"
      },
      "source": [
        "Observation : Most of the rides have been **less than 10 miles**."
      ]
    },
    {
      "cell_type": "markdown",
      "metadata": {
        "id": "Q5NrV0nymetT"
      },
      "source": [
        "Visualisation on 'Purpose'"
      ]
    },
    {
      "cell_type": "code",
      "metadata": {
        "colab": {
          "base_uri": "https://localhost:8080/"
        },
        "id": "YjV9stlkccAJ",
        "outputId": "b65d9fc4-7c96-4e6f-ce7b-0561e36a9338"
      },
      "source": [
        "print(df.PURPOSE.value_counts())"
      ],
      "execution_count": 32,
      "outputs": [
        {
          "output_type": "stream",
          "name": "stdout",
          "text": [
            "Meeting            308\n",
            "Meal/Entertain     245\n",
            "Temporary Site     197\n",
            "Errand/Supplies    173\n",
            "Customer Visit     155\n",
            "Airport/Travel      54\n",
            "Between Offices     18\n",
            "Moving               4\n",
            "Commute              1\n",
            "Charity ($)          1\n",
            "Name: PURPOSE, dtype: int64\n"
          ]
        }
      ]
    },
    {
      "cell_type": "code",
      "metadata": {
        "colab": {
          "base_uri": "https://localhost:8080/",
          "height": 551
        },
        "id": "bhh3eqtYcuJE",
        "outputId": "101ba915-d8c6-4368-bed3-2d3d2b60ec22"
      },
      "source": [
        "plt.figure(figsize = (15,9))\n",
        "sns.countplot(df['PURPOSE'] , order = df['PURPOSE'].value_counts().index , palette = 'viridis')\n",
        "plt.legend('Purpose')\n",
        "plt.show()"
      ],
      "execution_count": 33,
      "outputs": [
        {
          "output_type": "display_data",
          "data": {
            "image/png": "[encoded data removed]",
            "text/plain": [
              "<Figure size 1080x648 with 1 Axes>"
            ]
          },
          "metadata": {
            "needs_background": "light"
          }
        }
      ]
    },
    {
      "cell_type": "markdown",
      "metadata": {
        "id": "NVwL93E7mims"
      },
      "source": [
        "Observation : Most of the rides have been for **Meeting** purposes."
      ]
    },
    {
      "cell_type": "markdown",
      "metadata": {
        "id": "z9Jy3DYfeeZA"
      },
      "source": [
        "Calculating the duration as there might be some relation of it with the purpose of the ride"
      ]
    },
    {
      "cell_type": "code",
      "metadata": {
        "colab": {
          "base_uri": "https://localhost:8080/",
          "height": 206
        },
        "id": "5qn2DyCxeoYd",
        "outputId": "ccfaf5dc-b16e-42a5-a081-9adcd8349280"
      },
      "source": [
        "df['minutes'] = df.END_DATE - df.START_DATE\n",
        "df.head()"
      ],
      "execution_count": 34,
      "outputs": [
        {
          "output_type": "execute_result",
          "data": {
            "text/html": [
              "<div>\n",
              "<style scoped>\n",
              "    .dataframe tbody tr th:only-of-type {\n",
              "        vertical-align: middle;\n",
              "    }\n",
              "\n",
              "    .dataframe tbody tr th {\n",
              "        vertical-align: top;\n",
              "    }\n",
              "\n",
              "    .dataframe thead th {\n",
              "        text-align: right;\n",
              "    }\n",
              "</style>\n",
              "<table border=\"1\" class=\"dataframe\">\n",
              "  <thead>\n",
              "    <tr style=\"text-align: right;\">\n",
              "      <th></th>\n",
              "      <th>START_DATE</th>\n",
              "      <th>END_DATE</th>\n",
              "      <th>CATEGORY</th>\n",
              "      <th>START</th>\n",
              "      <th>STOP</th>\n",
              "      <th>MILES</th>\n",
              "      <th>PURPOSE</th>\n",
              "      <th>minutes</th>\n",
              "    </tr>\n",
              "  </thead>\n",
              "  <tbody>\n",
              "    <tr>\n",
              "      <th>0</th>\n",
              "      <td>2016-01-01 21:11:00</td>\n",
              "      <td>2016-01-01 21:17:00</td>\n",
              "      <td>Business</td>\n",
              "      <td>Fort Pierce</td>\n",
              "      <td>Fort Pierce</td>\n",
              "      <td>5.1</td>\n",
              "      <td>Meal/Entertain</td>\n",
              "      <td>0 days 00:06:00</td>\n",
              "    </tr>\n",
              "    <tr>\n",
              "      <th>1</th>\n",
              "      <td>2016-01-02 01:25:00</td>\n",
              "      <td>2016-01-02 01:37:00</td>\n",
              "      <td>Business</td>\n",
              "      <td>Fort Pierce</td>\n",
              "      <td>Fort Pierce</td>\n",
              "      <td>5.0</td>\n",
              "      <td>Meal/Entertain</td>\n",
              "      <td>0 days 00:12:00</td>\n",
              "    </tr>\n",
              "    <tr>\n",
              "      <th>2</th>\n",
              "      <td>2016-01-02 20:25:00</td>\n",
              "      <td>2016-01-02 20:38:00</td>\n",
              "      <td>Business</td>\n",
              "      <td>Fort Pierce</td>\n",
              "      <td>Fort Pierce</td>\n",
              "      <td>4.8</td>\n",
              "      <td>Errand/Supplies</td>\n",
              "      <td>0 days 00:13:00</td>\n",
              "    </tr>\n",
              "    <tr>\n",
              "      <th>3</th>\n",
              "      <td>2016-01-05 17:31:00</td>\n",
              "      <td>2016-01-05 17:45:00</td>\n",
              "      <td>Business</td>\n",
              "      <td>Fort Pierce</td>\n",
              "      <td>Fort Pierce</td>\n",
              "      <td>4.7</td>\n",
              "      <td>Meeting</td>\n",
              "      <td>0 days 00:14:00</td>\n",
              "    </tr>\n",
              "    <tr>\n",
              "      <th>4</th>\n",
              "      <td>2016-01-06 14:42:00</td>\n",
              "      <td>2016-01-06 15:49:00</td>\n",
              "      <td>Business</td>\n",
              "      <td>Fort Pierce</td>\n",
              "      <td>West Palm Beach</td>\n",
              "      <td>63.7</td>\n",
              "      <td>Customer Visit</td>\n",
              "      <td>0 days 01:07:00</td>\n",
              "    </tr>\n",
              "  </tbody>\n",
              "</table>\n",
              "</div>"
            ],
            "text/plain": [
              "           START_DATE            END_DATE  ...          PURPOSE         minutes\n",
              "0 2016-01-01 21:11:00 2016-01-01 21:17:00  ...   Meal/Entertain 0 days 00:06:00\n",
              "1 2016-01-02 01:25:00 2016-01-02 01:37:00  ...   Meal/Entertain 0 days 00:12:00\n",
              "2 2016-01-02 20:25:00 2016-01-02 20:38:00  ...  Errand/Supplies 0 days 00:13:00\n",
              "3 2016-01-05 17:31:00 2016-01-05 17:45:00  ...          Meeting 0 days 00:14:00\n",
              "4 2016-01-06 14:42:00 2016-01-06 15:49:00  ...   Customer Visit 0 days 01:07:00\n",
              "\n",
              "[5 rows x 8 columns]"
            ]
          },
          "metadata": {},
          "execution_count": 34
        }
      ]
    },
    {
      "cell_type": "code",
      "metadata": {
        "colab": {
          "base_uri": "https://localhost:8080/",
          "height": 206
        },
        "id": "yJn58h8qe8Os",
        "outputId": "5d6be5b7-4db6-4515-8d7f-ea1eb61a8ace"
      },
      "source": [
        "df.tail()"
      ],
      "execution_count": 35,
      "outputs": [
        {
          "output_type": "execute_result",
          "data": {
            "text/html": [
              "<div>\n",
              "<style scoped>\n",
              "    .dataframe tbody tr th:only-of-type {\n",
              "        vertical-align: middle;\n",
              "    }\n",
              "\n",
              "    .dataframe tbody tr th {\n",
              "        vertical-align: top;\n",
              "    }\n",
              "\n",
              "    .dataframe thead th {\n",
              "        text-align: right;\n",
              "    }\n",
              "</style>\n",
              "<table border=\"1\" class=\"dataframe\">\n",
              "  <thead>\n",
              "    <tr style=\"text-align: right;\">\n",
              "      <th></th>\n",
              "      <th>START_DATE</th>\n",
              "      <th>END_DATE</th>\n",
              "      <th>CATEGORY</th>\n",
              "      <th>START</th>\n",
              "      <th>STOP</th>\n",
              "      <th>MILES</th>\n",
              "      <th>PURPOSE</th>\n",
              "      <th>minutes</th>\n",
              "    </tr>\n",
              "  </thead>\n",
              "  <tbody>\n",
              "    <tr>\n",
              "      <th>1151</th>\n",
              "      <td>2016-12-31 13:24:00</td>\n",
              "      <td>2016-12-31 13:42:00</td>\n",
              "      <td>Business</td>\n",
              "      <td>Kar?chi</td>\n",
              "      <td>Unknown Location</td>\n",
              "      <td>3.9</td>\n",
              "      <td>Temporary Site</td>\n",
              "      <td>0 days 00:18:00</td>\n",
              "    </tr>\n",
              "    <tr>\n",
              "      <th>1152</th>\n",
              "      <td>2016-12-31 15:03:00</td>\n",
              "      <td>2016-12-31 15:38:00</td>\n",
              "      <td>Business</td>\n",
              "      <td>Unknown Location</td>\n",
              "      <td>Unknown Location</td>\n",
              "      <td>16.2</td>\n",
              "      <td>Meeting</td>\n",
              "      <td>0 days 00:35:00</td>\n",
              "    </tr>\n",
              "    <tr>\n",
              "      <th>1153</th>\n",
              "      <td>2016-12-31 21:32:00</td>\n",
              "      <td>2016-12-31 21:50:00</td>\n",
              "      <td>Business</td>\n",
              "      <td>Katunayake</td>\n",
              "      <td>Gampaha</td>\n",
              "      <td>6.4</td>\n",
              "      <td>Temporary Site</td>\n",
              "      <td>0 days 00:18:00</td>\n",
              "    </tr>\n",
              "    <tr>\n",
              "      <th>1154</th>\n",
              "      <td>2016-12-31 22:08:00</td>\n",
              "      <td>2016-12-31 23:51:00</td>\n",
              "      <td>Business</td>\n",
              "      <td>Gampaha</td>\n",
              "      <td>Ilukwatta</td>\n",
              "      <td>48.2</td>\n",
              "      <td>Temporary Site</td>\n",
              "      <td>0 days 01:43:00</td>\n",
              "    </tr>\n",
              "    <tr>\n",
              "      <th>1155</th>\n",
              "      <td>NaT</td>\n",
              "      <td>NaT</td>\n",
              "      <td>NaN</td>\n",
              "      <td>NaN</td>\n",
              "      <td>NaN</td>\n",
              "      <td>12204.7</td>\n",
              "      <td>Temporary Site</td>\n",
              "      <td>NaT</td>\n",
              "    </tr>\n",
              "  </tbody>\n",
              "</table>\n",
              "</div>"
            ],
            "text/plain": [
              "              START_DATE            END_DATE  ...         PURPOSE         minutes\n",
              "1151 2016-12-31 13:24:00 2016-12-31 13:42:00  ...  Temporary Site 0 days 00:18:00\n",
              "1152 2016-12-31 15:03:00 2016-12-31 15:38:00  ...         Meeting 0 days 00:35:00\n",
              "1153 2016-12-31 21:32:00 2016-12-31 21:50:00  ...  Temporary Site 0 days 00:18:00\n",
              "1154 2016-12-31 22:08:00 2016-12-31 23:51:00  ...  Temporary Site 0 days 01:43:00\n",
              "1155                 NaT                 NaT  ...  Temporary Site             NaT\n",
              "\n",
              "[5 rows x 8 columns]"
            ]
          },
          "metadata": {},
          "execution_count": 35
        }
      ]
    },
    {
      "cell_type": "markdown",
      "metadata": {
        "id": "bBxE1iccfIUz"
      },
      "source": [
        "Converting minutes into float for accurate visualisation"
      ]
    },
    {
      "cell_type": "code",
      "metadata": {
        "colab": {
          "base_uri": "https://localhost:8080/",
          "height": 206
        },
        "id": "jg_S4lo_fL8B",
        "outputId": "123fd700-787a-4a2e-d881-0bc834fe7c6f"
      },
      "source": [
        "df['minutes'] = df['minutes'].dt.total_seconds()/60\n",
        "df.head()"
      ],
      "execution_count": 36,
      "outputs": [
        {
          "output_type": "execute_result",
          "data": {
            "text/html": [
              "<div>\n",
              "<style scoped>\n",
              "    .dataframe tbody tr th:only-of-type {\n",
              "        vertical-align: middle;\n",
              "    }\n",
              "\n",
              "    .dataframe tbody tr th {\n",
              "        vertical-align: top;\n",
              "    }\n",
              "\n",
              "    .dataframe thead th {\n",
              "        text-align: right;\n",
              "    }\n",
              "</style>\n",
              "<table border=\"1\" class=\"dataframe\">\n",
              "  <thead>\n",
              "    <tr style=\"text-align: right;\">\n",
              "      <th></th>\n",
              "      <th>START_DATE</th>\n",
              "      <th>END_DATE</th>\n",
              "      <th>CATEGORY</th>\n",
              "      <th>START</th>\n",
              "      <th>STOP</th>\n",
              "      <th>MILES</th>\n",
              "      <th>PURPOSE</th>\n",
              "      <th>minutes</th>\n",
              "    </tr>\n",
              "  </thead>\n",
              "  <tbody>\n",
              "    <tr>\n",
              "      <th>0</th>\n",
              "      <td>2016-01-01 21:11:00</td>\n",
              "      <td>2016-01-01 21:17:00</td>\n",
              "      <td>Business</td>\n",
              "      <td>Fort Pierce</td>\n",
              "      <td>Fort Pierce</td>\n",
              "      <td>5.1</td>\n",
              "      <td>Meal/Entertain</td>\n",
              "      <td>6.0</td>\n",
              "    </tr>\n",
              "    <tr>\n",
              "      <th>1</th>\n",
              "      <td>2016-01-02 01:25:00</td>\n",
              "      <td>2016-01-02 01:37:00</td>\n",
              "      <td>Business</td>\n",
              "      <td>Fort Pierce</td>\n",
              "      <td>Fort Pierce</td>\n",
              "      <td>5.0</td>\n",
              "      <td>Meal/Entertain</td>\n",
              "      <td>12.0</td>\n",
              "    </tr>\n",
              "    <tr>\n",
              "      <th>2</th>\n",
              "      <td>2016-01-02 20:25:00</td>\n",
              "      <td>2016-01-02 20:38:00</td>\n",
              "      <td>Business</td>\n",
              "      <td>Fort Pierce</td>\n",
              "      <td>Fort Pierce</td>\n",
              "      <td>4.8</td>\n",
              "      <td>Errand/Supplies</td>\n",
              "      <td>13.0</td>\n",
              "    </tr>\n",
              "    <tr>\n",
              "      <th>3</th>\n",
              "      <td>2016-01-05 17:31:00</td>\n",
              "      <td>2016-01-05 17:45:00</td>\n",
              "      <td>Business</td>\n",
              "      <td>Fort Pierce</td>\n",
              "      <td>Fort Pierce</td>\n",
              "      <td>4.7</td>\n",
              "      <td>Meeting</td>\n",
              "      <td>14.0</td>\n",
              "    </tr>\n",
              "    <tr>\n",
              "      <th>4</th>\n",
              "      <td>2016-01-06 14:42:00</td>\n",
              "      <td>2016-01-06 15:49:00</td>\n",
              "      <td>Business</td>\n",
              "      <td>Fort Pierce</td>\n",
              "      <td>West Palm Beach</td>\n",
              "      <td>63.7</td>\n",
              "      <td>Customer Visit</td>\n",
              "      <td>67.0</td>\n",
              "    </tr>\n",
              "  </tbody>\n",
              "</table>\n",
              "</div>"
            ],
            "text/plain": [
              "           START_DATE            END_DATE  ...          PURPOSE minutes\n",
              "0 2016-01-01 21:11:00 2016-01-01 21:17:00  ...   Meal/Entertain     6.0\n",
              "1 2016-01-02 01:25:00 2016-01-02 01:37:00  ...   Meal/Entertain    12.0\n",
              "2 2016-01-02 20:25:00 2016-01-02 20:38:00  ...  Errand/Supplies    13.0\n",
              "3 2016-01-05 17:31:00 2016-01-05 17:45:00  ...          Meeting    14.0\n",
              "4 2016-01-06 14:42:00 2016-01-06 15:49:00  ...   Customer Visit    67.0\n",
              "\n",
              "[5 rows x 8 columns]"
            ]
          },
          "metadata": {},
          "execution_count": 36
        }
      ]
    },
    {
      "cell_type": "code",
      "metadata": {
        "colab": {
          "base_uri": "https://localhost:8080/",
          "height": 206
        },
        "id": "a9-XouWvffP0",
        "outputId": "e031251e-68df-4d60-875d-dac15129e8a0"
      },
      "source": [
        "df.tail()"
      ],
      "execution_count": 37,
      "outputs": [
        {
          "output_type": "execute_result",
          "data": {
            "text/html": [
              "<div>\n",
              "<style scoped>\n",
              "    .dataframe tbody tr th:only-of-type {\n",
              "        vertical-align: middle;\n",
              "    }\n",
              "\n",
              "    .dataframe tbody tr th {\n",
              "        vertical-align: top;\n",
              "    }\n",
              "\n",
              "    .dataframe thead th {\n",
              "        text-align: right;\n",
              "    }\n",
              "</style>\n",
              "<table border=\"1\" class=\"dataframe\">\n",
              "  <thead>\n",
              "    <tr style=\"text-align: right;\">\n",
              "      <th></th>\n",
              "      <th>START_DATE</th>\n",
              "      <th>END_DATE</th>\n",
              "      <th>CATEGORY</th>\n",
              "      <th>START</th>\n",
              "      <th>STOP</th>\n",
              "      <th>MILES</th>\n",
              "      <th>PURPOSE</th>\n",
              "      <th>minutes</th>\n",
              "    </tr>\n",
              "  </thead>\n",
              "  <tbody>\n",
              "    <tr>\n",
              "      <th>1151</th>\n",
              "      <td>2016-12-31 13:24:00</td>\n",
              "      <td>2016-12-31 13:42:00</td>\n",
              "      <td>Business</td>\n",
              "      <td>Kar?chi</td>\n",
              "      <td>Unknown Location</td>\n",
              "      <td>3.9</td>\n",
              "      <td>Temporary Site</td>\n",
              "      <td>18.0</td>\n",
              "    </tr>\n",
              "    <tr>\n",
              "      <th>1152</th>\n",
              "      <td>2016-12-31 15:03:00</td>\n",
              "      <td>2016-12-31 15:38:00</td>\n",
              "      <td>Business</td>\n",
              "      <td>Unknown Location</td>\n",
              "      <td>Unknown Location</td>\n",
              "      <td>16.2</td>\n",
              "      <td>Meeting</td>\n",
              "      <td>35.0</td>\n",
              "    </tr>\n",
              "    <tr>\n",
              "      <th>1153</th>\n",
              "      <td>2016-12-31 21:32:00</td>\n",
              "      <td>2016-12-31 21:50:00</td>\n",
              "      <td>Business</td>\n",
              "      <td>Katunayake</td>\n",
              "      <td>Gampaha</td>\n",
              "      <td>6.4</td>\n",
              "      <td>Temporary Site</td>\n",
              "      <td>18.0</td>\n",
              "    </tr>\n",
              "    <tr>\n",
              "      <th>1154</th>\n",
              "      <td>2016-12-31 22:08:00</td>\n",
              "      <td>2016-12-31 23:51:00</td>\n",
              "      <td>Business</td>\n",
              "      <td>Gampaha</td>\n",
              "      <td>Ilukwatta</td>\n",
              "      <td>48.2</td>\n",
              "      <td>Temporary Site</td>\n",
              "      <td>103.0</td>\n",
              "    </tr>\n",
              "    <tr>\n",
              "      <th>1155</th>\n",
              "      <td>NaT</td>\n",
              "      <td>NaT</td>\n",
              "      <td>NaN</td>\n",
              "      <td>NaN</td>\n",
              "      <td>NaN</td>\n",
              "      <td>12204.7</td>\n",
              "      <td>Temporary Site</td>\n",
              "      <td>NaN</td>\n",
              "    </tr>\n",
              "  </tbody>\n",
              "</table>\n",
              "</div>"
            ],
            "text/plain": [
              "              START_DATE            END_DATE  ...         PURPOSE minutes\n",
              "1151 2016-12-31 13:24:00 2016-12-31 13:42:00  ...  Temporary Site    18.0\n",
              "1152 2016-12-31 15:03:00 2016-12-31 15:38:00  ...         Meeting    35.0\n",
              "1153 2016-12-31 21:32:00 2016-12-31 21:50:00  ...  Temporary Site    18.0\n",
              "1154 2016-12-31 22:08:00 2016-12-31 23:51:00  ...  Temporary Site   103.0\n",
              "1155                 NaT                 NaT  ...  Temporary Site     NaN\n",
              "\n",
              "[5 rows x 8 columns]"
            ]
          },
          "metadata": {},
          "execution_count": 37
        }
      ]
    },
    {
      "cell_type": "markdown",
      "metadata": {
        "id": "FtQ8Tu8nfxbb"
      },
      "source": [
        "Grouping 'purpose' by 'miles' to see if we can get any pattern"
      ]
    },
    {
      "cell_type": "code",
      "metadata": {
        "colab": {
          "base_uri": "https://localhost:8080/",
          "height": 363
        },
        "id": "QA36lgBKfmrO",
        "outputId": "07a11110-f2c5-49e9-db36-2be02977e5a9"
      },
      "source": [
        "pd.DataFrame({'Mean':df.groupby(['PURPOSE'])['MILES'].mean().round(1),\n",
        "              'Min':df.groupby(['PURPOSE'])['MILES'].min(),\n",
        "              'Max':df.groupby(['PURPOSE'])['MILES'].max()\n",
        "              }).reset_index()"
      ],
      "execution_count": 38,
      "outputs": [
        {
          "output_type": "execute_result",
          "data": {
            "text/html": [
              "<div>\n",
              "<style scoped>\n",
              "    .dataframe tbody tr th:only-of-type {\n",
              "        vertical-align: middle;\n",
              "    }\n",
              "\n",
              "    .dataframe tbody tr th {\n",
              "        vertical-align: top;\n",
              "    }\n",
              "\n",
              "    .dataframe thead th {\n",
              "        text-align: right;\n",
              "    }\n",
              "</style>\n",
              "<table border=\"1\" class=\"dataframe\">\n",
              "  <thead>\n",
              "    <tr style=\"text-align: right;\">\n",
              "      <th></th>\n",
              "      <th>PURPOSE</th>\n",
              "      <th>Mean</th>\n",
              "      <th>Min</th>\n",
              "      <th>Max</th>\n",
              "    </tr>\n",
              "  </thead>\n",
              "  <tbody>\n",
              "    <tr>\n",
              "      <th>0</th>\n",
              "      <td>Airport/Travel</td>\n",
              "      <td>15.0</td>\n",
              "      <td>0.9</td>\n",
              "      <td>156.9</td>\n",
              "    </tr>\n",
              "    <tr>\n",
              "      <th>1</th>\n",
              "      <td>Between Offices</td>\n",
              "      <td>10.9</td>\n",
              "      <td>1.9</td>\n",
              "      <td>39.2</td>\n",
              "    </tr>\n",
              "    <tr>\n",
              "      <th>2</th>\n",
              "      <td>Charity ($)</td>\n",
              "      <td>15.1</td>\n",
              "      <td>15.1</td>\n",
              "      <td>15.1</td>\n",
              "    </tr>\n",
              "    <tr>\n",
              "      <th>3</th>\n",
              "      <td>Commute</td>\n",
              "      <td>180.2</td>\n",
              "      <td>180.2</td>\n",
              "      <td>180.2</td>\n",
              "    </tr>\n",
              "    <tr>\n",
              "      <th>4</th>\n",
              "      <td>Customer Visit</td>\n",
              "      <td>16.1</td>\n",
              "      <td>0.6</td>\n",
              "      <td>310.3</td>\n",
              "    </tr>\n",
              "    <tr>\n",
              "      <th>5</th>\n",
              "      <td>Errand/Supplies</td>\n",
              "      <td>5.9</td>\n",
              "      <td>0.5</td>\n",
              "      <td>195.3</td>\n",
              "    </tr>\n",
              "    <tr>\n",
              "      <th>6</th>\n",
              "      <td>Meal/Entertain</td>\n",
              "      <td>5.8</td>\n",
              "      <td>0.6</td>\n",
              "      <td>36.5</td>\n",
              "    </tr>\n",
              "    <tr>\n",
              "      <th>7</th>\n",
              "      <td>Meeting</td>\n",
              "      <td>12.7</td>\n",
              "      <td>0.7</td>\n",
              "      <td>201.0</td>\n",
              "    </tr>\n",
              "    <tr>\n",
              "      <th>8</th>\n",
              "      <td>Moving</td>\n",
              "      <td>4.6</td>\n",
              "      <td>3.3</td>\n",
              "      <td>6.1</td>\n",
              "    </tr>\n",
              "    <tr>\n",
              "      <th>9</th>\n",
              "      <td>Temporary Site</td>\n",
              "      <td>72.9</td>\n",
              "      <td>0.7</td>\n",
              "      <td>12204.7</td>\n",
              "    </tr>\n",
              "  </tbody>\n",
              "</table>\n",
              "</div>"
            ],
            "text/plain": [
              "           PURPOSE   Mean    Min      Max\n",
              "0   Airport/Travel   15.0    0.9    156.9\n",
              "1  Between Offices   10.9    1.9     39.2\n",
              "2      Charity ($)   15.1   15.1     15.1\n",
              "3          Commute  180.2  180.2    180.2\n",
              "4   Customer Visit   16.1    0.6    310.3\n",
              "5  Errand/Supplies    5.9    0.5    195.3\n",
              "6   Meal/Entertain    5.8    0.6     36.5\n",
              "7          Meeting   12.7    0.7    201.0\n",
              "8           Moving    4.6    3.3      6.1\n",
              "9   Temporary Site   72.9    0.7  12204.7"
            ]
          },
          "metadata": {},
          "execution_count": 38
        }
      ]
    },
    {
      "cell_type": "markdown",
      "metadata": {
        "id": "24J21BVclgTY"
      },
      "source": [
        "Visualisation of Purpose v Minutes & Purpose v Miles"
      ]
    },
    {
      "cell_type": "code",
      "metadata": {
        "colab": {
          "base_uri": "https://localhost:8080/"
        },
        "id": "2ZEnpyORcblq",
        "outputId": "561292bc-da86-4132-b756-8dd436a1cd2b"
      },
      "source": [
        "df['PURPOSE'].value_counts()"
      ],
      "execution_count": 98,
      "outputs": [
        {
          "output_type": "execute_result",
          "data": {
            "text/plain": [
              "Meeting            308\n",
              "Meal/Entertain     245\n",
              "Temporary Site     197\n",
              "Errand/Supplies    173\n",
              "Customer Visit     155\n",
              "Airport/Travel      54\n",
              "Between Offices     18\n",
              "Moving               4\n",
              "Commute              1\n",
              "Charity ($)          1\n",
              "Name: PURPOSE, dtype: int64"
            ]
          },
          "metadata": {},
          "execution_count": 98
        }
      ]
    },
    {
      "cell_type": "markdown",
      "metadata": {
        "id": "paNjhZIZm39f"
      },
      "source": [
        "Using a BoxPlot"
      ]
    },
    {
      "cell_type": "code",
      "metadata": {
        "colab": {
          "base_uri": "https://localhost:8080/",
          "height": 535
        },
        "id": "tFk64YCJn373",
        "outputId": "06d86bc6-1681-4721-bbf7-ea1271dc9eef"
      },
      "source": [
        "plt.figure(figsize=(19,7))\n",
        "plt.subplot(1,2,1)\n",
        "sns.boxplot(data=df,x=df.PURPOSE,y=df.minutes,showfliers = False)\n",
        "plt.title('Purpose v Minutes',fontsize = 25)\n",
        "plt.xlabel('Purpose',fontsize = 20)\n",
        "plt.ylabel('Minutes',fontsize = 20)\n",
        "plt.xticks(rotation = 50)\n",
        "plt.subplot(1,2,2)\n",
        "sns.boxplot(data=df,x=df.PURPOSE,y=df.MILES,showfliers = False)\n",
        "plt.title('Purpose v Miles',fontsize = 25)\n",
        "plt.xlabel('Purpose',fontsize = 20)\n",
        "plt.ylabel('Miles',fontsize = 20)\n",
        "plt.xticks(rotation = 50)\n",
        "plt.show()"
      ],
      "execution_count": 75,
      "outputs": [
        {
          "output_type": "display_data",
          "data": {
            "image/png": "[encoded data removed]",
            "text/plain": [
              "<Figure size 1368x504 with 2 Axes>"
            ]
          },
          "metadata": {
            "needs_background": "light"
          }
        }
      ]
    },
    {
      "cell_type": "markdown",
      "metadata": {
        "id": "Yj-FJ0yRm8jf"
      },
      "source": [
        "Observation: Rides to the **Airports** have taken maximum time with respect to 'minutes' while rides for a **Customer visit** is the ride which has covered maximum distance in terms of 'miles'"
      ]
    },
    {
      "cell_type": "markdown",
      "metadata": {
        "id": "S8whO1-5q2WA"
      },
      "source": [
        "Checking for round trips , ie - start and stop points are the same"
      ]
    },
    {
      "cell_type": "code",
      "metadata": {
        "colab": {
          "base_uri": "https://localhost:8080/",
          "height": 206
        },
        "id": "avxCcKHcq7qE",
        "outputId": "a366eea5-03c4-4a12-dc07-8e5ba4aadccb"
      },
      "source": [
        "def round(x):\n",
        "  if x['START'] == x['STOP']:\n",
        "    return 'yes'\n",
        "  else:\n",
        "    return 'no'\n",
        "df['Round_TRIP'] = df.apply(round , axis = 1)\n",
        "df.head()"
      ],
      "execution_count": 40,
      "outputs": [
        {
          "output_type": "execute_result",
          "data": {
            "text/html": [
              "<div>\n",
              "<style scoped>\n",
              "    .dataframe tbody tr th:only-of-type {\n",
              "        vertical-align: middle;\n",
              "    }\n",
              "\n",
              "    .dataframe tbody tr th {\n",
              "        vertical-align: top;\n",
              "    }\n",
              "\n",
              "    .dataframe thead th {\n",
              "        text-align: right;\n",
              "    }\n",
              "</style>\n",
              "<table border=\"1\" class=\"dataframe\">\n",
              "  <thead>\n",
              "    <tr style=\"text-align: right;\">\n",
              "      <th></th>\n",
              "      <th>START_DATE</th>\n",
              "      <th>END_DATE</th>\n",
              "      <th>CATEGORY</th>\n",
              "      <th>START</th>\n",
              "      <th>STOP</th>\n",
              "      <th>MILES</th>\n",
              "      <th>PURPOSE</th>\n",
              "      <th>minutes</th>\n",
              "      <th>Round_TRIP</th>\n",
              "    </tr>\n",
              "  </thead>\n",
              "  <tbody>\n",
              "    <tr>\n",
              "      <th>0</th>\n",
              "      <td>2016-01-01 21:11:00</td>\n",
              "      <td>2016-01-01 21:17:00</td>\n",
              "      <td>Business</td>\n",
              "      <td>Fort Pierce</td>\n",
              "      <td>Fort Pierce</td>\n",
              "      <td>5.1</td>\n",
              "      <td>Meal/Entertain</td>\n",
              "      <td>6.0</td>\n",
              "      <td>yes</td>\n",
              "    </tr>\n",
              "    <tr>\n",
              "      <th>1</th>\n",
              "      <td>2016-01-02 01:25:00</td>\n",
              "      <td>2016-01-02 01:37:00</td>\n",
              "      <td>Business</td>\n",
              "      <td>Fort Pierce</td>\n",
              "      <td>Fort Pierce</td>\n",
              "      <td>5.0</td>\n",
              "      <td>Meal/Entertain</td>\n",
              "      <td>12.0</td>\n",
              "      <td>yes</td>\n",
              "    </tr>\n",
              "    <tr>\n",
              "      <th>2</th>\n",
              "      <td>2016-01-02 20:25:00</td>\n",
              "      <td>2016-01-02 20:38:00</td>\n",
              "      <td>Business</td>\n",
              "      <td>Fort Pierce</td>\n",
              "      <td>Fort Pierce</td>\n",
              "      <td>4.8</td>\n",
              "      <td>Errand/Supplies</td>\n",
              "      <td>13.0</td>\n",
              "      <td>yes</td>\n",
              "    </tr>\n",
              "    <tr>\n",
              "      <th>3</th>\n",
              "      <td>2016-01-05 17:31:00</td>\n",
              "      <td>2016-01-05 17:45:00</td>\n",
              "      <td>Business</td>\n",
              "      <td>Fort Pierce</td>\n",
              "      <td>Fort Pierce</td>\n",
              "      <td>4.7</td>\n",
              "      <td>Meeting</td>\n",
              "      <td>14.0</td>\n",
              "      <td>yes</td>\n",
              "    </tr>\n",
              "    <tr>\n",
              "      <th>4</th>\n",
              "      <td>2016-01-06 14:42:00</td>\n",
              "      <td>2016-01-06 15:49:00</td>\n",
              "      <td>Business</td>\n",
              "      <td>Fort Pierce</td>\n",
              "      <td>West Palm Beach</td>\n",
              "      <td>63.7</td>\n",
              "      <td>Customer Visit</td>\n",
              "      <td>67.0</td>\n",
              "      <td>no</td>\n",
              "    </tr>\n",
              "  </tbody>\n",
              "</table>\n",
              "</div>"
            ],
            "text/plain": [
              "           START_DATE            END_DATE  ... minutes Round_TRIP\n",
              "0 2016-01-01 21:11:00 2016-01-01 21:17:00  ...     6.0        yes\n",
              "1 2016-01-02 01:25:00 2016-01-02 01:37:00  ...    12.0        yes\n",
              "2 2016-01-02 20:25:00 2016-01-02 20:38:00  ...    13.0        yes\n",
              "3 2016-01-05 17:31:00 2016-01-05 17:45:00  ...    14.0        yes\n",
              "4 2016-01-06 14:42:00 2016-01-06 15:49:00  ...    67.0         no\n",
              "\n",
              "[5 rows x 9 columns]"
            ]
          },
          "metadata": {},
          "execution_count": 40
        }
      ]
    },
    {
      "cell_type": "code",
      "metadata": {
        "colab": {
          "base_uri": "https://localhost:8080/",
          "height": 476
        },
        "id": "xTJob7IlsOzf",
        "outputId": "0df82736-21b7-4ebf-cc9c-15febb00c21f"
      },
      "source": [
        "plt.figure(figsize=(13,7))\n",
        "sns.countplot(df['Round_TRIP'], order =df['Round_TRIP'].value_counts().index,palette = 'bright')\n",
        "plt.title('Check for round trips',fontsize = 25)\n",
        "plt.xlabel('Round Trips - Yes/No',fontsize = 20)\n",
        "plt.ylabel('Count',fontsize = 20)\n",
        "plt.show()"
      ],
      "execution_count": 41,
      "outputs": [
        {
          "output_type": "display_data",
          "data": {
            "image/png": "[encoded data removed]",
            "text/plain": [
              "<Figure size 936x504 with 1 Axes>"
            ]
          },
          "metadata": {
            "needs_background": "light"
          }
        }
      ]
    },
    {
      "cell_type": "markdown",
      "metadata": {
        "id": "aTh3lKyEnb1j"
      },
      "source": [
        "Observation : There **hasn't been** much of Round Trips."
      ]
    },
    {
      "cell_type": "markdown",
      "metadata": {
        "id": "Cjb--G-gvJ5d"
      },
      "source": [
        "Entering month name and evaluating frequency of trip in each month"
      ]
    },
    {
      "cell_type": "code",
      "metadata": {
        "colab": {
          "base_uri": "https://localhost:8080/",
          "height": 423
        },
        "id": "TAhTnu3YvGT3",
        "outputId": "710e6534-c382-46d5-9b2d-d424b66402fb"
      },
      "source": [
        "df['month'] = pd.DatetimeIndex(df['START_DATE']).month\n",
        "df"
      ],
      "execution_count": 54,
      "outputs": [
        {
          "output_type": "execute_result",
          "data": {
            "text/html": [
              "<div>\n",
              "<style scoped>\n",
              "    .dataframe tbody tr th:only-of-type {\n",
              "        vertical-align: middle;\n",
              "    }\n",
              "\n",
              "    .dataframe tbody tr th {\n",
              "        vertical-align: top;\n",
              "    }\n",
              "\n",
              "    .dataframe thead th {\n",
              "        text-align: right;\n",
              "    }\n",
              "</style>\n",
              "<table border=\"1\" class=\"dataframe\">\n",
              "  <thead>\n",
              "    <tr style=\"text-align: right;\">\n",
              "      <th></th>\n",
              "      <th>START_DATE</th>\n",
              "      <th>END_DATE</th>\n",
              "      <th>CATEGORY</th>\n",
              "      <th>START</th>\n",
              "      <th>STOP</th>\n",
              "      <th>MILES</th>\n",
              "      <th>PURPOSE</th>\n",
              "      <th>minutes</th>\n",
              "      <th>Round_TRIP</th>\n",
              "      <th>month</th>\n",
              "    </tr>\n",
              "  </thead>\n",
              "  <tbody>\n",
              "    <tr>\n",
              "      <th>0</th>\n",
              "      <td>2016-01-01 21:11:00</td>\n",
              "      <td>2016-01-01 21:17:00</td>\n",
              "      <td>Business</td>\n",
              "      <td>Fort Pierce</td>\n",
              "      <td>Fort Pierce</td>\n",
              "      <td>5.1</td>\n",
              "      <td>Meal/Entertain</td>\n",
              "      <td>6.0</td>\n",
              "      <td>yes</td>\n",
              "      <td>1.0</td>\n",
              "    </tr>\n",
              "    <tr>\n",
              "      <th>1</th>\n",
              "      <td>2016-01-02 01:25:00</td>\n",
              "      <td>2016-01-02 01:37:00</td>\n",
              "      <td>Business</td>\n",
              "      <td>Fort Pierce</td>\n",
              "      <td>Fort Pierce</td>\n",
              "      <td>5.0</td>\n",
              "      <td>Meal/Entertain</td>\n",
              "      <td>12.0</td>\n",
              "      <td>yes</td>\n",
              "      <td>1.0</td>\n",
              "    </tr>\n",
              "    <tr>\n",
              "      <th>2</th>\n",
              "      <td>2016-01-02 20:25:00</td>\n",
              "      <td>2016-01-02 20:38:00</td>\n",
              "      <td>Business</td>\n",
              "      <td>Fort Pierce</td>\n",
              "      <td>Fort Pierce</td>\n",
              "      <td>4.8</td>\n",
              "      <td>Errand/Supplies</td>\n",
              "      <td>13.0</td>\n",
              "      <td>yes</td>\n",
              "      <td>1.0</td>\n",
              "    </tr>\n",
              "    <tr>\n",
              "      <th>3</th>\n",
              "      <td>2016-01-05 17:31:00</td>\n",
              "      <td>2016-01-05 17:45:00</td>\n",
              "      <td>Business</td>\n",
              "      <td>Fort Pierce</td>\n",
              "      <td>Fort Pierce</td>\n",
              "      <td>4.7</td>\n",
              "      <td>Meeting</td>\n",
              "      <td>14.0</td>\n",
              "      <td>yes</td>\n",
              "      <td>1.0</td>\n",
              "    </tr>\n",
              "    <tr>\n",
              "      <th>4</th>\n",
              "      <td>2016-01-06 14:42:00</td>\n",
              "      <td>2016-01-06 15:49:00</td>\n",
              "      <td>Business</td>\n",
              "      <td>Fort Pierce</td>\n",
              "      <td>West Palm Beach</td>\n",
              "      <td>63.7</td>\n",
              "      <td>Customer Visit</td>\n",
              "      <td>67.0</td>\n",
              "      <td>no</td>\n",
              "      <td>1.0</td>\n",
              "    </tr>\n",
              "    <tr>\n",
              "      <th>...</th>\n",
              "      <td>...</td>\n",
              "      <td>...</td>\n",
              "      <td>...</td>\n",
              "      <td>...</td>\n",
              "      <td>...</td>\n",
              "      <td>...</td>\n",
              "      <td>...</td>\n",
              "      <td>...</td>\n",
              "      <td>...</td>\n",
              "      <td>...</td>\n",
              "    </tr>\n",
              "    <tr>\n",
              "      <th>1151</th>\n",
              "      <td>2016-12-31 13:24:00</td>\n",
              "      <td>2016-12-31 13:42:00</td>\n",
              "      <td>Business</td>\n",
              "      <td>Kar?chi</td>\n",
              "      <td>Unknown Location</td>\n",
              "      <td>3.9</td>\n",
              "      <td>Temporary Site</td>\n",
              "      <td>18.0</td>\n",
              "      <td>no</td>\n",
              "      <td>12.0</td>\n",
              "    </tr>\n",
              "    <tr>\n",
              "      <th>1152</th>\n",
              "      <td>2016-12-31 15:03:00</td>\n",
              "      <td>2016-12-31 15:38:00</td>\n",
              "      <td>Business</td>\n",
              "      <td>Unknown Location</td>\n",
              "      <td>Unknown Location</td>\n",
              "      <td>16.2</td>\n",
              "      <td>Meeting</td>\n",
              "      <td>35.0</td>\n",
              "      <td>yes</td>\n",
              "      <td>12.0</td>\n",
              "    </tr>\n",
              "    <tr>\n",
              "      <th>1153</th>\n",
              "      <td>2016-12-31 21:32:00</td>\n",
              "      <td>2016-12-31 21:50:00</td>\n",
              "      <td>Business</td>\n",
              "      <td>Katunayake</td>\n",
              "      <td>Gampaha</td>\n",
              "      <td>6.4</td>\n",
              "      <td>Temporary Site</td>\n",
              "      <td>18.0</td>\n",
              "      <td>no</td>\n",
              "      <td>12.0</td>\n",
              "    </tr>\n",
              "    <tr>\n",
              "      <th>1154</th>\n",
              "      <td>2016-12-31 22:08:00</td>\n",
              "      <td>2016-12-31 23:51:00</td>\n",
              "      <td>Business</td>\n",
              "      <td>Gampaha</td>\n",
              "      <td>Ilukwatta</td>\n",
              "      <td>48.2</td>\n",
              "      <td>Temporary Site</td>\n",
              "      <td>103.0</td>\n",
              "      <td>no</td>\n",
              "      <td>12.0</td>\n",
              "    </tr>\n",
              "    <tr>\n",
              "      <th>1155</th>\n",
              "      <td>NaT</td>\n",
              "      <td>NaT</td>\n",
              "      <td>NaN</td>\n",
              "      <td>NaN</td>\n",
              "      <td>NaN</td>\n",
              "      <td>12204.7</td>\n",
              "      <td>Temporary Site</td>\n",
              "      <td>NaN</td>\n",
              "      <td>no</td>\n",
              "      <td>NaN</td>\n",
              "    </tr>\n",
              "  </tbody>\n",
              "</table>\n",
              "<p>1156 rows × 10 columns</p>\n",
              "</div>"
            ],
            "text/plain": [
              "              START_DATE            END_DATE  ... Round_TRIP month\n",
              "0    2016-01-01 21:11:00 2016-01-01 21:17:00  ...        yes   1.0\n",
              "1    2016-01-02 01:25:00 2016-01-02 01:37:00  ...        yes   1.0\n",
              "2    2016-01-02 20:25:00 2016-01-02 20:38:00  ...        yes   1.0\n",
              "3    2016-01-05 17:31:00 2016-01-05 17:45:00  ...        yes   1.0\n",
              "4    2016-01-06 14:42:00 2016-01-06 15:49:00  ...         no   1.0\n",
              "...                  ...                 ...  ...        ...   ...\n",
              "1151 2016-12-31 13:24:00 2016-12-31 13:42:00  ...         no  12.0\n",
              "1152 2016-12-31 15:03:00 2016-12-31 15:38:00  ...        yes  12.0\n",
              "1153 2016-12-31 21:32:00 2016-12-31 21:50:00  ...         no  12.0\n",
              "1154 2016-12-31 22:08:00 2016-12-31 23:51:00  ...         no  12.0\n",
              "1155                 NaT                 NaT  ...         no   NaN\n",
              "\n",
              "[1156 rows x 10 columns]"
            ]
          },
          "metadata": {},
          "execution_count": 54
        }
      ]
    },
    {
      "cell_type": "code",
      "metadata": {
        "colab": {
          "base_uri": "https://localhost:8080/",
          "height": 423
        },
        "id": "LikjK00FvvRk",
        "outputId": "d5ad4622-42ff-42bc-fb75-97c7aa5c337a"
      },
      "source": [
        "dic = {1.0:'Jan', 2.0:'Feb',3.0:'March',4.0:'April',5.0:'May',6.0:'June',7.0:'July',8.0:'Aug',9.0:'Sept',10.0:'Oct',11.0:'Nov',12.0:'Dec'}\n",
        "df['month'] = df['month'].map(dic)\n",
        "df"
      ],
      "execution_count": 58,
      "outputs": [
        {
          "output_type": "execute_result",
          "data": {
            "text/html": [
              "<div>\n",
              "<style scoped>\n",
              "    .dataframe tbody tr th:only-of-type {\n",
              "        vertical-align: middle;\n",
              "    }\n",
              "\n",
              "    .dataframe tbody tr th {\n",
              "        vertical-align: top;\n",
              "    }\n",
              "\n",
              "    .dataframe thead th {\n",
              "        text-align: right;\n",
              "    }\n",
              "</style>\n",
              "<table border=\"1\" class=\"dataframe\">\n",
              "  <thead>\n",
              "    <tr style=\"text-align: right;\">\n",
              "      <th></th>\n",
              "      <th>START_DATE</th>\n",
              "      <th>END_DATE</th>\n",
              "      <th>CATEGORY</th>\n",
              "      <th>START</th>\n",
              "      <th>STOP</th>\n",
              "      <th>MILES</th>\n",
              "      <th>PURPOSE</th>\n",
              "      <th>minutes</th>\n",
              "      <th>Round_TRIP</th>\n",
              "      <th>month</th>\n",
              "    </tr>\n",
              "  </thead>\n",
              "  <tbody>\n",
              "    <tr>\n",
              "      <th>0</th>\n",
              "      <td>2016-01-01 21:11:00</td>\n",
              "      <td>2016-01-01 21:17:00</td>\n",
              "      <td>Business</td>\n",
              "      <td>Fort Pierce</td>\n",
              "      <td>Fort Pierce</td>\n",
              "      <td>5.1</td>\n",
              "      <td>Meal/Entertain</td>\n",
              "      <td>6.0</td>\n",
              "      <td>yes</td>\n",
              "      <td>Jan</td>\n",
              "    </tr>\n",
              "    <tr>\n",
              "      <th>1</th>\n",
              "      <td>2016-01-02 01:25:00</td>\n",
              "      <td>2016-01-02 01:37:00</td>\n",
              "      <td>Business</td>\n",
              "      <td>Fort Pierce</td>\n",
              "      <td>Fort Pierce</td>\n",
              "      <td>5.0</td>\n",
              "      <td>Meal/Entertain</td>\n",
              "      <td>12.0</td>\n",
              "      <td>yes</td>\n",
              "      <td>Jan</td>\n",
              "    </tr>\n",
              "    <tr>\n",
              "      <th>2</th>\n",
              "      <td>2016-01-02 20:25:00</td>\n",
              "      <td>2016-01-02 20:38:00</td>\n",
              "      <td>Business</td>\n",
              "      <td>Fort Pierce</td>\n",
              "      <td>Fort Pierce</td>\n",
              "      <td>4.8</td>\n",
              "      <td>Errand/Supplies</td>\n",
              "      <td>13.0</td>\n",
              "      <td>yes</td>\n",
              "      <td>Jan</td>\n",
              "    </tr>\n",
              "    <tr>\n",
              "      <th>3</th>\n",
              "      <td>2016-01-05 17:31:00</td>\n",
              "      <td>2016-01-05 17:45:00</td>\n",
              "      <td>Business</td>\n",
              "      <td>Fort Pierce</td>\n",
              "      <td>Fort Pierce</td>\n",
              "      <td>4.7</td>\n",
              "      <td>Meeting</td>\n",
              "      <td>14.0</td>\n",
              "      <td>yes</td>\n",
              "      <td>Jan</td>\n",
              "    </tr>\n",
              "    <tr>\n",
              "      <th>4</th>\n",
              "      <td>2016-01-06 14:42:00</td>\n",
              "      <td>2016-01-06 15:49:00</td>\n",
              "      <td>Business</td>\n",
              "      <td>Fort Pierce</td>\n",
              "      <td>West Palm Beach</td>\n",
              "      <td>63.7</td>\n",
              "      <td>Customer Visit</td>\n",
              "      <td>67.0</td>\n",
              "      <td>no</td>\n",
              "      <td>Jan</td>\n",
              "    </tr>\n",
              "    <tr>\n",
              "      <th>...</th>\n",
              "      <td>...</td>\n",
              "      <td>...</td>\n",
              "      <td>...</td>\n",
              "      <td>...</td>\n",
              "      <td>...</td>\n",
              "      <td>...</td>\n",
              "      <td>...</td>\n",
              "      <td>...</td>\n",
              "      <td>...</td>\n",
              "      <td>...</td>\n",
              "    </tr>\n",
              "    <tr>\n",
              "      <th>1151</th>\n",
              "      <td>2016-12-31 13:24:00</td>\n",
              "      <td>2016-12-31 13:42:00</td>\n",
              "      <td>Business</td>\n",
              "      <td>Kar?chi</td>\n",
              "      <td>Unknown Location</td>\n",
              "      <td>3.9</td>\n",
              "      <td>Temporary Site</td>\n",
              "      <td>18.0</td>\n",
              "      <td>no</td>\n",
              "      <td>Dec</td>\n",
              "    </tr>\n",
              "    <tr>\n",
              "      <th>1152</th>\n",
              "      <td>2016-12-31 15:03:00</td>\n",
              "      <td>2016-12-31 15:38:00</td>\n",
              "      <td>Business</td>\n",
              "      <td>Unknown Location</td>\n",
              "      <td>Unknown Location</td>\n",
              "      <td>16.2</td>\n",
              "      <td>Meeting</td>\n",
              "      <td>35.0</td>\n",
              "      <td>yes</td>\n",
              "      <td>Dec</td>\n",
              "    </tr>\n",
              "    <tr>\n",
              "      <th>1153</th>\n",
              "      <td>2016-12-31 21:32:00</td>\n",
              "      <td>2016-12-31 21:50:00</td>\n",
              "      <td>Business</td>\n",
              "      <td>Katunayake</td>\n",
              "      <td>Gampaha</td>\n",
              "      <td>6.4</td>\n",
              "      <td>Temporary Site</td>\n",
              "      <td>18.0</td>\n",
              "      <td>no</td>\n",
              "      <td>Dec</td>\n",
              "    </tr>\n",
              "    <tr>\n",
              "      <th>1154</th>\n",
              "      <td>2016-12-31 22:08:00</td>\n",
              "      <td>2016-12-31 23:51:00</td>\n",
              "      <td>Business</td>\n",
              "      <td>Gampaha</td>\n",
              "      <td>Ilukwatta</td>\n",
              "      <td>48.2</td>\n",
              "      <td>Temporary Site</td>\n",
              "      <td>103.0</td>\n",
              "      <td>no</td>\n",
              "      <td>Dec</td>\n",
              "    </tr>\n",
              "    <tr>\n",
              "      <th>1155</th>\n",
              "      <td>NaT</td>\n",
              "      <td>NaT</td>\n",
              "      <td>NaN</td>\n",
              "      <td>NaN</td>\n",
              "      <td>NaN</td>\n",
              "      <td>12204.7</td>\n",
              "      <td>Temporary Site</td>\n",
              "      <td>NaN</td>\n",
              "      <td>no</td>\n",
              "      <td>NaN</td>\n",
              "    </tr>\n",
              "  </tbody>\n",
              "</table>\n",
              "<p>1156 rows × 10 columns</p>\n",
              "</div>"
            ],
            "text/plain": [
              "              START_DATE            END_DATE  ... Round_TRIP month\n",
              "0    2016-01-01 21:11:00 2016-01-01 21:17:00  ...        yes   Jan\n",
              "1    2016-01-02 01:25:00 2016-01-02 01:37:00  ...        yes   Jan\n",
              "2    2016-01-02 20:25:00 2016-01-02 20:38:00  ...        yes   Jan\n",
              "3    2016-01-05 17:31:00 2016-01-05 17:45:00  ...        yes   Jan\n",
              "4    2016-01-06 14:42:00 2016-01-06 15:49:00  ...         no   Jan\n",
              "...                  ...                 ...  ...        ...   ...\n",
              "1151 2016-12-31 13:24:00 2016-12-31 13:42:00  ...         no   Dec\n",
              "1152 2016-12-31 15:03:00 2016-12-31 15:38:00  ...        yes   Dec\n",
              "1153 2016-12-31 21:32:00 2016-12-31 21:50:00  ...         no   Dec\n",
              "1154 2016-12-31 22:08:00 2016-12-31 23:51:00  ...         no   Dec\n",
              "1155                 NaT                 NaT  ...         no   NaN\n",
              "\n",
              "[1156 rows x 10 columns]"
            ]
          },
          "metadata": {},
          "execution_count": 58
        }
      ]
    },
    {
      "cell_type": "markdown",
      "metadata": {
        "id": "zNphalnWSqvv"
      },
      "source": [
        "Monthwise when cab rides are used"
      ]
    },
    {
      "cell_type": "code",
      "metadata": {
        "colab": {
          "base_uri": "https://localhost:8080/"
        },
        "id": "kis59OuWcTK6",
        "outputId": "05e50511-71ed-4201-b8f3-8591433788b1"
      },
      "source": [
        "df['month'].value_counts()"
      ],
      "execution_count": 97,
      "outputs": [
        {
          "output_type": "execute_result",
          "data": {
            "text/plain": [
              "Dec      146\n",
              "Aug      133\n",
              "Nov      122\n",
              "Feb      115\n",
              "March    113\n",
              "July     112\n",
              "June     108\n",
              "Oct      106\n",
              "Jan       61\n",
              "April     54\n",
              "May       49\n",
              "Sept      36\n",
              "Name: month, dtype: int64"
            ]
          },
          "metadata": {},
          "execution_count": 97
        }
      ]
    },
    {
      "cell_type": "code",
      "metadata": {
        "colab": {
          "base_uri": "https://localhost:8080/",
          "height": 476
        },
        "id": "Jy1DjGdPSu3f",
        "outputId": "fc554a09-4bc9-4aca-bf9d-108d2f03710c"
      },
      "source": [
        "plt.figure(figsize = (13,7))\n",
        "sns.countplot(df['month'], order = df['month'].value_counts().index, palette = 'bright')\n",
        "plt.title('Cab Rides Monthwise',fontsize = 25)\n",
        "plt.xlabel('Months',fontsize = 20)\n",
        "plt.ylabel('Count',fontsize = 20)\n",
        "plt.show()"
      ],
      "execution_count": 62,
      "outputs": [
        {
          "output_type": "display_data",
          "data": {
            "image/png": "[encoded data removed]",
            "text/plain": [
              "<Figure size 936x504 with 1 Axes>"
            ]
          },
          "metadata": {
            "needs_background": "light"
          }
        }
      ]
    },
    {
      "cell_type": "markdown",
      "metadata": {
        "id": "0eFZMtjInmfN"
      },
      "source": [
        "Observation : Most of the cab rides were taken during the month of **December**."
      ]
    },
    {
      "cell_type": "code",
      "metadata": {
        "colab": {
          "base_uri": "https://localhost:8080/",
          "height": 476
        },
        "id": "_0bdtv1mTpdz",
        "outputId": "9783a254-f21b-497d-e9d3-427e21bf7eeb"
      },
      "source": [
        "plt.figure(figsize = (13,7))\n",
        "sns.countplot(df['Round_TRIP'],hue = df['month'])\n",
        "plt.legend()\n",
        "plt.title('RoundTrips Monthwise',fontsize = 25)\n",
        "plt.xlabel('Roundtrip - Yes/No',fontsize = 20)\n",
        "plt.ylabel('Count',fontsize = 20)\n",
        "plt.show()"
      ],
      "execution_count": 67,
      "outputs": [
        {
          "output_type": "display_data",
          "data": {
            "image/png": "[encoded data removed]",
            "text/plain": [
              "<Figure size 936x504 with 1 Axes>"
            ]
          },
          "metadata": {
            "needs_background": "light"
          }
        }
      ]
    },
    {
      "cell_type": "markdown",
      "metadata": {
        "id": "o1TxGNgJnvUh"
      },
      "source": [
        "Observation : Maximum round trips were taken in **December**"
      ]
    },
    {
      "cell_type": "markdown",
      "metadata": {
        "id": "Ycag7cnrn4Ev"
      },
      "source": [
        "Visualisation of 'Minutes v Miles'"
      ]
    },
    {
      "cell_type": "code",
      "metadata": {
        "colab": {
          "base_uri": "https://localhost:8080/",
          "height": 476
        },
        "id": "IJvS2GctVrV1",
        "outputId": "e56bce8e-d10e-49b8-9621-a9ee10cfda52"
      },
      "source": [
        "plt.figure(figsize=(19,7))\n",
        "plt.subplot(1,2,1)\n",
        "plt.title('Minutes v Miles',fontsize = 25)\n",
        "plt.xlabel('Minutes',fontsize = 20)\n",
        "plt.ylabel('Miles',fontsize = 20)\n",
        "sns.lineplot(data = df , x = df.minutes , y = df.MILES)\n",
        "plt.subplot(1,2,2)\n",
        "plt.title('Minutes v Miles',fontsize = 25)\n",
        "plt.xlabel('Minutes',fontsize = 20)\n",
        "plt.ylabel('Miles',fontsize = 20)\n",
        "sns.scatterplot(data = df , x = df.minutes , y = df.MILES)\n",
        "plt.show()"
      ],
      "execution_count": 106,
      "outputs": [
        {
          "output_type": "display_data",
          "data": {
            "image/png": "[encoded data removed]",
            "text/plain": [
              "<Figure size 1368x504 with 2 Axes>"
            ]
          },
          "metadata": {
            "needs_background": "light"
          }
        }
      ]
    },
    {
      "cell_type": "markdown",
      "metadata": {
        "id": "FN8KREn4oCRP"
      },
      "source": [
        "Observation : Larger the distance, more is the time taken."
      ]
    },
    {
      "cell_type": "markdown",
      "metadata": {
        "id": "0EZbZx_gWzSd"
      },
      "source": [
        "Distribution of Cab rides based on Category"
      ]
    },
    {
      "cell_type": "code",
      "metadata": {
        "colab": {
          "base_uri": "https://localhost:8080/",
          "height": 535
        },
        "id": "nUeDkKbtW30D",
        "outputId": "ef113370-eaae-4203-a885-96507b12c9f9"
      },
      "source": [
        "plt.figure(figsize=(13,7))\n",
        "sns.countplot(data = df, x = 'PURPOSE' , hue = 'CATEGORY')\n",
        "plt.title('Cab rides based on Category',fontsize = 25)\n",
        "plt.xlabel('Category',fontsize = 20)\n",
        "plt.ylabel('Count',fontsize = 20)\n",
        "plt.xticks(rotation = 50)\n",
        "plt.show()"
      ],
      "execution_count": 81,
      "outputs": [
        {
          "output_type": "display_data",
          "data": {
            "image/png": "[encoded data removed]",
            "text/plain": [
              "<Figure size 936x504 with 1 Axes>"
            ]
          },
          "metadata": {
            "needs_background": "light"
          }
        }
      ]
    },
    {
      "cell_type": "markdown",
      "metadata": {
        "id": "t0LT4jAboJ3k"
      },
      "source": [
        "Observation : Most of the **Business rides** were for a **meeting** while most of the **Personal rides** were for **Meal/Entertain**."
      ]
    },
    {
      "cell_type": "markdown",
      "metadata": {
        "id": "ycuEela6aQAr"
      },
      "source": [
        "Visualisation on 'Start Point'"
      ]
    },
    {
      "cell_type": "code",
      "metadata": {
        "colab": {
          "base_uri": "https://localhost:8080/"
        },
        "id": "JwtDDyRncNX9",
        "outputId": "1cc79673-a5fb-4e66-fbd1-d11375855da5"
      },
      "source": [
        "df['START'].value_counts()"
      ],
      "execution_count": 96,
      "outputs": [
        {
          "output_type": "execute_result",
          "data": {
            "text/plain": [
              "Cary                201\n",
              "Unknown Location    148\n",
              "Morrisville          85\n",
              "Whitebridge          68\n",
              "Islamabad            57\n",
              "                   ... \n",
              "Coxville              1\n",
              "Arlington             1\n",
              "Almond                1\n",
              "Chalmette             1\n",
              "Seattle               1\n",
              "Name: START, Length: 177, dtype: int64"
            ]
          },
          "metadata": {},
          "execution_count": 96
        }
      ]
    },
    {
      "cell_type": "code",
      "metadata": {
        "colab": {
          "base_uri": "https://localhost:8080/",
          "height": 558
        },
        "id": "SQDVa8omaXX1",
        "outputId": "d36e4d3d-f805-4680-b977-a32dfe3cee9a"
      },
      "source": [
        "plt.figure(figsize=(16,7))\n",
        "pd.Series(df['STOP']).value_counts()[:20].plot(kind ='bar')\n",
        "plt.title('Start Location',fontsize = 25)\n",
        "plt.xlabel('Location',fontsize = 20)\n",
        "plt.ylabel('Count',fontsize = 20)\n",
        "plt.show()"
      ],
      "execution_count": 92,
      "outputs": [
        {
          "output_type": "display_data",
          "data": {
            "image/png": "[encoded data removed]",
            "text/plain": [
              "<Figure size 1152x504 with 1 Axes>"
            ]
          },
          "metadata": {
            "needs_background": "light"
          }
        }
      ]
    },
    {
      "cell_type": "markdown",
      "metadata": {
        "id": "zv6gk4ploxay"
      },
      "source": [
        "Observation : **Cary** is considered as the most frequent **start point**."
      ]
    },
    {
      "cell_type": "markdown",
      "metadata": {
        "id": "k4YT33L7pLe8"
      },
      "source": [
        "Visualisation on 'Stop Point'"
      ]
    },
    {
      "cell_type": "code",
      "metadata": {
        "colab": {
          "base_uri": "https://localhost:8080/"
        },
        "id": "MgDjpW-OcHYe",
        "outputId": "8e92aea2-d370-481b-b8db-37a2f66f227a"
      },
      "source": [
        "df['STOP'].value_counts()"
      ],
      "execution_count": 95,
      "outputs": [
        {
          "output_type": "execute_result",
          "data": {
            "text/plain": [
              "Cary                   203\n",
              "Unknown Location       149\n",
              "Morrisville             84\n",
              "Whitebridge             65\n",
              "Islamabad               58\n",
              "                      ... \n",
              "Elk Park                 1\n",
              "Washington               1\n",
              "NoMad                    1\n",
              "Lake Wellingborough      1\n",
              "Coxville                 1\n",
              "Name: STOP, Length: 188, dtype: int64"
            ]
          },
          "metadata": {},
          "execution_count": 95
        }
      ]
    },
    {
      "cell_type": "code",
      "metadata": {
        "colab": {
          "base_uri": "https://localhost:8080/",
          "height": 558
        },
        "id": "uxnzZIbvbCkX",
        "outputId": "40f794c8-044d-4eba-d844-5784205bd115"
      },
      "source": [
        "plt.figure(figsize=(16,7))\n",
        "pd.Series(df['STOP']).value_counts()[:20].plot(kind ='bar')\n",
        "plt.title('Stop Location',fontsize = 25)\n",
        "plt.xlabel('Location',fontsize = 20)\n",
        "plt.ylabel('Count',fontsize = 20)\n",
        "plt.show()"
      ],
      "execution_count": 93,
      "outputs": [
        {
          "output_type": "display_data",
          "data": {
            "image/png": "[encoded data removed]",
            "text/plain": [
              "<Figure size 1152x504 with 1 Axes>"
            ]
          },
          "metadata": {
            "needs_background": "light"
          }
        }
      ]
    },
    {
      "cell_type": "markdown",
      "metadata": {
        "id": "DumE_6QGo60I"
      },
      "source": [
        "Observation : **Cary** is also the most frequent **stop point**."
      ]
    },
    {
      "cell_type": "markdown",
      "metadata": {
        "id": "0xEK4wybc7zG"
      },
      "source": [
        "Conclusion :\n",
        "1.   Business Cabs were not only used more in volume but also have travelled more with respect to distance.\n",
        "2.   Round Trips were maximum in the month of December\n",
        "3. December month can prove to be the best month for the cab drivers for earning profit by raising the fare.\n",
        "4. A Seasonal Pattern is observed\n",
        "5. Cab traffic was high in 5 cities comparitively.\n",
        "6. Most of the cab rides are within a distance of 35 miles which take about 30 minutes.\n",
        "7. Airport Cabs take longer time than usual\n",
        "\n"
      ]
    },
    {
      "cell_type": "markdown",
      "metadata": {
        "id": "JizUNFlVd7Mn"
      },
      "source": [
        "### **THANK YOU**"
      ]
    }
  ]
}
{
  "nbformat": 4,
  "nbformat_minor": 0,
  "metadata": {
    "colab": {
      "name": "Project3 Walmart Analysis.ipynb",
      "provenance": [],
      "collapsed_sections": []
    },
    "kernelspec": {
      "name": "python3",
      "display_name": "Python 3"
    },
    "language_info": {
      "name": "python"
    }
  },
  "cells": [
    {
      "cell_type": "markdown",
      "metadata": {
        "id": "kiQl1wsogMS4"
      },
      "source": [
        "### **SHAPEAI - DATA SCIENTIST TRAINING & INTERNSHIP**"
      ]
    },
    {
      "cell_type": "markdown",
      "metadata": {
        "id": "lGcDhU62gMPp"
      },
      "source": [
        "### **Author : Midhir Nambiar**"
      ]
    },
    {
      "cell_type": "markdown",
      "metadata": {
        "id": "gEoKmk24gML_"
      },
      "source": [
        "### **Task : Exploratory Data Analysis on Walmart**"
      ]
    },
    {
      "cell_type": "markdown",
      "metadata": {
        "id": "isogYamcFbq0"
      },
      "source": [
        "### **IMPORTING LIBRARIES**"
      ]
    },
    {
      "cell_type": "code",
      "metadata": {
        "id": "RVR3jpAMeeSd"
      },
      "source": [
        "import numpy as np\n",
        "import pandas as pd\n",
        "import matplotlib.pyplot as plt\n",
        "%matplotlib inline\n",
        "import seaborn as sns\n",
        "import warnings\n",
        "warnings.filterwarnings('ignore')"
      ],
      "execution_count": 1,
      "outputs": []
    },
    {
      "cell_type": "markdown",
      "metadata": {
        "id": "59MSdGZVFfEJ"
      },
      "source": [
        "### **DATA ANALYSIS**"
      ]
    },
    {
      "cell_type": "markdown",
      "metadata": {
        "id": "U-Sx5CVSFl2d"
      },
      "source": [
        "Reading and Loading the Train Data"
      ]
    },
    {
      "cell_type": "code",
      "metadata": {
        "id": "NOcS_bhafWJH"
      },
      "source": [
        "train_df = pd.read_csv('/content/train.csv')"
      ],
      "execution_count": 2,
      "outputs": []
    },
    {
      "cell_type": "markdown",
      "metadata": {
        "id": "t1FEU3JyFqGi"
      },
      "source": [
        "Viewing first five values"
      ]
    },
    {
      "cell_type": "code",
      "metadata": {
        "colab": {
          "base_uri": "https://localhost:8080/",
          "height": 206
        },
        "id": "UaSVKo7Gf4M_",
        "outputId": "dcaf3a58-323b-4ed9-e980-bda414b69538"
      },
      "source": [
        "train_df.head()"
      ],
      "execution_count": 3,
      "outputs": [
        {
          "output_type": "execute_result",
          "data": {
            "text/html": [
              "<div>\n",
              "<style scoped>\n",
              "    .dataframe tbody tr th:only-of-type {\n",
              "        vertical-align: middle;\n",
              "    }\n",
              "\n",
              "    .dataframe tbody tr th {\n",
              "        vertical-align: top;\n",
              "    }\n",
              "\n",
              "    .dataframe thead th {\n",
              "        text-align: right;\n",
              "    }\n",
              "</style>\n",
              "<table border=\"1\" class=\"dataframe\">\n",
              "  <thead>\n",
              "    <tr style=\"text-align: right;\">\n",
              "      <th></th>\n",
              "      <th>Store</th>\n",
              "      <th>Dept</th>\n",
              "      <th>Date</th>\n",
              "      <th>Weekly_Sales</th>\n",
              "      <th>IsHoliday</th>\n",
              "    </tr>\n",
              "  </thead>\n",
              "  <tbody>\n",
              "    <tr>\n",
              "      <th>0</th>\n",
              "      <td>1</td>\n",
              "      <td>1</td>\n",
              "      <td>2010-02-05</td>\n",
              "      <td>24924.50</td>\n",
              "      <td>False</td>\n",
              "    </tr>\n",
              "    <tr>\n",
              "      <th>1</th>\n",
              "      <td>1</td>\n",
              "      <td>1</td>\n",
              "      <td>2010-02-12</td>\n",
              "      <td>46039.49</td>\n",
              "      <td>True</td>\n",
              "    </tr>\n",
              "    <tr>\n",
              "      <th>2</th>\n",
              "      <td>1</td>\n",
              "      <td>1</td>\n",
              "      <td>2010-02-19</td>\n",
              "      <td>41595.55</td>\n",
              "      <td>False</td>\n",
              "    </tr>\n",
              "    <tr>\n",
              "      <th>3</th>\n",
              "      <td>1</td>\n",
              "      <td>1</td>\n",
              "      <td>2010-02-26</td>\n",
              "      <td>19403.54</td>\n",
              "      <td>False</td>\n",
              "    </tr>\n",
              "    <tr>\n",
              "      <th>4</th>\n",
              "      <td>1</td>\n",
              "      <td>1</td>\n",
              "      <td>2010-03-05</td>\n",
              "      <td>21827.90</td>\n",
              "      <td>False</td>\n",
              "    </tr>\n",
              "  </tbody>\n",
              "</table>\n",
              "</div>"
            ],
            "text/plain": [
              "   Store  Dept        Date  Weekly_Sales  IsHoliday\n",
              "0      1     1  2010-02-05      24924.50      False\n",
              "1      1     1  2010-02-12      46039.49       True\n",
              "2      1     1  2010-02-19      41595.55      False\n",
              "3      1     1  2010-02-26      19403.54      False\n",
              "4      1     1  2010-03-05      21827.90      False"
            ]
          },
          "metadata": {},
          "execution_count": 3
        }
      ]
    },
    {
      "cell_type": "markdown",
      "metadata": {
        "id": "fmA-DB61FtCB"
      },
      "source": [
        "Viewing last five values"
      ]
    },
    {
      "cell_type": "code",
      "metadata": {
        "colab": {
          "base_uri": "https://localhost:8080/",
          "height": 206
        },
        "id": "d0PapH3zgjok",
        "outputId": "83828198-f552-4497-e089-466aa697a2ee"
      },
      "source": [
        "train_df.tail()"
      ],
      "execution_count": 4,
      "outputs": [
        {
          "output_type": "execute_result",
          "data": {
            "text/html": [
              "<div>\n",
              "<style scoped>\n",
              "    .dataframe tbody tr th:only-of-type {\n",
              "        vertical-align: middle;\n",
              "    }\n",
              "\n",
              "    .dataframe tbody tr th {\n",
              "        vertical-align: top;\n",
              "    }\n",
              "\n",
              "    .dataframe thead th {\n",
              "        text-align: right;\n",
              "    }\n",
              "</style>\n",
              "<table border=\"1\" class=\"dataframe\">\n",
              "  <thead>\n",
              "    <tr style=\"text-align: right;\">\n",
              "      <th></th>\n",
              "      <th>Store</th>\n",
              "      <th>Dept</th>\n",
              "      <th>Date</th>\n",
              "      <th>Weekly_Sales</th>\n",
              "      <th>IsHoliday</th>\n",
              "    </tr>\n",
              "  </thead>\n",
              "  <tbody>\n",
              "    <tr>\n",
              "      <th>421565</th>\n",
              "      <td>45</td>\n",
              "      <td>98</td>\n",
              "      <td>2012-09-28</td>\n",
              "      <td>508.37</td>\n",
              "      <td>False</td>\n",
              "    </tr>\n",
              "    <tr>\n",
              "      <th>421566</th>\n",
              "      <td>45</td>\n",
              "      <td>98</td>\n",
              "      <td>2012-10-05</td>\n",
              "      <td>628.10</td>\n",
              "      <td>False</td>\n",
              "    </tr>\n",
              "    <tr>\n",
              "      <th>421567</th>\n",
              "      <td>45</td>\n",
              "      <td>98</td>\n",
              "      <td>2012-10-12</td>\n",
              "      <td>1061.02</td>\n",
              "      <td>False</td>\n",
              "    </tr>\n",
              "    <tr>\n",
              "      <th>421568</th>\n",
              "      <td>45</td>\n",
              "      <td>98</td>\n",
              "      <td>2012-10-19</td>\n",
              "      <td>760.01</td>\n",
              "      <td>False</td>\n",
              "    </tr>\n",
              "    <tr>\n",
              "      <th>421569</th>\n",
              "      <td>45</td>\n",
              "      <td>98</td>\n",
              "      <td>2012-10-26</td>\n",
              "      <td>1076.80</td>\n",
              "      <td>False</td>\n",
              "    </tr>\n",
              "  </tbody>\n",
              "</table>\n",
              "</div>"
            ],
            "text/plain": [
              "        Store  Dept        Date  Weekly_Sales  IsHoliday\n",
              "421565     45    98  2012-09-28        508.37      False\n",
              "421566     45    98  2012-10-05        628.10      False\n",
              "421567     45    98  2012-10-12       1061.02      False\n",
              "421568     45    98  2012-10-19        760.01      False\n",
              "421569     45    98  2012-10-26       1076.80      False"
            ]
          },
          "metadata": {},
          "execution_count": 4
        }
      ]
    },
    {
      "cell_type": "markdown",
      "metadata": {
        "id": "i-6BMg_LFvlr"
      },
      "source": [
        "Shape of the Dataset"
      ]
    },
    {
      "cell_type": "code",
      "metadata": {
        "colab": {
          "base_uri": "https://localhost:8080/"
        },
        "id": "Y0cOCSNph3YY",
        "outputId": "8061c808-0aca-416f-fdb2-48497b86f225"
      },
      "source": [
        "print(train_df.shape)"
      ],
      "execution_count": 5,
      "outputs": [
        {
          "output_type": "stream",
          "name": "stdout",
          "text": [
            "(421570, 5)\n"
          ]
        }
      ]
    },
    {
      "cell_type": "markdown",
      "metadata": {
        "id": "KSZUU3LlFxQ0"
      },
      "source": [
        "Check for null values if any"
      ]
    },
    {
      "cell_type": "code",
      "metadata": {
        "colab": {
          "base_uri": "https://localhost:8080/"
        },
        "id": "pLSdvib8h9ww",
        "outputId": "0bf0d2a7-cf2b-4107-b9b9-ed7d73bea533"
      },
      "source": [
        "train_df.isnull().sum()"
      ],
      "execution_count": 6,
      "outputs": [
        {
          "output_type": "execute_result",
          "data": {
            "text/plain": [
              "Store           0\n",
              "Dept            0\n",
              "Date            0\n",
              "Weekly_Sales    0\n",
              "IsHoliday       0\n",
              "dtype: int64"
            ]
          },
          "metadata": {},
          "execution_count": 6
        }
      ]
    },
    {
      "cell_type": "markdown",
      "metadata": {
        "id": "TT7M4MSmFz0m"
      },
      "source": [
        "Information "
      ]
    },
    {
      "cell_type": "code",
      "metadata": {
        "colab": {
          "base_uri": "https://localhost:8080/"
        },
        "id": "91GmkUYOghRx",
        "outputId": "882452e1-8cb8-4626-c061-ae462fa6ee91"
      },
      "source": [
        "train_df.info()"
      ],
      "execution_count": 7,
      "outputs": [
        {
          "output_type": "stream",
          "name": "stdout",
          "text": [
            "<class 'pandas.core.frame.DataFrame'>\n",
            "RangeIndex: 421570 entries, 0 to 421569\n",
            "Data columns (total 5 columns):\n",
            " #   Column        Non-Null Count   Dtype  \n",
            "---  ------        --------------   -----  \n",
            " 0   Store         421570 non-null  int64  \n",
            " 1   Dept          421570 non-null  int64  \n",
            " 2   Date          421570 non-null  object \n",
            " 3   Weekly_Sales  421570 non-null  float64\n",
            " 4   IsHoliday     421570 non-null  bool   \n",
            "dtypes: bool(1), float64(1), int64(2), object(1)\n",
            "memory usage: 13.3+ MB\n"
          ]
        }
      ]
    },
    {
      "cell_type": "markdown",
      "metadata": {
        "id": "UNr-WIsDGvhh"
      },
      "source": [
        "Description"
      ]
    },
    {
      "cell_type": "code",
      "metadata": {
        "colab": {
          "base_uri": "https://localhost:8080/",
          "height": 300
        },
        "id": "6xliR_Awh5jn",
        "outputId": "ba4533a2-f01d-448f-e4e4-b9eb73703eb5"
      },
      "source": [
        "train_df.describe()"
      ],
      "execution_count": 8,
      "outputs": [
        {
          "output_type": "execute_result",
          "data": {
            "text/html": [
              "<div>\n",
              "<style scoped>\n",
              "    .dataframe tbody tr th:only-of-type {\n",
              "        vertical-align: middle;\n",
              "    }\n",
              "\n",
              "    .dataframe tbody tr th {\n",
              "        vertical-align: top;\n",
              "    }\n",
              "\n",
              "    .dataframe thead th {\n",
              "        text-align: right;\n",
              "    }\n",
              "</style>\n",
              "<table border=\"1\" class=\"dataframe\">\n",
              "  <thead>\n",
              "    <tr style=\"text-align: right;\">\n",
              "      <th></th>\n",
              "      <th>Store</th>\n",
              "      <th>Dept</th>\n",
              "      <th>Weekly_Sales</th>\n",
              "    </tr>\n",
              "  </thead>\n",
              "  <tbody>\n",
              "    <tr>\n",
              "      <th>count</th>\n",
              "      <td>421570.000000</td>\n",
              "      <td>421570.000000</td>\n",
              "      <td>421570.000000</td>\n",
              "    </tr>\n",
              "    <tr>\n",
              "      <th>mean</th>\n",
              "      <td>22.200546</td>\n",
              "      <td>44.260317</td>\n",
              "      <td>15981.258123</td>\n",
              "    </tr>\n",
              "    <tr>\n",
              "      <th>std</th>\n",
              "      <td>12.785297</td>\n",
              "      <td>30.492054</td>\n",
              "      <td>22711.183519</td>\n",
              "    </tr>\n",
              "    <tr>\n",
              "      <th>min</th>\n",
              "      <td>1.000000</td>\n",
              "      <td>1.000000</td>\n",
              "      <td>-4988.940000</td>\n",
              "    </tr>\n",
              "    <tr>\n",
              "      <th>25%</th>\n",
              "      <td>11.000000</td>\n",
              "      <td>18.000000</td>\n",
              "      <td>2079.650000</td>\n",
              "    </tr>\n",
              "    <tr>\n",
              "      <th>50%</th>\n",
              "      <td>22.000000</td>\n",
              "      <td>37.000000</td>\n",
              "      <td>7612.030000</td>\n",
              "    </tr>\n",
              "    <tr>\n",
              "      <th>75%</th>\n",
              "      <td>33.000000</td>\n",
              "      <td>74.000000</td>\n",
              "      <td>20205.852500</td>\n",
              "    </tr>\n",
              "    <tr>\n",
              "      <th>max</th>\n",
              "      <td>45.000000</td>\n",
              "      <td>99.000000</td>\n",
              "      <td>693099.360000</td>\n",
              "    </tr>\n",
              "  </tbody>\n",
              "</table>\n",
              "</div>"
            ],
            "text/plain": [
              "               Store           Dept   Weekly_Sales\n",
              "count  421570.000000  421570.000000  421570.000000\n",
              "mean       22.200546      44.260317   15981.258123\n",
              "std        12.785297      30.492054   22711.183519\n",
              "min         1.000000       1.000000   -4988.940000\n",
              "25%        11.000000      18.000000    2079.650000\n",
              "50%        22.000000      37.000000    7612.030000\n",
              "75%        33.000000      74.000000   20205.852500\n",
              "max        45.000000      99.000000  693099.360000"
            ]
          },
          "metadata": {},
          "execution_count": 8
        }
      ]
    },
    {
      "cell_type": "markdown",
      "metadata": {
        "id": "5PLVxuRlG0DC"
      },
      "source": [
        "Reading and loading the Test Data"
      ]
    },
    {
      "cell_type": "code",
      "metadata": {
        "id": "d1MMXMu5iOcg"
      },
      "source": [
        "test_df = pd.read_csv('/content/test.csv')"
      ],
      "execution_count": 9,
      "outputs": []
    },
    {
      "cell_type": "markdown",
      "metadata": {
        "id": "ext6NqXGG38h"
      },
      "source": [
        "Viewing first five values"
      ]
    },
    {
      "cell_type": "code",
      "metadata": {
        "colab": {
          "base_uri": "https://localhost:8080/",
          "height": 206
        },
        "id": "_s4VttAyiPRP",
        "outputId": "15226b41-d6ef-4930-c9d5-059c5a470b74"
      },
      "source": [
        "test_df.head()"
      ],
      "execution_count": 10,
      "outputs": [
        {
          "output_type": "execute_result",
          "data": {
            "text/html": [
              "<div>\n",
              "<style scoped>\n",
              "    .dataframe tbody tr th:only-of-type {\n",
              "        vertical-align: middle;\n",
              "    }\n",
              "\n",
              "    .dataframe tbody tr th {\n",
              "        vertical-align: top;\n",
              "    }\n",
              "\n",
              "    .dataframe thead th {\n",
              "        text-align: right;\n",
              "    }\n",
              "</style>\n",
              "<table border=\"1\" class=\"dataframe\">\n",
              "  <thead>\n",
              "    <tr style=\"text-align: right;\">\n",
              "      <th></th>\n",
              "      <th>Store</th>\n",
              "      <th>Dept</th>\n",
              "      <th>Date</th>\n",
              "      <th>IsHoliday</th>\n",
              "    </tr>\n",
              "  </thead>\n",
              "  <tbody>\n",
              "    <tr>\n",
              "      <th>0</th>\n",
              "      <td>1</td>\n",
              "      <td>1</td>\n",
              "      <td>2012-11-02</td>\n",
              "      <td>False</td>\n",
              "    </tr>\n",
              "    <tr>\n",
              "      <th>1</th>\n",
              "      <td>1</td>\n",
              "      <td>1</td>\n",
              "      <td>2012-11-09</td>\n",
              "      <td>False</td>\n",
              "    </tr>\n",
              "    <tr>\n",
              "      <th>2</th>\n",
              "      <td>1</td>\n",
              "      <td>1</td>\n",
              "      <td>2012-11-16</td>\n",
              "      <td>False</td>\n",
              "    </tr>\n",
              "    <tr>\n",
              "      <th>3</th>\n",
              "      <td>1</td>\n",
              "      <td>1</td>\n",
              "      <td>2012-11-23</td>\n",
              "      <td>True</td>\n",
              "    </tr>\n",
              "    <tr>\n",
              "      <th>4</th>\n",
              "      <td>1</td>\n",
              "      <td>1</td>\n",
              "      <td>2012-11-30</td>\n",
              "      <td>False</td>\n",
              "    </tr>\n",
              "  </tbody>\n",
              "</table>\n",
              "</div>"
            ],
            "text/plain": [
              "   Store  Dept        Date  IsHoliday\n",
              "0      1     1  2012-11-02      False\n",
              "1      1     1  2012-11-09      False\n",
              "2      1     1  2012-11-16      False\n",
              "3      1     1  2012-11-23       True\n",
              "4      1     1  2012-11-30      False"
            ]
          },
          "metadata": {},
          "execution_count": 10
        }
      ]
    },
    {
      "cell_type": "markdown",
      "metadata": {
        "id": "uytBeMPPG50S"
      },
      "source": [
        "Viewing last five values"
      ]
    },
    {
      "cell_type": "code",
      "metadata": {
        "colab": {
          "base_uri": "https://localhost:8080/",
          "height": 206
        },
        "id": "vSD8PZZmiS3g",
        "outputId": "92ea2e96-738a-46f4-a230-c3fab617cdad"
      },
      "source": [
        "test_df.tail()"
      ],
      "execution_count": 11,
      "outputs": [
        {
          "output_type": "execute_result",
          "data": {
            "text/html": [
              "<div>\n",
              "<style scoped>\n",
              "    .dataframe tbody tr th:only-of-type {\n",
              "        vertical-align: middle;\n",
              "    }\n",
              "\n",
              "    .dataframe tbody tr th {\n",
              "        vertical-align: top;\n",
              "    }\n",
              "\n",
              "    .dataframe thead th {\n",
              "        text-align: right;\n",
              "    }\n",
              "</style>\n",
              "<table border=\"1\" class=\"dataframe\">\n",
              "  <thead>\n",
              "    <tr style=\"text-align: right;\">\n",
              "      <th></th>\n",
              "      <th>Store</th>\n",
              "      <th>Dept</th>\n",
              "      <th>Date</th>\n",
              "      <th>IsHoliday</th>\n",
              "    </tr>\n",
              "  </thead>\n",
              "  <tbody>\n",
              "    <tr>\n",
              "      <th>115059</th>\n",
              "      <td>45</td>\n",
              "      <td>98</td>\n",
              "      <td>2013-06-28</td>\n",
              "      <td>False</td>\n",
              "    </tr>\n",
              "    <tr>\n",
              "      <th>115060</th>\n",
              "      <td>45</td>\n",
              "      <td>98</td>\n",
              "      <td>2013-07-05</td>\n",
              "      <td>False</td>\n",
              "    </tr>\n",
              "    <tr>\n",
              "      <th>115061</th>\n",
              "      <td>45</td>\n",
              "      <td>98</td>\n",
              "      <td>2013-07-12</td>\n",
              "      <td>False</td>\n",
              "    </tr>\n",
              "    <tr>\n",
              "      <th>115062</th>\n",
              "      <td>45</td>\n",
              "      <td>98</td>\n",
              "      <td>2013-07-19</td>\n",
              "      <td>False</td>\n",
              "    </tr>\n",
              "    <tr>\n",
              "      <th>115063</th>\n",
              "      <td>45</td>\n",
              "      <td>98</td>\n",
              "      <td>2013-07-26</td>\n",
              "      <td>False</td>\n",
              "    </tr>\n",
              "  </tbody>\n",
              "</table>\n",
              "</div>"
            ],
            "text/plain": [
              "        Store  Dept        Date  IsHoliday\n",
              "115059     45    98  2013-06-28      False\n",
              "115060     45    98  2013-07-05      False\n",
              "115061     45    98  2013-07-12      False\n",
              "115062     45    98  2013-07-19      False\n",
              "115063     45    98  2013-07-26      False"
            ]
          },
          "metadata": {},
          "execution_count": 11
        }
      ]
    },
    {
      "cell_type": "markdown",
      "metadata": {
        "id": "FnO4I-eYG7t7"
      },
      "source": [
        "Shape of the Dataset"
      ]
    },
    {
      "cell_type": "code",
      "metadata": {
        "colab": {
          "base_uri": "https://localhost:8080/"
        },
        "id": "shBourZ4iVhA",
        "outputId": "13613ee7-5b48-4360-fe4a-f74d8df9fd7a"
      },
      "source": [
        "print(test_df.shape)"
      ],
      "execution_count": 12,
      "outputs": [
        {
          "output_type": "stream",
          "name": "stdout",
          "text": [
            "(115064, 4)\n"
          ]
        }
      ]
    },
    {
      "cell_type": "markdown",
      "metadata": {
        "id": "-0gzQAaFG9Sq"
      },
      "source": [
        "Check for null values if any"
      ]
    },
    {
      "cell_type": "code",
      "metadata": {
        "colab": {
          "base_uri": "https://localhost:8080/"
        },
        "id": "iic4al8miZFn",
        "outputId": "b998248e-43b5-4d53-cdcb-acdfb0efd811"
      },
      "source": [
        "test_df.isnull().sum()"
      ],
      "execution_count": 13,
      "outputs": [
        {
          "output_type": "execute_result",
          "data": {
            "text/plain": [
              "Store        0\n",
              "Dept         0\n",
              "Date         0\n",
              "IsHoliday    0\n",
              "dtype: int64"
            ]
          },
          "metadata": {},
          "execution_count": 13
        }
      ]
    },
    {
      "cell_type": "markdown",
      "metadata": {
        "id": "ljIrEidkG_1V"
      },
      "source": [
        "Information"
      ]
    },
    {
      "cell_type": "code",
      "metadata": {
        "colab": {
          "base_uri": "https://localhost:8080/"
        },
        "id": "WXzUsk3kifov",
        "outputId": "2fe0d711-f8a2-42dc-dbb8-eac633e0dc22"
      },
      "source": [
        "test_df.info()"
      ],
      "execution_count": 14,
      "outputs": [
        {
          "output_type": "stream",
          "name": "stdout",
          "text": [
            "<class 'pandas.core.frame.DataFrame'>\n",
            "RangeIndex: 115064 entries, 0 to 115063\n",
            "Data columns (total 4 columns):\n",
            " #   Column     Non-Null Count   Dtype \n",
            "---  ------     --------------   ----- \n",
            " 0   Store      115064 non-null  int64 \n",
            " 1   Dept       115064 non-null  int64 \n",
            " 2   Date       115064 non-null  object\n",
            " 3   IsHoliday  115064 non-null  bool  \n",
            "dtypes: bool(1), int64(2), object(1)\n",
            "memory usage: 2.7+ MB\n"
          ]
        }
      ]
    },
    {
      "cell_type": "markdown",
      "metadata": {
        "id": "rtuZIY7fHA9R"
      },
      "source": [
        "Description"
      ]
    },
    {
      "cell_type": "code",
      "metadata": {
        "colab": {
          "base_uri": "https://localhost:8080/",
          "height": 300
        },
        "id": "jQnW3WYciiOf",
        "outputId": "b3d16c40-1f19-4b2a-b824-02b668a5019a"
      },
      "source": [
        "test_df.describe()"
      ],
      "execution_count": 15,
      "outputs": [
        {
          "output_type": "execute_result",
          "data": {
            "text/html": [
              "<div>\n",
              "<style scoped>\n",
              "    .dataframe tbody tr th:only-of-type {\n",
              "        vertical-align: middle;\n",
              "    }\n",
              "\n",
              "    .dataframe tbody tr th {\n",
              "        vertical-align: top;\n",
              "    }\n",
              "\n",
              "    .dataframe thead th {\n",
              "        text-align: right;\n",
              "    }\n",
              "</style>\n",
              "<table border=\"1\" class=\"dataframe\">\n",
              "  <thead>\n",
              "    <tr style=\"text-align: right;\">\n",
              "      <th></th>\n",
              "      <th>Store</th>\n",
              "      <th>Dept</th>\n",
              "    </tr>\n",
              "  </thead>\n",
              "  <tbody>\n",
              "    <tr>\n",
              "      <th>count</th>\n",
              "      <td>115064.000000</td>\n",
              "      <td>115064.000000</td>\n",
              "    </tr>\n",
              "    <tr>\n",
              "      <th>mean</th>\n",
              "      <td>22.238207</td>\n",
              "      <td>44.339524</td>\n",
              "    </tr>\n",
              "    <tr>\n",
              "      <th>std</th>\n",
              "      <td>12.809930</td>\n",
              "      <td>30.656410</td>\n",
              "    </tr>\n",
              "    <tr>\n",
              "      <th>min</th>\n",
              "      <td>1.000000</td>\n",
              "      <td>1.000000</td>\n",
              "    </tr>\n",
              "    <tr>\n",
              "      <th>25%</th>\n",
              "      <td>11.000000</td>\n",
              "      <td>18.000000</td>\n",
              "    </tr>\n",
              "    <tr>\n",
              "      <th>50%</th>\n",
              "      <td>22.000000</td>\n",
              "      <td>37.000000</td>\n",
              "    </tr>\n",
              "    <tr>\n",
              "      <th>75%</th>\n",
              "      <td>33.000000</td>\n",
              "      <td>74.000000</td>\n",
              "    </tr>\n",
              "    <tr>\n",
              "      <th>max</th>\n",
              "      <td>45.000000</td>\n",
              "      <td>99.000000</td>\n",
              "    </tr>\n",
              "  </tbody>\n",
              "</table>\n",
              "</div>"
            ],
            "text/plain": [
              "               Store           Dept\n",
              "count  115064.000000  115064.000000\n",
              "mean       22.238207      44.339524\n",
              "std        12.809930      30.656410\n",
              "min         1.000000       1.000000\n",
              "25%        11.000000      18.000000\n",
              "50%        22.000000      37.000000\n",
              "75%        33.000000      74.000000\n",
              "max        45.000000      99.000000"
            ]
          },
          "metadata": {},
          "execution_count": 15
        }
      ]
    },
    {
      "cell_type": "markdown",
      "metadata": {
        "id": "BIM0__guHCKj"
      },
      "source": [
        "Reading and loading the Feature Data"
      ]
    },
    {
      "cell_type": "code",
      "metadata": {
        "id": "qC7f5u7finxX"
      },
      "source": [
        "features_df = pd.read_csv('/content/features.csv')"
      ],
      "execution_count": 16,
      "outputs": []
    },
    {
      "cell_type": "markdown",
      "metadata": {
        "id": "wwbVD0xQHEd6"
      },
      "source": [
        "Viewing first five values"
      ]
    },
    {
      "cell_type": "code",
      "metadata": {
        "colab": {
          "base_uri": "https://localhost:8080/",
          "height": 206
        },
        "id": "6qKSsUpHioo_",
        "outputId": "db35c787-9acd-4c30-f4d5-600328a415d1"
      },
      "source": [
        "features_df.head()"
      ],
      "execution_count": 17,
      "outputs": [
        {
          "output_type": "execute_result",
          "data": {
            "text/html": [
              "<div>\n",
              "<style scoped>\n",
              "    .dataframe tbody tr th:only-of-type {\n",
              "        vertical-align: middle;\n",
              "    }\n",
              "\n",
              "    .dataframe tbody tr th {\n",
              "        vertical-align: top;\n",
              "    }\n",
              "\n",
              "    .dataframe thead th {\n",
              "        text-align: right;\n",
              "    }\n",
              "</style>\n",
              "<table border=\"1\" class=\"dataframe\">\n",
              "  <thead>\n",
              "    <tr style=\"text-align: right;\">\n",
              "      <th></th>\n",
              "      <th>Store</th>\n",
              "      <th>Date</th>\n",
              "      <th>Temperature</th>\n",
              "      <th>Fuel_Price</th>\n",
              "      <th>MarkDown1</th>\n",
              "      <th>MarkDown2</th>\n",
              "      <th>MarkDown3</th>\n",
              "      <th>MarkDown4</th>\n",
              "      <th>MarkDown5</th>\n",
              "      <th>CPI</th>\n",
              "      <th>Unemployment</th>\n",
              "      <th>IsHoliday</th>\n",
              "    </tr>\n",
              "  </thead>\n",
              "  <tbody>\n",
              "    <tr>\n",
              "      <th>0</th>\n",
              "      <td>1</td>\n",
              "      <td>2010-02-05</td>\n",
              "      <td>42.31</td>\n",
              "      <td>2.572</td>\n",
              "      <td>NaN</td>\n",
              "      <td>NaN</td>\n",
              "      <td>NaN</td>\n",
              "      <td>NaN</td>\n",
              "      <td>NaN</td>\n",
              "      <td>211.096358</td>\n",
              "      <td>8.106</td>\n",
              "      <td>False</td>\n",
              "    </tr>\n",
              "    <tr>\n",
              "      <th>1</th>\n",
              "      <td>1</td>\n",
              "      <td>2010-02-12</td>\n",
              "      <td>38.51</td>\n",
              "      <td>2.548</td>\n",
              "      <td>NaN</td>\n",
              "      <td>NaN</td>\n",
              "      <td>NaN</td>\n",
              "      <td>NaN</td>\n",
              "      <td>NaN</td>\n",
              "      <td>211.242170</td>\n",
              "      <td>8.106</td>\n",
              "      <td>True</td>\n",
              "    </tr>\n",
              "    <tr>\n",
              "      <th>2</th>\n",
              "      <td>1</td>\n",
              "      <td>2010-02-19</td>\n",
              "      <td>39.93</td>\n",
              "      <td>2.514</td>\n",
              "      <td>NaN</td>\n",
              "      <td>NaN</td>\n",
              "      <td>NaN</td>\n",
              "      <td>NaN</td>\n",
              "      <td>NaN</td>\n",
              "      <td>211.289143</td>\n",
              "      <td>8.106</td>\n",
              "      <td>False</td>\n",
              "    </tr>\n",
              "    <tr>\n",
              "      <th>3</th>\n",
              "      <td>1</td>\n",
              "      <td>2010-02-26</td>\n",
              "      <td>46.63</td>\n",
              "      <td>2.561</td>\n",
              "      <td>NaN</td>\n",
              "      <td>NaN</td>\n",
              "      <td>NaN</td>\n",
              "      <td>NaN</td>\n",
              "      <td>NaN</td>\n",
              "      <td>211.319643</td>\n",
              "      <td>8.106</td>\n",
              "      <td>False</td>\n",
              "    </tr>\n",
              "    <tr>\n",
              "      <th>4</th>\n",
              "      <td>1</td>\n",
              "      <td>2010-03-05</td>\n",
              "      <td>46.50</td>\n",
              "      <td>2.625</td>\n",
              "      <td>NaN</td>\n",
              "      <td>NaN</td>\n",
              "      <td>NaN</td>\n",
              "      <td>NaN</td>\n",
              "      <td>NaN</td>\n",
              "      <td>211.350143</td>\n",
              "      <td>8.106</td>\n",
              "      <td>False</td>\n",
              "    </tr>\n",
              "  </tbody>\n",
              "</table>\n",
              "</div>"
            ],
            "text/plain": [
              "   Store        Date  Temperature  ...         CPI  Unemployment  IsHoliday\n",
              "0      1  2010-02-05        42.31  ...  211.096358         8.106      False\n",
              "1      1  2010-02-12        38.51  ...  211.242170         8.106       True\n",
              "2      1  2010-02-19        39.93  ...  211.289143         8.106      False\n",
              "3      1  2010-02-26        46.63  ...  211.319643         8.106      False\n",
              "4      1  2010-03-05        46.50  ...  211.350143         8.106      False\n",
              "\n",
              "[5 rows x 12 columns]"
            ]
          },
          "metadata": {},
          "execution_count": 17
        }
      ]
    },
    {
      "cell_type": "markdown",
      "metadata": {
        "id": "_5xIBTQtHGuS"
      },
      "source": [
        "Viewing last five values"
      ]
    },
    {
      "cell_type": "code",
      "metadata": {
        "colab": {
          "base_uri": "https://localhost:8080/",
          "height": 206
        },
        "id": "2toc1M-6itwk",
        "outputId": "fe1c2165-ff07-44e4-eecc-148ac6666878"
      },
      "source": [
        "features_df.tail()"
      ],
      "execution_count": 18,
      "outputs": [
        {
          "output_type": "execute_result",
          "data": {
            "text/html": [
              "<div>\n",
              "<style scoped>\n",
              "    .dataframe tbody tr th:only-of-type {\n",
              "        vertical-align: middle;\n",
              "    }\n",
              "\n",
              "    .dataframe tbody tr th {\n",
              "        vertical-align: top;\n",
              "    }\n",
              "\n",
              "    .dataframe thead th {\n",
              "        text-align: right;\n",
              "    }\n",
              "</style>\n",
              "<table border=\"1\" class=\"dataframe\">\n",
              "  <thead>\n",
              "    <tr style=\"text-align: right;\">\n",
              "      <th></th>\n",
              "      <th>Store</th>\n",
              "      <th>Date</th>\n",
              "      <th>Temperature</th>\n",
              "      <th>Fuel_Price</th>\n",
              "      <th>MarkDown1</th>\n",
              "      <th>MarkDown2</th>\n",
              "      <th>MarkDown3</th>\n",
              "      <th>MarkDown4</th>\n",
              "      <th>MarkDown5</th>\n",
              "      <th>CPI</th>\n",
              "      <th>Unemployment</th>\n",
              "      <th>IsHoliday</th>\n",
              "    </tr>\n",
              "  </thead>\n",
              "  <tbody>\n",
              "    <tr>\n",
              "      <th>8185</th>\n",
              "      <td>45</td>\n",
              "      <td>2013-06-28</td>\n",
              "      <td>76.05</td>\n",
              "      <td>3.639</td>\n",
              "      <td>4842.29</td>\n",
              "      <td>975.03</td>\n",
              "      <td>3.00</td>\n",
              "      <td>2449.97</td>\n",
              "      <td>3169.69</td>\n",
              "      <td>NaN</td>\n",
              "      <td>NaN</td>\n",
              "      <td>False</td>\n",
              "    </tr>\n",
              "    <tr>\n",
              "      <th>8186</th>\n",
              "      <td>45</td>\n",
              "      <td>2013-07-05</td>\n",
              "      <td>77.50</td>\n",
              "      <td>3.614</td>\n",
              "      <td>9090.48</td>\n",
              "      <td>2268.58</td>\n",
              "      <td>582.74</td>\n",
              "      <td>5797.47</td>\n",
              "      <td>1514.93</td>\n",
              "      <td>NaN</td>\n",
              "      <td>NaN</td>\n",
              "      <td>False</td>\n",
              "    </tr>\n",
              "    <tr>\n",
              "      <th>8187</th>\n",
              "      <td>45</td>\n",
              "      <td>2013-07-12</td>\n",
              "      <td>79.37</td>\n",
              "      <td>3.614</td>\n",
              "      <td>3789.94</td>\n",
              "      <td>1827.31</td>\n",
              "      <td>85.72</td>\n",
              "      <td>744.84</td>\n",
              "      <td>2150.36</td>\n",
              "      <td>NaN</td>\n",
              "      <td>NaN</td>\n",
              "      <td>False</td>\n",
              "    </tr>\n",
              "    <tr>\n",
              "      <th>8188</th>\n",
              "      <td>45</td>\n",
              "      <td>2013-07-19</td>\n",
              "      <td>82.84</td>\n",
              "      <td>3.737</td>\n",
              "      <td>2961.49</td>\n",
              "      <td>1047.07</td>\n",
              "      <td>204.19</td>\n",
              "      <td>363.00</td>\n",
              "      <td>1059.46</td>\n",
              "      <td>NaN</td>\n",
              "      <td>NaN</td>\n",
              "      <td>False</td>\n",
              "    </tr>\n",
              "    <tr>\n",
              "      <th>8189</th>\n",
              "      <td>45</td>\n",
              "      <td>2013-07-26</td>\n",
              "      <td>76.06</td>\n",
              "      <td>3.804</td>\n",
              "      <td>212.02</td>\n",
              "      <td>851.73</td>\n",
              "      <td>2.06</td>\n",
              "      <td>10.88</td>\n",
              "      <td>1864.57</td>\n",
              "      <td>NaN</td>\n",
              "      <td>NaN</td>\n",
              "      <td>False</td>\n",
              "    </tr>\n",
              "  </tbody>\n",
              "</table>\n",
              "</div>"
            ],
            "text/plain": [
              "      Store        Date  Temperature  ...  CPI  Unemployment  IsHoliday\n",
              "8185     45  2013-06-28        76.05  ...  NaN           NaN      False\n",
              "8186     45  2013-07-05        77.50  ...  NaN           NaN      False\n",
              "8187     45  2013-07-12        79.37  ...  NaN           NaN      False\n",
              "8188     45  2013-07-19        82.84  ...  NaN           NaN      False\n",
              "8189     45  2013-07-26        76.06  ...  NaN           NaN      False\n",
              "\n",
              "[5 rows x 12 columns]"
            ]
          },
          "metadata": {},
          "execution_count": 18
        }
      ]
    },
    {
      "cell_type": "markdown",
      "metadata": {
        "id": "tpG_BYJlHIiC"
      },
      "source": [
        "Shape of the Dataset"
      ]
    },
    {
      "cell_type": "code",
      "metadata": {
        "colab": {
          "base_uri": "https://localhost:8080/"
        },
        "id": "VfxC3VGaiwtH",
        "outputId": "01494626-6c7c-46af-ee00-b2394c39e7b8"
      },
      "source": [
        "print(features_df.shape)"
      ],
      "execution_count": 19,
      "outputs": [
        {
          "output_type": "stream",
          "name": "stdout",
          "text": [
            "(8190, 12)\n"
          ]
        }
      ]
    },
    {
      "cell_type": "markdown",
      "metadata": {
        "id": "abu3SJ5QHJ5A"
      },
      "source": [
        "Check for null values if any"
      ]
    },
    {
      "cell_type": "code",
      "metadata": {
        "colab": {
          "base_uri": "https://localhost:8080/"
        },
        "id": "X_N83J6fizJ2",
        "outputId": "e4a3543a-b380-4013-d1fa-a18427db17e8"
      },
      "source": [
        "features_df.isnull().sum()"
      ],
      "execution_count": 20,
      "outputs": [
        {
          "output_type": "execute_result",
          "data": {
            "text/plain": [
              "Store              0\n",
              "Date               0\n",
              "Temperature        0\n",
              "Fuel_Price         0\n",
              "MarkDown1       4158\n",
              "MarkDown2       5269\n",
              "MarkDown3       4577\n",
              "MarkDown4       4726\n",
              "MarkDown5       4140\n",
              "CPI              585\n",
              "Unemployment     585\n",
              "IsHoliday          0\n",
              "dtype: int64"
            ]
          },
          "metadata": {},
          "execution_count": 20
        }
      ]
    },
    {
      "cell_type": "markdown",
      "metadata": {
        "id": "ILnbMIJBHYaC"
      },
      "source": [
        "Information"
      ]
    },
    {
      "cell_type": "code",
      "metadata": {
        "colab": {
          "base_uri": "https://localhost:8080/"
        },
        "id": "ZatA4xqGi2qm",
        "outputId": "75af0a73-7a8d-4315-f9a8-f66e9a6181d1"
      },
      "source": [
        "features_df.info()"
      ],
      "execution_count": 21,
      "outputs": [
        {
          "output_type": "stream",
          "name": "stdout",
          "text": [
            "<class 'pandas.core.frame.DataFrame'>\n",
            "RangeIndex: 8190 entries, 0 to 8189\n",
            "Data columns (total 12 columns):\n",
            " #   Column        Non-Null Count  Dtype  \n",
            "---  ------        --------------  -----  \n",
            " 0   Store         8190 non-null   int64  \n",
            " 1   Date          8190 non-null   object \n",
            " 2   Temperature   8190 non-null   float64\n",
            " 3   Fuel_Price    8190 non-null   float64\n",
            " 4   MarkDown1     4032 non-null   float64\n",
            " 5   MarkDown2     2921 non-null   float64\n",
            " 6   MarkDown3     3613 non-null   float64\n",
            " 7   MarkDown4     3464 non-null   float64\n",
            " 8   MarkDown5     4050 non-null   float64\n",
            " 9   CPI           7605 non-null   float64\n",
            " 10  Unemployment  7605 non-null   float64\n",
            " 11  IsHoliday     8190 non-null   bool   \n",
            "dtypes: bool(1), float64(9), int64(1), object(1)\n",
            "memory usage: 712.0+ KB\n"
          ]
        }
      ]
    },
    {
      "cell_type": "markdown",
      "metadata": {
        "id": "0H5d4pt2Ha32"
      },
      "source": [
        "Descrption"
      ]
    },
    {
      "cell_type": "code",
      "metadata": {
        "colab": {
          "base_uri": "https://localhost:8080/",
          "height": 300
        },
        "id": "NSiQXefvjIW_",
        "outputId": "d6c0baa2-62fd-4845-c9c6-d0a4ea906204"
      },
      "source": [
        "features_df.describe()"
      ],
      "execution_count": 22,
      "outputs": [
        {
          "output_type": "execute_result",
          "data": {
            "text/html": [
              "<div>\n",
              "<style scoped>\n",
              "    .dataframe tbody tr th:only-of-type {\n",
              "        vertical-align: middle;\n",
              "    }\n",
              "\n",
              "    .dataframe tbody tr th {\n",
              "        vertical-align: top;\n",
              "    }\n",
              "\n",
              "    .dataframe thead th {\n",
              "        text-align: right;\n",
              "    }\n",
              "</style>\n",
              "<table border=\"1\" class=\"dataframe\">\n",
              "  <thead>\n",
              "    <tr style=\"text-align: right;\">\n",
              "      <th></th>\n",
              "      <th>Store</th>\n",
              "      <th>Temperature</th>\n",
              "      <th>Fuel_Price</th>\n",
              "      <th>MarkDown1</th>\n",
              "      <th>MarkDown2</th>\n",
              "      <th>MarkDown3</th>\n",
              "      <th>MarkDown4</th>\n",
              "      <th>MarkDown5</th>\n",
              "      <th>CPI</th>\n",
              "      <th>Unemployment</th>\n",
              "    </tr>\n",
              "  </thead>\n",
              "  <tbody>\n",
              "    <tr>\n",
              "      <th>count</th>\n",
              "      <td>8190.000000</td>\n",
              "      <td>8190.000000</td>\n",
              "      <td>8190.000000</td>\n",
              "      <td>4032.000000</td>\n",
              "      <td>2921.000000</td>\n",
              "      <td>3613.000000</td>\n",
              "      <td>3464.000000</td>\n",
              "      <td>4050.000000</td>\n",
              "      <td>7605.000000</td>\n",
              "      <td>7605.000000</td>\n",
              "    </tr>\n",
              "    <tr>\n",
              "      <th>mean</th>\n",
              "      <td>23.000000</td>\n",
              "      <td>59.356198</td>\n",
              "      <td>3.405992</td>\n",
              "      <td>7032.371786</td>\n",
              "      <td>3384.176594</td>\n",
              "      <td>1760.100180</td>\n",
              "      <td>3292.935886</td>\n",
              "      <td>4132.216422</td>\n",
              "      <td>172.460809</td>\n",
              "      <td>7.826821</td>\n",
              "    </tr>\n",
              "    <tr>\n",
              "      <th>std</th>\n",
              "      <td>12.987966</td>\n",
              "      <td>18.678607</td>\n",
              "      <td>0.431337</td>\n",
              "      <td>9262.747448</td>\n",
              "      <td>8793.583016</td>\n",
              "      <td>11276.462208</td>\n",
              "      <td>6792.329861</td>\n",
              "      <td>13086.690278</td>\n",
              "      <td>39.738346</td>\n",
              "      <td>1.877259</td>\n",
              "    </tr>\n",
              "    <tr>\n",
              "      <th>min</th>\n",
              "      <td>1.000000</td>\n",
              "      <td>-7.290000</td>\n",
              "      <td>2.472000</td>\n",
              "      <td>-2781.450000</td>\n",
              "      <td>-265.760000</td>\n",
              "      <td>-179.260000</td>\n",
              "      <td>0.220000</td>\n",
              "      <td>-185.170000</td>\n",
              "      <td>126.064000</td>\n",
              "      <td>3.684000</td>\n",
              "    </tr>\n",
              "    <tr>\n",
              "      <th>25%</th>\n",
              "      <td>12.000000</td>\n",
              "      <td>45.902500</td>\n",
              "      <td>3.041000</td>\n",
              "      <td>1577.532500</td>\n",
              "      <td>68.880000</td>\n",
              "      <td>6.600000</td>\n",
              "      <td>304.687500</td>\n",
              "      <td>1440.827500</td>\n",
              "      <td>132.364839</td>\n",
              "      <td>6.634000</td>\n",
              "    </tr>\n",
              "    <tr>\n",
              "      <th>50%</th>\n",
              "      <td>23.000000</td>\n",
              "      <td>60.710000</td>\n",
              "      <td>3.513000</td>\n",
              "      <td>4743.580000</td>\n",
              "      <td>364.570000</td>\n",
              "      <td>36.260000</td>\n",
              "      <td>1176.425000</td>\n",
              "      <td>2727.135000</td>\n",
              "      <td>182.764003</td>\n",
              "      <td>7.806000</td>\n",
              "    </tr>\n",
              "    <tr>\n",
              "      <th>75%</th>\n",
              "      <td>34.000000</td>\n",
              "      <td>73.880000</td>\n",
              "      <td>3.743000</td>\n",
              "      <td>8923.310000</td>\n",
              "      <td>2153.350000</td>\n",
              "      <td>163.150000</td>\n",
              "      <td>3310.007500</td>\n",
              "      <td>4832.555000</td>\n",
              "      <td>213.932412</td>\n",
              "      <td>8.567000</td>\n",
              "    </tr>\n",
              "    <tr>\n",
              "      <th>max</th>\n",
              "      <td>45.000000</td>\n",
              "      <td>101.950000</td>\n",
              "      <td>4.468000</td>\n",
              "      <td>103184.980000</td>\n",
              "      <td>104519.540000</td>\n",
              "      <td>149483.310000</td>\n",
              "      <td>67474.850000</td>\n",
              "      <td>771448.100000</td>\n",
              "      <td>228.976456</td>\n",
              "      <td>14.313000</td>\n",
              "    </tr>\n",
              "  </tbody>\n",
              "</table>\n",
              "</div>"
            ],
            "text/plain": [
              "             Store  Temperature  ...          CPI  Unemployment\n",
              "count  8190.000000  8190.000000  ...  7605.000000   7605.000000\n",
              "mean     23.000000    59.356198  ...   172.460809      7.826821\n",
              "std      12.987966    18.678607  ...    39.738346      1.877259\n",
              "min       1.000000    -7.290000  ...   126.064000      3.684000\n",
              "25%      12.000000    45.902500  ...   132.364839      6.634000\n",
              "50%      23.000000    60.710000  ...   182.764003      7.806000\n",
              "75%      34.000000    73.880000  ...   213.932412      8.567000\n",
              "max      45.000000   101.950000  ...   228.976456     14.313000\n",
              "\n",
              "[8 rows x 10 columns]"
            ]
          },
          "metadata": {},
          "execution_count": 22
        }
      ]
    },
    {
      "cell_type": "markdown",
      "metadata": {
        "id": "nGTQCMnjHc9a"
      },
      "source": [
        "Reading and loading the Store Data"
      ]
    },
    {
      "cell_type": "code",
      "metadata": {
        "id": "h89CUEnvjTCf"
      },
      "source": [
        "stores_df = pd.read_csv('/content/stores.csv')"
      ],
      "execution_count": 23,
      "outputs": []
    },
    {
      "cell_type": "markdown",
      "metadata": {
        "id": "wBKRiTsaHfui"
      },
      "source": [
        "Viewing the first five values"
      ]
    },
    {
      "cell_type": "code",
      "metadata": {
        "colab": {
          "base_uri": "https://localhost:8080/",
          "height": 206
        },
        "id": "JbTNalf9jTu_",
        "outputId": "66149110-7f21-4d26-b595-883ecf6434c1"
      },
      "source": [
        "stores_df.head()"
      ],
      "execution_count": 24,
      "outputs": [
        {
          "output_type": "execute_result",
          "data": {
            "text/html": [
              "<div>\n",
              "<style scoped>\n",
              "    .dataframe tbody tr th:only-of-type {\n",
              "        vertical-align: middle;\n",
              "    }\n",
              "\n",
              "    .dataframe tbody tr th {\n",
              "        vertical-align: top;\n",
              "    }\n",
              "\n",
              "    .dataframe thead th {\n",
              "        text-align: right;\n",
              "    }\n",
              "</style>\n",
              "<table border=\"1\" class=\"dataframe\">\n",
              "  <thead>\n",
              "    <tr style=\"text-align: right;\">\n",
              "      <th></th>\n",
              "      <th>Store</th>\n",
              "      <th>Type</th>\n",
              "      <th>Size</th>\n",
              "    </tr>\n",
              "  </thead>\n",
              "  <tbody>\n",
              "    <tr>\n",
              "      <th>0</th>\n",
              "      <td>1</td>\n",
              "      <td>A</td>\n",
              "      <td>151315</td>\n",
              "    </tr>\n",
              "    <tr>\n",
              "      <th>1</th>\n",
              "      <td>2</td>\n",
              "      <td>A</td>\n",
              "      <td>202307</td>\n",
              "    </tr>\n",
              "    <tr>\n",
              "      <th>2</th>\n",
              "      <td>3</td>\n",
              "      <td>B</td>\n",
              "      <td>37392</td>\n",
              "    </tr>\n",
              "    <tr>\n",
              "      <th>3</th>\n",
              "      <td>4</td>\n",
              "      <td>A</td>\n",
              "      <td>205863</td>\n",
              "    </tr>\n",
              "    <tr>\n",
              "      <th>4</th>\n",
              "      <td>5</td>\n",
              "      <td>B</td>\n",
              "      <td>34875</td>\n",
              "    </tr>\n",
              "  </tbody>\n",
              "</table>\n",
              "</div>"
            ],
            "text/plain": [
              "   Store Type    Size\n",
              "0      1    A  151315\n",
              "1      2    A  202307\n",
              "2      3    B   37392\n",
              "3      4    A  205863\n",
              "4      5    B   34875"
            ]
          },
          "metadata": {},
          "execution_count": 24
        }
      ]
    },
    {
      "cell_type": "markdown",
      "metadata": {
        "id": "OQQ6-OIEHh3i"
      },
      "source": [
        "Viewing the last five values"
      ]
    },
    {
      "cell_type": "code",
      "metadata": {
        "colab": {
          "base_uri": "https://localhost:8080/",
          "height": 206
        },
        "id": "nBMNRjbgjWpv",
        "outputId": "95f0911e-4152-4422-837f-1853c7bbfcc3"
      },
      "source": [
        "stores_df.tail()"
      ],
      "execution_count": 25,
      "outputs": [
        {
          "output_type": "execute_result",
          "data": {
            "text/html": [
              "<div>\n",
              "<style scoped>\n",
              "    .dataframe tbody tr th:only-of-type {\n",
              "        vertical-align: middle;\n",
              "    }\n",
              "\n",
              "    .dataframe tbody tr th {\n",
              "        vertical-align: top;\n",
              "    }\n",
              "\n",
              "    .dataframe thead th {\n",
              "        text-align: right;\n",
              "    }\n",
              "</style>\n",
              "<table border=\"1\" class=\"dataframe\">\n",
              "  <thead>\n",
              "    <tr style=\"text-align: right;\">\n",
              "      <th></th>\n",
              "      <th>Store</th>\n",
              "      <th>Type</th>\n",
              "      <th>Size</th>\n",
              "    </tr>\n",
              "  </thead>\n",
              "  <tbody>\n",
              "    <tr>\n",
              "      <th>40</th>\n",
              "      <td>41</td>\n",
              "      <td>A</td>\n",
              "      <td>196321</td>\n",
              "    </tr>\n",
              "    <tr>\n",
              "      <th>41</th>\n",
              "      <td>42</td>\n",
              "      <td>C</td>\n",
              "      <td>39690</td>\n",
              "    </tr>\n",
              "    <tr>\n",
              "      <th>42</th>\n",
              "      <td>43</td>\n",
              "      <td>C</td>\n",
              "      <td>41062</td>\n",
              "    </tr>\n",
              "    <tr>\n",
              "      <th>43</th>\n",
              "      <td>44</td>\n",
              "      <td>C</td>\n",
              "      <td>39910</td>\n",
              "    </tr>\n",
              "    <tr>\n",
              "      <th>44</th>\n",
              "      <td>45</td>\n",
              "      <td>B</td>\n",
              "      <td>118221</td>\n",
              "    </tr>\n",
              "  </tbody>\n",
              "</table>\n",
              "</div>"
            ],
            "text/plain": [
              "    Store Type    Size\n",
              "40     41    A  196321\n",
              "41     42    C   39690\n",
              "42     43    C   41062\n",
              "43     44    C   39910\n",
              "44     45    B  118221"
            ]
          },
          "metadata": {},
          "execution_count": 25
        }
      ]
    },
    {
      "cell_type": "markdown",
      "metadata": {
        "id": "Dzzuf2waHk4w"
      },
      "source": [
        "Shape of the Dataset"
      ]
    },
    {
      "cell_type": "code",
      "metadata": {
        "colab": {
          "base_uri": "https://localhost:8080/"
        },
        "id": "NDMZnfyHkb0_",
        "outputId": "1d7df06f-4b61-4a54-e6b2-d52db7e7653e"
      },
      "source": [
        "print(stores_df.shape)"
      ],
      "execution_count": 26,
      "outputs": [
        {
          "output_type": "stream",
          "name": "stdout",
          "text": [
            "(45, 3)\n"
          ]
        }
      ]
    },
    {
      "cell_type": "markdown",
      "metadata": {
        "id": "wkiUqHWNHmh5"
      },
      "source": [
        "Check for null values if any"
      ]
    },
    {
      "cell_type": "code",
      "metadata": {
        "colab": {
          "base_uri": "https://localhost:8080/"
        },
        "id": "uLBy9LQTkefA",
        "outputId": "788f6a06-d26f-4d09-9e99-295e59c48a3e"
      },
      "source": [
        "stores_df.isnull().sum()"
      ],
      "execution_count": 27,
      "outputs": [
        {
          "output_type": "execute_result",
          "data": {
            "text/plain": [
              "Store    0\n",
              "Type     0\n",
              "Size     0\n",
              "dtype: int64"
            ]
          },
          "metadata": {},
          "execution_count": 27
        }
      ]
    },
    {
      "cell_type": "markdown",
      "metadata": {
        "id": "vuhl_u3wHonq"
      },
      "source": [
        "Information"
      ]
    },
    {
      "cell_type": "code",
      "metadata": {
        "colab": {
          "base_uri": "https://localhost:8080/"
        },
        "id": "LFixO6lmkjI_",
        "outputId": "f1290cd3-672f-488a-abef-03cda8e36641"
      },
      "source": [
        "stores_df.info()"
      ],
      "execution_count": 28,
      "outputs": [
        {
          "output_type": "stream",
          "name": "stdout",
          "text": [
            "<class 'pandas.core.frame.DataFrame'>\n",
            "RangeIndex: 45 entries, 0 to 44\n",
            "Data columns (total 3 columns):\n",
            " #   Column  Non-Null Count  Dtype \n",
            "---  ------  --------------  ----- \n",
            " 0   Store   45 non-null     int64 \n",
            " 1   Type    45 non-null     object\n",
            " 2   Size    45 non-null     int64 \n",
            "dtypes: int64(2), object(1)\n",
            "memory usage: 1.2+ KB\n"
          ]
        }
      ]
    },
    {
      "cell_type": "markdown",
      "metadata": {
        "id": "UJW2UQJPHrly"
      },
      "source": [
        "Description"
      ]
    },
    {
      "cell_type": "code",
      "metadata": {
        "colab": {
          "base_uri": "https://localhost:8080/",
          "height": 300
        },
        "id": "6TIy_hThklUP",
        "outputId": "d2951495-564b-47c3-e486-1b1c3bd1f1a8"
      },
      "source": [
        "stores_df.describe()"
      ],
      "execution_count": 29,
      "outputs": [
        {
          "output_type": "execute_result",
          "data": {
            "text/html": [
              "<div>\n",
              "<style scoped>\n",
              "    .dataframe tbody tr th:only-of-type {\n",
              "        vertical-align: middle;\n",
              "    }\n",
              "\n",
              "    .dataframe tbody tr th {\n",
              "        vertical-align: top;\n",
              "    }\n",
              "\n",
              "    .dataframe thead th {\n",
              "        text-align: right;\n",
              "    }\n",
              "</style>\n",
              "<table border=\"1\" class=\"dataframe\">\n",
              "  <thead>\n",
              "    <tr style=\"text-align: right;\">\n",
              "      <th></th>\n",
              "      <th>Store</th>\n",
              "      <th>Size</th>\n",
              "    </tr>\n",
              "  </thead>\n",
              "  <tbody>\n",
              "    <tr>\n",
              "      <th>count</th>\n",
              "      <td>45.000000</td>\n",
              "      <td>45.000000</td>\n",
              "    </tr>\n",
              "    <tr>\n",
              "      <th>mean</th>\n",
              "      <td>23.000000</td>\n",
              "      <td>130287.600000</td>\n",
              "    </tr>\n",
              "    <tr>\n",
              "      <th>std</th>\n",
              "      <td>13.133926</td>\n",
              "      <td>63825.271991</td>\n",
              "    </tr>\n",
              "    <tr>\n",
              "      <th>min</th>\n",
              "      <td>1.000000</td>\n",
              "      <td>34875.000000</td>\n",
              "    </tr>\n",
              "    <tr>\n",
              "      <th>25%</th>\n",
              "      <td>12.000000</td>\n",
              "      <td>70713.000000</td>\n",
              "    </tr>\n",
              "    <tr>\n",
              "      <th>50%</th>\n",
              "      <td>23.000000</td>\n",
              "      <td>126512.000000</td>\n",
              "    </tr>\n",
              "    <tr>\n",
              "      <th>75%</th>\n",
              "      <td>34.000000</td>\n",
              "      <td>202307.000000</td>\n",
              "    </tr>\n",
              "    <tr>\n",
              "      <th>max</th>\n",
              "      <td>45.000000</td>\n",
              "      <td>219622.000000</td>\n",
              "    </tr>\n",
              "  </tbody>\n",
              "</table>\n",
              "</div>"
            ],
            "text/plain": [
              "           Store           Size\n",
              "count  45.000000      45.000000\n",
              "mean   23.000000  130287.600000\n",
              "std    13.133926   63825.271991\n",
              "min     1.000000   34875.000000\n",
              "25%    12.000000   70713.000000\n",
              "50%    23.000000  126512.000000\n",
              "75%    34.000000  202307.000000\n",
              "max    45.000000  219622.000000"
            ]
          },
          "metadata": {},
          "execution_count": 29
        }
      ]
    },
    {
      "cell_type": "markdown",
      "metadata": {
        "id": "dCIvgA05melA"
      },
      "source": [
        "Merging features n store data"
      ]
    },
    {
      "cell_type": "code",
      "metadata": {
        "colab": {
          "base_uri": "https://localhost:8080/",
          "height": 206
        },
        "id": "_ijYvwKymgYD",
        "outputId": "5c58f826-e908-4181-ff6f-9321df9784a7"
      },
      "source": [
        "# used join method - inner join - refer SQL\n",
        "dataset_m = features_df.merge(stores_df, how = 'inner', on ='Store')\n",
        "dataset_m.head()"
      ],
      "execution_count": 30,
      "outputs": [
        {
          "output_type": "execute_result",
          "data": {
            "text/html": [
              "<div>\n",
              "<style scoped>\n",
              "    .dataframe tbody tr th:only-of-type {\n",
              "        vertical-align: middle;\n",
              "    }\n",
              "\n",
              "    .dataframe tbody tr th {\n",
              "        vertical-align: top;\n",
              "    }\n",
              "\n",
              "    .dataframe thead th {\n",
              "        text-align: right;\n",
              "    }\n",
              "</style>\n",
              "<table border=\"1\" class=\"dataframe\">\n",
              "  <thead>\n",
              "    <tr style=\"text-align: right;\">\n",
              "      <th></th>\n",
              "      <th>Store</th>\n",
              "      <th>Date</th>\n",
              "      <th>Temperature</th>\n",
              "      <th>Fuel_Price</th>\n",
              "      <th>MarkDown1</th>\n",
              "      <th>MarkDown2</th>\n",
              "      <th>MarkDown3</th>\n",
              "      <th>MarkDown4</th>\n",
              "      <th>MarkDown5</th>\n",
              "      <th>CPI</th>\n",
              "      <th>Unemployment</th>\n",
              "      <th>IsHoliday</th>\n",
              "      <th>Type</th>\n",
              "      <th>Size</th>\n",
              "    </tr>\n",
              "  </thead>\n",
              "  <tbody>\n",
              "    <tr>\n",
              "      <th>0</th>\n",
              "      <td>1</td>\n",
              "      <td>2010-02-05</td>\n",
              "      <td>42.31</td>\n",
              "      <td>2.572</td>\n",
              "      <td>NaN</td>\n",
              "      <td>NaN</td>\n",
              "      <td>NaN</td>\n",
              "      <td>NaN</td>\n",
              "      <td>NaN</td>\n",
              "      <td>211.096358</td>\n",
              "      <td>8.106</td>\n",
              "      <td>False</td>\n",
              "      <td>A</td>\n",
              "      <td>151315</td>\n",
              "    </tr>\n",
              "    <tr>\n",
              "      <th>1</th>\n",
              "      <td>1</td>\n",
              "      <td>2010-02-12</td>\n",
              "      <td>38.51</td>\n",
              "      <td>2.548</td>\n",
              "      <td>NaN</td>\n",
              "      <td>NaN</td>\n",
              "      <td>NaN</td>\n",
              "      <td>NaN</td>\n",
              "      <td>NaN</td>\n",
              "      <td>211.242170</td>\n",
              "      <td>8.106</td>\n",
              "      <td>True</td>\n",
              "      <td>A</td>\n",
              "      <td>151315</td>\n",
              "    </tr>\n",
              "    <tr>\n",
              "      <th>2</th>\n",
              "      <td>1</td>\n",
              "      <td>2010-02-19</td>\n",
              "      <td>39.93</td>\n",
              "      <td>2.514</td>\n",
              "      <td>NaN</td>\n",
              "      <td>NaN</td>\n",
              "      <td>NaN</td>\n",
              "      <td>NaN</td>\n",
              "      <td>NaN</td>\n",
              "      <td>211.289143</td>\n",
              "      <td>8.106</td>\n",
              "      <td>False</td>\n",
              "      <td>A</td>\n",
              "      <td>151315</td>\n",
              "    </tr>\n",
              "    <tr>\n",
              "      <th>3</th>\n",
              "      <td>1</td>\n",
              "      <td>2010-02-26</td>\n",
              "      <td>46.63</td>\n",
              "      <td>2.561</td>\n",
              "      <td>NaN</td>\n",
              "      <td>NaN</td>\n",
              "      <td>NaN</td>\n",
              "      <td>NaN</td>\n",
              "      <td>NaN</td>\n",
              "      <td>211.319643</td>\n",
              "      <td>8.106</td>\n",
              "      <td>False</td>\n",
              "      <td>A</td>\n",
              "      <td>151315</td>\n",
              "    </tr>\n",
              "    <tr>\n",
              "      <th>4</th>\n",
              "      <td>1</td>\n",
              "      <td>2010-03-05</td>\n",
              "      <td>46.50</td>\n",
              "      <td>2.625</td>\n",
              "      <td>NaN</td>\n",
              "      <td>NaN</td>\n",
              "      <td>NaN</td>\n",
              "      <td>NaN</td>\n",
              "      <td>NaN</td>\n",
              "      <td>211.350143</td>\n",
              "      <td>8.106</td>\n",
              "      <td>False</td>\n",
              "      <td>A</td>\n",
              "      <td>151315</td>\n",
              "    </tr>\n",
              "  </tbody>\n",
              "</table>\n",
              "</div>"
            ],
            "text/plain": [
              "   Store        Date  Temperature  ...  IsHoliday  Type    Size\n",
              "0      1  2010-02-05        42.31  ...      False     A  151315\n",
              "1      1  2010-02-12        38.51  ...       True     A  151315\n",
              "2      1  2010-02-19        39.93  ...      False     A  151315\n",
              "3      1  2010-02-26        46.63  ...      False     A  151315\n",
              "4      1  2010-03-05        46.50  ...      False     A  151315\n",
              "\n",
              "[5 rows x 14 columns]"
            ]
          },
          "metadata": {},
          "execution_count": 30
        }
      ]
    },
    {
      "cell_type": "code",
      "metadata": {
        "colab": {
          "base_uri": "https://localhost:8080/",
          "height": 206
        },
        "id": "RzORQlZdm_U3",
        "outputId": "67def0b0-5da6-47bf-d5ba-19cbc9a9c5d2"
      },
      "source": [
        "dataset_m.tail()"
      ],
      "execution_count": 31,
      "outputs": [
        {
          "output_type": "execute_result",
          "data": {
            "text/html": [
              "<div>\n",
              "<style scoped>\n",
              "    .dataframe tbody tr th:only-of-type {\n",
              "        vertical-align: middle;\n",
              "    }\n",
              "\n",
              "    .dataframe tbody tr th {\n",
              "        vertical-align: top;\n",
              "    }\n",
              "\n",
              "    .dataframe thead th {\n",
              "        text-align: right;\n",
              "    }\n",
              "</style>\n",
              "<table border=\"1\" class=\"dataframe\">\n",
              "  <thead>\n",
              "    <tr style=\"text-align: right;\">\n",
              "      <th></th>\n",
              "      <th>Store</th>\n",
              "      <th>Date</th>\n",
              "      <th>Temperature</th>\n",
              "      <th>Fuel_Price</th>\n",
              "      <th>MarkDown1</th>\n",
              "      <th>MarkDown2</th>\n",
              "      <th>MarkDown3</th>\n",
              "      <th>MarkDown4</th>\n",
              "      <th>MarkDown5</th>\n",
              "      <th>CPI</th>\n",
              "      <th>Unemployment</th>\n",
              "      <th>IsHoliday</th>\n",
              "      <th>Type</th>\n",
              "      <th>Size</th>\n",
              "    </tr>\n",
              "  </thead>\n",
              "  <tbody>\n",
              "    <tr>\n",
              "      <th>8185</th>\n",
              "      <td>45</td>\n",
              "      <td>2013-06-28</td>\n",
              "      <td>76.05</td>\n",
              "      <td>3.639</td>\n",
              "      <td>4842.29</td>\n",
              "      <td>975.03</td>\n",
              "      <td>3.00</td>\n",
              "      <td>2449.97</td>\n",
              "      <td>3169.69</td>\n",
              "      <td>NaN</td>\n",
              "      <td>NaN</td>\n",
              "      <td>False</td>\n",
              "      <td>B</td>\n",
              "      <td>118221</td>\n",
              "    </tr>\n",
              "    <tr>\n",
              "      <th>8186</th>\n",
              "      <td>45</td>\n",
              "      <td>2013-07-05</td>\n",
              "      <td>77.50</td>\n",
              "      <td>3.614</td>\n",
              "      <td>9090.48</td>\n",
              "      <td>2268.58</td>\n",
              "      <td>582.74</td>\n",
              "      <td>5797.47</td>\n",
              "      <td>1514.93</td>\n",
              "      <td>NaN</td>\n",
              "      <td>NaN</td>\n",
              "      <td>False</td>\n",
              "      <td>B</td>\n",
              "      <td>118221</td>\n",
              "    </tr>\n",
              "    <tr>\n",
              "      <th>8187</th>\n",
              "      <td>45</td>\n",
              "      <td>2013-07-12</td>\n",
              "      <td>79.37</td>\n",
              "      <td>3.614</td>\n",
              "      <td>3789.94</td>\n",
              "      <td>1827.31</td>\n",
              "      <td>85.72</td>\n",
              "      <td>744.84</td>\n",
              "      <td>2150.36</td>\n",
              "      <td>NaN</td>\n",
              "      <td>NaN</td>\n",
              "      <td>False</td>\n",
              "      <td>B</td>\n",
              "      <td>118221</td>\n",
              "    </tr>\n",
              "    <tr>\n",
              "      <th>8188</th>\n",
              "      <td>45</td>\n",
              "      <td>2013-07-19</td>\n",
              "      <td>82.84</td>\n",
              "      <td>3.737</td>\n",
              "      <td>2961.49</td>\n",
              "      <td>1047.07</td>\n",
              "      <td>204.19</td>\n",
              "      <td>363.00</td>\n",
              "      <td>1059.46</td>\n",
              "      <td>NaN</td>\n",
              "      <td>NaN</td>\n",
              "      <td>False</td>\n",
              "      <td>B</td>\n",
              "      <td>118221</td>\n",
              "    </tr>\n",
              "    <tr>\n",
              "      <th>8189</th>\n",
              "      <td>45</td>\n",
              "      <td>2013-07-26</td>\n",
              "      <td>76.06</td>\n",
              "      <td>3.804</td>\n",
              "      <td>212.02</td>\n",
              "      <td>851.73</td>\n",
              "      <td>2.06</td>\n",
              "      <td>10.88</td>\n",
              "      <td>1864.57</td>\n",
              "      <td>NaN</td>\n",
              "      <td>NaN</td>\n",
              "      <td>False</td>\n",
              "      <td>B</td>\n",
              "      <td>118221</td>\n",
              "    </tr>\n",
              "  </tbody>\n",
              "</table>\n",
              "</div>"
            ],
            "text/plain": [
              "      Store        Date  Temperature  ...  IsHoliday  Type    Size\n",
              "8185     45  2013-06-28        76.05  ...      False     B  118221\n",
              "8186     45  2013-07-05        77.50  ...      False     B  118221\n",
              "8187     45  2013-07-12        79.37  ...      False     B  118221\n",
              "8188     45  2013-07-19        82.84  ...      False     B  118221\n",
              "8189     45  2013-07-26        76.06  ...      False     B  118221\n",
              "\n",
              "[5 rows x 14 columns]"
            ]
          },
          "metadata": {},
          "execution_count": 31
        }
      ]
    },
    {
      "cell_type": "code",
      "metadata": {
        "colab": {
          "base_uri": "https://localhost:8080/"
        },
        "id": "UAxVgqOsnBR_",
        "outputId": "90a69a0e-989f-49d3-8025-392ca1bd1503"
      },
      "source": [
        "print(dataset_m.shape)"
      ],
      "execution_count": 32,
      "outputs": [
        {
          "output_type": "stream",
          "name": "stdout",
          "text": [
            "(8190, 14)\n"
          ]
        }
      ]
    },
    {
      "cell_type": "code",
      "metadata": {
        "colab": {
          "base_uri": "https://localhost:8080/"
        },
        "id": "U3zEi2zqnbPY",
        "outputId": "083e5c8d-dd16-4cba-be60-b5bad7b8f02c"
      },
      "source": [
        "# not dropping null values as it wont be feasible\n",
        "dataset_m.isnull().sum()"
      ],
      "execution_count": 33,
      "outputs": [
        {
          "output_type": "execute_result",
          "data": {
            "text/plain": [
              "Store              0\n",
              "Date               0\n",
              "Temperature        0\n",
              "Fuel_Price         0\n",
              "MarkDown1       4158\n",
              "MarkDown2       5269\n",
              "MarkDown3       4577\n",
              "MarkDown4       4726\n",
              "MarkDown5       4140\n",
              "CPI              585\n",
              "Unemployment     585\n",
              "IsHoliday          0\n",
              "Type               0\n",
              "Size               0\n",
              "dtype: int64"
            ]
          },
          "metadata": {},
          "execution_count": 33
        }
      ]
    },
    {
      "cell_type": "code",
      "metadata": {
        "colab": {
          "base_uri": "https://localhost:8080/"
        },
        "id": "vFCXRLVmnew3",
        "outputId": "b338c43c-eee0-4c50-d886-7f5bf08a3fdf"
      },
      "source": [
        "dataset_m.info()"
      ],
      "execution_count": 34,
      "outputs": [
        {
          "output_type": "stream",
          "name": "stdout",
          "text": [
            "<class 'pandas.core.frame.DataFrame'>\n",
            "Int64Index: 8190 entries, 0 to 8189\n",
            "Data columns (total 14 columns):\n",
            " #   Column        Non-Null Count  Dtype  \n",
            "---  ------        --------------  -----  \n",
            " 0   Store         8190 non-null   int64  \n",
            " 1   Date          8190 non-null   object \n",
            " 2   Temperature   8190 non-null   float64\n",
            " 3   Fuel_Price    8190 non-null   float64\n",
            " 4   MarkDown1     4032 non-null   float64\n",
            " 5   MarkDown2     2921 non-null   float64\n",
            " 6   MarkDown3     3613 non-null   float64\n",
            " 7   MarkDown4     3464 non-null   float64\n",
            " 8   MarkDown5     4050 non-null   float64\n",
            " 9   CPI           7605 non-null   float64\n",
            " 10  Unemployment  7605 non-null   float64\n",
            " 11  IsHoliday     8190 non-null   bool   \n",
            " 12  Type          8190 non-null   object \n",
            " 13  Size          8190 non-null   int64  \n",
            "dtypes: bool(1), float64(9), int64(2), object(2)\n",
            "memory usage: 903.8+ KB\n"
          ]
        }
      ]
    },
    {
      "cell_type": "code",
      "metadata": {
        "colab": {
          "base_uri": "https://localhost:8080/",
          "height": 320
        },
        "id": "Iy9ABcMvnhef",
        "outputId": "4e090ab1-dfe6-4402-f8df-71a784b7ca91"
      },
      "source": [
        "dataset_m.describe()"
      ],
      "execution_count": 35,
      "outputs": [
        {
          "output_type": "execute_result",
          "data": {
            "text/html": [
              "<div>\n",
              "<style scoped>\n",
              "    .dataframe tbody tr th:only-of-type {\n",
              "        vertical-align: middle;\n",
              "    }\n",
              "\n",
              "    .dataframe tbody tr th {\n",
              "        vertical-align: top;\n",
              "    }\n",
              "\n",
              "    .dataframe thead th {\n",
              "        text-align: right;\n",
              "    }\n",
              "</style>\n",
              "<table border=\"1\" class=\"dataframe\">\n",
              "  <thead>\n",
              "    <tr style=\"text-align: right;\">\n",
              "      <th></th>\n",
              "      <th>Store</th>\n",
              "      <th>Temperature</th>\n",
              "      <th>Fuel_Price</th>\n",
              "      <th>MarkDown1</th>\n",
              "      <th>MarkDown2</th>\n",
              "      <th>MarkDown3</th>\n",
              "      <th>MarkDown4</th>\n",
              "      <th>MarkDown5</th>\n",
              "      <th>CPI</th>\n",
              "      <th>Unemployment</th>\n",
              "      <th>Size</th>\n",
              "    </tr>\n",
              "  </thead>\n",
              "  <tbody>\n",
              "    <tr>\n",
              "      <th>count</th>\n",
              "      <td>8190.000000</td>\n",
              "      <td>8190.000000</td>\n",
              "      <td>8190.000000</td>\n",
              "      <td>4032.000000</td>\n",
              "      <td>2921.000000</td>\n",
              "      <td>3613.000000</td>\n",
              "      <td>3464.000000</td>\n",
              "      <td>4050.000000</td>\n",
              "      <td>7605.000000</td>\n",
              "      <td>7605.000000</td>\n",
              "      <td>8190.000000</td>\n",
              "    </tr>\n",
              "    <tr>\n",
              "      <th>mean</th>\n",
              "      <td>23.000000</td>\n",
              "      <td>59.356198</td>\n",
              "      <td>3.405992</td>\n",
              "      <td>7032.371786</td>\n",
              "      <td>3384.176594</td>\n",
              "      <td>1760.100180</td>\n",
              "      <td>3292.935886</td>\n",
              "      <td>4132.216422</td>\n",
              "      <td>172.460809</td>\n",
              "      <td>7.826821</td>\n",
              "      <td>130287.600000</td>\n",
              "    </tr>\n",
              "    <tr>\n",
              "      <th>std</th>\n",
              "      <td>12.987966</td>\n",
              "      <td>18.678607</td>\n",
              "      <td>0.431337</td>\n",
              "      <td>9262.747448</td>\n",
              "      <td>8793.583016</td>\n",
              "      <td>11276.462208</td>\n",
              "      <td>6792.329861</td>\n",
              "      <td>13086.690278</td>\n",
              "      <td>39.738346</td>\n",
              "      <td>1.877259</td>\n",
              "      <td>63115.971429</td>\n",
              "    </tr>\n",
              "    <tr>\n",
              "      <th>min</th>\n",
              "      <td>1.000000</td>\n",
              "      <td>-7.290000</td>\n",
              "      <td>2.472000</td>\n",
              "      <td>-2781.450000</td>\n",
              "      <td>-265.760000</td>\n",
              "      <td>-179.260000</td>\n",
              "      <td>0.220000</td>\n",
              "      <td>-185.170000</td>\n",
              "      <td>126.064000</td>\n",
              "      <td>3.684000</td>\n",
              "      <td>34875.000000</td>\n",
              "    </tr>\n",
              "    <tr>\n",
              "      <th>25%</th>\n",
              "      <td>12.000000</td>\n",
              "      <td>45.902500</td>\n",
              "      <td>3.041000</td>\n",
              "      <td>1577.532500</td>\n",
              "      <td>68.880000</td>\n",
              "      <td>6.600000</td>\n",
              "      <td>304.687500</td>\n",
              "      <td>1440.827500</td>\n",
              "      <td>132.364839</td>\n",
              "      <td>6.634000</td>\n",
              "      <td>70713.000000</td>\n",
              "    </tr>\n",
              "    <tr>\n",
              "      <th>50%</th>\n",
              "      <td>23.000000</td>\n",
              "      <td>60.710000</td>\n",
              "      <td>3.513000</td>\n",
              "      <td>4743.580000</td>\n",
              "      <td>364.570000</td>\n",
              "      <td>36.260000</td>\n",
              "      <td>1176.425000</td>\n",
              "      <td>2727.135000</td>\n",
              "      <td>182.764003</td>\n",
              "      <td>7.806000</td>\n",
              "      <td>126512.000000</td>\n",
              "    </tr>\n",
              "    <tr>\n",
              "      <th>75%</th>\n",
              "      <td>34.000000</td>\n",
              "      <td>73.880000</td>\n",
              "      <td>3.743000</td>\n",
              "      <td>8923.310000</td>\n",
              "      <td>2153.350000</td>\n",
              "      <td>163.150000</td>\n",
              "      <td>3310.007500</td>\n",
              "      <td>4832.555000</td>\n",
              "      <td>213.932412</td>\n",
              "      <td>8.567000</td>\n",
              "      <td>202307.000000</td>\n",
              "    </tr>\n",
              "    <tr>\n",
              "      <th>max</th>\n",
              "      <td>45.000000</td>\n",
              "      <td>101.950000</td>\n",
              "      <td>4.468000</td>\n",
              "      <td>103184.980000</td>\n",
              "      <td>104519.540000</td>\n",
              "      <td>149483.310000</td>\n",
              "      <td>67474.850000</td>\n",
              "      <td>771448.100000</td>\n",
              "      <td>228.976456</td>\n",
              "      <td>14.313000</td>\n",
              "      <td>219622.000000</td>\n",
              "    </tr>\n",
              "  </tbody>\n",
              "</table>\n",
              "</div>"
            ],
            "text/plain": [
              "             Store  Temperature  ...  Unemployment           Size\n",
              "count  8190.000000  8190.000000  ...   7605.000000    8190.000000\n",
              "mean     23.000000    59.356198  ...      7.826821  130287.600000\n",
              "std      12.987966    18.678607  ...      1.877259   63115.971429\n",
              "min       1.000000    -7.290000  ...      3.684000   34875.000000\n",
              "25%      12.000000    45.902500  ...      6.634000   70713.000000\n",
              "50%      23.000000    60.710000  ...      7.806000  126512.000000\n",
              "75%      34.000000    73.880000  ...      8.567000  202307.000000\n",
              "max      45.000000   101.950000  ...     14.313000  219622.000000\n",
              "\n",
              "[8 rows x 11 columns]"
            ]
          },
          "metadata": {},
          "execution_count": 35
        }
      ]
    },
    {
      "cell_type": "code",
      "metadata": {
        "colab": {
          "base_uri": "https://localhost:8080/"
        },
        "id": "zEOp3ZWNn4TK",
        "outputId": "5c36a8f9-0429-4c41-aece-5e187205f5a1"
      },
      "source": [
        "# Converting date to datetime\n",
        "!pip install datetime"
      ],
      "execution_count": 36,
      "outputs": [
        {
          "output_type": "stream",
          "name": "stdout",
          "text": [
            "Collecting datetime\n",
            "  Downloading DateTime-4.3-py2.py3-none-any.whl (60 kB)\n",
            "\u001b[?25l\r\u001b[K     |█████▌                          | 10 kB 19.8 MB/s eta 0:00:01\r\u001b[K     |███████████                     | 20 kB 22.3 MB/s eta 0:00:01\r\u001b[K     |████████████████▍               | 30 kB 21.0 MB/s eta 0:00:01\r\u001b[K     |█████████████████████▉          | 40 kB 13.8 MB/s eta 0:00:01\r\u001b[K     |███████████████████████████▎    | 51 kB 2.9 MB/s eta 0:00:01\r\u001b[K     |████████████████████████████████| 60 kB 2.1 MB/s \n",
            "\u001b[?25hRequirement already satisfied: pytz in /usr/local/lib/python3.7/dist-packages (from datetime) (2018.9)\n",
            "Collecting zope.interface\n",
            "  Downloading zope.interface-5.4.0-cp37-cp37m-manylinux2010_x86_64.whl (251 kB)\n",
            "\u001b[K     |████████████████████████████████| 251 kB 10.0 MB/s \n",
            "\u001b[?25hRequirement already satisfied: setuptools in /usr/local/lib/python3.7/dist-packages (from zope.interface->datetime) (57.4.0)\n",
            "Installing collected packages: zope.interface, datetime\n",
            "Successfully installed datetime-4.3 zope.interface-5.4.0\n"
          ]
        }
      ]
    },
    {
      "cell_type": "code",
      "metadata": {
        "id": "HExYgEFEobzi"
      },
      "source": [
        "dataset_m['Date'] = pd.to_datetime(dataset_m['Date'])\n",
        "train_df['Date'] = pd.to_datetime(train_df['Date'])\n",
        "test_df['Date'] = pd.to_datetime(test_df['Date'])"
      ],
      "execution_count": 37,
      "outputs": []
    },
    {
      "cell_type": "code",
      "metadata": {
        "id": "UinpyLpFpTad"
      },
      "source": [
        "# Extracting week & year from the data and make them into new columns\n",
        "# isocalendar() - python calendar\n",
        "dataset_m['week'] = dataset_m.Date.dt.isocalendar().week\n",
        "dataset_m['year'] = dataset_m.Date.dt.isocalendar().year"
      ],
      "execution_count": 38,
      "outputs": []
    },
    {
      "cell_type": "code",
      "metadata": {
        "colab": {
          "base_uri": "https://localhost:8080/",
          "height": 313
        },
        "id": "mwSLMMwGrMR8",
        "outputId": "e14e904d-da8b-4df4-9665-d6579760d944"
      },
      "source": [
        "dataset_m.head()"
      ],
      "execution_count": 39,
      "outputs": [
        {
          "output_type": "execute_result",
          "data": {
            "text/html": [
              "<div>\n",
              "<style scoped>\n",
              "    .dataframe tbody tr th:only-of-type {\n",
              "        vertical-align: middle;\n",
              "    }\n",
              "\n",
              "    .dataframe tbody tr th {\n",
              "        vertical-align: top;\n",
              "    }\n",
              "\n",
              "    .dataframe thead th {\n",
              "        text-align: right;\n",
              "    }\n",
              "</style>\n",
              "<table border=\"1\" class=\"dataframe\">\n",
              "  <thead>\n",
              "    <tr style=\"text-align: right;\">\n",
              "      <th></th>\n",
              "      <th>Store</th>\n",
              "      <th>Date</th>\n",
              "      <th>Temperature</th>\n",
              "      <th>Fuel_Price</th>\n",
              "      <th>MarkDown1</th>\n",
              "      <th>MarkDown2</th>\n",
              "      <th>MarkDown3</th>\n",
              "      <th>MarkDown4</th>\n",
              "      <th>MarkDown5</th>\n",
              "      <th>CPI</th>\n",
              "      <th>Unemployment</th>\n",
              "      <th>IsHoliday</th>\n",
              "      <th>Type</th>\n",
              "      <th>Size</th>\n",
              "      <th>week</th>\n",
              "      <th>year</th>\n",
              "    </tr>\n",
              "  </thead>\n",
              "  <tbody>\n",
              "    <tr>\n",
              "      <th>0</th>\n",
              "      <td>1</td>\n",
              "      <td>2010-02-05</td>\n",
              "      <td>42.31</td>\n",
              "      <td>2.572</td>\n",
              "      <td>NaN</td>\n",
              "      <td>NaN</td>\n",
              "      <td>NaN</td>\n",
              "      <td>NaN</td>\n",
              "      <td>NaN</td>\n",
              "      <td>211.096358</td>\n",
              "      <td>8.106</td>\n",
              "      <td>False</td>\n",
              "      <td>A</td>\n",
              "      <td>151315</td>\n",
              "      <td>5</td>\n",
              "      <td>2010</td>\n",
              "    </tr>\n",
              "    <tr>\n",
              "      <th>1</th>\n",
              "      <td>1</td>\n",
              "      <td>2010-02-12</td>\n",
              "      <td>38.51</td>\n",
              "      <td>2.548</td>\n",
              "      <td>NaN</td>\n",
              "      <td>NaN</td>\n",
              "      <td>NaN</td>\n",
              "      <td>NaN</td>\n",
              "      <td>NaN</td>\n",
              "      <td>211.242170</td>\n",
              "      <td>8.106</td>\n",
              "      <td>True</td>\n",
              "      <td>A</td>\n",
              "      <td>151315</td>\n",
              "      <td>6</td>\n",
              "      <td>2010</td>\n",
              "    </tr>\n",
              "    <tr>\n",
              "      <th>2</th>\n",
              "      <td>1</td>\n",
              "      <td>2010-02-19</td>\n",
              "      <td>39.93</td>\n",
              "      <td>2.514</td>\n",
              "      <td>NaN</td>\n",
              "      <td>NaN</td>\n",
              "      <td>NaN</td>\n",
              "      <td>NaN</td>\n",
              "      <td>NaN</td>\n",
              "      <td>211.289143</td>\n",
              "      <td>8.106</td>\n",
              "      <td>False</td>\n",
              "      <td>A</td>\n",
              "      <td>151315</td>\n",
              "      <td>7</td>\n",
              "      <td>2010</td>\n",
              "    </tr>\n",
              "    <tr>\n",
              "      <th>3</th>\n",
              "      <td>1</td>\n",
              "      <td>2010-02-26</td>\n",
              "      <td>46.63</td>\n",
              "      <td>2.561</td>\n",
              "      <td>NaN</td>\n",
              "      <td>NaN</td>\n",
              "      <td>NaN</td>\n",
              "      <td>NaN</td>\n",
              "      <td>NaN</td>\n",
              "      <td>211.319643</td>\n",
              "      <td>8.106</td>\n",
              "      <td>False</td>\n",
              "      <td>A</td>\n",
              "      <td>151315</td>\n",
              "      <td>8</td>\n",
              "      <td>2010</td>\n",
              "    </tr>\n",
              "    <tr>\n",
              "      <th>4</th>\n",
              "      <td>1</td>\n",
              "      <td>2010-03-05</td>\n",
              "      <td>46.50</td>\n",
              "      <td>2.625</td>\n",
              "      <td>NaN</td>\n",
              "      <td>NaN</td>\n",
              "      <td>NaN</td>\n",
              "      <td>NaN</td>\n",
              "      <td>NaN</td>\n",
              "      <td>211.350143</td>\n",
              "      <td>8.106</td>\n",
              "      <td>False</td>\n",
              "      <td>A</td>\n",
              "      <td>151315</td>\n",
              "      <td>9</td>\n",
              "      <td>2010</td>\n",
              "    </tr>\n",
              "  </tbody>\n",
              "</table>\n",
              "</div>"
            ],
            "text/plain": [
              "   Store       Date  Temperature  Fuel_Price  ...  Type    Size  week  year\n",
              "0      1 2010-02-05        42.31       2.572  ...     A  151315     5  2010\n",
              "1      1 2010-02-12        38.51       2.548  ...     A  151315     6  2010\n",
              "2      1 2010-02-19        39.93       2.514  ...     A  151315     7  2010\n",
              "3      1 2010-02-26        46.63       2.561  ...     A  151315     8  2010\n",
              "4      1 2010-03-05        46.50       2.625  ...     A  151315     9  2010\n",
              "\n",
              "[5 rows x 16 columns]"
            ]
          },
          "metadata": {},
          "execution_count": 39
        }
      ]
    },
    {
      "cell_type": "code",
      "metadata": {
        "colab": {
          "base_uri": "https://localhost:8080/",
          "height": 313
        },
        "id": "fB2j4SiQrVKV",
        "outputId": "729abb41-97f9-40c6-e583-97f270879531"
      },
      "source": [
        "dataset_m.tail()"
      ],
      "execution_count": 40,
      "outputs": [
        {
          "output_type": "execute_result",
          "data": {
            "text/html": [
              "<div>\n",
              "<style scoped>\n",
              "    .dataframe tbody tr th:only-of-type {\n",
              "        vertical-align: middle;\n",
              "    }\n",
              "\n",
              "    .dataframe tbody tr th {\n",
              "        vertical-align: top;\n",
              "    }\n",
              "\n",
              "    .dataframe thead th {\n",
              "        text-align: right;\n",
              "    }\n",
              "</style>\n",
              "<table border=\"1\" class=\"dataframe\">\n",
              "  <thead>\n",
              "    <tr style=\"text-align: right;\">\n",
              "      <th></th>\n",
              "      <th>Store</th>\n",
              "      <th>Date</th>\n",
              "      <th>Temperature</th>\n",
              "      <th>Fuel_Price</th>\n",
              "      <th>MarkDown1</th>\n",
              "      <th>MarkDown2</th>\n",
              "      <th>MarkDown3</th>\n",
              "      <th>MarkDown4</th>\n",
              "      <th>MarkDown5</th>\n",
              "      <th>CPI</th>\n",
              "      <th>Unemployment</th>\n",
              "      <th>IsHoliday</th>\n",
              "      <th>Type</th>\n",
              "      <th>Size</th>\n",
              "      <th>week</th>\n",
              "      <th>year</th>\n",
              "    </tr>\n",
              "  </thead>\n",
              "  <tbody>\n",
              "    <tr>\n",
              "      <th>8185</th>\n",
              "      <td>45</td>\n",
              "      <td>2013-06-28</td>\n",
              "      <td>76.05</td>\n",
              "      <td>3.639</td>\n",
              "      <td>4842.29</td>\n",
              "      <td>975.03</td>\n",
              "      <td>3.00</td>\n",
              "      <td>2449.97</td>\n",
              "      <td>3169.69</td>\n",
              "      <td>NaN</td>\n",
              "      <td>NaN</td>\n",
              "      <td>False</td>\n",
              "      <td>B</td>\n",
              "      <td>118221</td>\n",
              "      <td>26</td>\n",
              "      <td>2013</td>\n",
              "    </tr>\n",
              "    <tr>\n",
              "      <th>8186</th>\n",
              "      <td>45</td>\n",
              "      <td>2013-07-05</td>\n",
              "      <td>77.50</td>\n",
              "      <td>3.614</td>\n",
              "      <td>9090.48</td>\n",
              "      <td>2268.58</td>\n",
              "      <td>582.74</td>\n",
              "      <td>5797.47</td>\n",
              "      <td>1514.93</td>\n",
              "      <td>NaN</td>\n",
              "      <td>NaN</td>\n",
              "      <td>False</td>\n",
              "      <td>B</td>\n",
              "      <td>118221</td>\n",
              "      <td>27</td>\n",
              "      <td>2013</td>\n",
              "    </tr>\n",
              "    <tr>\n",
              "      <th>8187</th>\n",
              "      <td>45</td>\n",
              "      <td>2013-07-12</td>\n",
              "      <td>79.37</td>\n",
              "      <td>3.614</td>\n",
              "      <td>3789.94</td>\n",
              "      <td>1827.31</td>\n",
              "      <td>85.72</td>\n",
              "      <td>744.84</td>\n",
              "      <td>2150.36</td>\n",
              "      <td>NaN</td>\n",
              "      <td>NaN</td>\n",
              "      <td>False</td>\n",
              "      <td>B</td>\n",
              "      <td>118221</td>\n",
              "      <td>28</td>\n",
              "      <td>2013</td>\n",
              "    </tr>\n",
              "    <tr>\n",
              "      <th>8188</th>\n",
              "      <td>45</td>\n",
              "      <td>2013-07-19</td>\n",
              "      <td>82.84</td>\n",
              "      <td>3.737</td>\n",
              "      <td>2961.49</td>\n",
              "      <td>1047.07</td>\n",
              "      <td>204.19</td>\n",
              "      <td>363.00</td>\n",
              "      <td>1059.46</td>\n",
              "      <td>NaN</td>\n",
              "      <td>NaN</td>\n",
              "      <td>False</td>\n",
              "      <td>B</td>\n",
              "      <td>118221</td>\n",
              "      <td>29</td>\n",
              "      <td>2013</td>\n",
              "    </tr>\n",
              "    <tr>\n",
              "      <th>8189</th>\n",
              "      <td>45</td>\n",
              "      <td>2013-07-26</td>\n",
              "      <td>76.06</td>\n",
              "      <td>3.804</td>\n",
              "      <td>212.02</td>\n",
              "      <td>851.73</td>\n",
              "      <td>2.06</td>\n",
              "      <td>10.88</td>\n",
              "      <td>1864.57</td>\n",
              "      <td>NaN</td>\n",
              "      <td>NaN</td>\n",
              "      <td>False</td>\n",
              "      <td>B</td>\n",
              "      <td>118221</td>\n",
              "      <td>30</td>\n",
              "      <td>2013</td>\n",
              "    </tr>\n",
              "  </tbody>\n",
              "</table>\n",
              "</div>"
            ],
            "text/plain": [
              "      Store       Date  Temperature  Fuel_Price  ...  Type    Size  week  year\n",
              "8185     45 2013-06-28        76.05       3.639  ...     B  118221    26  2013\n",
              "8186     45 2013-07-05        77.50       3.614  ...     B  118221    27  2013\n",
              "8187     45 2013-07-12        79.37       3.614  ...     B  118221    28  2013\n",
              "8188     45 2013-07-19        82.84       3.737  ...     B  118221    29  2013\n",
              "8189     45 2013-07-26        76.06       3.804  ...     B  118221    30  2013\n",
              "\n",
              "[5 rows x 16 columns]"
            ]
          },
          "metadata": {},
          "execution_count": 40
        }
      ]
    },
    {
      "cell_type": "code",
      "metadata": {
        "id": "77ySwh5vrrVv"
      },
      "source": [
        "train_df_1 = train_df.merge(dataset_m , how = 'inner', on =['Store','Date','IsHoliday']).sort_values(by=['Store','Dept','Date']).reset_index(drop = True)"
      ],
      "execution_count": 41,
      "outputs": []
    },
    {
      "cell_type": "code",
      "metadata": {
        "colab": {
          "base_uri": "https://localhost:8080/",
          "height": 313
        },
        "id": "6kJhfIeYBVLv",
        "outputId": "687a4fa8-9b41-470f-d2ef-07c8e7c26684"
      },
      "source": [
        "train_df_1.head()"
      ],
      "execution_count": 42,
      "outputs": [
        {
          "output_type": "execute_result",
          "data": {
            "text/html": [
              "<div>\n",
              "<style scoped>\n",
              "    .dataframe tbody tr th:only-of-type {\n",
              "        vertical-align: middle;\n",
              "    }\n",
              "\n",
              "    .dataframe tbody tr th {\n",
              "        vertical-align: top;\n",
              "    }\n",
              "\n",
              "    .dataframe thead th {\n",
              "        text-align: right;\n",
              "    }\n",
              "</style>\n",
              "<table border=\"1\" class=\"dataframe\">\n",
              "  <thead>\n",
              "    <tr style=\"text-align: right;\">\n",
              "      <th></th>\n",
              "      <th>Store</th>\n",
              "      <th>Dept</th>\n",
              "      <th>Date</th>\n",
              "      <th>Weekly_Sales</th>\n",
              "      <th>IsHoliday</th>\n",
              "      <th>Temperature</th>\n",
              "      <th>Fuel_Price</th>\n",
              "      <th>MarkDown1</th>\n",
              "      <th>MarkDown2</th>\n",
              "      <th>MarkDown3</th>\n",
              "      <th>MarkDown4</th>\n",
              "      <th>MarkDown5</th>\n",
              "      <th>CPI</th>\n",
              "      <th>Unemployment</th>\n",
              "      <th>Type</th>\n",
              "      <th>Size</th>\n",
              "      <th>week</th>\n",
              "      <th>year</th>\n",
              "    </tr>\n",
              "  </thead>\n",
              "  <tbody>\n",
              "    <tr>\n",
              "      <th>0</th>\n",
              "      <td>1</td>\n",
              "      <td>1</td>\n",
              "      <td>2010-02-05</td>\n",
              "      <td>24924.50</td>\n",
              "      <td>False</td>\n",
              "      <td>42.31</td>\n",
              "      <td>2.572</td>\n",
              "      <td>NaN</td>\n",
              "      <td>NaN</td>\n",
              "      <td>NaN</td>\n",
              "      <td>NaN</td>\n",
              "      <td>NaN</td>\n",
              "      <td>211.096358</td>\n",
              "      <td>8.106</td>\n",
              "      <td>A</td>\n",
              "      <td>151315</td>\n",
              "      <td>5</td>\n",
              "      <td>2010</td>\n",
              "    </tr>\n",
              "    <tr>\n",
              "      <th>1</th>\n",
              "      <td>1</td>\n",
              "      <td>1</td>\n",
              "      <td>2010-02-12</td>\n",
              "      <td>46039.49</td>\n",
              "      <td>True</td>\n",
              "      <td>38.51</td>\n",
              "      <td>2.548</td>\n",
              "      <td>NaN</td>\n",
              "      <td>NaN</td>\n",
              "      <td>NaN</td>\n",
              "      <td>NaN</td>\n",
              "      <td>NaN</td>\n",
              "      <td>211.242170</td>\n",
              "      <td>8.106</td>\n",
              "      <td>A</td>\n",
              "      <td>151315</td>\n",
              "      <td>6</td>\n",
              "      <td>2010</td>\n",
              "    </tr>\n",
              "    <tr>\n",
              "      <th>2</th>\n",
              "      <td>1</td>\n",
              "      <td>1</td>\n",
              "      <td>2010-02-19</td>\n",
              "      <td>41595.55</td>\n",
              "      <td>False</td>\n",
              "      <td>39.93</td>\n",
              "      <td>2.514</td>\n",
              "      <td>NaN</td>\n",
              "      <td>NaN</td>\n",
              "      <td>NaN</td>\n",
              "      <td>NaN</td>\n",
              "      <td>NaN</td>\n",
              "      <td>211.289143</td>\n",
              "      <td>8.106</td>\n",
              "      <td>A</td>\n",
              "      <td>151315</td>\n",
              "      <td>7</td>\n",
              "      <td>2010</td>\n",
              "    </tr>\n",
              "    <tr>\n",
              "      <th>3</th>\n",
              "      <td>1</td>\n",
              "      <td>1</td>\n",
              "      <td>2010-02-26</td>\n",
              "      <td>19403.54</td>\n",
              "      <td>False</td>\n",
              "      <td>46.63</td>\n",
              "      <td>2.561</td>\n",
              "      <td>NaN</td>\n",
              "      <td>NaN</td>\n",
              "      <td>NaN</td>\n",
              "      <td>NaN</td>\n",
              "      <td>NaN</td>\n",
              "      <td>211.319643</td>\n",
              "      <td>8.106</td>\n",
              "      <td>A</td>\n",
              "      <td>151315</td>\n",
              "      <td>8</td>\n",
              "      <td>2010</td>\n",
              "    </tr>\n",
              "    <tr>\n",
              "      <th>4</th>\n",
              "      <td>1</td>\n",
              "      <td>1</td>\n",
              "      <td>2010-03-05</td>\n",
              "      <td>21827.90</td>\n",
              "      <td>False</td>\n",
              "      <td>46.50</td>\n",
              "      <td>2.625</td>\n",
              "      <td>NaN</td>\n",
              "      <td>NaN</td>\n",
              "      <td>NaN</td>\n",
              "      <td>NaN</td>\n",
              "      <td>NaN</td>\n",
              "      <td>211.350143</td>\n",
              "      <td>8.106</td>\n",
              "      <td>A</td>\n",
              "      <td>151315</td>\n",
              "      <td>9</td>\n",
              "      <td>2010</td>\n",
              "    </tr>\n",
              "  </tbody>\n",
              "</table>\n",
              "</div>"
            ],
            "text/plain": [
              "   Store  Dept       Date  Weekly_Sales  ...  Type    Size  week  year\n",
              "0      1     1 2010-02-05      24924.50  ...     A  151315     5  2010\n",
              "1      1     1 2010-02-12      46039.49  ...     A  151315     6  2010\n",
              "2      1     1 2010-02-19      41595.55  ...     A  151315     7  2010\n",
              "3      1     1 2010-02-26      19403.54  ...     A  151315     8  2010\n",
              "4      1     1 2010-03-05      21827.90  ...     A  151315     9  2010\n",
              "\n",
              "[5 rows x 18 columns]"
            ]
          },
          "metadata": {},
          "execution_count": 42
        }
      ]
    },
    {
      "cell_type": "code",
      "metadata": {
        "colab": {
          "base_uri": "https://localhost:8080/",
          "height": 313
        },
        "id": "ZFZtkx9tCnld",
        "outputId": "f7d25fbd-8311-4ec7-92b2-c8ae5577a562"
      },
      "source": [
        "train_df_1.tail()"
      ],
      "execution_count": 43,
      "outputs": [
        {
          "output_type": "execute_result",
          "data": {
            "text/html": [
              "<div>\n",
              "<style scoped>\n",
              "    .dataframe tbody tr th:only-of-type {\n",
              "        vertical-align: middle;\n",
              "    }\n",
              "\n",
              "    .dataframe tbody tr th {\n",
              "        vertical-align: top;\n",
              "    }\n",
              "\n",
              "    .dataframe thead th {\n",
              "        text-align: right;\n",
              "    }\n",
              "</style>\n",
              "<table border=\"1\" class=\"dataframe\">\n",
              "  <thead>\n",
              "    <tr style=\"text-align: right;\">\n",
              "      <th></th>\n",
              "      <th>Store</th>\n",
              "      <th>Dept</th>\n",
              "      <th>Date</th>\n",
              "      <th>Weekly_Sales</th>\n",
              "      <th>IsHoliday</th>\n",
              "      <th>Temperature</th>\n",
              "      <th>Fuel_Price</th>\n",
              "      <th>MarkDown1</th>\n",
              "      <th>MarkDown2</th>\n",
              "      <th>MarkDown3</th>\n",
              "      <th>MarkDown4</th>\n",
              "      <th>MarkDown5</th>\n",
              "      <th>CPI</th>\n",
              "      <th>Unemployment</th>\n",
              "      <th>Type</th>\n",
              "      <th>Size</th>\n",
              "      <th>week</th>\n",
              "      <th>year</th>\n",
              "    </tr>\n",
              "  </thead>\n",
              "  <tbody>\n",
              "    <tr>\n",
              "      <th>421565</th>\n",
              "      <td>45</td>\n",
              "      <td>98</td>\n",
              "      <td>2012-09-28</td>\n",
              "      <td>508.37</td>\n",
              "      <td>False</td>\n",
              "      <td>64.88</td>\n",
              "      <td>3.997</td>\n",
              "      <td>4556.61</td>\n",
              "      <td>20.64</td>\n",
              "      <td>1.50</td>\n",
              "      <td>1601.01</td>\n",
              "      <td>3288.25</td>\n",
              "      <td>192.013558</td>\n",
              "      <td>8.684</td>\n",
              "      <td>B</td>\n",
              "      <td>118221</td>\n",
              "      <td>39</td>\n",
              "      <td>2012</td>\n",
              "    </tr>\n",
              "    <tr>\n",
              "      <th>421566</th>\n",
              "      <td>45</td>\n",
              "      <td>98</td>\n",
              "      <td>2012-10-05</td>\n",
              "      <td>628.10</td>\n",
              "      <td>False</td>\n",
              "      <td>64.89</td>\n",
              "      <td>3.985</td>\n",
              "      <td>5046.74</td>\n",
              "      <td>NaN</td>\n",
              "      <td>18.82</td>\n",
              "      <td>2253.43</td>\n",
              "      <td>2340.01</td>\n",
              "      <td>192.170412</td>\n",
              "      <td>8.667</td>\n",
              "      <td>B</td>\n",
              "      <td>118221</td>\n",
              "      <td>40</td>\n",
              "      <td>2012</td>\n",
              "    </tr>\n",
              "    <tr>\n",
              "      <th>421567</th>\n",
              "      <td>45</td>\n",
              "      <td>98</td>\n",
              "      <td>2012-10-12</td>\n",
              "      <td>1061.02</td>\n",
              "      <td>False</td>\n",
              "      <td>54.47</td>\n",
              "      <td>4.000</td>\n",
              "      <td>1956.28</td>\n",
              "      <td>NaN</td>\n",
              "      <td>7.89</td>\n",
              "      <td>599.32</td>\n",
              "      <td>3990.54</td>\n",
              "      <td>192.327265</td>\n",
              "      <td>8.667</td>\n",
              "      <td>B</td>\n",
              "      <td>118221</td>\n",
              "      <td>41</td>\n",
              "      <td>2012</td>\n",
              "    </tr>\n",
              "    <tr>\n",
              "      <th>421568</th>\n",
              "      <td>45</td>\n",
              "      <td>98</td>\n",
              "      <td>2012-10-19</td>\n",
              "      <td>760.01</td>\n",
              "      <td>False</td>\n",
              "      <td>56.47</td>\n",
              "      <td>3.969</td>\n",
              "      <td>2004.02</td>\n",
              "      <td>NaN</td>\n",
              "      <td>3.18</td>\n",
              "      <td>437.73</td>\n",
              "      <td>1537.49</td>\n",
              "      <td>192.330854</td>\n",
              "      <td>8.667</td>\n",
              "      <td>B</td>\n",
              "      <td>118221</td>\n",
              "      <td>42</td>\n",
              "      <td>2012</td>\n",
              "    </tr>\n",
              "    <tr>\n",
              "      <th>421569</th>\n",
              "      <td>45</td>\n",
              "      <td>98</td>\n",
              "      <td>2012-10-26</td>\n",
              "      <td>1076.80</td>\n",
              "      <td>False</td>\n",
              "      <td>58.85</td>\n",
              "      <td>3.882</td>\n",
              "      <td>4018.91</td>\n",
              "      <td>58.08</td>\n",
              "      <td>100.00</td>\n",
              "      <td>211.94</td>\n",
              "      <td>858.33</td>\n",
              "      <td>192.308899</td>\n",
              "      <td>8.667</td>\n",
              "      <td>B</td>\n",
              "      <td>118221</td>\n",
              "      <td>43</td>\n",
              "      <td>2012</td>\n",
              "    </tr>\n",
              "  </tbody>\n",
              "</table>\n",
              "</div>"
            ],
            "text/plain": [
              "        Store  Dept       Date  Weekly_Sales  ...  Type    Size  week  year\n",
              "421565     45    98 2012-09-28        508.37  ...     B  118221    39  2012\n",
              "421566     45    98 2012-10-05        628.10  ...     B  118221    40  2012\n",
              "421567     45    98 2012-10-12       1061.02  ...     B  118221    41  2012\n",
              "421568     45    98 2012-10-19        760.01  ...     B  118221    42  2012\n",
              "421569     45    98 2012-10-26       1076.80  ...     B  118221    43  2012\n",
              "\n",
              "[5 rows x 18 columns]"
            ]
          },
          "metadata": {},
          "execution_count": 43
        }
      ]
    },
    {
      "cell_type": "markdown",
      "metadata": {
        "id": "n0lTJ2dLxT7O"
      },
      "source": [
        "### **DATA VISUALISATION**"
      ]
    },
    {
      "cell_type": "markdown",
      "metadata": {
        "id": "efufKEmgCLQr"
      },
      "source": [
        "**Using Scatter Plot**"
      ]
    },
    {
      "cell_type": "code",
      "metadata": {
        "id": "eNA4vmy2xW3O"
      },
      "source": [
        "def scatter(train_df_1 , column):\n",
        "  plt.figure(figsize = (16,7))\n",
        "  plt.scatter(train_df_1[column],train_df_1['Weekly_Sales'])\n",
        "  plt.xlabel(column,fontsize = 20)\n",
        "  plt.ylabel('Weekly_Sales',fontsize = 20)"
      ],
      "execution_count": 44,
      "outputs": []
    },
    {
      "cell_type": "code",
      "metadata": {
        "colab": {
          "base_uri": "https://localhost:8080/",
          "height": 451
        },
        "id": "c1dGKVG7yk-U",
        "outputId": "de0df941-eacf-4a63-832b-2998f108b031"
      },
      "source": [
        "scatter(train_df_1 , 'Store')"
      ],
      "execution_count": 45,
      "outputs": [
        {
          "output_type": "display_data",
          "data": {
            "image/png": "[encoded data removed]",
            "text/plain": [
              "<Figure size 1152x504 with 1 Axes>"
            ]
          },
          "metadata": {
            "needs_background": "light"
          }
        }
      ]
    },
    {
      "cell_type": "markdown",
      "metadata": {
        "id": "Gxdpi1tMClgr"
      },
      "source": [
        "Observation : **Store 10** has the maximum weekly sales"
      ]
    },
    {
      "cell_type": "code",
      "metadata": {
        "colab": {
          "base_uri": "https://localhost:8080/",
          "height": 451
        },
        "id": "2pFx637jCQ_w",
        "outputId": "59aa1520-85d7-4caf-ba16-52a8b481cedc"
      },
      "source": [
        "scatter(train_df_1 , 'Dept')"
      ],
      "execution_count": 46,
      "outputs": [
        {
          "output_type": "display_data",
          "data": {
            "image/png": "[encoded data removed]",
            "text/plain": [
              "<Figure size 1152x504 with 1 Axes>"
            ]
          },
          "metadata": {
            "needs_background": "light"
          }
        }
      ]
    },
    {
      "cell_type": "markdown",
      "metadata": {
        "id": "4X8w9UCrCwDE"
      },
      "source": [
        "Observation : **Dept 73** has the maximum weekly sales"
      ]
    },
    {
      "cell_type": "markdown",
      "metadata": {
        "id": "Y3VO3id3E04n"
      },
      "source": [
        "**Using Line Plot**"
      ]
    },
    {
      "cell_type": "markdown",
      "metadata": {
        "id": "KdbWNQwwE37X"
      },
      "source": [
        "For weekly sales in each year"
      ]
    },
    {
      "cell_type": "code",
      "metadata": {
        "id": "xeKFu7WuDFu_",
        "colab": {
          "base_uri": "https://localhost:8080/",
          "height": 455
        },
        "outputId": "594f6117-7f61-4a56-ffff-20ead63c7ac9"
      },
      "source": [
        "# Filtering the mean weekly sales of the year 2011\n",
        "weekly_sales_2011 = train_df_1[train_df_1['year']== 2011]['Weekly_Sales'].groupby(train_df_1['week']).mean()\n",
        "# Plot a line plot for week on x-axis and sales for that particular week of the filtered year on y-axis\n",
        "plt.figure(figsize=(10,7))\n",
        "sns.lineplot(weekly_sales_2011.index , weekly_sales_2011.values , color = 'red')\n",
        "plt.xlabel('Week',fontsize = 20)\n",
        "plt.ylabel('Value',fontsize = 20)\n",
        "plt.show()"
      ],
      "execution_count": 47,
      "outputs": [
        {
          "output_type": "display_data",
          "data": {
            "image/png": "[encoded data removed]",
            "text/plain": [
              "<Figure size 720x504 with 1 Axes>"
            ]
          },
          "metadata": {
            "needs_background": "light"
          }
        }
      ]
    },
    {
      "cell_type": "markdown",
      "metadata": {
        "id": "zneW9RjxIHLc"
      },
      "source": [
        "Observation : **Week 52** had the maximum weekly sales in **2011**."
      ]
    },
    {
      "cell_type": "code",
      "metadata": {
        "colab": {
          "base_uri": "https://localhost:8080/",
          "height": 454
        },
        "id": "jmL-WB_DizEu",
        "outputId": "d274f852-3868-44d4-b844-e750ae80be25"
      },
      "source": [
        "# Filtering the mean weekly sales of the year 2010\n",
        "weekly_sales_2010 = train_df_1[train_df_1['year']== 2010]['Weekly_Sales'].groupby(train_df_1['week']).mean()\n",
        "# Plot a line plot for week on x-axis and sales for that particular week of the filtered year on y-axis\n",
        "plt.figure(figsize=(10,7))\n",
        "sns.lineplot(weekly_sales_2010.index , weekly_sales_2010.values , color = 'blue')\n",
        "plt.xlabel('Week',fontsize = 20)\n",
        "plt.ylabel('Value',fontsize = 20)\n",
        "plt.show()"
      ],
      "execution_count": 48,
      "outputs": [
        {
          "output_type": "display_data",
          "data": {
            "image/png": "[encoded data removed]",
            "text/plain": [
              "<Figure size 720x504 with 1 Axes>"
            ]
          },
          "metadata": {
            "needs_background": "light"
          }
        }
      ]
    },
    {
      "cell_type": "markdown",
      "metadata": {
        "id": "Ylza6m0-IY9k"
      },
      "source": [
        "Observation : **Week 52** had the maximum weekly sales in **2010**."
      ]
    },
    {
      "cell_type": "code",
      "metadata": {
        "colab": {
          "base_uri": "https://localhost:8080/",
          "height": 451
        },
        "id": "cGS1WB0hi6Zd",
        "outputId": "ce8982bf-3d17-4ca9-c37c-cbc2d055a1c3"
      },
      "source": [
        "# Filtering the mean weekly sales of the year 2012\n",
        "weekly_sales_2012 = train_df_1[train_df_1['year']== 2012]['Weekly_Sales'].groupby(train_df_1['week']).mean()\n",
        "# Plot a line plot for week on x-axis and sales for that particular week of the filtered year on y-axis\n",
        "plt.figure(figsize=(10,7))\n",
        "sns.lineplot(weekly_sales_2012.index , weekly_sales_2012.values , color = 'green')\n",
        "plt.xlabel('Week',fontsize = 20)\n",
        "plt.ylabel('Value',fontsize = 20)\n",
        "plt.show()"
      ],
      "execution_count": 49,
      "outputs": [
        {
          "output_type": "display_data",
          "data": {
            "image/png": "[encoded data removed]",
            "text/plain": [
              "<Figure size 720x504 with 1 Axes>"
            ]
          },
          "metadata": {
            "needs_background": "light"
          }
        }
      ]
    },
    {
      "cell_type": "markdown",
      "metadata": {
        "id": "L6nANpc1Idms"
      },
      "source": [
        "Observation : **Week 14** had the maximum weekly sales in **2012**."
      ]
    },
    {
      "cell_type": "code",
      "metadata": {
        "id": "XnbWZIPljmbH",
        "colab": {
          "base_uri": "https://localhost:8080/",
          "height": 636
        },
        "outputId": "d8637d9e-c02e-4a1e-c4b6-fc964f520a78"
      },
      "source": [
        "# Combined line plot of 2010 , 2011 , 2012\n",
        "plt.figure(figsize=(18,10))\n",
        "sns.lineplot(weekly_sales_2011.index , weekly_sales_2011.values , color = 'red')\n",
        "sns.lineplot(weekly_sales_2010.index , weekly_sales_2010.values , color = 'blue')\n",
        "sns.lineplot(weekly_sales_2012.index , weekly_sales_2012.values , color = 'green')\n",
        "plt.xticks(np.arange(1,60,step = 1))\n",
        "plt.title('Average Weekly Sales Per Year',fontsize = 20)\n",
        "plt.xlabel('Week',fontsize = 20)\n",
        "plt.ylabel('Week',fontsize = 20)\n",
        "plt.legend(['2010','2011','2012'],fontsize = 18)\n",
        "plt.show()\n"
      ],
      "execution_count": 50,
      "outputs": [
        {
          "output_type": "display_data",
          "data": {
            "image/png": "[encoded data removed]",
            "text/plain": [
              "<Figure size 1296x720 with 1 Axes>"
            ]
          },
          "metadata": {
            "needs_background": "light"
          }
        }
      ]
    },
    {
      "cell_type": "markdown",
      "metadata": {
        "id": "0-GioQtb2ujt"
      },
      "source": [
        "**Using Histograms**"
      ]
    },
    {
      "cell_type": "code",
      "metadata": {
        "colab": {
          "base_uri": "https://localhost:8080/",
          "height": 454
        },
        "id": "-UZ21Ldl2w7f",
        "outputId": "6fcf2443-93fb-4e8b-cb43-d602d2014b46"
      },
      "source": [
        "plt.figure(figsize = (10,7))\n",
        "sns.distplot(train_df_1['Weekly_Sales'],color = 'green')\n",
        "plt.show()"
      ],
      "execution_count": 51,
      "outputs": [
        {
          "output_type": "display_data",
          "data": {
            "image/png": "[encoded data removed]",
            "text/plain": [
              "<Figure size 720x504 with 1 Axes>"
            ]
          },
          "metadata": {
            "needs_background": "light"
          }
        }
      ]
    },
    {
      "cell_type": "markdown",
      "metadata": {
        "id": "JAlGsaLw3Qom"
      },
      "source": [
        "Observation :The histogram is **Positively skewed**"
      ]
    },
    {
      "cell_type": "code",
      "metadata": {
        "colab": {
          "base_uri": "https://localhost:8080/"
        },
        "id": "ErlEE4pi4IqN",
        "outputId": "b66d0e70-12ec-407b-a04e-ea9d609b794c"
      },
      "source": [
        "# Kurtosis is the measure of whether the data is heavy-tailed or light-tailed relative to the normal distribution\n",
        "train_df_1['Weekly_Sales'].kurt()"
      ],
      "execution_count": 52,
      "outputs": [
        {
          "output_type": "execute_result",
          "data": {
            "text/plain": [
              "21.49128990832619"
            ]
          },
          "metadata": {},
          "execution_count": 52
        }
      ]
    },
    {
      "cell_type": "markdown",
      "metadata": {
        "id": "t-3Bz8eW4jIf"
      },
      "source": [
        "**Bar Chart on Dataframe**"
      ]
    },
    {
      "cell_type": "markdown",
      "metadata": {
        "id": "_GEXifhbI_kD"
      },
      "source": [
        "For weekly sales"
      ]
    },
    {
      "cell_type": "code",
      "metadata": {
        "colab": {
          "base_uri": "https://localhost:8080/"
        },
        "id": "meqHS2xA4lUB",
        "outputId": "ab873321-9e44-4429-a984-00eedf263bd4"
      },
      "source": [
        "weekly_sales_store = train_df_1['Weekly_Sales'].groupby(train_df_1['Store']).mean()\n",
        "weekly_sales_store.head()"
      ],
      "execution_count": 53,
      "outputs": [
        {
          "output_type": "execute_result",
          "data": {
            "text/plain": [
              "Store\n",
              "1    21710.543621\n",
              "2    26898.070031\n",
              "3     6373.033983\n",
              "4    29161.210415\n",
              "5     5053.415813\n",
              "Name: Weekly_Sales, dtype: float64"
            ]
          },
          "metadata": {},
          "execution_count": 53
        }
      ]
    },
    {
      "cell_type": "markdown",
      "metadata": {
        "id": "OwhfMAHn5ff-"
      },
      "source": [
        "Converting this into a Dataframe"
      ]
    },
    {
      "cell_type": "code",
      "metadata": {
        "colab": {
          "base_uri": "https://localhost:8080/",
          "height": 237
        },
        "id": "M6e6ib0r5fEv",
        "outputId": "a09f9c15-2a5b-4fd4-cb51-b0700850813a"
      },
      "source": [
        "weekly_sales_store_df = pd.DataFrame(weekly_sales_store)\n",
        "weekly_sales_store_df.head()"
      ],
      "execution_count": 54,
      "outputs": [
        {
          "output_type": "execute_result",
          "data": {
            "text/html": [
              "<div>\n",
              "<style scoped>\n",
              "    .dataframe tbody tr th:only-of-type {\n",
              "        vertical-align: middle;\n",
              "    }\n",
              "\n",
              "    .dataframe tbody tr th {\n",
              "        vertical-align: top;\n",
              "    }\n",
              "\n",
              "    .dataframe thead th {\n",
              "        text-align: right;\n",
              "    }\n",
              "</style>\n",
              "<table border=\"1\" class=\"dataframe\">\n",
              "  <thead>\n",
              "    <tr style=\"text-align: right;\">\n",
              "      <th></th>\n",
              "      <th>Weekly_Sales</th>\n",
              "    </tr>\n",
              "    <tr>\n",
              "      <th>Store</th>\n",
              "      <th></th>\n",
              "    </tr>\n",
              "  </thead>\n",
              "  <tbody>\n",
              "    <tr>\n",
              "      <th>1</th>\n",
              "      <td>21710.543621</td>\n",
              "    </tr>\n",
              "    <tr>\n",
              "      <th>2</th>\n",
              "      <td>26898.070031</td>\n",
              "    </tr>\n",
              "    <tr>\n",
              "      <th>3</th>\n",
              "      <td>6373.033983</td>\n",
              "    </tr>\n",
              "    <tr>\n",
              "      <th>4</th>\n",
              "      <td>29161.210415</td>\n",
              "    </tr>\n",
              "    <tr>\n",
              "      <th>5</th>\n",
              "      <td>5053.415813</td>\n",
              "    </tr>\n",
              "  </tbody>\n",
              "</table>\n",
              "</div>"
            ],
            "text/plain": [
              "       Weekly_Sales\n",
              "Store              \n",
              "1      21710.543621\n",
              "2      26898.070031\n",
              "3       6373.033983\n",
              "4      29161.210415\n",
              "5       5053.415813"
            ]
          },
          "metadata": {},
          "execution_count": 54
        }
      ]
    },
    {
      "cell_type": "markdown",
      "metadata": {
        "id": "Hewc2pj-6dvd"
      },
      "source": [
        "**Plotting Bar Chart**"
      ]
    },
    {
      "cell_type": "code",
      "metadata": {
        "colab": {
          "base_uri": "https://localhost:8080/",
          "height": 1000
        },
        "id": "CjSGf9wi59g5",
        "outputId": "9055db68-e4e6-4fad-b5a5-12e831c4e566"
      },
      "source": [
        "# Sorting the dataframe with respect to weekly sales in descending order\n",
        "weekly_sales_store_df.sort_values('Weekly_Sales',ascending = False).style.bar(align = 'left',width = 98 , color = 'blue')"
      ],
      "execution_count": 56,
      "outputs": [
        {
          "output_type": "execute_result",
          "data": {
            "text/html": [
              "<style  type=\"text/css\" >\n",
              "#T_e1d96852_1a18_11ec_ac5a_0242ac1c0002row0_col0{\n",
              "            width:  10em;\n",
              "             height:  80%;\n",
              "            background:  linear-gradient(90deg,blue 98.0%, transparent 98.0%);\n",
              "        }#T_e1d96852_1a18_11ec_ac5a_0242ac1c0002row1_col0{\n",
              "            width:  10em;\n",
              "             height:  80%;\n",
              "            background:  linear-gradient(90deg,blue 96.6%, transparent 96.6%);\n",
              "        }#T_e1d96852_1a18_11ec_ac5a_0242ac1c0002row2_col0{\n",
              "            width:  10em;\n",
              "             height:  80%;\n",
              "            background:  linear-gradient(90deg,blue 95.1%, transparent 95.1%);\n",
              "        }#T_e1d96852_1a18_11ec_ac5a_0242ac1c0002row3_col0{\n",
              "            width:  10em;\n",
              "             height:  80%;\n",
              "            background:  linear-gradient(90deg,blue 89.4%, transparent 89.4%);\n",
              "        }#T_e1d96852_1a18_11ec_ac5a_0242ac1c0002row4_col0{\n",
              "            width:  10em;\n",
              "             height:  80%;\n",
              "            background:  linear-gradient(90deg,blue 87.5%, transparent 87.5%);\n",
              "        }#T_e1d96852_1a18_11ec_ac5a_0242ac1c0002row5_col0{\n",
              "            width:  10em;\n",
              "             height:  80%;\n",
              "            background:  linear-gradient(90deg,blue 85.3%, transparent 85.3%);\n",
              "        }#T_e1d96852_1a18_11ec_ac5a_0242ac1c0002row6_col0{\n",
              "            width:  10em;\n",
              "             height:  80%;\n",
              "            background:  linear-gradient(90deg,blue 79.2%, transparent 79.2%);\n",
              "        }#T_e1d96852_1a18_11ec_ac5a_0242ac1c0002row7_col0{\n",
              "            width:  10em;\n",
              "             height:  80%;\n",
              "            background:  linear-gradient(90deg,blue 67.6%, transparent 67.6%);\n",
              "        }#T_e1d96852_1a18_11ec_ac5a_0242ac1c0002row8_col0{\n",
              "            width:  10em;\n",
              "             height:  80%;\n",
              "            background:  linear-gradient(90deg,blue 66.8%, transparent 66.8%);\n",
              "        }#T_e1d96852_1a18_11ec_ac5a_0242ac1c0002row9_col0{\n",
              "            width:  10em;\n",
              "             height:  80%;\n",
              "            background:  linear-gradient(90deg,blue 63.9%, transparent 63.9%);\n",
              "        }#T_e1d96852_1a18_11ec_ac5a_0242ac1c0002row10_col0{\n",
              "            width:  10em;\n",
              "             height:  80%;\n",
              "            background:  linear-gradient(90deg,blue 61.3%, transparent 61.3%);\n",
              "        }#T_e1d96852_1a18_11ec_ac5a_0242ac1c0002row11_col0{\n",
              "            width:  10em;\n",
              "             height:  80%;\n",
              "            background:  linear-gradient(90deg,blue 59.0%, transparent 59.0%);\n",
              "        }#T_e1d96852_1a18_11ec_ac5a_0242ac1c0002row12_col0{\n",
              "            width:  10em;\n",
              "             height:  80%;\n",
              "            background:  linear-gradient(90deg,blue 58.6%, transparent 58.6%);\n",
              "        }#T_e1d96852_1a18_11ec_ac5a_0242ac1c0002row13_col0{\n",
              "            width:  10em;\n",
              "             height:  80%;\n",
              "            background:  linear-gradient(90deg,blue 57.0%, transparent 57.0%);\n",
              "        }#T_e1d96852_1a18_11ec_ac5a_0242ac1c0002row14_col0{\n",
              "            width:  10em;\n",
              "             height:  80%;\n",
              "            background:  linear-gradient(90deg,blue 55.8%, transparent 55.8%);\n",
              "        }#T_e1d96852_1a18_11ec_ac5a_0242ac1c0002row15_col0{\n",
              "            width:  10em;\n",
              "             height:  80%;\n",
              "            background:  linear-gradient(90deg,blue 54.7%, transparent 54.7%);\n",
              "        }#T_e1d96852_1a18_11ec_ac5a_0242ac1c0002row16_col0{\n",
              "            width:  10em;\n",
              "             height:  80%;\n",
              "            background:  linear-gradient(90deg,blue 51.8%, transparent 51.8%);\n",
              "        }#T_e1d96852_1a18_11ec_ac5a_0242ac1c0002row17_col0{\n",
              "            width:  10em;\n",
              "             height:  80%;\n",
              "            background:  linear-gradient(90deg,blue 45.3%, transparent 45.3%);\n",
              "        }#T_e1d96852_1a18_11ec_ac5a_0242ac1c0002row18_col0{\n",
              "            width:  10em;\n",
              "             height:  80%;\n",
              "            background:  linear-gradient(90deg,blue 42.8%, transparent 42.8%);\n",
              "        }#T_e1d96852_1a18_11ec_ac5a_0242ac1c0002row19_col0{\n",
              "            width:  10em;\n",
              "             height:  80%;\n",
              "            background:  linear-gradient(90deg,blue 40.6%, transparent 40.6%);\n",
              "        }#T_e1d96852_1a18_11ec_ac5a_0242ac1c0002row20_col0{\n",
              "            width:  10em;\n",
              "             height:  80%;\n",
              "            background:  linear-gradient(90deg,blue 39.3%, transparent 39.3%);\n",
              "        }#T_e1d96852_1a18_11ec_ac5a_0242ac1c0002row21_col0{\n",
              "            width:  10em;\n",
              "             height:  80%;\n",
              "            background:  linear-gradient(90deg,blue 38.1%, transparent 38.1%);\n",
              "        }#T_e1d96852_1a18_11ec_ac5a_0242ac1c0002row22_col0{\n",
              "            width:  10em;\n",
              "             height:  80%;\n",
              "            background:  linear-gradient(90deg,blue 35.1%, transparent 35.1%);\n",
              "        }#T_e1d96852_1a18_11ec_ac5a_0242ac1c0002row23_col0{\n",
              "            width:  10em;\n",
              "             height:  80%;\n",
              "            background:  linear-gradient(90deg,blue 34.9%, transparent 34.9%);\n",
              "        }#T_e1d96852_1a18_11ec_ac5a_0242ac1c0002row24_col0{\n",
              "            width:  10em;\n",
              "             height:  80%;\n",
              "            background:  linear-gradient(90deg,blue 33.9%, transparent 33.9%);\n",
              "        }#T_e1d96852_1a18_11ec_ac5a_0242ac1c0002row25_col0{\n",
              "            width:  10em;\n",
              "             height:  80%;\n",
              "            background:  linear-gradient(90deg,blue 33.5%, transparent 33.5%);\n",
              "        }#T_e1d96852_1a18_11ec_ac5a_0242ac1c0002row26_col0{\n",
              "            width:  10em;\n",
              "             height:  80%;\n",
              "            background:  linear-gradient(90deg,blue 32.4%, transparent 32.4%);\n",
              "        }#T_e1d96852_1a18_11ec_ac5a_0242ac1c0002row27_col0{\n",
              "            width:  10em;\n",
              "             height:  80%;\n",
              "            background:  linear-gradient(90deg,blue 31.7%, transparent 31.7%);\n",
              "        }#T_e1d96852_1a18_11ec_ac5a_0242ac1c0002row28_col0{\n",
              "            width:  10em;\n",
              "             height:  80%;\n",
              "            background:  linear-gradient(90deg,blue 26.5%, transparent 26.5%);\n",
              "        }#T_e1d96852_1a18_11ec_ac5a_0242ac1c0002row29_col0{\n",
              "            width:  10em;\n",
              "             height:  80%;\n",
              "            background:  linear-gradient(90deg,blue 25.6%, transparent 25.6%);\n",
              "        }#T_e1d96852_1a18_11ec_ac5a_0242ac1c0002row30_col0{\n",
              "            width:  10em;\n",
              "             height:  80%;\n",
              "            background:  linear-gradient(90deg,blue 25.0%, transparent 25.0%);\n",
              "        }#T_e1d96852_1a18_11ec_ac5a_0242ac1c0002row31_col0{\n",
              "            width:  10em;\n",
              "             height:  80%;\n",
              "            background:  linear-gradient(90deg,blue 21.1%, transparent 21.1%);\n",
              "        }#T_e1d96852_1a18_11ec_ac5a_0242ac1c0002row32_col0{\n",
              "            width:  10em;\n",
              "             height:  80%;\n",
              "            background:  linear-gradient(90deg,blue 21.0%, transparent 21.0%);\n",
              "        }#T_e1d96852_1a18_11ec_ac5a_0242ac1c0002row33_col0{\n",
              "            width:  10em;\n",
              "             height:  80%;\n",
              "            background:  linear-gradient(90deg,blue 15.8%, transparent 15.8%);\n",
              "        }#T_e1d96852_1a18_11ec_ac5a_0242ac1c0002row34_col0,#T_e1d96852_1a18_11ec_ac5a_0242ac1c0002row35_col0{\n",
              "            width:  10em;\n",
              "             height:  80%;\n",
              "            background:  linear-gradient(90deg,blue 14.9%, transparent 14.9%);\n",
              "        }#T_e1d96852_1a18_11ec_ac5a_0242ac1c0002row36_col0{\n",
              "            width:  10em;\n",
              "             height:  80%;\n",
              "            background:  linear-gradient(90deg,blue 14.2%, transparent 14.2%);\n",
              "        }#T_e1d96852_1a18_11ec_ac5a_0242ac1c0002row37_col0{\n",
              "            width:  10em;\n",
              "             height:  80%;\n",
              "            background:  linear-gradient(90deg,blue 13.2%, transparent 13.2%);\n",
              "        }#T_e1d96852_1a18_11ec_ac5a_0242ac1c0002row38_col0{\n",
              "            width:  10em;\n",
              "             height:  80%;\n",
              "            background:  linear-gradient(90deg,blue 12.4%, transparent 12.4%);\n",
              "        }#T_e1d96852_1a18_11ec_ac5a_0242ac1c0002row39_col0{\n",
              "            width:  10em;\n",
              "             height:  80%;\n",
              "            background:  linear-gradient(90deg,blue 11.3%, transparent 11.3%);\n",
              "        }#T_e1d96852_1a18_11ec_ac5a_0242ac1c0002row40_col0{\n",
              "            width:  10em;\n",
              "             height:  80%;\n",
              "            background:  linear-gradient(90deg,blue 9.8%, transparent 9.8%);\n",
              "        }#T_e1d96852_1a18_11ec_ac5a_0242ac1c0002row41_col0{\n",
              "            width:  10em;\n",
              "             height:  80%;\n",
              "            background:  linear-gradient(90deg,blue 5.3%, transparent 5.3%);\n",
              "        }#T_e1d96852_1a18_11ec_ac5a_0242ac1c0002row42_col0{\n",
              "            width:  10em;\n",
              "             height:  80%;\n",
              "            background:  linear-gradient(90deg,blue 3.9%, transparent 3.9%);\n",
              "        }#T_e1d96852_1a18_11ec_ac5a_0242ac1c0002row43_col0{\n",
              "            width:  10em;\n",
              "             height:  80%;\n",
              "            background:  linear-gradient(90deg,blue 2.7%, transparent 2.7%);\n",
              "        }#T_e1d96852_1a18_11ec_ac5a_0242ac1c0002row44_col0{\n",
              "            width:  10em;\n",
              "             height:  80%;\n",
              "        }</style><table id=\"T_e1d96852_1a18_11ec_ac5a_0242ac1c0002\" ><thead>    <tr>        <th class=\"blank level0\" ></th>        <th class=\"col_heading level0 col0\" >Weekly_Sales</th>    </tr>    <tr>        <th class=\"index_name level0\" >Store</th>        <th class=\"blank\" ></th>    </tr></thead><tbody>\n",
              "                <tr>\n",
              "                        <th id=\"T_e1d96852_1a18_11ec_ac5a_0242ac1c0002level0_row0\" class=\"row_heading level0 row0\" >20</th>\n",
              "                        <td id=\"T_e1d96852_1a18_11ec_ac5a_0242ac1c0002row0_col0\" class=\"data row0 col0\" >29508.301592</td>\n",
              "            </tr>\n",
              "            <tr>\n",
              "                        <th id=\"T_e1d96852_1a18_11ec_ac5a_0242ac1c0002level0_row1\" class=\"row_heading level0 row1\" >4</th>\n",
              "                        <td id=\"T_e1d96852_1a18_11ec_ac5a_0242ac1c0002row1_col0\" class=\"data row1 col0\" >29161.210415</td>\n",
              "            </tr>\n",
              "            <tr>\n",
              "                        <th id=\"T_e1d96852_1a18_11ec_ac5a_0242ac1c0002level0_row2\" class=\"row_heading level0 row2\" >14</th>\n",
              "                        <td id=\"T_e1d96852_1a18_11ec_ac5a_0242ac1c0002row2_col0\" class=\"data row2 col0\" >28784.851727</td>\n",
              "            </tr>\n",
              "            <tr>\n",
              "                        <th id=\"T_e1d96852_1a18_11ec_ac5a_0242ac1c0002level0_row3\" class=\"row_heading level0 row3\" >13</th>\n",
              "                        <td id=\"T_e1d96852_1a18_11ec_ac5a_0242ac1c0002row3_col0\" class=\"data row3 col0\" >27355.136891</td>\n",
              "            </tr>\n",
              "            <tr>\n",
              "                        <th id=\"T_e1d96852_1a18_11ec_ac5a_0242ac1c0002level0_row4\" class=\"row_heading level0 row4\" >2</th>\n",
              "                        <td id=\"T_e1d96852_1a18_11ec_ac5a_0242ac1c0002row4_col0\" class=\"data row4 col0\" >26898.070031</td>\n",
              "            </tr>\n",
              "            <tr>\n",
              "                        <th id=\"T_e1d96852_1a18_11ec_ac5a_0242ac1c0002level0_row5\" class=\"row_heading level0 row5\" >10</th>\n",
              "                        <td id=\"T_e1d96852_1a18_11ec_ac5a_0242ac1c0002row5_col0\" class=\"data row5 col0\" >26332.303819</td>\n",
              "            </tr>\n",
              "            <tr>\n",
              "                        <th id=\"T_e1d96852_1a18_11ec_ac5a_0242ac1c0002level0_row6\" class=\"row_heading level0 row6\" >27</th>\n",
              "                        <td id=\"T_e1d96852_1a18_11ec_ac5a_0242ac1c0002row6_col0\" class=\"data row6 col0\" >24826.984536</td>\n",
              "            </tr>\n",
              "            <tr>\n",
              "                        <th id=\"T_e1d96852_1a18_11ec_ac5a_0242ac1c0002level0_row7\" class=\"row_heading level0 row7\" >6</th>\n",
              "                        <td id=\"T_e1d96852_1a18_11ec_ac5a_0242ac1c0002row7_col0\" class=\"data row7 col0\" >21913.243624</td>\n",
              "            </tr>\n",
              "            <tr>\n",
              "                        <th id=\"T_e1d96852_1a18_11ec_ac5a_0242ac1c0002level0_row8\" class=\"row_heading level0 row8\" >1</th>\n",
              "                        <td id=\"T_e1d96852_1a18_11ec_ac5a_0242ac1c0002row8_col0\" class=\"data row8 col0\" >21710.543621</td>\n",
              "            </tr>\n",
              "            <tr>\n",
              "                        <th id=\"T_e1d96852_1a18_11ec_ac5a_0242ac1c0002level0_row9\" class=\"row_heading level0 row9\" >39</th>\n",
              "                        <td id=\"T_e1d96852_1a18_11ec_ac5a_0242ac1c0002row9_col0\" class=\"data row9 col0\" >21000.763562</td>\n",
              "            </tr>\n",
              "            <tr>\n",
              "                        <th id=\"T_e1d96852_1a18_11ec_ac5a_0242ac1c0002level0_row10\" class=\"row_heading level0 row10\" >19</th>\n",
              "                        <td id=\"T_e1d96852_1a18_11ec_ac5a_0242ac1c0002row10_col0\" class=\"data row10 col0\" >20362.126734</td>\n",
              "            </tr>\n",
              "            <tr>\n",
              "                        <th id=\"T_e1d96852_1a18_11ec_ac5a_0242ac1c0002level0_row11\" class=\"row_heading level0 row11\" >23</th>\n",
              "                        <td id=\"T_e1d96852_1a18_11ec_ac5a_0242ac1c0002row11_col0\" class=\"data row11 col0\" >19776.180881</td>\n",
              "            </tr>\n",
              "            <tr>\n",
              "                        <th id=\"T_e1d96852_1a18_11ec_ac5a_0242ac1c0002level0_row12\" class=\"row_heading level0 row12\" >31</th>\n",
              "                        <td id=\"T_e1d96852_1a18_11ec_ac5a_0242ac1c0002row12_col0\" class=\"data row12 col0\" >19681.907464</td>\n",
              "            </tr>\n",
              "            <tr>\n",
              "                        <th id=\"T_e1d96852_1a18_11ec_ac5a_0242ac1c0002level0_row13\" class=\"row_heading level0 row13\" >11</th>\n",
              "                        <td id=\"T_e1d96852_1a18_11ec_ac5a_0242ac1c0002row13_col0\" class=\"data row13 col0\" >19276.762751</td>\n",
              "            </tr>\n",
              "            <tr>\n",
              "                        <th id=\"T_e1d96852_1a18_11ec_ac5a_0242ac1c0002level0_row14\" class=\"row_heading level0 row14\" >24</th>\n",
              "                        <td id=\"T_e1d96852_1a18_11ec_ac5a_0242ac1c0002row14_col0\" class=\"data row14 col0\" >18969.106500</td>\n",
              "            </tr>\n",
              "            <tr>\n",
              "                        <th id=\"T_e1d96852_1a18_11ec_ac5a_0242ac1c0002level0_row15\" class=\"row_heading level0 row15\" >28</th>\n",
              "                        <td id=\"T_e1d96852_1a18_11ec_ac5a_0242ac1c0002row15_col0\" class=\"data row15 col0\" >18714.889803</td>\n",
              "            </tr>\n",
              "            <tr>\n",
              "                        <th id=\"T_e1d96852_1a18_11ec_ac5a_0242ac1c0002level0_row16\" class=\"row_heading level0 row16\" >41</th>\n",
              "                        <td id=\"T_e1d96852_1a18_11ec_ac5a_0242ac1c0002row16_col0\" class=\"data row16 col0\" >17976.004648</td>\n",
              "            </tr>\n",
              "            <tr>\n",
              "                        <th id=\"T_e1d96852_1a18_11ec_ac5a_0242ac1c0002level0_row17\" class=\"row_heading level0 row17\" >32</th>\n",
              "                        <td id=\"T_e1d96852_1a18_11ec_ac5a_0242ac1c0002row17_col0\" class=\"data row17 col0\" >16351.621855</td>\n",
              "            </tr>\n",
              "            <tr>\n",
              "                        <th id=\"T_e1d96852_1a18_11ec_ac5a_0242ac1c0002level0_row18\" class=\"row_heading level0 row18\" >18</th>\n",
              "                        <td id=\"T_e1d96852_1a18_11ec_ac5a_0242ac1c0002row18_col0\" class=\"data row18 col0\" >15733.313136</td>\n",
              "            </tr>\n",
              "            <tr>\n",
              "                        <th id=\"T_e1d96852_1a18_11ec_ac5a_0242ac1c0002level0_row19\" class=\"row_heading level0 row19\" >22</th>\n",
              "                        <td id=\"T_e1d96852_1a18_11ec_ac5a_0242ac1c0002row19_col0\" class=\"data row19 col0\" >15181.218886</td>\n",
              "            </tr>\n",
              "            <tr>\n",
              "                        <th id=\"T_e1d96852_1a18_11ec_ac5a_0242ac1c0002level0_row20\" class=\"row_heading level0 row20\" >12</th>\n",
              "                        <td id=\"T_e1d96852_1a18_11ec_ac5a_0242ac1c0002row20_col0\" class=\"data row20 col0\" >14867.308619</td>\n",
              "            </tr>\n",
              "            <tr>\n",
              "                        <th id=\"T_e1d96852_1a18_11ec_ac5a_0242ac1c0002level0_row21\" class=\"row_heading level0 row21\" >26</th>\n",
              "                        <td id=\"T_e1d96852_1a18_11ec_ac5a_0242ac1c0002row21_col0\" class=\"data row21 col0\" >14554.129672</td>\n",
              "            </tr>\n",
              "            <tr>\n",
              "                        <th id=\"T_e1d96852_1a18_11ec_ac5a_0242ac1c0002level0_row22\" class=\"row_heading level0 row22\" >35</th>\n",
              "                        <td id=\"T_e1d96852_1a18_11ec_ac5a_0242ac1c0002row22_col0\" class=\"data row22 col0\" >13803.596986</td>\n",
              "            </tr>\n",
              "            <tr>\n",
              "                        <th id=\"T_e1d96852_1a18_11ec_ac5a_0242ac1c0002level0_row23\" class=\"row_heading level0 row23\" >40</th>\n",
              "                        <td id=\"T_e1d96852_1a18_11ec_ac5a_0242ac1c0002row23_col0\" class=\"data row23 col0\" >13763.632803</td>\n",
              "            </tr>\n",
              "            <tr>\n",
              "                        <th id=\"T_e1d96852_1a18_11ec_ac5a_0242ac1c0002level0_row24\" class=\"row_heading level0 row24\" >34</th>\n",
              "                        <td id=\"T_e1d96852_1a18_11ec_ac5a_0242ac1c0002row24_col0\" class=\"data row24 col0\" >13522.081671</td>\n",
              "            </tr>\n",
              "            <tr>\n",
              "                        <th id=\"T_e1d96852_1a18_11ec_ac5a_0242ac1c0002level0_row25\" class=\"row_heading level0 row25\" >43</th>\n",
              "                        <td id=\"T_e1d96852_1a18_11ec_ac5a_0242ac1c0002row25_col0\" class=\"data row25 col0\" >13415.114118</td>\n",
              "            </tr>\n",
              "            <tr>\n",
              "                        <th id=\"T_e1d96852_1a18_11ec_ac5a_0242ac1c0002level0_row26\" class=\"row_heading level0 row26\" >8</th>\n",
              "                        <td id=\"T_e1d96852_1a18_11ec_ac5a_0242ac1c0002row26_col0\" class=\"data row26 col0\" >13133.014768</td>\n",
              "            </tr>\n",
              "            <tr>\n",
              "                        <th id=\"T_e1d96852_1a18_11ec_ac5a_0242ac1c0002level0_row27\" class=\"row_heading level0 row27\" >17</th>\n",
              "                        <td id=\"T_e1d96852_1a18_11ec_ac5a_0242ac1c0002row27_col0\" class=\"data row27 col0\" >12954.393636</td>\n",
              "            </tr>\n",
              "            <tr>\n",
              "                        <th id=\"T_e1d96852_1a18_11ec_ac5a_0242ac1c0002level0_row28\" class=\"row_heading level0 row28\" >45</th>\n",
              "                        <td id=\"T_e1d96852_1a18_11ec_ac5a_0242ac1c0002row28_col0\" class=\"data row28 col0\" >11662.897315</td>\n",
              "            </tr>\n",
              "            <tr>\n",
              "                        <th id=\"T_e1d96852_1a18_11ec_ac5a_0242ac1c0002level0_row29\" class=\"row_heading level0 row29\" >42</th>\n",
              "                        <td id=\"T_e1d96852_1a18_11ec_ac5a_0242ac1c0002row29_col0\" class=\"data row29 col0\" >11443.370118</td>\n",
              "            </tr>\n",
              "            <tr>\n",
              "                        <th id=\"T_e1d96852_1a18_11ec_ac5a_0242ac1c0002level0_row30\" class=\"row_heading level0 row30\" >21</th>\n",
              "                        <td id=\"T_e1d96852_1a18_11ec_ac5a_0242ac1c0002row30_col0\" class=\"data row30 col0\" >11283.435496</td>\n",
              "            </tr>\n",
              "            <tr>\n",
              "                        <th id=\"T_e1d96852_1a18_11ec_ac5a_0242ac1c0002level0_row31\" class=\"row_heading level0 row31\" >25</th>\n",
              "                        <td id=\"T_e1d96852_1a18_11ec_ac5a_0242ac1c0002row31_col0\" class=\"data row31 col0\" >10308.157810</td>\n",
              "            </tr>\n",
              "            <tr>\n",
              "                        <th id=\"T_e1d96852_1a18_11ec_ac5a_0242ac1c0002level0_row32\" class=\"row_heading level0 row32\" >37</th>\n",
              "                        <td id=\"T_e1d96852_1a18_11ec_ac5a_0242ac1c0002row32_col0\" class=\"data row32 col0\" >10297.355026</td>\n",
              "            </tr>\n",
              "            <tr>\n",
              "                        <th id=\"T_e1d96852_1a18_11ec_ac5a_0242ac1c0002level0_row33\" class=\"row_heading level0 row33\" >15</th>\n",
              "                        <td id=\"T_e1d96852_1a18_11ec_ac5a_0242ac1c0002row33_col0\" class=\"data row33 col0\" >9002.493073</td>\n",
              "            </tr>\n",
              "            <tr>\n",
              "                        <th id=\"T_e1d96852_1a18_11ec_ac5a_0242ac1c0002level0_row34\" class=\"row_heading level0 row34\" >9</th>\n",
              "                        <td id=\"T_e1d96852_1a18_11ec_ac5a_0242ac1c0002row34_col0\" class=\"data row34 col0\" >8772.890379</td>\n",
              "            </tr>\n",
              "            <tr>\n",
              "                        <th id=\"T_e1d96852_1a18_11ec_ac5a_0242ac1c0002level0_row35\" class=\"row_heading level0 row35\" >30</th>\n",
              "                        <td id=\"T_e1d96852_1a18_11ec_ac5a_0242ac1c0002row35_col0\" class=\"data row35 col0\" >8764.237719</td>\n",
              "            </tr>\n",
              "            <tr>\n",
              "                        <th id=\"T_e1d96852_1a18_11ec_ac5a_0242ac1c0002level0_row36\" class=\"row_heading level0 row36\" >36</th>\n",
              "                        <td id=\"T_e1d96852_1a18_11ec_ac5a_0242ac1c0002row36_col0\" class=\"data row36 col0\" >8584.412563</td>\n",
              "            </tr>\n",
              "            <tr>\n",
              "                        <th id=\"T_e1d96852_1a18_11ec_ac5a_0242ac1c0002level0_row37\" class=\"row_heading level0 row37\" >7</th>\n",
              "                        <td id=\"T_e1d96852_1a18_11ec_ac5a_0242ac1c0002row37_col0\" class=\"data row37 col0\" >8358.766148</td>\n",
              "            </tr>\n",
              "            <tr>\n",
              "                        <th id=\"T_e1d96852_1a18_11ec_ac5a_0242ac1c0002level0_row38\" class=\"row_heading level0 row38\" >29</th>\n",
              "                        <td id=\"T_e1d96852_1a18_11ec_ac5a_0242ac1c0002row38_col0\" class=\"data row38 col0\" >8158.810609</td>\n",
              "            </tr>\n",
              "            <tr>\n",
              "                        <th id=\"T_e1d96852_1a18_11ec_ac5a_0242ac1c0002level0_row39\" class=\"row_heading level0 row39\" >16</th>\n",
              "                        <td id=\"T_e1d96852_1a18_11ec_ac5a_0242ac1c0002row39_col0\" class=\"data row39 col0\" >7863.224124</td>\n",
              "            </tr>\n",
              "            <tr>\n",
              "                        <th id=\"T_e1d96852_1a18_11ec_ac5a_0242ac1c0002level0_row40\" class=\"row_heading level0 row40\" >38</th>\n",
              "                        <td id=\"T_e1d96852_1a18_11ec_ac5a_0242ac1c0002row40_col0\" class=\"data row40 col0\" >7492.478460</td>\n",
              "            </tr>\n",
              "            <tr>\n",
              "                        <th id=\"T_e1d96852_1a18_11ec_ac5a_0242ac1c0002level0_row41\" class=\"row_heading level0 row41\" >3</th>\n",
              "                        <td id=\"T_e1d96852_1a18_11ec_ac5a_0242ac1c0002row41_col0\" class=\"data row41 col0\" >6373.033983</td>\n",
              "            </tr>\n",
              "            <tr>\n",
              "                        <th id=\"T_e1d96852_1a18_11ec_ac5a_0242ac1c0002level0_row42\" class=\"row_heading level0 row42\" >44</th>\n",
              "                        <td id=\"T_e1d96852_1a18_11ec_ac5a_0242ac1c0002row42_col0\" class=\"data row42 col0\" >6038.929814</td>\n",
              "            </tr>\n",
              "            <tr>\n",
              "                        <th id=\"T_e1d96852_1a18_11ec_ac5a_0242ac1c0002level0_row43\" class=\"row_heading level0 row43\" >33</th>\n",
              "                        <td id=\"T_e1d96852_1a18_11ec_ac5a_0242ac1c0002row43_col0\" class=\"data row43 col0\" >5728.414053</td>\n",
              "            </tr>\n",
              "            <tr>\n",
              "                        <th id=\"T_e1d96852_1a18_11ec_ac5a_0242ac1c0002level0_row44\" class=\"row_heading level0 row44\" >5</th>\n",
              "                        <td id=\"T_e1d96852_1a18_11ec_ac5a_0242ac1c0002row44_col0\" class=\"data row44 col0\" >5053.415813</td>\n",
              "            </tr>\n",
              "    </tbody></table>"
            ],
            "text/plain": [
              "<pandas.io.formats.style.Styler at 0x7f7edb1df290>"
            ]
          },
          "metadata": {},
          "execution_count": 56
        }
      ]
    },
    {
      "cell_type": "markdown",
      "metadata": {
        "id": "5ITsRzg8JEtP"
      },
      "source": [
        "Observation : **Store 20** had the maximum weekly sales"
      ]
    },
    {
      "cell_type": "code",
      "metadata": {
        "colab": {
          "base_uri": "https://localhost:8080/",
          "height": 1000
        },
        "id": "xowK3cRh6gsB",
        "outputId": "b7c32ec0-2671-427d-8397-01d0c83e6aff"
      },
      "source": [
        "# Sorting the dataframe with respect to weekly sales in ascending order\n",
        "weekly_sales_store_df.sort_values('Weekly_Sales').style.bar(align = 'left',width = 98 , color = 'cyan')"
      ],
      "execution_count": 57,
      "outputs": [
        {
          "output_type": "execute_result",
          "data": {
            "text/html": [
              "<style  type=\"text/css\" >\n",
              "#T_fb8bee82_1a18_11ec_ac5a_0242ac1c0002row0_col0{\n",
              "            width:  10em;\n",
              "             height:  80%;\n",
              "        }#T_fb8bee82_1a18_11ec_ac5a_0242ac1c0002row1_col0{\n",
              "            width:  10em;\n",
              "             height:  80%;\n",
              "            background:  linear-gradient(90deg,cyan 2.7%, transparent 2.7%);\n",
              "        }#T_fb8bee82_1a18_11ec_ac5a_0242ac1c0002row2_col0{\n",
              "            width:  10em;\n",
              "             height:  80%;\n",
              "            background:  linear-gradient(90deg,cyan 3.9%, transparent 3.9%);\n",
              "        }#T_fb8bee82_1a18_11ec_ac5a_0242ac1c0002row3_col0{\n",
              "            width:  10em;\n",
              "             height:  80%;\n",
              "            background:  linear-gradient(90deg,cyan 5.3%, transparent 5.3%);\n",
              "        }#T_fb8bee82_1a18_11ec_ac5a_0242ac1c0002row4_col0{\n",
              "            width:  10em;\n",
              "             height:  80%;\n",
              "            background:  linear-gradient(90deg,cyan 9.8%, transparent 9.8%);\n",
              "        }#T_fb8bee82_1a18_11ec_ac5a_0242ac1c0002row5_col0{\n",
              "            width:  10em;\n",
              "             height:  80%;\n",
              "            background:  linear-gradient(90deg,cyan 11.3%, transparent 11.3%);\n",
              "        }#T_fb8bee82_1a18_11ec_ac5a_0242ac1c0002row6_col0{\n",
              "            width:  10em;\n",
              "             height:  80%;\n",
              "            background:  linear-gradient(90deg,cyan 12.4%, transparent 12.4%);\n",
              "        }#T_fb8bee82_1a18_11ec_ac5a_0242ac1c0002row7_col0{\n",
              "            width:  10em;\n",
              "             height:  80%;\n",
              "            background:  linear-gradient(90deg,cyan 13.2%, transparent 13.2%);\n",
              "        }#T_fb8bee82_1a18_11ec_ac5a_0242ac1c0002row8_col0{\n",
              "            width:  10em;\n",
              "             height:  80%;\n",
              "            background:  linear-gradient(90deg,cyan 14.2%, transparent 14.2%);\n",
              "        }#T_fb8bee82_1a18_11ec_ac5a_0242ac1c0002row9_col0,#T_fb8bee82_1a18_11ec_ac5a_0242ac1c0002row10_col0{\n",
              "            width:  10em;\n",
              "             height:  80%;\n",
              "            background:  linear-gradient(90deg,cyan 14.9%, transparent 14.9%);\n",
              "        }#T_fb8bee82_1a18_11ec_ac5a_0242ac1c0002row11_col0{\n",
              "            width:  10em;\n",
              "             height:  80%;\n",
              "            background:  linear-gradient(90deg,cyan 15.8%, transparent 15.8%);\n",
              "        }#T_fb8bee82_1a18_11ec_ac5a_0242ac1c0002row12_col0{\n",
              "            width:  10em;\n",
              "             height:  80%;\n",
              "            background:  linear-gradient(90deg,cyan 21.0%, transparent 21.0%);\n",
              "        }#T_fb8bee82_1a18_11ec_ac5a_0242ac1c0002row13_col0{\n",
              "            width:  10em;\n",
              "             height:  80%;\n",
              "            background:  linear-gradient(90deg,cyan 21.1%, transparent 21.1%);\n",
              "        }#T_fb8bee82_1a18_11ec_ac5a_0242ac1c0002row14_col0{\n",
              "            width:  10em;\n",
              "             height:  80%;\n",
              "            background:  linear-gradient(90deg,cyan 25.0%, transparent 25.0%);\n",
              "        }#T_fb8bee82_1a18_11ec_ac5a_0242ac1c0002row15_col0{\n",
              "            width:  10em;\n",
              "             height:  80%;\n",
              "            background:  linear-gradient(90deg,cyan 25.6%, transparent 25.6%);\n",
              "        }#T_fb8bee82_1a18_11ec_ac5a_0242ac1c0002row16_col0{\n",
              "            width:  10em;\n",
              "             height:  80%;\n",
              "            background:  linear-gradient(90deg,cyan 26.5%, transparent 26.5%);\n",
              "        }#T_fb8bee82_1a18_11ec_ac5a_0242ac1c0002row17_col0{\n",
              "            width:  10em;\n",
              "             height:  80%;\n",
              "            background:  linear-gradient(90deg,cyan 31.7%, transparent 31.7%);\n",
              "        }#T_fb8bee82_1a18_11ec_ac5a_0242ac1c0002row18_col0{\n",
              "            width:  10em;\n",
              "             height:  80%;\n",
              "            background:  linear-gradient(90deg,cyan 32.4%, transparent 32.4%);\n",
              "        }#T_fb8bee82_1a18_11ec_ac5a_0242ac1c0002row19_col0{\n",
              "            width:  10em;\n",
              "             height:  80%;\n",
              "            background:  linear-gradient(90deg,cyan 33.5%, transparent 33.5%);\n",
              "        }#T_fb8bee82_1a18_11ec_ac5a_0242ac1c0002row20_col0{\n",
              "            width:  10em;\n",
              "             height:  80%;\n",
              "            background:  linear-gradient(90deg,cyan 33.9%, transparent 33.9%);\n",
              "        }#T_fb8bee82_1a18_11ec_ac5a_0242ac1c0002row21_col0{\n",
              "            width:  10em;\n",
              "             height:  80%;\n",
              "            background:  linear-gradient(90deg,cyan 34.9%, transparent 34.9%);\n",
              "        }#T_fb8bee82_1a18_11ec_ac5a_0242ac1c0002row22_col0{\n",
              "            width:  10em;\n",
              "             height:  80%;\n",
              "            background:  linear-gradient(90deg,cyan 35.1%, transparent 35.1%);\n",
              "        }#T_fb8bee82_1a18_11ec_ac5a_0242ac1c0002row23_col0{\n",
              "            width:  10em;\n",
              "             height:  80%;\n",
              "            background:  linear-gradient(90deg,cyan 38.1%, transparent 38.1%);\n",
              "        }#T_fb8bee82_1a18_11ec_ac5a_0242ac1c0002row24_col0{\n",
              "            width:  10em;\n",
              "             height:  80%;\n",
              "            background:  linear-gradient(90deg,cyan 39.3%, transparent 39.3%);\n",
              "        }#T_fb8bee82_1a18_11ec_ac5a_0242ac1c0002row25_col0{\n",
              "            width:  10em;\n",
              "             height:  80%;\n",
              "            background:  linear-gradient(90deg,cyan 40.6%, transparent 40.6%);\n",
              "        }#T_fb8bee82_1a18_11ec_ac5a_0242ac1c0002row26_col0{\n",
              "            width:  10em;\n",
              "             height:  80%;\n",
              "            background:  linear-gradient(90deg,cyan 42.8%, transparent 42.8%);\n",
              "        }#T_fb8bee82_1a18_11ec_ac5a_0242ac1c0002row27_col0{\n",
              "            width:  10em;\n",
              "             height:  80%;\n",
              "            background:  linear-gradient(90deg,cyan 45.3%, transparent 45.3%);\n",
              "        }#T_fb8bee82_1a18_11ec_ac5a_0242ac1c0002row28_col0{\n",
              "            width:  10em;\n",
              "             height:  80%;\n",
              "            background:  linear-gradient(90deg,cyan 51.8%, transparent 51.8%);\n",
              "        }#T_fb8bee82_1a18_11ec_ac5a_0242ac1c0002row29_col0{\n",
              "            width:  10em;\n",
              "             height:  80%;\n",
              "            background:  linear-gradient(90deg,cyan 54.7%, transparent 54.7%);\n",
              "        }#T_fb8bee82_1a18_11ec_ac5a_0242ac1c0002row30_col0{\n",
              "            width:  10em;\n",
              "             height:  80%;\n",
              "            background:  linear-gradient(90deg,cyan 55.8%, transparent 55.8%);\n",
              "        }#T_fb8bee82_1a18_11ec_ac5a_0242ac1c0002row31_col0{\n",
              "            width:  10em;\n",
              "             height:  80%;\n",
              "            background:  linear-gradient(90deg,cyan 57.0%, transparent 57.0%);\n",
              "        }#T_fb8bee82_1a18_11ec_ac5a_0242ac1c0002row32_col0{\n",
              "            width:  10em;\n",
              "             height:  80%;\n",
              "            background:  linear-gradient(90deg,cyan 58.6%, transparent 58.6%);\n",
              "        }#T_fb8bee82_1a18_11ec_ac5a_0242ac1c0002row33_col0{\n",
              "            width:  10em;\n",
              "             height:  80%;\n",
              "            background:  linear-gradient(90deg,cyan 59.0%, transparent 59.0%);\n",
              "        }#T_fb8bee82_1a18_11ec_ac5a_0242ac1c0002row34_col0{\n",
              "            width:  10em;\n",
              "             height:  80%;\n",
              "            background:  linear-gradient(90deg,cyan 61.3%, transparent 61.3%);\n",
              "        }#T_fb8bee82_1a18_11ec_ac5a_0242ac1c0002row35_col0{\n",
              "            width:  10em;\n",
              "             height:  80%;\n",
              "            background:  linear-gradient(90deg,cyan 63.9%, transparent 63.9%);\n",
              "        }#T_fb8bee82_1a18_11ec_ac5a_0242ac1c0002row36_col0{\n",
              "            width:  10em;\n",
              "             height:  80%;\n",
              "            background:  linear-gradient(90deg,cyan 66.8%, transparent 66.8%);\n",
              "        }#T_fb8bee82_1a18_11ec_ac5a_0242ac1c0002row37_col0{\n",
              "            width:  10em;\n",
              "             height:  80%;\n",
              "            background:  linear-gradient(90deg,cyan 67.6%, transparent 67.6%);\n",
              "        }#T_fb8bee82_1a18_11ec_ac5a_0242ac1c0002row38_col0{\n",
              "            width:  10em;\n",
              "             height:  80%;\n",
              "            background:  linear-gradient(90deg,cyan 79.2%, transparent 79.2%);\n",
              "        }#T_fb8bee82_1a18_11ec_ac5a_0242ac1c0002row39_col0{\n",
              "            width:  10em;\n",
              "             height:  80%;\n",
              "            background:  linear-gradient(90deg,cyan 85.3%, transparent 85.3%);\n",
              "        }#T_fb8bee82_1a18_11ec_ac5a_0242ac1c0002row40_col0{\n",
              "            width:  10em;\n",
              "             height:  80%;\n",
              "            background:  linear-gradient(90deg,cyan 87.5%, transparent 87.5%);\n",
              "        }#T_fb8bee82_1a18_11ec_ac5a_0242ac1c0002row41_col0{\n",
              "            width:  10em;\n",
              "             height:  80%;\n",
              "            background:  linear-gradient(90deg,cyan 89.4%, transparent 89.4%);\n",
              "        }#T_fb8bee82_1a18_11ec_ac5a_0242ac1c0002row42_col0{\n",
              "            width:  10em;\n",
              "             height:  80%;\n",
              "            background:  linear-gradient(90deg,cyan 95.1%, transparent 95.1%);\n",
              "        }#T_fb8bee82_1a18_11ec_ac5a_0242ac1c0002row43_col0{\n",
              "            width:  10em;\n",
              "             height:  80%;\n",
              "            background:  linear-gradient(90deg,cyan 96.6%, transparent 96.6%);\n",
              "        }#T_fb8bee82_1a18_11ec_ac5a_0242ac1c0002row44_col0{\n",
              "            width:  10em;\n",
              "             height:  80%;\n",
              "            background:  linear-gradient(90deg,cyan 98.0%, transparent 98.0%);\n",
              "        }</style><table id=\"T_fb8bee82_1a18_11ec_ac5a_0242ac1c0002\" ><thead>    <tr>        <th class=\"blank level0\" ></th>        <th class=\"col_heading level0 col0\" >Weekly_Sales</th>    </tr>    <tr>        <th class=\"index_name level0\" >Store</th>        <th class=\"blank\" ></th>    </tr></thead><tbody>\n",
              "                <tr>\n",
              "                        <th id=\"T_fb8bee82_1a18_11ec_ac5a_0242ac1c0002level0_row0\" class=\"row_heading level0 row0\" >5</th>\n",
              "                        <td id=\"T_fb8bee82_1a18_11ec_ac5a_0242ac1c0002row0_col0\" class=\"data row0 col0\" >5053.415813</td>\n",
              "            </tr>\n",
              "            <tr>\n",
              "                        <th id=\"T_fb8bee82_1a18_11ec_ac5a_0242ac1c0002level0_row1\" class=\"row_heading level0 row1\" >33</th>\n",
              "                        <td id=\"T_fb8bee82_1a18_11ec_ac5a_0242ac1c0002row1_col0\" class=\"data row1 col0\" >5728.414053</td>\n",
              "            </tr>\n",
              "            <tr>\n",
              "                        <th id=\"T_fb8bee82_1a18_11ec_ac5a_0242ac1c0002level0_row2\" class=\"row_heading level0 row2\" >44</th>\n",
              "                        <td id=\"T_fb8bee82_1a18_11ec_ac5a_0242ac1c0002row2_col0\" class=\"data row2 col0\" >6038.929814</td>\n",
              "            </tr>\n",
              "            <tr>\n",
              "                        <th id=\"T_fb8bee82_1a18_11ec_ac5a_0242ac1c0002level0_row3\" class=\"row_heading level0 row3\" >3</th>\n",
              "                        <td id=\"T_fb8bee82_1a18_11ec_ac5a_0242ac1c0002row3_col0\" class=\"data row3 col0\" >6373.033983</td>\n",
              "            </tr>\n",
              "            <tr>\n",
              "                        <th id=\"T_fb8bee82_1a18_11ec_ac5a_0242ac1c0002level0_row4\" class=\"row_heading level0 row4\" >38</th>\n",
              "                        <td id=\"T_fb8bee82_1a18_11ec_ac5a_0242ac1c0002row4_col0\" class=\"data row4 col0\" >7492.478460</td>\n",
              "            </tr>\n",
              "            <tr>\n",
              "                        <th id=\"T_fb8bee82_1a18_11ec_ac5a_0242ac1c0002level0_row5\" class=\"row_heading level0 row5\" >16</th>\n",
              "                        <td id=\"T_fb8bee82_1a18_11ec_ac5a_0242ac1c0002row5_col0\" class=\"data row5 col0\" >7863.224124</td>\n",
              "            </tr>\n",
              "            <tr>\n",
              "                        <th id=\"T_fb8bee82_1a18_11ec_ac5a_0242ac1c0002level0_row6\" class=\"row_heading level0 row6\" >29</th>\n",
              "                        <td id=\"T_fb8bee82_1a18_11ec_ac5a_0242ac1c0002row6_col0\" class=\"data row6 col0\" >8158.810609</td>\n",
              "            </tr>\n",
              "            <tr>\n",
              "                        <th id=\"T_fb8bee82_1a18_11ec_ac5a_0242ac1c0002level0_row7\" class=\"row_heading level0 row7\" >7</th>\n",
              "                        <td id=\"T_fb8bee82_1a18_11ec_ac5a_0242ac1c0002row7_col0\" class=\"data row7 col0\" >8358.766148</td>\n",
              "            </tr>\n",
              "            <tr>\n",
              "                        <th id=\"T_fb8bee82_1a18_11ec_ac5a_0242ac1c0002level0_row8\" class=\"row_heading level0 row8\" >36</th>\n",
              "                        <td id=\"T_fb8bee82_1a18_11ec_ac5a_0242ac1c0002row8_col0\" class=\"data row8 col0\" >8584.412563</td>\n",
              "            </tr>\n",
              "            <tr>\n",
              "                        <th id=\"T_fb8bee82_1a18_11ec_ac5a_0242ac1c0002level0_row9\" class=\"row_heading level0 row9\" >30</th>\n",
              "                        <td id=\"T_fb8bee82_1a18_11ec_ac5a_0242ac1c0002row9_col0\" class=\"data row9 col0\" >8764.237719</td>\n",
              "            </tr>\n",
              "            <tr>\n",
              "                        <th id=\"T_fb8bee82_1a18_11ec_ac5a_0242ac1c0002level0_row10\" class=\"row_heading level0 row10\" >9</th>\n",
              "                        <td id=\"T_fb8bee82_1a18_11ec_ac5a_0242ac1c0002row10_col0\" class=\"data row10 col0\" >8772.890379</td>\n",
              "            </tr>\n",
              "            <tr>\n",
              "                        <th id=\"T_fb8bee82_1a18_11ec_ac5a_0242ac1c0002level0_row11\" class=\"row_heading level0 row11\" >15</th>\n",
              "                        <td id=\"T_fb8bee82_1a18_11ec_ac5a_0242ac1c0002row11_col0\" class=\"data row11 col0\" >9002.493073</td>\n",
              "            </tr>\n",
              "            <tr>\n",
              "                        <th id=\"T_fb8bee82_1a18_11ec_ac5a_0242ac1c0002level0_row12\" class=\"row_heading level0 row12\" >37</th>\n",
              "                        <td id=\"T_fb8bee82_1a18_11ec_ac5a_0242ac1c0002row12_col0\" class=\"data row12 col0\" >10297.355026</td>\n",
              "            </tr>\n",
              "            <tr>\n",
              "                        <th id=\"T_fb8bee82_1a18_11ec_ac5a_0242ac1c0002level0_row13\" class=\"row_heading level0 row13\" >25</th>\n",
              "                        <td id=\"T_fb8bee82_1a18_11ec_ac5a_0242ac1c0002row13_col0\" class=\"data row13 col0\" >10308.157810</td>\n",
              "            </tr>\n",
              "            <tr>\n",
              "                        <th id=\"T_fb8bee82_1a18_11ec_ac5a_0242ac1c0002level0_row14\" class=\"row_heading level0 row14\" >21</th>\n",
              "                        <td id=\"T_fb8bee82_1a18_11ec_ac5a_0242ac1c0002row14_col0\" class=\"data row14 col0\" >11283.435496</td>\n",
              "            </tr>\n",
              "            <tr>\n",
              "                        <th id=\"T_fb8bee82_1a18_11ec_ac5a_0242ac1c0002level0_row15\" class=\"row_heading level0 row15\" >42</th>\n",
              "                        <td id=\"T_fb8bee82_1a18_11ec_ac5a_0242ac1c0002row15_col0\" class=\"data row15 col0\" >11443.370118</td>\n",
              "            </tr>\n",
              "            <tr>\n",
              "                        <th id=\"T_fb8bee82_1a18_11ec_ac5a_0242ac1c0002level0_row16\" class=\"row_heading level0 row16\" >45</th>\n",
              "                        <td id=\"T_fb8bee82_1a18_11ec_ac5a_0242ac1c0002row16_col0\" class=\"data row16 col0\" >11662.897315</td>\n",
              "            </tr>\n",
              "            <tr>\n",
              "                        <th id=\"T_fb8bee82_1a18_11ec_ac5a_0242ac1c0002level0_row17\" class=\"row_heading level0 row17\" >17</th>\n",
              "                        <td id=\"T_fb8bee82_1a18_11ec_ac5a_0242ac1c0002row17_col0\" class=\"data row17 col0\" >12954.393636</td>\n",
              "            </tr>\n",
              "            <tr>\n",
              "                        <th id=\"T_fb8bee82_1a18_11ec_ac5a_0242ac1c0002level0_row18\" class=\"row_heading level0 row18\" >8</th>\n",
              "                        <td id=\"T_fb8bee82_1a18_11ec_ac5a_0242ac1c0002row18_col0\" class=\"data row18 col0\" >13133.014768</td>\n",
              "            </tr>\n",
              "            <tr>\n",
              "                        <th id=\"T_fb8bee82_1a18_11ec_ac5a_0242ac1c0002level0_row19\" class=\"row_heading level0 row19\" >43</th>\n",
              "                        <td id=\"T_fb8bee82_1a18_11ec_ac5a_0242ac1c0002row19_col0\" class=\"data row19 col0\" >13415.114118</td>\n",
              "            </tr>\n",
              "            <tr>\n",
              "                        <th id=\"T_fb8bee82_1a18_11ec_ac5a_0242ac1c0002level0_row20\" class=\"row_heading level0 row20\" >34</th>\n",
              "                        <td id=\"T_fb8bee82_1a18_11ec_ac5a_0242ac1c0002row20_col0\" class=\"data row20 col0\" >13522.081671</td>\n",
              "            </tr>\n",
              "            <tr>\n",
              "                        <th id=\"T_fb8bee82_1a18_11ec_ac5a_0242ac1c0002level0_row21\" class=\"row_heading level0 row21\" >40</th>\n",
              "                        <td id=\"T_fb8bee82_1a18_11ec_ac5a_0242ac1c0002row21_col0\" class=\"data row21 col0\" >13763.632803</td>\n",
              "            </tr>\n",
              "            <tr>\n",
              "                        <th id=\"T_fb8bee82_1a18_11ec_ac5a_0242ac1c0002level0_row22\" class=\"row_heading level0 row22\" >35</th>\n",
              "                        <td id=\"T_fb8bee82_1a18_11ec_ac5a_0242ac1c0002row22_col0\" class=\"data row22 col0\" >13803.596986</td>\n",
              "            </tr>\n",
              "            <tr>\n",
              "                        <th id=\"T_fb8bee82_1a18_11ec_ac5a_0242ac1c0002level0_row23\" class=\"row_heading level0 row23\" >26</th>\n",
              "                        <td id=\"T_fb8bee82_1a18_11ec_ac5a_0242ac1c0002row23_col0\" class=\"data row23 col0\" >14554.129672</td>\n",
              "            </tr>\n",
              "            <tr>\n",
              "                        <th id=\"T_fb8bee82_1a18_11ec_ac5a_0242ac1c0002level0_row24\" class=\"row_heading level0 row24\" >12</th>\n",
              "                        <td id=\"T_fb8bee82_1a18_11ec_ac5a_0242ac1c0002row24_col0\" class=\"data row24 col0\" >14867.308619</td>\n",
              "            </tr>\n",
              "            <tr>\n",
              "                        <th id=\"T_fb8bee82_1a18_11ec_ac5a_0242ac1c0002level0_row25\" class=\"row_heading level0 row25\" >22</th>\n",
              "                        <td id=\"T_fb8bee82_1a18_11ec_ac5a_0242ac1c0002row25_col0\" class=\"data row25 col0\" >15181.218886</td>\n",
              "            </tr>\n",
              "            <tr>\n",
              "                        <th id=\"T_fb8bee82_1a18_11ec_ac5a_0242ac1c0002level0_row26\" class=\"row_heading level0 row26\" >18</th>\n",
              "                        <td id=\"T_fb8bee82_1a18_11ec_ac5a_0242ac1c0002row26_col0\" class=\"data row26 col0\" >15733.313136</td>\n",
              "            </tr>\n",
              "            <tr>\n",
              "                        <th id=\"T_fb8bee82_1a18_11ec_ac5a_0242ac1c0002level0_row27\" class=\"row_heading level0 row27\" >32</th>\n",
              "                        <td id=\"T_fb8bee82_1a18_11ec_ac5a_0242ac1c0002row27_col0\" class=\"data row27 col0\" >16351.621855</td>\n",
              "            </tr>\n",
              "            <tr>\n",
              "                        <th id=\"T_fb8bee82_1a18_11ec_ac5a_0242ac1c0002level0_row28\" class=\"row_heading level0 row28\" >41</th>\n",
              "                        <td id=\"T_fb8bee82_1a18_11ec_ac5a_0242ac1c0002row28_col0\" class=\"data row28 col0\" >17976.004648</td>\n",
              "            </tr>\n",
              "            <tr>\n",
              "                        <th id=\"T_fb8bee82_1a18_11ec_ac5a_0242ac1c0002level0_row29\" class=\"row_heading level0 row29\" >28</th>\n",
              "                        <td id=\"T_fb8bee82_1a18_11ec_ac5a_0242ac1c0002row29_col0\" class=\"data row29 col0\" >18714.889803</td>\n",
              "            </tr>\n",
              "            <tr>\n",
              "                        <th id=\"T_fb8bee82_1a18_11ec_ac5a_0242ac1c0002level0_row30\" class=\"row_heading level0 row30\" >24</th>\n",
              "                        <td id=\"T_fb8bee82_1a18_11ec_ac5a_0242ac1c0002row30_col0\" class=\"data row30 col0\" >18969.106500</td>\n",
              "            </tr>\n",
              "            <tr>\n",
              "                        <th id=\"T_fb8bee82_1a18_11ec_ac5a_0242ac1c0002level0_row31\" class=\"row_heading level0 row31\" >11</th>\n",
              "                        <td id=\"T_fb8bee82_1a18_11ec_ac5a_0242ac1c0002row31_col0\" class=\"data row31 col0\" >19276.762751</td>\n",
              "            </tr>\n",
              "            <tr>\n",
              "                        <th id=\"T_fb8bee82_1a18_11ec_ac5a_0242ac1c0002level0_row32\" class=\"row_heading level0 row32\" >31</th>\n",
              "                        <td id=\"T_fb8bee82_1a18_11ec_ac5a_0242ac1c0002row32_col0\" class=\"data row32 col0\" >19681.907464</td>\n",
              "            </tr>\n",
              "            <tr>\n",
              "                        <th id=\"T_fb8bee82_1a18_11ec_ac5a_0242ac1c0002level0_row33\" class=\"row_heading level0 row33\" >23</th>\n",
              "                        <td id=\"T_fb8bee82_1a18_11ec_ac5a_0242ac1c0002row33_col0\" class=\"data row33 col0\" >19776.180881</td>\n",
              "            </tr>\n",
              "            <tr>\n",
              "                        <th id=\"T_fb8bee82_1a18_11ec_ac5a_0242ac1c0002level0_row34\" class=\"row_heading level0 row34\" >19</th>\n",
              "                        <td id=\"T_fb8bee82_1a18_11ec_ac5a_0242ac1c0002row34_col0\" class=\"data row34 col0\" >20362.126734</td>\n",
              "            </tr>\n",
              "            <tr>\n",
              "                        <th id=\"T_fb8bee82_1a18_11ec_ac5a_0242ac1c0002level0_row35\" class=\"row_heading level0 row35\" >39</th>\n",
              "                        <td id=\"T_fb8bee82_1a18_11ec_ac5a_0242ac1c0002row35_col0\" class=\"data row35 col0\" >21000.763562</td>\n",
              "            </tr>\n",
              "            <tr>\n",
              "                        <th id=\"T_fb8bee82_1a18_11ec_ac5a_0242ac1c0002level0_row36\" class=\"row_heading level0 row36\" >1</th>\n",
              "                        <td id=\"T_fb8bee82_1a18_11ec_ac5a_0242ac1c0002row36_col0\" class=\"data row36 col0\" >21710.543621</td>\n",
              "            </tr>\n",
              "            <tr>\n",
              "                        <th id=\"T_fb8bee82_1a18_11ec_ac5a_0242ac1c0002level0_row37\" class=\"row_heading level0 row37\" >6</th>\n",
              "                        <td id=\"T_fb8bee82_1a18_11ec_ac5a_0242ac1c0002row37_col0\" class=\"data row37 col0\" >21913.243624</td>\n",
              "            </tr>\n",
              "            <tr>\n",
              "                        <th id=\"T_fb8bee82_1a18_11ec_ac5a_0242ac1c0002level0_row38\" class=\"row_heading level0 row38\" >27</th>\n",
              "                        <td id=\"T_fb8bee82_1a18_11ec_ac5a_0242ac1c0002row38_col0\" class=\"data row38 col0\" >24826.984536</td>\n",
              "            </tr>\n",
              "            <tr>\n",
              "                        <th id=\"T_fb8bee82_1a18_11ec_ac5a_0242ac1c0002level0_row39\" class=\"row_heading level0 row39\" >10</th>\n",
              "                        <td id=\"T_fb8bee82_1a18_11ec_ac5a_0242ac1c0002row39_col0\" class=\"data row39 col0\" >26332.303819</td>\n",
              "            </tr>\n",
              "            <tr>\n",
              "                        <th id=\"T_fb8bee82_1a18_11ec_ac5a_0242ac1c0002level0_row40\" class=\"row_heading level0 row40\" >2</th>\n",
              "                        <td id=\"T_fb8bee82_1a18_11ec_ac5a_0242ac1c0002row40_col0\" class=\"data row40 col0\" >26898.070031</td>\n",
              "            </tr>\n",
              "            <tr>\n",
              "                        <th id=\"T_fb8bee82_1a18_11ec_ac5a_0242ac1c0002level0_row41\" class=\"row_heading level0 row41\" >13</th>\n",
              "                        <td id=\"T_fb8bee82_1a18_11ec_ac5a_0242ac1c0002row41_col0\" class=\"data row41 col0\" >27355.136891</td>\n",
              "            </tr>\n",
              "            <tr>\n",
              "                        <th id=\"T_fb8bee82_1a18_11ec_ac5a_0242ac1c0002level0_row42\" class=\"row_heading level0 row42\" >14</th>\n",
              "                        <td id=\"T_fb8bee82_1a18_11ec_ac5a_0242ac1c0002row42_col0\" class=\"data row42 col0\" >28784.851727</td>\n",
              "            </tr>\n",
              "            <tr>\n",
              "                        <th id=\"T_fb8bee82_1a18_11ec_ac5a_0242ac1c0002level0_row43\" class=\"row_heading level0 row43\" >4</th>\n",
              "                        <td id=\"T_fb8bee82_1a18_11ec_ac5a_0242ac1c0002row43_col0\" class=\"data row43 col0\" >29161.210415</td>\n",
              "            </tr>\n",
              "            <tr>\n",
              "                        <th id=\"T_fb8bee82_1a18_11ec_ac5a_0242ac1c0002level0_row44\" class=\"row_heading level0 row44\" >20</th>\n",
              "                        <td id=\"T_fb8bee82_1a18_11ec_ac5a_0242ac1c0002row44_col0\" class=\"data row44 col0\" >29508.301592</td>\n",
              "            </tr>\n",
              "    </tbody></table>"
            ],
            "text/plain": [
              "<pandas.io.formats.style.Styler at 0x7f7edb13c350>"
            ]
          },
          "metadata": {},
          "execution_count": 57
        }
      ]
    },
    {
      "cell_type": "markdown",
      "metadata": {
        "id": "0ApXWbkGxBCk"
      },
      "source": [
        "Plotting a Bar Graph with score number as x and weekly sales as y"
      ]
    },
    {
      "cell_type": "code",
      "metadata": {
        "colab": {
          "base_uri": "https://localhost:8080/",
          "height": 728
        },
        "id": "wP8W2qDQdHI2",
        "outputId": "6548ef28-d1ff-497c-9afe-de08f00ad682"
      },
      "source": [
        "plt.figure(figsize=(20,12))\n",
        "sns.barplot(weekly_sales_store.index , weekly_sales_store.values , palette = 'winter')\n",
        "plt.title('Average weekly sales per store',fontsize = 25)\n",
        "plt.xlabel('Store Number',fontsize = 20)\n",
        "plt.ylabel('Sales per store',fontsize = 20)\n",
        "plt.grid()\n",
        "plt.show()"
      ],
      "execution_count": 78,
      "outputs": [
        {
          "output_type": "display_data",
          "data": {
            "image/png": "[encoded data removed]",
            "text/plain": [
              "<Figure size 1440x864 with 1 Axes>"
            ]
          },
          "metadata": {
            "needs_background": "light"
          }
        }
      ]
    },
    {
      "cell_type": "markdown",
      "metadata": {
        "id": "bh5W6hDMyMGr"
      },
      "source": [
        "Grouping the train_df_1 by Department and computing the mean of weekly sales for each department"
      ]
    },
    {
      "cell_type": "code",
      "metadata": {
        "colab": {
          "base_uri": "https://localhost:8080/"
        },
        "id": "MKjQEt9QyYVT",
        "outputId": "08e8994a-4fe5-4cfb-a7ff-69b1a8eff1b8"
      },
      "source": [
        "weekly_sales_dept = train_df_1['Weekly_Sales'].groupby(train_df_1['Dept']).mean()\n",
        "weekly_sales_dept.head()"
      ],
      "execution_count": 64,
      "outputs": [
        {
          "output_type": "execute_result",
          "data": {
            "text/plain": [
              "Dept\n",
              "1    19213.485088\n",
              "2    43607.020113\n",
              "3    11793.698516\n",
              "4    25974.630238\n",
              "5    21365.583515\n",
              "Name: Weekly_Sales, dtype: float64"
            ]
          },
          "metadata": {},
          "execution_count": 64
        }
      ]
    },
    {
      "cell_type": "markdown",
      "metadata": {
        "id": "4rFBF2Day7Ts"
      },
      "source": [
        "Converting into Dataframe"
      ]
    },
    {
      "cell_type": "code",
      "metadata": {
        "colab": {
          "base_uri": "https://localhost:8080/",
          "height": 237
        },
        "id": "SjKTvfVZy9Vk",
        "outputId": "8ce0d133-12b4-454a-f0e6-cd693d7de166"
      },
      "source": [
        "weekly_sales_dept_df = pd.DataFrame(weekly_sales_dept)\n",
        "weekly_sales_dept_df.head()"
      ],
      "execution_count": 65,
      "outputs": [
        {
          "output_type": "execute_result",
          "data": {
            "text/html": [
              "<div>\n",
              "<style scoped>\n",
              "    .dataframe tbody tr th:only-of-type {\n",
              "        vertical-align: middle;\n",
              "    }\n",
              "\n",
              "    .dataframe tbody tr th {\n",
              "        vertical-align: top;\n",
              "    }\n",
              "\n",
              "    .dataframe thead th {\n",
              "        text-align: right;\n",
              "    }\n",
              "</style>\n",
              "<table border=\"1\" class=\"dataframe\">\n",
              "  <thead>\n",
              "    <tr style=\"text-align: right;\">\n",
              "      <th></th>\n",
              "      <th>Weekly_Sales</th>\n",
              "    </tr>\n",
              "    <tr>\n",
              "      <th>Dept</th>\n",
              "      <th></th>\n",
              "    </tr>\n",
              "  </thead>\n",
              "  <tbody>\n",
              "    <tr>\n",
              "      <th>1</th>\n",
              "      <td>19213.485088</td>\n",
              "    </tr>\n",
              "    <tr>\n",
              "      <th>2</th>\n",
              "      <td>43607.020113</td>\n",
              "    </tr>\n",
              "    <tr>\n",
              "      <th>3</th>\n",
              "      <td>11793.698516</td>\n",
              "    </tr>\n",
              "    <tr>\n",
              "      <th>4</th>\n",
              "      <td>25974.630238</td>\n",
              "    </tr>\n",
              "    <tr>\n",
              "      <th>5</th>\n",
              "      <td>21365.583515</td>\n",
              "    </tr>\n",
              "  </tbody>\n",
              "</table>\n",
              "</div>"
            ],
            "text/plain": [
              "      Weekly_Sales\n",
              "Dept              \n",
              "1     19213.485088\n",
              "2     43607.020113\n",
              "3     11793.698516\n",
              "4     25974.630238\n",
              "5     21365.583515"
            ]
          },
          "metadata": {},
          "execution_count": 65
        }
      ]
    },
    {
      "cell_type": "code",
      "metadata": {
        "colab": {
          "base_uri": "https://localhost:8080/",
          "height": 1000
        },
        "id": "XjgQswi2zGuO",
        "outputId": "ed79208f-ab3a-499e-e288-3275bf8393a9"
      },
      "source": [
        "# Sorting the dataframe with respect to weekly sales in descending order\n",
        "weekly_sales_dept_df.sort_values('Weekly_Sales',ascending = False).style.bar(align = 'left',width = 98 , color = 'red')"
      ],
      "execution_count": 67,
      "outputs": [
        {
          "output_type": "execute_result",
          "data": {
            "text/html": [
              "<style  type=\"text/css\" >\n",
              "#T_823d52b4_1a27_11ec_ac5a_0242ac1c0002row0_col0{\n",
              "            width:  10em;\n",
              "             height:  80%;\n",
              "            background:  linear-gradient(90deg,red 98.0%, transparent 98.0%);\n",
              "        }#T_823d52b4_1a27_11ec_ac5a_0242ac1c0002row1_col0{\n",
              "            width:  10em;\n",
              "             height:  80%;\n",
              "            background:  linear-gradient(90deg,red 91.0%, transparent 91.0%);\n",
              "        }#T_823d52b4_1a27_11ec_ac5a_0242ac1c0002row2_col0{\n",
              "            width:  10em;\n",
              "             height:  80%;\n",
              "            background:  linear-gradient(90deg,red 79.6%, transparent 79.6%);\n",
              "        }#T_823d52b4_1a27_11ec_ac5a_0242ac1c0002row3_col0{\n",
              "            width:  10em;\n",
              "             height:  80%;\n",
              "            background:  linear-gradient(90deg,red 65.9%, transparent 65.9%);\n",
              "        }#T_823d52b4_1a27_11ec_ac5a_0242ac1c0002row4_col0{\n",
              "            width:  10em;\n",
              "             height:  80%;\n",
              "            background:  linear-gradient(90deg,red 59.2%, transparent 59.2%);\n",
              "        }#T_823d52b4_1a27_11ec_ac5a_0242ac1c0002row5_col0{\n",
              "            width:  10em;\n",
              "             height:  80%;\n",
              "            background:  linear-gradient(90deg,red 58.9%, transparent 58.9%);\n",
              "        }#T_823d52b4_1a27_11ec_ac5a_0242ac1c0002row6_col0{\n",
              "            width:  10em;\n",
              "             height:  80%;\n",
              "            background:  linear-gradient(90deg,red 58.5%, transparent 58.5%);\n",
              "        }#T_823d52b4_1a27_11ec_ac5a_0242ac1c0002row7_col0{\n",
              "            width:  10em;\n",
              "             height:  80%;\n",
              "            background:  linear-gradient(90deg,red 56.8%, transparent 56.8%);\n",
              "        }#T_823d52b4_1a27_11ec_ac5a_0242ac1c0002row8_col0{\n",
              "            width:  10em;\n",
              "             height:  80%;\n",
              "            background:  linear-gradient(90deg,red 43.9%, transparent 43.9%);\n",
              "        }#T_823d52b4_1a27_11ec_ac5a_0242ac1c0002row9_col0{\n",
              "            width:  10em;\n",
              "             height:  80%;\n",
              "            background:  linear-gradient(90deg,red 43.5%, transparent 43.5%);\n",
              "        }#T_823d52b4_1a27_11ec_ac5a_0242ac1c0002row10_col0{\n",
              "            width:  10em;\n",
              "             height:  80%;\n",
              "            background:  linear-gradient(90deg,red 40.0%, transparent 40.0%);\n",
              "        }#T_823d52b4_1a27_11ec_ac5a_0242ac1c0002row11_col0{\n",
              "            width:  10em;\n",
              "             height:  80%;\n",
              "            background:  linear-gradient(90deg,red 39.3%, transparent 39.3%);\n",
              "        }#T_823d52b4_1a27_11ec_ac5a_0242ac1c0002row12_col0{\n",
              "            width:  10em;\n",
              "             height:  80%;\n",
              "            background:  linear-gradient(90deg,red 35.2%, transparent 35.2%);\n",
              "        }#T_823d52b4_1a27_11ec_ac5a_0242ac1c0002row13_col0{\n",
              "            width:  10em;\n",
              "             height:  80%;\n",
              "            background:  linear-gradient(90deg,red 33.9%, transparent 33.9%);\n",
              "        }#T_823d52b4_1a27_11ec_ac5a_0242ac1c0002row14_col0{\n",
              "            width:  10em;\n",
              "             height:  80%;\n",
              "            background:  linear-gradient(90deg,red 31.5%, transparent 31.5%);\n",
              "        }#T_823d52b4_1a27_11ec_ac5a_0242ac1c0002row15_col0{\n",
              "            width:  10em;\n",
              "             height:  80%;\n",
              "            background:  linear-gradient(90deg,red 31.2%, transparent 31.2%);\n",
              "        }#T_823d52b4_1a27_11ec_ac5a_0242ac1c0002row16_col0{\n",
              "            width:  10em;\n",
              "             height:  80%;\n",
              "            background:  linear-gradient(90deg,red 28.6%, transparent 28.6%);\n",
              "        }#T_823d52b4_1a27_11ec_ac5a_0242ac1c0002row17_col0{\n",
              "            width:  10em;\n",
              "             height:  80%;\n",
              "            background:  linear-gradient(90deg,red 27.8%, transparent 27.8%);\n",
              "        }#T_823d52b4_1a27_11ec_ac5a_0242ac1c0002row18_col0{\n",
              "            width:  10em;\n",
              "             height:  80%;\n",
              "            background:  linear-gradient(90deg,red 26.3%, transparent 26.3%);\n",
              "        }#T_823d52b4_1a27_11ec_ac5a_0242ac1c0002row19_col0{\n",
              "            width:  10em;\n",
              "             height:  80%;\n",
              "            background:  linear-gradient(90deg,red 26.0%, transparent 26.0%);\n",
              "        }#T_823d52b4_1a27_11ec_ac5a_0242ac1c0002row20_col0{\n",
              "            width:  10em;\n",
              "             height:  80%;\n",
              "            background:  linear-gradient(90deg,red 25.0%, transparent 25.0%);\n",
              "        }#T_823d52b4_1a27_11ec_ac5a_0242ac1c0002row21_col0{\n",
              "            width:  10em;\n",
              "             height:  80%;\n",
              "            background:  linear-gradient(90deg,red 23.9%, transparent 23.9%);\n",
              "        }#T_823d52b4_1a27_11ec_ac5a_0242ac1c0002row22_col0{\n",
              "            width:  10em;\n",
              "             height:  80%;\n",
              "            background:  linear-gradient(90deg,red 20.4%, transparent 20.4%);\n",
              "        }#T_823d52b4_1a27_11ec_ac5a_0242ac1c0002row23_col0,#T_823d52b4_1a27_11ec_ac5a_0242ac1c0002row24_col0{\n",
              "            width:  10em;\n",
              "             height:  80%;\n",
              "            background:  linear-gradient(90deg,red 20.2%, transparent 20.2%);\n",
              "        }#T_823d52b4_1a27_11ec_ac5a_0242ac1c0002row25_col0{\n",
              "            width:  10em;\n",
              "             height:  80%;\n",
              "            background:  linear-gradient(90deg,red 19.8%, transparent 19.8%);\n",
              "        }#T_823d52b4_1a27_11ec_ac5a_0242ac1c0002row26_col0{\n",
              "            width:  10em;\n",
              "             height:  80%;\n",
              "            background:  linear-gradient(90deg,red 19.4%, transparent 19.4%);\n",
              "        }#T_823d52b4_1a27_11ec_ac5a_0242ac1c0002row27_col0{\n",
              "            width:  10em;\n",
              "             height:  80%;\n",
              "            background:  linear-gradient(90deg,red 18.9%, transparent 18.9%);\n",
              "        }#T_823d52b4_1a27_11ec_ac5a_0242ac1c0002row28_col0,#T_823d52b4_1a27_11ec_ac5a_0242ac1c0002row29_col0{\n",
              "            width:  10em;\n",
              "             height:  80%;\n",
              "            background:  linear-gradient(90deg,red 18.6%, transparent 18.6%);\n",
              "        }#T_823d52b4_1a27_11ec_ac5a_0242ac1c0002row30_col0{\n",
              "            width:  10em;\n",
              "             height:  80%;\n",
              "            background:  linear-gradient(90deg,red 18.0%, transparent 18.0%);\n",
              "        }#T_823d52b4_1a27_11ec_ac5a_0242ac1c0002row31_col0{\n",
              "            width:  10em;\n",
              "             height:  80%;\n",
              "            background:  linear-gradient(90deg,red 17.5%, transparent 17.5%);\n",
              "        }#T_823d52b4_1a27_11ec_ac5a_0242ac1c0002row32_col0{\n",
              "            width:  10em;\n",
              "             height:  80%;\n",
              "            background:  linear-gradient(90deg,red 15.9%, transparent 15.9%);\n",
              "        }#T_823d52b4_1a27_11ec_ac5a_0242ac1c0002row33_col0{\n",
              "            width:  10em;\n",
              "             height:  80%;\n",
              "            background:  linear-gradient(90deg,red 15.4%, transparent 15.4%);\n",
              "        }#T_823d52b4_1a27_11ec_ac5a_0242ac1c0002row34_col0,#T_823d52b4_1a27_11ec_ac5a_0242ac1c0002row35_col0{\n",
              "            width:  10em;\n",
              "             height:  80%;\n",
              "            background:  linear-gradient(90deg,red 14.0%, transparent 14.0%);\n",
              "        }#T_823d52b4_1a27_11ec_ac5a_0242ac1c0002row36_col0{\n",
              "            width:  10em;\n",
              "             height:  80%;\n",
              "            background:  linear-gradient(90deg,red 13.3%, transparent 13.3%);\n",
              "        }#T_823d52b4_1a27_11ec_ac5a_0242ac1c0002row37_col0{\n",
              "            width:  10em;\n",
              "             height:  80%;\n",
              "            background:  linear-gradient(90deg,red 11.7%, transparent 11.7%);\n",
              "        }#T_823d52b4_1a27_11ec_ac5a_0242ac1c0002row38_col0{\n",
              "            width:  10em;\n",
              "             height:  80%;\n",
              "            background:  linear-gradient(90deg,red 10.6%, transparent 10.6%);\n",
              "        }#T_823d52b4_1a27_11ec_ac5a_0242ac1c0002row39_col0{\n",
              "            width:  10em;\n",
              "             height:  80%;\n",
              "            background:  linear-gradient(90deg,red 10.0%, transparent 10.0%);\n",
              "        }#T_823d52b4_1a27_11ec_ac5a_0242ac1c0002row40_col0{\n",
              "            width:  10em;\n",
              "             height:  80%;\n",
              "            background:  linear-gradient(90deg,red 9.7%, transparent 9.7%);\n",
              "        }#T_823d52b4_1a27_11ec_ac5a_0242ac1c0002row41_col0{\n",
              "            width:  10em;\n",
              "             height:  80%;\n",
              "            background:  linear-gradient(90deg,red 9.6%, transparent 9.6%);\n",
              "        }#T_823d52b4_1a27_11ec_ac5a_0242ac1c0002row42_col0,#T_823d52b4_1a27_11ec_ac5a_0242ac1c0002row43_col0{\n",
              "            width:  10em;\n",
              "             height:  80%;\n",
              "            background:  linear-gradient(90deg,red 8.9%, transparent 8.9%);\n",
              "        }#T_823d52b4_1a27_11ec_ac5a_0242ac1c0002row44_col0{\n",
              "            width:  10em;\n",
              "             height:  80%;\n",
              "            background:  linear-gradient(90deg,red 8.4%, transparent 8.4%);\n",
              "        }#T_823d52b4_1a27_11ec_ac5a_0242ac1c0002row45_col0{\n",
              "            width:  10em;\n",
              "             height:  80%;\n",
              "            background:  linear-gradient(90deg,red 8.3%, transparent 8.3%);\n",
              "        }#T_823d52b4_1a27_11ec_ac5a_0242ac1c0002row46_col0{\n",
              "            width:  10em;\n",
              "             height:  80%;\n",
              "            background:  linear-gradient(90deg,red 7.5%, transparent 7.5%);\n",
              "        }#T_823d52b4_1a27_11ec_ac5a_0242ac1c0002row47_col0{\n",
              "            width:  10em;\n",
              "             height:  80%;\n",
              "            background:  linear-gradient(90deg,red 7.4%, transparent 7.4%);\n",
              "        }#T_823d52b4_1a27_11ec_ac5a_0242ac1c0002row48_col0{\n",
              "            width:  10em;\n",
              "             height:  80%;\n",
              "            background:  linear-gradient(90deg,red 7.2%, transparent 7.2%);\n",
              "        }#T_823d52b4_1a27_11ec_ac5a_0242ac1c0002row49_col0{\n",
              "            width:  10em;\n",
              "             height:  80%;\n",
              "            background:  linear-gradient(90deg,red 6.8%, transparent 6.8%);\n",
              "        }#T_823d52b4_1a27_11ec_ac5a_0242ac1c0002row50_col0{\n",
              "            width:  10em;\n",
              "             height:  80%;\n",
              "            background:  linear-gradient(90deg,red 6.5%, transparent 6.5%);\n",
              "        }#T_823d52b4_1a27_11ec_ac5a_0242ac1c0002row51_col0{\n",
              "            width:  10em;\n",
              "             height:  80%;\n",
              "            background:  linear-gradient(90deg,red 6.2%, transparent 6.2%);\n",
              "        }#T_823d52b4_1a27_11ec_ac5a_0242ac1c0002row52_col0{\n",
              "            width:  10em;\n",
              "             height:  80%;\n",
              "            background:  linear-gradient(90deg,red 6.1%, transparent 6.1%);\n",
              "        }#T_823d52b4_1a27_11ec_ac5a_0242ac1c0002row53_col0{\n",
              "            width:  10em;\n",
              "             height:  80%;\n",
              "            background:  linear-gradient(90deg,red 5.5%, transparent 5.5%);\n",
              "        }#T_823d52b4_1a27_11ec_ac5a_0242ac1c0002row54_col0{\n",
              "            width:  10em;\n",
              "             height:  80%;\n",
              "            background:  linear-gradient(90deg,red 5.4%, transparent 5.4%);\n",
              "        }#T_823d52b4_1a27_11ec_ac5a_0242ac1c0002row55_col0{\n",
              "            width:  10em;\n",
              "             height:  80%;\n",
              "            background:  linear-gradient(90deg,red 5.0%, transparent 5.0%);\n",
              "        }#T_823d52b4_1a27_11ec_ac5a_0242ac1c0002row56_col0{\n",
              "            width:  10em;\n",
              "             height:  80%;\n",
              "            background:  linear-gradient(90deg,red 4.8%, transparent 4.8%);\n",
              "        }#T_823d52b4_1a27_11ec_ac5a_0242ac1c0002row57_col0{\n",
              "            width:  10em;\n",
              "             height:  80%;\n",
              "            background:  linear-gradient(90deg,red 4.4%, transparent 4.4%);\n",
              "        }#T_823d52b4_1a27_11ec_ac5a_0242ac1c0002row58_col0{\n",
              "            width:  10em;\n",
              "             height:  80%;\n",
              "            background:  linear-gradient(90deg,red 4.1%, transparent 4.1%);\n",
              "        }#T_823d52b4_1a27_11ec_ac5a_0242ac1c0002row59_col0{\n",
              "            width:  10em;\n",
              "             height:  80%;\n",
              "            background:  linear-gradient(90deg,red 3.8%, transparent 3.8%);\n",
              "        }#T_823d52b4_1a27_11ec_ac5a_0242ac1c0002row60_col0{\n",
              "            width:  10em;\n",
              "             height:  80%;\n",
              "            background:  linear-gradient(90deg,red 3.5%, transparent 3.5%);\n",
              "        }#T_823d52b4_1a27_11ec_ac5a_0242ac1c0002row61_col0{\n",
              "            width:  10em;\n",
              "             height:  80%;\n",
              "            background:  linear-gradient(90deg,red 3.1%, transparent 3.1%);\n",
              "        }#T_823d52b4_1a27_11ec_ac5a_0242ac1c0002row62_col0{\n",
              "            width:  10em;\n",
              "             height:  80%;\n",
              "            background:  linear-gradient(90deg,red 3.0%, transparent 3.0%);\n",
              "        }#T_823d52b4_1a27_11ec_ac5a_0242ac1c0002row63_col0,#T_823d52b4_1a27_11ec_ac5a_0242ac1c0002row64_col0{\n",
              "            width:  10em;\n",
              "             height:  80%;\n",
              "            background:  linear-gradient(90deg,red 2.6%, transparent 2.6%);\n",
              "        }#T_823d52b4_1a27_11ec_ac5a_0242ac1c0002row65_col0{\n",
              "            width:  10em;\n",
              "             height:  80%;\n",
              "            background:  linear-gradient(90deg,red 2.5%, transparent 2.5%);\n",
              "        }#T_823d52b4_1a27_11ec_ac5a_0242ac1c0002row66_col0{\n",
              "            width:  10em;\n",
              "             height:  80%;\n",
              "            background:  linear-gradient(90deg,red 2.2%, transparent 2.2%);\n",
              "        }#T_823d52b4_1a27_11ec_ac5a_0242ac1c0002row67_col0{\n",
              "            width:  10em;\n",
              "             height:  80%;\n",
              "            background:  linear-gradient(90deg,red 2.1%, transparent 2.1%);\n",
              "        }#T_823d52b4_1a27_11ec_ac5a_0242ac1c0002row68_col0{\n",
              "            width:  10em;\n",
              "             height:  80%;\n",
              "            background:  linear-gradient(90deg,red 1.8%, transparent 1.8%);\n",
              "        }#T_823d52b4_1a27_11ec_ac5a_0242ac1c0002row69_col0{\n",
              "            width:  10em;\n",
              "             height:  80%;\n",
              "            background:  linear-gradient(90deg,red 0.9%, transparent 0.9%);\n",
              "        }#T_823d52b4_1a27_11ec_ac5a_0242ac1c0002row70_col0{\n",
              "            width:  10em;\n",
              "             height:  80%;\n",
              "            background:  linear-gradient(90deg,red 0.8%, transparent 0.8%);\n",
              "        }#T_823d52b4_1a27_11ec_ac5a_0242ac1c0002row71_col0{\n",
              "            width:  10em;\n",
              "             height:  80%;\n",
              "            background:  linear-gradient(90deg,red 0.6%, transparent 0.6%);\n",
              "        }#T_823d52b4_1a27_11ec_ac5a_0242ac1c0002row72_col0{\n",
              "            width:  10em;\n",
              "             height:  80%;\n",
              "            background:  linear-gradient(90deg,red 0.5%, transparent 0.5%);\n",
              "        }#T_823d52b4_1a27_11ec_ac5a_0242ac1c0002row73_col0{\n",
              "            width:  10em;\n",
              "             height:  80%;\n",
              "            background:  linear-gradient(90deg,red 0.4%, transparent 0.4%);\n",
              "        }#T_823d52b4_1a27_11ec_ac5a_0242ac1c0002row74_col0{\n",
              "            width:  10em;\n",
              "             height:  80%;\n",
              "            background:  linear-gradient(90deg,red 0.2%, transparent 0.2%);\n",
              "        }#T_823d52b4_1a27_11ec_ac5a_0242ac1c0002row75_col0,#T_823d52b4_1a27_11ec_ac5a_0242ac1c0002row76_col0,#T_823d52b4_1a27_11ec_ac5a_0242ac1c0002row77_col0,#T_823d52b4_1a27_11ec_ac5a_0242ac1c0002row78_col0,#T_823d52b4_1a27_11ec_ac5a_0242ac1c0002row79_col0{\n",
              "            width:  10em;\n",
              "             height:  80%;\n",
              "            background:  linear-gradient(90deg,red 0.0%, transparent 0.0%);\n",
              "        }#T_823d52b4_1a27_11ec_ac5a_0242ac1c0002row80_col0{\n",
              "            width:  10em;\n",
              "             height:  80%;\n",
              "        }</style><table id=\"T_823d52b4_1a27_11ec_ac5a_0242ac1c0002\" ><thead>    <tr>        <th class=\"blank level0\" ></th>        <th class=\"col_heading level0 col0\" >Weekly_Sales</th>    </tr>    <tr>        <th class=\"index_name level0\" >Dept</th>        <th class=\"blank\" ></th>    </tr></thead><tbody>\n",
              "                <tr>\n",
              "                        <th id=\"T_823d52b4_1a27_11ec_ac5a_0242ac1c0002level0_row0\" class=\"row_heading level0 row0\" >92</th>\n",
              "                        <td id=\"T_823d52b4_1a27_11ec_ac5a_0242ac1c0002row0_col0\" class=\"data row0 col0\" >75204.870531</td>\n",
              "            </tr>\n",
              "            <tr>\n",
              "                        <th id=\"T_823d52b4_1a27_11ec_ac5a_0242ac1c0002level0_row1\" class=\"row_heading level0 row1\" >95</th>\n",
              "                        <td id=\"T_823d52b4_1a27_11ec_ac5a_0242ac1c0002row1_col0\" class=\"data row1 col0\" >69824.423080</td>\n",
              "            </tr>\n",
              "            <tr>\n",
              "                        <th id=\"T_823d52b4_1a27_11ec_ac5a_0242ac1c0002level0_row2\" class=\"row_heading level0 row2\" >38</th>\n",
              "                        <td id=\"T_823d52b4_1a27_11ec_ac5a_0242ac1c0002row2_col0\" class=\"data row2 col0\" >61090.619568</td>\n",
              "            </tr>\n",
              "            <tr>\n",
              "                        <th id=\"T_823d52b4_1a27_11ec_ac5a_0242ac1c0002level0_row3\" class=\"row_heading level0 row3\" >72</th>\n",
              "                        <td id=\"T_823d52b4_1a27_11ec_ac5a_0242ac1c0002row3_col0\" class=\"data row3 col0\" >50566.515417</td>\n",
              "            </tr>\n",
              "            <tr>\n",
              "                        <th id=\"T_823d52b4_1a27_11ec_ac5a_0242ac1c0002level0_row4\" class=\"row_heading level0 row4\" >65</th>\n",
              "                        <td id=\"T_823d52b4_1a27_11ec_ac5a_0242ac1c0002row4_col0\" class=\"data row4 col0\" >45441.706224</td>\n",
              "            </tr>\n",
              "            <tr>\n",
              "                        <th id=\"T_823d52b4_1a27_11ec_ac5a_0242ac1c0002level0_row5\" class=\"row_heading level0 row5\" >90</th>\n",
              "                        <td id=\"T_823d52b4_1a27_11ec_ac5a_0242ac1c0002row5_col0\" class=\"data row5 col0\" >45232.084488</td>\n",
              "            </tr>\n",
              "            <tr>\n",
              "                        <th id=\"T_823d52b4_1a27_11ec_ac5a_0242ac1c0002level0_row6\" class=\"row_heading level0 row6\" >40</th>\n",
              "                        <td id=\"T_823d52b4_1a27_11ec_ac5a_0242ac1c0002row6_col0\" class=\"data row6 col0\" >44900.702727</td>\n",
              "            </tr>\n",
              "            <tr>\n",
              "                        <th id=\"T_823d52b4_1a27_11ec_ac5a_0242ac1c0002level0_row7\" class=\"row_heading level0 row7\" >2</th>\n",
              "                        <td id=\"T_823d52b4_1a27_11ec_ac5a_0242ac1c0002row7_col0\" class=\"data row7 col0\" >43607.020113</td>\n",
              "            </tr>\n",
              "            <tr>\n",
              "                        <th id=\"T_823d52b4_1a27_11ec_ac5a_0242ac1c0002level0_row8\" class=\"row_heading level0 row8\" >91</th>\n",
              "                        <td id=\"T_823d52b4_1a27_11ec_ac5a_0242ac1c0002row8_col0\" class=\"data row8 col0\" >33687.910758</td>\n",
              "            </tr>\n",
              "            <tr>\n",
              "                        <th id=\"T_823d52b4_1a27_11ec_ac5a_0242ac1c0002level0_row9\" class=\"row_heading level0 row9\" >94</th>\n",
              "                        <td id=\"T_823d52b4_1a27_11ec_ac5a_0242ac1c0002row9_col0\" class=\"data row9 col0\" >33405.883963</td>\n",
              "            </tr>\n",
              "            <tr>\n",
              "                        <th id=\"T_823d52b4_1a27_11ec_ac5a_0242ac1c0002level0_row10\" class=\"row_heading level0 row10\" >13</th>\n",
              "                        <td id=\"T_823d52b4_1a27_11ec_ac5a_0242ac1c0002row10_col0\" class=\"data row10 col0\" >30663.802634</td>\n",
              "            </tr>\n",
              "            <tr>\n",
              "                        <th id=\"T_823d52b4_1a27_11ec_ac5a_0242ac1c0002level0_row11\" class=\"row_heading level0 row11\" >8</th>\n",
              "                        <td id=\"T_823d52b4_1a27_11ec_ac5a_0242ac1c0002row11_col0\" class=\"data row11 col0\" >30191.263517</td>\n",
              "            </tr>\n",
              "            <tr>\n",
              "                        <th id=\"T_823d52b4_1a27_11ec_ac5a_0242ac1c0002level0_row12\" class=\"row_heading level0 row12\" >93</th>\n",
              "                        <td id=\"T_823d52b4_1a27_11ec_ac5a_0242ac1c0002row12_col0\" class=\"data row12 col0\" >27008.060746</td>\n",
              "            </tr>\n",
              "            <tr>\n",
              "                        <th id=\"T_823d52b4_1a27_11ec_ac5a_0242ac1c0002level0_row13\" class=\"row_heading level0 row13\" >4</th>\n",
              "                        <td id=\"T_823d52b4_1a27_11ec_ac5a_0242ac1c0002row13_col0\" class=\"data row13 col0\" >25974.630238</td>\n",
              "            </tr>\n",
              "            <tr>\n",
              "                        <th id=\"T_823d52b4_1a27_11ec_ac5a_0242ac1c0002level0_row14\" class=\"row_heading level0 row14\" >7</th>\n",
              "                        <td id=\"T_823d52b4_1a27_11ec_ac5a_0242ac1c0002row14_col0\" class=\"data row14 col0\" >24161.237413</td>\n",
              "            </tr>\n",
              "            <tr>\n",
              "                        <th id=\"T_823d52b4_1a27_11ec_ac5a_0242ac1c0002level0_row15\" class=\"row_heading level0 row15\" >23</th>\n",
              "                        <td id=\"T_823d52b4_1a27_11ec_ac5a_0242ac1c0002row15_col0\" class=\"data row15 col0\" >23931.473983</td>\n",
              "            </tr>\n",
              "            <tr>\n",
              "                        <th id=\"T_823d52b4_1a27_11ec_ac5a_0242ac1c0002level0_row16\" class=\"row_heading level0 row16\" >79</th>\n",
              "                        <td id=\"T_823d52b4_1a27_11ec_ac5a_0242ac1c0002row16_col0\" class=\"data row16 col0\" >21973.044932</td>\n",
              "            </tr>\n",
              "            <tr>\n",
              "                        <th id=\"T_823d52b4_1a27_11ec_ac5a_0242ac1c0002level0_row17\" class=\"row_heading level0 row17\" >5</th>\n",
              "                        <td id=\"T_823d52b4_1a27_11ec_ac5a_0242ac1c0002row17_col0\" class=\"data row17 col0\" >21365.583515</td>\n",
              "            </tr>\n",
              "            <tr>\n",
              "                        <th id=\"T_823d52b4_1a27_11ec_ac5a_0242ac1c0002level0_row18\" class=\"row_heading level0 row18\" >9</th>\n",
              "                        <td id=\"T_823d52b4_1a27_11ec_ac5a_0242ac1c0002row18_col0\" class=\"data row18 col0\" >20206.681878</td>\n",
              "            </tr>\n",
              "            <tr>\n",
              "                        <th id=\"T_823d52b4_1a27_11ec_ac5a_0242ac1c0002level0_row19\" class=\"row_heading level0 row19\" >46</th>\n",
              "                        <td id=\"T_823d52b4_1a27_11ec_ac5a_0242ac1c0002row19_col0\" class=\"data row19 col0\" >19944.741483</td>\n",
              "            </tr>\n",
              "            <tr>\n",
              "                        <th id=\"T_823d52b4_1a27_11ec_ac5a_0242ac1c0002level0_row20\" class=\"row_heading level0 row20\" >1</th>\n",
              "                        <td id=\"T_823d52b4_1a27_11ec_ac5a_0242ac1c0002row20_col0\" class=\"data row20 col0\" >19213.485088</td>\n",
              "            </tr>\n",
              "            <tr>\n",
              "                        <th id=\"T_823d52b4_1a27_11ec_ac5a_0242ac1c0002level0_row21\" class=\"row_heading level0 row21\" >10</th>\n",
              "                        <td id=\"T_823d52b4_1a27_11ec_ac5a_0242ac1c0002row21_col0\" class=\"data row21 col0\" >18321.272351</td>\n",
              "            </tr>\n",
              "            <tr>\n",
              "                        <th id=\"T_823d52b4_1a27_11ec_ac5a_0242ac1c0002level0_row22\" class=\"row_heading level0 row22\" >34</th>\n",
              "                        <td id=\"T_823d52b4_1a27_11ec_ac5a_0242ac1c0002row22_col0\" class=\"data row22 col0\" >15625.915402</td>\n",
              "            </tr>\n",
              "            <tr>\n",
              "                        <th id=\"T_823d52b4_1a27_11ec_ac5a_0242ac1c0002level0_row23\" class=\"row_heading level0 row23\" >81</th>\n",
              "                        <td id=\"T_823d52b4_1a27_11ec_ac5a_0242ac1c0002row23_col0\" class=\"data row23 col0\" >15470.400825</td>\n",
              "            </tr>\n",
              "            <tr>\n",
              "                        <th id=\"T_823d52b4_1a27_11ec_ac5a_0242ac1c0002level0_row24\" class=\"row_heading level0 row24\" >82</th>\n",
              "                        <td id=\"T_823d52b4_1a27_11ec_ac5a_0242ac1c0002row24_col0\" class=\"data row24 col0\" >15469.631753</td>\n",
              "            </tr>\n",
              "            <tr>\n",
              "                        <th id=\"T_823d52b4_1a27_11ec_ac5a_0242ac1c0002level0_row25\" class=\"row_heading level0 row25\" >96</th>\n",
              "                        <td id=\"T_823d52b4_1a27_11ec_ac5a_0242ac1c0002row25_col0\" class=\"data row25 col0\" >15210.942761</td>\n",
              "            </tr>\n",
              "            <tr>\n",
              "                        <th id=\"T_823d52b4_1a27_11ec_ac5a_0242ac1c0002level0_row26\" class=\"row_heading level0 row26\" >14</th>\n",
              "                        <td id=\"T_823d52b4_1a27_11ec_ac5a_0242ac1c0002row26_col0\" class=\"data row26 col0\" >14870.966037</td>\n",
              "            </tr>\n",
              "            <tr>\n",
              "                        <th id=\"T_823d52b4_1a27_11ec_ac5a_0242ac1c0002level0_row27\" class=\"row_heading level0 row27\" >11</th>\n",
              "                        <td id=\"T_823d52b4_1a27_11ec_ac5a_0242ac1c0002row27_col0\" class=\"data row27 col0\" >14505.638231</td>\n",
              "            </tr>\n",
              "            <tr>\n",
              "                        <th id=\"T_823d52b4_1a27_11ec_ac5a_0242ac1c0002level0_row28\" class=\"row_heading level0 row28\" >97</th>\n",
              "                        <td id=\"T_823d52b4_1a27_11ec_ac5a_0242ac1c0002row28_col0\" class=\"data row28 col0\" >14255.576919</td>\n",
              "            </tr>\n",
              "            <tr>\n",
              "                        <th id=\"T_823d52b4_1a27_11ec_ac5a_0242ac1c0002level0_row29\" class=\"row_heading level0 row29\" >16</th>\n",
              "                        <td id=\"T_823d52b4_1a27_11ec_ac5a_0242ac1c0002row29_col0\" class=\"data row29 col0\" >14245.638270</td>\n",
              "            </tr>\n",
              "            <tr>\n",
              "                        <th id=\"T_823d52b4_1a27_11ec_ac5a_0242ac1c0002level0_row30\" class=\"row_heading level0 row30\" >74</th>\n",
              "                        <td id=\"T_823d52b4_1a27_11ec_ac5a_0242ac1c0002row30_col0\" class=\"data row30 col0\" >13807.462764</td>\n",
              "            </tr>\n",
              "            <tr>\n",
              "                        <th id=\"T_823d52b4_1a27_11ec_ac5a_0242ac1c0002level0_row31\" class=\"row_heading level0 row31\" >87</th>\n",
              "                        <td id=\"T_823d52b4_1a27_11ec_ac5a_0242ac1c0002row31_col0\" class=\"data row31 col0\" >13418.882117</td>\n",
              "            </tr>\n",
              "            <tr>\n",
              "                        <th id=\"T_823d52b4_1a27_11ec_ac5a_0242ac1c0002level0_row32\" class=\"row_heading level0 row32\" >80</th>\n",
              "                        <td id=\"T_823d52b4_1a27_11ec_ac5a_0242ac1c0002row32_col0\" class=\"data row32 col0\" >12183.680224</td>\n",
              "            </tr>\n",
              "            <tr>\n",
              "                        <th id=\"T_823d52b4_1a27_11ec_ac5a_0242ac1c0002level0_row33\" class=\"row_heading level0 row33\" >3</th>\n",
              "                        <td id=\"T_823d52b4_1a27_11ec_ac5a_0242ac1c0002row33_col0\" class=\"data row33 col0\" >11793.698516</td>\n",
              "            </tr>\n",
              "            <tr>\n",
              "                        <th id=\"T_823d52b4_1a27_11ec_ac5a_0242ac1c0002level0_row34\" class=\"row_heading level0 row34\" >22</th>\n",
              "                        <td id=\"T_823d52b4_1a27_11ec_ac5a_0242ac1c0002row34_col0\" class=\"data row34 col0\" >10774.509717</td>\n",
              "            </tr>\n",
              "            <tr>\n",
              "                        <th id=\"T_823d52b4_1a27_11ec_ac5a_0242ac1c0002level0_row35\" class=\"row_heading level0 row35\" >55</th>\n",
              "                        <td id=\"T_823d52b4_1a27_11ec_ac5a_0242ac1c0002row35_col0\" class=\"data row35 col0\" >10716.664644</td>\n",
              "            </tr>\n",
              "            <tr>\n",
              "                        <th id=\"T_823d52b4_1a27_11ec_ac5a_0242ac1c0002level0_row36\" class=\"row_heading level0 row36\" >17</th>\n",
              "                        <td id=\"T_823d52b4_1a27_11ec_ac5a_0242ac1c0002row36_col0\" class=\"data row36 col0\" >10187.120498</td>\n",
              "            </tr>\n",
              "            <tr>\n",
              "                        <th id=\"T_823d52b4_1a27_11ec_ac5a_0242ac1c0002level0_row37\" class=\"row_heading level0 row37\" >25</th>\n",
              "                        <td id=\"T_823d52b4_1a27_11ec_ac5a_0242ac1c0002row37_col0\" class=\"data row37 col0\" >8988.230818</td>\n",
              "            </tr>\n",
              "            <tr>\n",
              "                        <th id=\"T_823d52b4_1a27_11ec_ac5a_0242ac1c0002level0_row38\" class=\"row_heading level0 row38\" >49</th>\n",
              "                        <td id=\"T_823d52b4_1a27_11ec_ac5a_0242ac1c0002row38_col0\" class=\"data row38 col0\" >8159.951296</td>\n",
              "            </tr>\n",
              "            <tr>\n",
              "                        <th id=\"T_823d52b4_1a27_11ec_ac5a_0242ac1c0002level0_row39\" class=\"row_heading level0 row39\" >26</th>\n",
              "                        <td id=\"T_823d52b4_1a27_11ec_ac5a_0242ac1c0002row39_col0\" class=\"data row39 col0\" >7649.417947</td>\n",
              "            </tr>\n",
              "            <tr>\n",
              "                        <th id=\"T_823d52b4_1a27_11ec_ac5a_0242ac1c0002level0_row40\" class=\"row_heading level0 row40\" >67</th>\n",
              "                        <td id=\"T_823d52b4_1a27_11ec_ac5a_0242ac1c0002row40_col0\" class=\"data row40 col0\" >7440.680292</td>\n",
              "            </tr>\n",
              "            <tr>\n",
              "                        <th id=\"T_823d52b4_1a27_11ec_ac5a_0242ac1c0002level0_row41\" class=\"row_heading level0 row41\" >18</th>\n",
              "                        <td id=\"T_823d52b4_1a27_11ec_ac5a_0242ac1c0002row41_col0\" class=\"data row41 col0\" >7336.943539</td>\n",
              "            </tr>\n",
              "            <tr>\n",
              "                        <th id=\"T_823d52b4_1a27_11ec_ac5a_0242ac1c0002level0_row42\" class=\"row_heading level0 row42\" >32</th>\n",
              "                        <td id=\"T_823d52b4_1a27_11ec_ac5a_0242ac1c0002row42_col0\" class=\"data row42 col0\" >6833.270787</td>\n",
              "            </tr>\n",
              "            <tr>\n",
              "                        <th id=\"T_823d52b4_1a27_11ec_ac5a_0242ac1c0002level0_row43\" class=\"row_heading level0 row43\" >98</th>\n",
              "                        <td id=\"T_823d52b4_1a27_11ec_ac5a_0242ac1c0002row43_col0\" class=\"data row43 col0\" >6824.694889</td>\n",
              "            </tr>\n",
              "            <tr>\n",
              "                        <th id=\"T_823d52b4_1a27_11ec_ac5a_0242ac1c0002level0_row44\" class=\"row_heading level0 row44\" >33</th>\n",
              "                        <td id=\"T_823d52b4_1a27_11ec_ac5a_0242ac1c0002row44_col0\" class=\"data row44 col0\" >6471.979579</td>\n",
              "            </tr>\n",
              "            <tr>\n",
              "                        <th id=\"T_823d52b4_1a27_11ec_ac5a_0242ac1c0002level0_row45\" class=\"row_heading level0 row45\" >24</th>\n",
              "                        <td id=\"T_823d52b4_1a27_11ec_ac5a_0242ac1c0002row45_col0\" class=\"data row45 col0\" >6353.604562</td>\n",
              "            </tr>\n",
              "            <tr>\n",
              "                        <th id=\"T_823d52b4_1a27_11ec_ac5a_0242ac1c0002level0_row46\" class=\"row_heading level0 row46\" >71</th>\n",
              "                        <td id=\"T_823d52b4_1a27_11ec_ac5a_0242ac1c0002row46_col0\" class=\"data row46 col0\" >5722.927649</td>\n",
              "            </tr>\n",
              "            <tr>\n",
              "                        <th id=\"T_823d52b4_1a27_11ec_ac5a_0242ac1c0002level0_row47\" class=\"row_heading level0 row47\" >29</th>\n",
              "                        <td id=\"T_823d52b4_1a27_11ec_ac5a_0242ac1c0002row47_col0\" class=\"data row47 col0\" >5653.655317</td>\n",
              "            </tr>\n",
              "            <tr>\n",
              "                        <th id=\"T_823d52b4_1a27_11ec_ac5a_0242ac1c0002level0_row48\" class=\"row_heading level0 row48\" >20</th>\n",
              "                        <td id=\"T_823d52b4_1a27_11ec_ac5a_0242ac1c0002row48_col0\" class=\"data row48 col0\" >5528.787319</td>\n",
              "            </tr>\n",
              "            <tr>\n",
              "                        <th id=\"T_823d52b4_1a27_11ec_ac5a_0242ac1c0002level0_row49\" class=\"row_heading level0 row49\" >42</th>\n",
              "                        <td id=\"T_823d52b4_1a27_11ec_ac5a_0242ac1c0002row49_col0\" class=\"data row49 col0\" >5189.703417</td>\n",
              "            </tr>\n",
              "            <tr>\n",
              "                        <th id=\"T_823d52b4_1a27_11ec_ac5a_0242ac1c0002level0_row50\" class=\"row_heading level0 row50\" >21</th>\n",
              "                        <td id=\"T_823d52b4_1a27_11ec_ac5a_0242ac1c0002row50_col0\" class=\"data row50 col0\" >4982.850828</td>\n",
              "            </tr>\n",
              "            <tr>\n",
              "                        <th id=\"T_823d52b4_1a27_11ec_ac5a_0242ac1c0002level0_row51\" class=\"row_heading level0 row51\" >6</th>\n",
              "                        <td id=\"T_823d52b4_1a27_11ec_ac5a_0242ac1c0002row51_col0\" class=\"data row51 col0\" >4747.856188</td>\n",
              "            </tr>\n",
              "            <tr>\n",
              "                        <th id=\"T_823d52b4_1a27_11ec_ac5a_0242ac1c0002level0_row52\" class=\"row_heading level0 row52\" >44</th>\n",
              "                        <td id=\"T_823d52b4_1a27_11ec_ac5a_0242ac1c0002row52_col0\" class=\"data row52 col0\" >4651.729658</td>\n",
              "            </tr>\n",
              "            <tr>\n",
              "                        <th id=\"T_823d52b4_1a27_11ec_ac5a_0242ac1c0002level0_row53\" class=\"row_heading level0 row53\" >12</th>\n",
              "                        <td id=\"T_823d52b4_1a27_11ec_ac5a_0242ac1c0002row53_col0\" class=\"data row53 col0\" >4175.397021</td>\n",
              "            </tr>\n",
              "            <tr>\n",
              "                        <th id=\"T_823d52b4_1a27_11ec_ac5a_0242ac1c0002level0_row54\" class=\"row_heading level0 row54\" >30</th>\n",
              "                        <td id=\"T_823d52b4_1a27_11ec_ac5a_0242ac1c0002row54_col0\" class=\"data row54 col0\" >4118.197208</td>\n",
              "            </tr>\n",
              "            <tr>\n",
              "                        <th id=\"T_823d52b4_1a27_11ec_ac5a_0242ac1c0002level0_row55\" class=\"row_heading level0 row55\" >56</th>\n",
              "                        <td id=\"T_823d52b4_1a27_11ec_ac5a_0242ac1c0002row55_col0\" class=\"data row55 col0\" >3833.706211</td>\n",
              "            </tr>\n",
              "            <tr>\n",
              "                        <th id=\"T_823d52b4_1a27_11ec_ac5a_0242ac1c0002level0_row56\" class=\"row_heading level0 row56\" >58</th>\n",
              "                        <td id=\"T_823d52b4_1a27_11ec_ac5a_0242ac1c0002row56_col0\" class=\"data row56 col0\" >3702.907419</td>\n",
              "            </tr>\n",
              "            <tr>\n",
              "                        <th id=\"T_823d52b4_1a27_11ec_ac5a_0242ac1c0002level0_row57\" class=\"row_heading level0 row57\" >83</th>\n",
              "                        <td id=\"T_823d52b4_1a27_11ec_ac5a_0242ac1c0002row57_col0\" class=\"data row57 col0\" >3383.349838</td>\n",
              "            </tr>\n",
              "            <tr>\n",
              "                        <th id=\"T_823d52b4_1a27_11ec_ac5a_0242ac1c0002level0_row58\" class=\"row_heading level0 row58\" >37</th>\n",
              "                        <td id=\"T_823d52b4_1a27_11ec_ac5a_0242ac1c0002row58_col0\" class=\"data row58 col0\" >3111.076193</td>\n",
              "            </tr>\n",
              "            <tr>\n",
              "                        <th id=\"T_823d52b4_1a27_11ec_ac5a_0242ac1c0002level0_row59\" class=\"row_heading level0 row59\" >35</th>\n",
              "                        <td id=\"T_823d52b4_1a27_11ec_ac5a_0242ac1c0002row59_col0\" class=\"data row59 col0\" >2921.044946</td>\n",
              "            </tr>\n",
              "            <tr>\n",
              "                        <th id=\"T_823d52b4_1a27_11ec_ac5a_0242ac1c0002level0_row60\" class=\"row_heading level0 row60\" >50</th>\n",
              "                        <td id=\"T_823d52b4_1a27_11ec_ac5a_0242ac1c0002row60_col0\" class=\"data row60 col0\" >2658.897010</td>\n",
              "            </tr>\n",
              "            <tr>\n",
              "                        <th id=\"T_823d52b4_1a27_11ec_ac5a_0242ac1c0002level0_row61\" class=\"row_heading level0 row61\" >31</th>\n",
              "                        <td id=\"T_823d52b4_1a27_11ec_ac5a_0242ac1c0002row61_col0\" class=\"data row61 col0\" >2339.440287</td>\n",
              "            </tr>\n",
              "            <tr>\n",
              "                        <th id=\"T_823d52b4_1a27_11ec_ac5a_0242ac1c0002level0_row62\" class=\"row_heading level0 row62\" >85</th>\n",
              "                        <td id=\"T_823d52b4_1a27_11ec_ac5a_0242ac1c0002row62_col0\" class=\"data row62 col0\" >2264.359407</td>\n",
              "            </tr>\n",
              "            <tr>\n",
              "                        <th id=\"T_823d52b4_1a27_11ec_ac5a_0242ac1c0002level0_row63\" class=\"row_heading level0 row63\" >36</th>\n",
              "                        <td id=\"T_823d52b4_1a27_11ec_ac5a_0242ac1c0002row63_col0\" class=\"data row63 col0\" >2022.571061</td>\n",
              "            </tr>\n",
              "            <tr>\n",
              "                        <th id=\"T_823d52b4_1a27_11ec_ac5a_0242ac1c0002level0_row64\" class=\"row_heading level0 row64\" >41</th>\n",
              "                        <td id=\"T_823d52b4_1a27_11ec_ac5a_0242ac1c0002row64_col0\" class=\"data row64 col0\" >1965.559998</td>\n",
              "            </tr>\n",
              "            <tr>\n",
              "                        <th id=\"T_823d52b4_1a27_11ec_ac5a_0242ac1c0002level0_row65\" class=\"row_heading level0 row65\" >52</th>\n",
              "                        <td id=\"T_823d52b4_1a27_11ec_ac5a_0242ac1c0002row65_col0\" class=\"data row65 col0\" >1928.356252</td>\n",
              "            </tr>\n",
              "            <tr>\n",
              "                        <th id=\"T_823d52b4_1a27_11ec_ac5a_0242ac1c0002level0_row66\" class=\"row_heading level0 row66\" >19</th>\n",
              "                        <td id=\"T_823d52b4_1a27_11ec_ac5a_0242ac1c0002row66_col0\" class=\"data row66 col0\" >1654.815030</td>\n",
              "            </tr>\n",
              "            <tr>\n",
              "                        <th id=\"T_823d52b4_1a27_11ec_ac5a_0242ac1c0002level0_row67\" class=\"row_heading level0 row67\" >27</th>\n",
              "                        <td id=\"T_823d52b4_1a27_11ec_ac5a_0242ac1c0002row67_col0\" class=\"data row67 col0\" >1583.437727</td>\n",
              "            </tr>\n",
              "            <tr>\n",
              "                        <th id=\"T_823d52b4_1a27_11ec_ac5a_0242ac1c0002level0_row68\" class=\"row_heading level0 row68\" >48</th>\n",
              "                        <td id=\"T_823d52b4_1a27_11ec_ac5a_0242ac1c0002row68_col0\" class=\"data row68 col0\" >1344.893576</td>\n",
              "            </tr>\n",
              "            <tr>\n",
              "                        <th id=\"T_823d52b4_1a27_11ec_ac5a_0242ac1c0002level0_row69\" class=\"row_heading level0 row69\" >59</th>\n",
              "                        <td id=\"T_823d52b4_1a27_11ec_ac5a_0242ac1c0002row69_col0\" class=\"data row69 col0\" >694.463564</td>\n",
              "            </tr>\n",
              "            <tr>\n",
              "                        <th id=\"T_823d52b4_1a27_11ec_ac5a_0242ac1c0002level0_row70\" class=\"row_heading level0 row70\" >28</th>\n",
              "                        <td id=\"T_823d52b4_1a27_11ec_ac5a_0242ac1c0002row70_col0\" class=\"data row70 col0\" >618.085116</td>\n",
              "            </tr>\n",
              "            <tr>\n",
              "                        <th id=\"T_823d52b4_1a27_11ec_ac5a_0242ac1c0002level0_row71\" class=\"row_heading level0 row71\" >99</th>\n",
              "                        <td id=\"T_823d52b4_1a27_11ec_ac5a_0242ac1c0002row71_col0\" class=\"data row71 col0\" >415.487065</td>\n",
              "            </tr>\n",
              "            <tr>\n",
              "                        <th id=\"T_823d52b4_1a27_11ec_ac5a_0242ac1c0002level0_row72\" class=\"row_heading level0 row72\" >60</th>\n",
              "                        <td id=\"T_823d52b4_1a27_11ec_ac5a_0242ac1c0002row72_col0\" class=\"data row72 col0\" >347.370229</td>\n",
              "            </tr>\n",
              "            <tr>\n",
              "                        <th id=\"T_823d52b4_1a27_11ec_ac5a_0242ac1c0002level0_row73\" class=\"row_heading level0 row73\" >77</th>\n",
              "                        <td id=\"T_823d52b4_1a27_11ec_ac5a_0242ac1c0002row73_col0\" class=\"data row73 col0\" >328.961800</td>\n",
              "            </tr>\n",
              "            <tr>\n",
              "                        <th id=\"T_823d52b4_1a27_11ec_ac5a_0242ac1c0002level0_row74\" class=\"row_heading level0 row74\" >54</th>\n",
              "                        <td id=\"T_823d52b4_1a27_11ec_ac5a_0242ac1c0002row74_col0\" class=\"data row74 col0\" >108.305985</td>\n",
              "            </tr>\n",
              "            <tr>\n",
              "                        <th id=\"T_823d52b4_1a27_11ec_ac5a_0242ac1c0002level0_row75\" class=\"row_heading level0 row75\" >45</th>\n",
              "                        <td id=\"T_823d52b4_1a27_11ec_ac5a_0242ac1c0002row75_col0\" class=\"data row75 col0\" >23.211586</td>\n",
              "            </tr>\n",
              "            <tr>\n",
              "                        <th id=\"T_823d52b4_1a27_11ec_ac5a_0242ac1c0002level0_row76\" class=\"row_heading level0 row76\" >51</th>\n",
              "                        <td id=\"T_823d52b4_1a27_11ec_ac5a_0242ac1c0002row76_col0\" class=\"data row76 col0\" >21.931729</td>\n",
              "            </tr>\n",
              "            <tr>\n",
              "                        <th id=\"T_823d52b4_1a27_11ec_ac5a_0242ac1c0002level0_row77\" class=\"row_heading level0 row77\" >39</th>\n",
              "                        <td id=\"T_823d52b4_1a27_11ec_ac5a_0242ac1c0002row77_col0\" class=\"data row77 col0\" >11.123750</td>\n",
              "            </tr>\n",
              "            <tr>\n",
              "                        <th id=\"T_823d52b4_1a27_11ec_ac5a_0242ac1c0002level0_row78\" class=\"row_heading level0 row78\" >78</th>\n",
              "                        <td id=\"T_823d52b4_1a27_11ec_ac5a_0242ac1c0002row78_col0\" class=\"data row78 col0\" >7.296638</td>\n",
              "            </tr>\n",
              "            <tr>\n",
              "                        <th id=\"T_823d52b4_1a27_11ec_ac5a_0242ac1c0002level0_row79\" class=\"row_heading level0 row79\" >43</th>\n",
              "                        <td id=\"T_823d52b4_1a27_11ec_ac5a_0242ac1c0002row79_col0\" class=\"data row79 col0\" >1.193333</td>\n",
              "            </tr>\n",
              "            <tr>\n",
              "                        <th id=\"T_823d52b4_1a27_11ec_ac5a_0242ac1c0002level0_row80\" class=\"row_heading level0 row80\" >47</th>\n",
              "                        <td id=\"T_823d52b4_1a27_11ec_ac5a_0242ac1c0002row80_col0\" class=\"data row80 col0\" >-7.682554</td>\n",
              "            </tr>\n",
              "    </tbody></table>"
            ],
            "text/plain": [
              "<pandas.io.formats.style.Styler at 0x7f7ee3fff0d0>"
            ]
          },
          "metadata": {},
          "execution_count": 67
        }
      ]
    },
    {
      "cell_type": "markdown",
      "metadata": {
        "id": "1aslzHVQJde7"
      },
      "source": [
        "Observation : **Dept 92** had maximum weekly sales."
      ]
    },
    {
      "cell_type": "code",
      "metadata": {
        "colab": {
          "base_uri": "https://localhost:8080/",
          "height": 1000
        },
        "id": "GxX95T_m04LB",
        "outputId": "df931611-ca33-4f63-8ffd-5a687e8f4a66"
      },
      "source": [
        "# Sorting the dataframe with respect to weekly sales in ascending order\n",
        "weekly_sales_dept_df.sort_values('Weekly_Sales').style.bar(align = 'left',width = 98 , color = 'green')"
      ],
      "execution_count": 69,
      "outputs": [
        {
          "output_type": "execute_result",
          "data": {
            "text/html": [
              "<style  type=\"text/css\" >\n",
              "#T_939272a6_1a27_11ec_ac5a_0242ac1c0002row0_col0{\n",
              "            width:  10em;\n",
              "             height:  80%;\n",
              "        }#T_939272a6_1a27_11ec_ac5a_0242ac1c0002row1_col0,#T_939272a6_1a27_11ec_ac5a_0242ac1c0002row2_col0,#T_939272a6_1a27_11ec_ac5a_0242ac1c0002row3_col0,#T_939272a6_1a27_11ec_ac5a_0242ac1c0002row4_col0,#T_939272a6_1a27_11ec_ac5a_0242ac1c0002row5_col0{\n",
              "            width:  10em;\n",
              "             height:  80%;\n",
              "            background:  linear-gradient(90deg,green 0.0%, transparent 0.0%);\n",
              "        }#T_939272a6_1a27_11ec_ac5a_0242ac1c0002row6_col0{\n",
              "            width:  10em;\n",
              "             height:  80%;\n",
              "            background:  linear-gradient(90deg,green 0.2%, transparent 0.2%);\n",
              "        }#T_939272a6_1a27_11ec_ac5a_0242ac1c0002row7_col0{\n",
              "            width:  10em;\n",
              "             height:  80%;\n",
              "            background:  linear-gradient(90deg,green 0.4%, transparent 0.4%);\n",
              "        }#T_939272a6_1a27_11ec_ac5a_0242ac1c0002row8_col0{\n",
              "            width:  10em;\n",
              "             height:  80%;\n",
              "            background:  linear-gradient(90deg,green 0.5%, transparent 0.5%);\n",
              "        }#T_939272a6_1a27_11ec_ac5a_0242ac1c0002row9_col0{\n",
              "            width:  10em;\n",
              "             height:  80%;\n",
              "            background:  linear-gradient(90deg,green 0.6%, transparent 0.6%);\n",
              "        }#T_939272a6_1a27_11ec_ac5a_0242ac1c0002row10_col0{\n",
              "            width:  10em;\n",
              "             height:  80%;\n",
              "            background:  linear-gradient(90deg,green 0.8%, transparent 0.8%);\n",
              "        }#T_939272a6_1a27_11ec_ac5a_0242ac1c0002row11_col0{\n",
              "            width:  10em;\n",
              "             height:  80%;\n",
              "            background:  linear-gradient(90deg,green 0.9%, transparent 0.9%);\n",
              "        }#T_939272a6_1a27_11ec_ac5a_0242ac1c0002row12_col0{\n",
              "            width:  10em;\n",
              "             height:  80%;\n",
              "            background:  linear-gradient(90deg,green 1.8%, transparent 1.8%);\n",
              "        }#T_939272a6_1a27_11ec_ac5a_0242ac1c0002row13_col0{\n",
              "            width:  10em;\n",
              "             height:  80%;\n",
              "            background:  linear-gradient(90deg,green 2.1%, transparent 2.1%);\n",
              "        }#T_939272a6_1a27_11ec_ac5a_0242ac1c0002row14_col0{\n",
              "            width:  10em;\n",
              "             height:  80%;\n",
              "            background:  linear-gradient(90deg,green 2.2%, transparent 2.2%);\n",
              "        }#T_939272a6_1a27_11ec_ac5a_0242ac1c0002row15_col0{\n",
              "            width:  10em;\n",
              "             height:  80%;\n",
              "            background:  linear-gradient(90deg,green 2.5%, transparent 2.5%);\n",
              "        }#T_939272a6_1a27_11ec_ac5a_0242ac1c0002row16_col0,#T_939272a6_1a27_11ec_ac5a_0242ac1c0002row17_col0{\n",
              "            width:  10em;\n",
              "             height:  80%;\n",
              "            background:  linear-gradient(90deg,green 2.6%, transparent 2.6%);\n",
              "        }#T_939272a6_1a27_11ec_ac5a_0242ac1c0002row18_col0{\n",
              "            width:  10em;\n",
              "             height:  80%;\n",
              "            background:  linear-gradient(90deg,green 3.0%, transparent 3.0%);\n",
              "        }#T_939272a6_1a27_11ec_ac5a_0242ac1c0002row19_col0{\n",
              "            width:  10em;\n",
              "             height:  80%;\n",
              "            background:  linear-gradient(90deg,green 3.1%, transparent 3.1%);\n",
              "        }#T_939272a6_1a27_11ec_ac5a_0242ac1c0002row20_col0{\n",
              "            width:  10em;\n",
              "             height:  80%;\n",
              "            background:  linear-gradient(90deg,green 3.5%, transparent 3.5%);\n",
              "        }#T_939272a6_1a27_11ec_ac5a_0242ac1c0002row21_col0{\n",
              "            width:  10em;\n",
              "             height:  80%;\n",
              "            background:  linear-gradient(90deg,green 3.8%, transparent 3.8%);\n",
              "        }#T_939272a6_1a27_11ec_ac5a_0242ac1c0002row22_col0{\n",
              "            width:  10em;\n",
              "             height:  80%;\n",
              "            background:  linear-gradient(90deg,green 4.1%, transparent 4.1%);\n",
              "        }#T_939272a6_1a27_11ec_ac5a_0242ac1c0002row23_col0{\n",
              "            width:  10em;\n",
              "             height:  80%;\n",
              "            background:  linear-gradient(90deg,green 4.4%, transparent 4.4%);\n",
              "        }#T_939272a6_1a27_11ec_ac5a_0242ac1c0002row24_col0{\n",
              "            width:  10em;\n",
              "             height:  80%;\n",
              "            background:  linear-gradient(90deg,green 4.8%, transparent 4.8%);\n",
              "        }#T_939272a6_1a27_11ec_ac5a_0242ac1c0002row25_col0{\n",
              "            width:  10em;\n",
              "             height:  80%;\n",
              "            background:  linear-gradient(90deg,green 5.0%, transparent 5.0%);\n",
              "        }#T_939272a6_1a27_11ec_ac5a_0242ac1c0002row26_col0{\n",
              "            width:  10em;\n",
              "             height:  80%;\n",
              "            background:  linear-gradient(90deg,green 5.4%, transparent 5.4%);\n",
              "        }#T_939272a6_1a27_11ec_ac5a_0242ac1c0002row27_col0{\n",
              "            width:  10em;\n",
              "             height:  80%;\n",
              "            background:  linear-gradient(90deg,green 5.5%, transparent 5.5%);\n",
              "        }#T_939272a6_1a27_11ec_ac5a_0242ac1c0002row28_col0{\n",
              "            width:  10em;\n",
              "             height:  80%;\n",
              "            background:  linear-gradient(90deg,green 6.1%, transparent 6.1%);\n",
              "        }#T_939272a6_1a27_11ec_ac5a_0242ac1c0002row29_col0{\n",
              "            width:  10em;\n",
              "             height:  80%;\n",
              "            background:  linear-gradient(90deg,green 6.2%, transparent 6.2%);\n",
              "        }#T_939272a6_1a27_11ec_ac5a_0242ac1c0002row30_col0{\n",
              "            width:  10em;\n",
              "             height:  80%;\n",
              "            background:  linear-gradient(90deg,green 6.5%, transparent 6.5%);\n",
              "        }#T_939272a6_1a27_11ec_ac5a_0242ac1c0002row31_col0{\n",
              "            width:  10em;\n",
              "             height:  80%;\n",
              "            background:  linear-gradient(90deg,green 6.8%, transparent 6.8%);\n",
              "        }#T_939272a6_1a27_11ec_ac5a_0242ac1c0002row32_col0{\n",
              "            width:  10em;\n",
              "             height:  80%;\n",
              "            background:  linear-gradient(90deg,green 7.2%, transparent 7.2%);\n",
              "        }#T_939272a6_1a27_11ec_ac5a_0242ac1c0002row33_col0{\n",
              "            width:  10em;\n",
              "             height:  80%;\n",
              "            background:  linear-gradient(90deg,green 7.4%, transparent 7.4%);\n",
              "        }#T_939272a6_1a27_11ec_ac5a_0242ac1c0002row34_col0{\n",
              "            width:  10em;\n",
              "             height:  80%;\n",
              "            background:  linear-gradient(90deg,green 7.5%, transparent 7.5%);\n",
              "        }#T_939272a6_1a27_11ec_ac5a_0242ac1c0002row35_col0{\n",
              "            width:  10em;\n",
              "             height:  80%;\n",
              "            background:  linear-gradient(90deg,green 8.3%, transparent 8.3%);\n",
              "        }#T_939272a6_1a27_11ec_ac5a_0242ac1c0002row36_col0{\n",
              "            width:  10em;\n",
              "             height:  80%;\n",
              "            background:  linear-gradient(90deg,green 8.4%, transparent 8.4%);\n",
              "        }#T_939272a6_1a27_11ec_ac5a_0242ac1c0002row37_col0,#T_939272a6_1a27_11ec_ac5a_0242ac1c0002row38_col0{\n",
              "            width:  10em;\n",
              "             height:  80%;\n",
              "            background:  linear-gradient(90deg,green 8.9%, transparent 8.9%);\n",
              "        }#T_939272a6_1a27_11ec_ac5a_0242ac1c0002row39_col0{\n",
              "            width:  10em;\n",
              "             height:  80%;\n",
              "            background:  linear-gradient(90deg,green 9.6%, transparent 9.6%);\n",
              "        }#T_939272a6_1a27_11ec_ac5a_0242ac1c0002row40_col0{\n",
              "            width:  10em;\n",
              "             height:  80%;\n",
              "            background:  linear-gradient(90deg,green 9.7%, transparent 9.7%);\n",
              "        }#T_939272a6_1a27_11ec_ac5a_0242ac1c0002row41_col0{\n",
              "            width:  10em;\n",
              "             height:  80%;\n",
              "            background:  linear-gradient(90deg,green 10.0%, transparent 10.0%);\n",
              "        }#T_939272a6_1a27_11ec_ac5a_0242ac1c0002row42_col0{\n",
              "            width:  10em;\n",
              "             height:  80%;\n",
              "            background:  linear-gradient(90deg,green 10.6%, transparent 10.6%);\n",
              "        }#T_939272a6_1a27_11ec_ac5a_0242ac1c0002row43_col0{\n",
              "            width:  10em;\n",
              "             height:  80%;\n",
              "            background:  linear-gradient(90deg,green 11.7%, transparent 11.7%);\n",
              "        }#T_939272a6_1a27_11ec_ac5a_0242ac1c0002row44_col0{\n",
              "            width:  10em;\n",
              "             height:  80%;\n",
              "            background:  linear-gradient(90deg,green 13.3%, transparent 13.3%);\n",
              "        }#T_939272a6_1a27_11ec_ac5a_0242ac1c0002row45_col0,#T_939272a6_1a27_11ec_ac5a_0242ac1c0002row46_col0{\n",
              "            width:  10em;\n",
              "             height:  80%;\n",
              "            background:  linear-gradient(90deg,green 14.0%, transparent 14.0%);\n",
              "        }#T_939272a6_1a27_11ec_ac5a_0242ac1c0002row47_col0{\n",
              "            width:  10em;\n",
              "             height:  80%;\n",
              "            background:  linear-gradient(90deg,green 15.4%, transparent 15.4%);\n",
              "        }#T_939272a6_1a27_11ec_ac5a_0242ac1c0002row48_col0{\n",
              "            width:  10em;\n",
              "             height:  80%;\n",
              "            background:  linear-gradient(90deg,green 15.9%, transparent 15.9%);\n",
              "        }#T_939272a6_1a27_11ec_ac5a_0242ac1c0002row49_col0{\n",
              "            width:  10em;\n",
              "             height:  80%;\n",
              "            background:  linear-gradient(90deg,green 17.5%, transparent 17.5%);\n",
              "        }#T_939272a6_1a27_11ec_ac5a_0242ac1c0002row50_col0{\n",
              "            width:  10em;\n",
              "             height:  80%;\n",
              "            background:  linear-gradient(90deg,green 18.0%, transparent 18.0%);\n",
              "        }#T_939272a6_1a27_11ec_ac5a_0242ac1c0002row51_col0,#T_939272a6_1a27_11ec_ac5a_0242ac1c0002row52_col0{\n",
              "            width:  10em;\n",
              "             height:  80%;\n",
              "            background:  linear-gradient(90deg,green 18.6%, transparent 18.6%);\n",
              "        }#T_939272a6_1a27_11ec_ac5a_0242ac1c0002row53_col0{\n",
              "            width:  10em;\n",
              "             height:  80%;\n",
              "            background:  linear-gradient(90deg,green 18.9%, transparent 18.9%);\n",
              "        }#T_939272a6_1a27_11ec_ac5a_0242ac1c0002row54_col0{\n",
              "            width:  10em;\n",
              "             height:  80%;\n",
              "            background:  linear-gradient(90deg,green 19.4%, transparent 19.4%);\n",
              "        }#T_939272a6_1a27_11ec_ac5a_0242ac1c0002row55_col0{\n",
              "            width:  10em;\n",
              "             height:  80%;\n",
              "            background:  linear-gradient(90deg,green 19.8%, transparent 19.8%);\n",
              "        }#T_939272a6_1a27_11ec_ac5a_0242ac1c0002row56_col0,#T_939272a6_1a27_11ec_ac5a_0242ac1c0002row57_col0{\n",
              "            width:  10em;\n",
              "             height:  80%;\n",
              "            background:  linear-gradient(90deg,green 20.2%, transparent 20.2%);\n",
              "        }#T_939272a6_1a27_11ec_ac5a_0242ac1c0002row58_col0{\n",
              "            width:  10em;\n",
              "             height:  80%;\n",
              "            background:  linear-gradient(90deg,green 20.4%, transparent 20.4%);\n",
              "        }#T_939272a6_1a27_11ec_ac5a_0242ac1c0002row59_col0{\n",
              "            width:  10em;\n",
              "             height:  80%;\n",
              "            background:  linear-gradient(90deg,green 23.9%, transparent 23.9%);\n",
              "        }#T_939272a6_1a27_11ec_ac5a_0242ac1c0002row60_col0{\n",
              "            width:  10em;\n",
              "             height:  80%;\n",
              "            background:  linear-gradient(90deg,green 25.0%, transparent 25.0%);\n",
              "        }#T_939272a6_1a27_11ec_ac5a_0242ac1c0002row61_col0{\n",
              "            width:  10em;\n",
              "             height:  80%;\n",
              "            background:  linear-gradient(90deg,green 26.0%, transparent 26.0%);\n",
              "        }#T_939272a6_1a27_11ec_ac5a_0242ac1c0002row62_col0{\n",
              "            width:  10em;\n",
              "             height:  80%;\n",
              "            background:  linear-gradient(90deg,green 26.3%, transparent 26.3%);\n",
              "        }#T_939272a6_1a27_11ec_ac5a_0242ac1c0002row63_col0{\n",
              "            width:  10em;\n",
              "             height:  80%;\n",
              "            background:  linear-gradient(90deg,green 27.8%, transparent 27.8%);\n",
              "        }#T_939272a6_1a27_11ec_ac5a_0242ac1c0002row64_col0{\n",
              "            width:  10em;\n",
              "             height:  80%;\n",
              "            background:  linear-gradient(90deg,green 28.6%, transparent 28.6%);\n",
              "        }#T_939272a6_1a27_11ec_ac5a_0242ac1c0002row65_col0{\n",
              "            width:  10em;\n",
              "             height:  80%;\n",
              "            background:  linear-gradient(90deg,green 31.2%, transparent 31.2%);\n",
              "        }#T_939272a6_1a27_11ec_ac5a_0242ac1c0002row66_col0{\n",
              "            width:  10em;\n",
              "             height:  80%;\n",
              "            background:  linear-gradient(90deg,green 31.5%, transparent 31.5%);\n",
              "        }#T_939272a6_1a27_11ec_ac5a_0242ac1c0002row67_col0{\n",
              "            width:  10em;\n",
              "             height:  80%;\n",
              "            background:  linear-gradient(90deg,green 33.9%, transparent 33.9%);\n",
              "        }#T_939272a6_1a27_11ec_ac5a_0242ac1c0002row68_col0{\n",
              "            width:  10em;\n",
              "             height:  80%;\n",
              "            background:  linear-gradient(90deg,green 35.2%, transparent 35.2%);\n",
              "        }#T_939272a6_1a27_11ec_ac5a_0242ac1c0002row69_col0{\n",
              "            width:  10em;\n",
              "             height:  80%;\n",
              "            background:  linear-gradient(90deg,green 39.3%, transparent 39.3%);\n",
              "        }#T_939272a6_1a27_11ec_ac5a_0242ac1c0002row70_col0{\n",
              "            width:  10em;\n",
              "             height:  80%;\n",
              "            background:  linear-gradient(90deg,green 40.0%, transparent 40.0%);\n",
              "        }#T_939272a6_1a27_11ec_ac5a_0242ac1c0002row71_col0{\n",
              "            width:  10em;\n",
              "             height:  80%;\n",
              "            background:  linear-gradient(90deg,green 43.5%, transparent 43.5%);\n",
              "        }#T_939272a6_1a27_11ec_ac5a_0242ac1c0002row72_col0{\n",
              "            width:  10em;\n",
              "             height:  80%;\n",
              "            background:  linear-gradient(90deg,green 43.9%, transparent 43.9%);\n",
              "        }#T_939272a6_1a27_11ec_ac5a_0242ac1c0002row73_col0{\n",
              "            width:  10em;\n",
              "             height:  80%;\n",
              "            background:  linear-gradient(90deg,green 56.8%, transparent 56.8%);\n",
              "        }#T_939272a6_1a27_11ec_ac5a_0242ac1c0002row74_col0{\n",
              "            width:  10em;\n",
              "             height:  80%;\n",
              "            background:  linear-gradient(90deg,green 58.5%, transparent 58.5%);\n",
              "        }#T_939272a6_1a27_11ec_ac5a_0242ac1c0002row75_col0{\n",
              "            width:  10em;\n",
              "             height:  80%;\n",
              "            background:  linear-gradient(90deg,green 58.9%, transparent 58.9%);\n",
              "        }#T_939272a6_1a27_11ec_ac5a_0242ac1c0002row76_col0{\n",
              "            width:  10em;\n",
              "             height:  80%;\n",
              "            background:  linear-gradient(90deg,green 59.2%, transparent 59.2%);\n",
              "        }#T_939272a6_1a27_11ec_ac5a_0242ac1c0002row77_col0{\n",
              "            width:  10em;\n",
              "             height:  80%;\n",
              "            background:  linear-gradient(90deg,green 65.9%, transparent 65.9%);\n",
              "        }#T_939272a6_1a27_11ec_ac5a_0242ac1c0002row78_col0{\n",
              "            width:  10em;\n",
              "             height:  80%;\n",
              "            background:  linear-gradient(90deg,green 79.6%, transparent 79.6%);\n",
              "        }#T_939272a6_1a27_11ec_ac5a_0242ac1c0002row79_col0{\n",
              "            width:  10em;\n",
              "             height:  80%;\n",
              "            background:  linear-gradient(90deg,green 91.0%, transparent 91.0%);\n",
              "        }#T_939272a6_1a27_11ec_ac5a_0242ac1c0002row80_col0{\n",
              "            width:  10em;\n",
              "             height:  80%;\n",
              "            background:  linear-gradient(90deg,green 98.0%, transparent 98.0%);\n",
              "        }</style><table id=\"T_939272a6_1a27_11ec_ac5a_0242ac1c0002\" ><thead>    <tr>        <th class=\"blank level0\" ></th>        <th class=\"col_heading level0 col0\" >Weekly_Sales</th>    </tr>    <tr>        <th class=\"index_name level0\" >Dept</th>        <th class=\"blank\" ></th>    </tr></thead><tbody>\n",
              "                <tr>\n",
              "                        <th id=\"T_939272a6_1a27_11ec_ac5a_0242ac1c0002level0_row0\" class=\"row_heading level0 row0\" >47</th>\n",
              "                        <td id=\"T_939272a6_1a27_11ec_ac5a_0242ac1c0002row0_col0\" class=\"data row0 col0\" >-7.682554</td>\n",
              "            </tr>\n",
              "            <tr>\n",
              "                        <th id=\"T_939272a6_1a27_11ec_ac5a_0242ac1c0002level0_row1\" class=\"row_heading level0 row1\" >43</th>\n",
              "                        <td id=\"T_939272a6_1a27_11ec_ac5a_0242ac1c0002row1_col0\" class=\"data row1 col0\" >1.193333</td>\n",
              "            </tr>\n",
              "            <tr>\n",
              "                        <th id=\"T_939272a6_1a27_11ec_ac5a_0242ac1c0002level0_row2\" class=\"row_heading level0 row2\" >78</th>\n",
              "                        <td id=\"T_939272a6_1a27_11ec_ac5a_0242ac1c0002row2_col0\" class=\"data row2 col0\" >7.296638</td>\n",
              "            </tr>\n",
              "            <tr>\n",
              "                        <th id=\"T_939272a6_1a27_11ec_ac5a_0242ac1c0002level0_row3\" class=\"row_heading level0 row3\" >39</th>\n",
              "                        <td id=\"T_939272a6_1a27_11ec_ac5a_0242ac1c0002row3_col0\" class=\"data row3 col0\" >11.123750</td>\n",
              "            </tr>\n",
              "            <tr>\n",
              "                        <th id=\"T_939272a6_1a27_11ec_ac5a_0242ac1c0002level0_row4\" class=\"row_heading level0 row4\" >51</th>\n",
              "                        <td id=\"T_939272a6_1a27_11ec_ac5a_0242ac1c0002row4_col0\" class=\"data row4 col0\" >21.931729</td>\n",
              "            </tr>\n",
              "            <tr>\n",
              "                        <th id=\"T_939272a6_1a27_11ec_ac5a_0242ac1c0002level0_row5\" class=\"row_heading level0 row5\" >45</th>\n",
              "                        <td id=\"T_939272a6_1a27_11ec_ac5a_0242ac1c0002row5_col0\" class=\"data row5 col0\" >23.211586</td>\n",
              "            </tr>\n",
              "            <tr>\n",
              "                        <th id=\"T_939272a6_1a27_11ec_ac5a_0242ac1c0002level0_row6\" class=\"row_heading level0 row6\" >54</th>\n",
              "                        <td id=\"T_939272a6_1a27_11ec_ac5a_0242ac1c0002row6_col0\" class=\"data row6 col0\" >108.305985</td>\n",
              "            </tr>\n",
              "            <tr>\n",
              "                        <th id=\"T_939272a6_1a27_11ec_ac5a_0242ac1c0002level0_row7\" class=\"row_heading level0 row7\" >77</th>\n",
              "                        <td id=\"T_939272a6_1a27_11ec_ac5a_0242ac1c0002row7_col0\" class=\"data row7 col0\" >328.961800</td>\n",
              "            </tr>\n",
              "            <tr>\n",
              "                        <th id=\"T_939272a6_1a27_11ec_ac5a_0242ac1c0002level0_row8\" class=\"row_heading level0 row8\" >60</th>\n",
              "                        <td id=\"T_939272a6_1a27_11ec_ac5a_0242ac1c0002row8_col0\" class=\"data row8 col0\" >347.370229</td>\n",
              "            </tr>\n",
              "            <tr>\n",
              "                        <th id=\"T_939272a6_1a27_11ec_ac5a_0242ac1c0002level0_row9\" class=\"row_heading level0 row9\" >99</th>\n",
              "                        <td id=\"T_939272a6_1a27_11ec_ac5a_0242ac1c0002row9_col0\" class=\"data row9 col0\" >415.487065</td>\n",
              "            </tr>\n",
              "            <tr>\n",
              "                        <th id=\"T_939272a6_1a27_11ec_ac5a_0242ac1c0002level0_row10\" class=\"row_heading level0 row10\" >28</th>\n",
              "                        <td id=\"T_939272a6_1a27_11ec_ac5a_0242ac1c0002row10_col0\" class=\"data row10 col0\" >618.085116</td>\n",
              "            </tr>\n",
              "            <tr>\n",
              "                        <th id=\"T_939272a6_1a27_11ec_ac5a_0242ac1c0002level0_row11\" class=\"row_heading level0 row11\" >59</th>\n",
              "                        <td id=\"T_939272a6_1a27_11ec_ac5a_0242ac1c0002row11_col0\" class=\"data row11 col0\" >694.463564</td>\n",
              "            </tr>\n",
              "            <tr>\n",
              "                        <th id=\"T_939272a6_1a27_11ec_ac5a_0242ac1c0002level0_row12\" class=\"row_heading level0 row12\" >48</th>\n",
              "                        <td id=\"T_939272a6_1a27_11ec_ac5a_0242ac1c0002row12_col0\" class=\"data row12 col0\" >1344.893576</td>\n",
              "            </tr>\n",
              "            <tr>\n",
              "                        <th id=\"T_939272a6_1a27_11ec_ac5a_0242ac1c0002level0_row13\" class=\"row_heading level0 row13\" >27</th>\n",
              "                        <td id=\"T_939272a6_1a27_11ec_ac5a_0242ac1c0002row13_col0\" class=\"data row13 col0\" >1583.437727</td>\n",
              "            </tr>\n",
              "            <tr>\n",
              "                        <th id=\"T_939272a6_1a27_11ec_ac5a_0242ac1c0002level0_row14\" class=\"row_heading level0 row14\" >19</th>\n",
              "                        <td id=\"T_939272a6_1a27_11ec_ac5a_0242ac1c0002row14_col0\" class=\"data row14 col0\" >1654.815030</td>\n",
              "            </tr>\n",
              "            <tr>\n",
              "                        <th id=\"T_939272a6_1a27_11ec_ac5a_0242ac1c0002level0_row15\" class=\"row_heading level0 row15\" >52</th>\n",
              "                        <td id=\"T_939272a6_1a27_11ec_ac5a_0242ac1c0002row15_col0\" class=\"data row15 col0\" >1928.356252</td>\n",
              "            </tr>\n",
              "            <tr>\n",
              "                        <th id=\"T_939272a6_1a27_11ec_ac5a_0242ac1c0002level0_row16\" class=\"row_heading level0 row16\" >41</th>\n",
              "                        <td id=\"T_939272a6_1a27_11ec_ac5a_0242ac1c0002row16_col0\" class=\"data row16 col0\" >1965.559998</td>\n",
              "            </tr>\n",
              "            <tr>\n",
              "                        <th id=\"T_939272a6_1a27_11ec_ac5a_0242ac1c0002level0_row17\" class=\"row_heading level0 row17\" >36</th>\n",
              "                        <td id=\"T_939272a6_1a27_11ec_ac5a_0242ac1c0002row17_col0\" class=\"data row17 col0\" >2022.571061</td>\n",
              "            </tr>\n",
              "            <tr>\n",
              "                        <th id=\"T_939272a6_1a27_11ec_ac5a_0242ac1c0002level0_row18\" class=\"row_heading level0 row18\" >85</th>\n",
              "                        <td id=\"T_939272a6_1a27_11ec_ac5a_0242ac1c0002row18_col0\" class=\"data row18 col0\" >2264.359407</td>\n",
              "            </tr>\n",
              "            <tr>\n",
              "                        <th id=\"T_939272a6_1a27_11ec_ac5a_0242ac1c0002level0_row19\" class=\"row_heading level0 row19\" >31</th>\n",
              "                        <td id=\"T_939272a6_1a27_11ec_ac5a_0242ac1c0002row19_col0\" class=\"data row19 col0\" >2339.440287</td>\n",
              "            </tr>\n",
              "            <tr>\n",
              "                        <th id=\"T_939272a6_1a27_11ec_ac5a_0242ac1c0002level0_row20\" class=\"row_heading level0 row20\" >50</th>\n",
              "                        <td id=\"T_939272a6_1a27_11ec_ac5a_0242ac1c0002row20_col0\" class=\"data row20 col0\" >2658.897010</td>\n",
              "            </tr>\n",
              "            <tr>\n",
              "                        <th id=\"T_939272a6_1a27_11ec_ac5a_0242ac1c0002level0_row21\" class=\"row_heading level0 row21\" >35</th>\n",
              "                        <td id=\"T_939272a6_1a27_11ec_ac5a_0242ac1c0002row21_col0\" class=\"data row21 col0\" >2921.044946</td>\n",
              "            </tr>\n",
              "            <tr>\n",
              "                        <th id=\"T_939272a6_1a27_11ec_ac5a_0242ac1c0002level0_row22\" class=\"row_heading level0 row22\" >37</th>\n",
              "                        <td id=\"T_939272a6_1a27_11ec_ac5a_0242ac1c0002row22_col0\" class=\"data row22 col0\" >3111.076193</td>\n",
              "            </tr>\n",
              "            <tr>\n",
              "                        <th id=\"T_939272a6_1a27_11ec_ac5a_0242ac1c0002level0_row23\" class=\"row_heading level0 row23\" >83</th>\n",
              "                        <td id=\"T_939272a6_1a27_11ec_ac5a_0242ac1c0002row23_col0\" class=\"data row23 col0\" >3383.349838</td>\n",
              "            </tr>\n",
              "            <tr>\n",
              "                        <th id=\"T_939272a6_1a27_11ec_ac5a_0242ac1c0002level0_row24\" class=\"row_heading level0 row24\" >58</th>\n",
              "                        <td id=\"T_939272a6_1a27_11ec_ac5a_0242ac1c0002row24_col0\" class=\"data row24 col0\" >3702.907419</td>\n",
              "            </tr>\n",
              "            <tr>\n",
              "                        <th id=\"T_939272a6_1a27_11ec_ac5a_0242ac1c0002level0_row25\" class=\"row_heading level0 row25\" >56</th>\n",
              "                        <td id=\"T_939272a6_1a27_11ec_ac5a_0242ac1c0002row25_col0\" class=\"data row25 col0\" >3833.706211</td>\n",
              "            </tr>\n",
              "            <tr>\n",
              "                        <th id=\"T_939272a6_1a27_11ec_ac5a_0242ac1c0002level0_row26\" class=\"row_heading level0 row26\" >30</th>\n",
              "                        <td id=\"T_939272a6_1a27_11ec_ac5a_0242ac1c0002row26_col0\" class=\"data row26 col0\" >4118.197208</td>\n",
              "            </tr>\n",
              "            <tr>\n",
              "                        <th id=\"T_939272a6_1a27_11ec_ac5a_0242ac1c0002level0_row27\" class=\"row_heading level0 row27\" >12</th>\n",
              "                        <td id=\"T_939272a6_1a27_11ec_ac5a_0242ac1c0002row27_col0\" class=\"data row27 col0\" >4175.397021</td>\n",
              "            </tr>\n",
              "            <tr>\n",
              "                        <th id=\"T_939272a6_1a27_11ec_ac5a_0242ac1c0002level0_row28\" class=\"row_heading level0 row28\" >44</th>\n",
              "                        <td id=\"T_939272a6_1a27_11ec_ac5a_0242ac1c0002row28_col0\" class=\"data row28 col0\" >4651.729658</td>\n",
              "            </tr>\n",
              "            <tr>\n",
              "                        <th id=\"T_939272a6_1a27_11ec_ac5a_0242ac1c0002level0_row29\" class=\"row_heading level0 row29\" >6</th>\n",
              "                        <td id=\"T_939272a6_1a27_11ec_ac5a_0242ac1c0002row29_col0\" class=\"data row29 col0\" >4747.856188</td>\n",
              "            </tr>\n",
              "            <tr>\n",
              "                        <th id=\"T_939272a6_1a27_11ec_ac5a_0242ac1c0002level0_row30\" class=\"row_heading level0 row30\" >21</th>\n",
              "                        <td id=\"T_939272a6_1a27_11ec_ac5a_0242ac1c0002row30_col0\" class=\"data row30 col0\" >4982.850828</td>\n",
              "            </tr>\n",
              "            <tr>\n",
              "                        <th id=\"T_939272a6_1a27_11ec_ac5a_0242ac1c0002level0_row31\" class=\"row_heading level0 row31\" >42</th>\n",
              "                        <td id=\"T_939272a6_1a27_11ec_ac5a_0242ac1c0002row31_col0\" class=\"data row31 col0\" >5189.703417</td>\n",
              "            </tr>\n",
              "            <tr>\n",
              "                        <th id=\"T_939272a6_1a27_11ec_ac5a_0242ac1c0002level0_row32\" class=\"row_heading level0 row32\" >20</th>\n",
              "                        <td id=\"T_939272a6_1a27_11ec_ac5a_0242ac1c0002row32_col0\" class=\"data row32 col0\" >5528.787319</td>\n",
              "            </tr>\n",
              "            <tr>\n",
              "                        <th id=\"T_939272a6_1a27_11ec_ac5a_0242ac1c0002level0_row33\" class=\"row_heading level0 row33\" >29</th>\n",
              "                        <td id=\"T_939272a6_1a27_11ec_ac5a_0242ac1c0002row33_col0\" class=\"data row33 col0\" >5653.655317</td>\n",
              "            </tr>\n",
              "            <tr>\n",
              "                        <th id=\"T_939272a6_1a27_11ec_ac5a_0242ac1c0002level0_row34\" class=\"row_heading level0 row34\" >71</th>\n",
              "                        <td id=\"T_939272a6_1a27_11ec_ac5a_0242ac1c0002row34_col0\" class=\"data row34 col0\" >5722.927649</td>\n",
              "            </tr>\n",
              "            <tr>\n",
              "                        <th id=\"T_939272a6_1a27_11ec_ac5a_0242ac1c0002level0_row35\" class=\"row_heading level0 row35\" >24</th>\n",
              "                        <td id=\"T_939272a6_1a27_11ec_ac5a_0242ac1c0002row35_col0\" class=\"data row35 col0\" >6353.604562</td>\n",
              "            </tr>\n",
              "            <tr>\n",
              "                        <th id=\"T_939272a6_1a27_11ec_ac5a_0242ac1c0002level0_row36\" class=\"row_heading level0 row36\" >33</th>\n",
              "                        <td id=\"T_939272a6_1a27_11ec_ac5a_0242ac1c0002row36_col0\" class=\"data row36 col0\" >6471.979579</td>\n",
              "            </tr>\n",
              "            <tr>\n",
              "                        <th id=\"T_939272a6_1a27_11ec_ac5a_0242ac1c0002level0_row37\" class=\"row_heading level0 row37\" >98</th>\n",
              "                        <td id=\"T_939272a6_1a27_11ec_ac5a_0242ac1c0002row37_col0\" class=\"data row37 col0\" >6824.694889</td>\n",
              "            </tr>\n",
              "            <tr>\n",
              "                        <th id=\"T_939272a6_1a27_11ec_ac5a_0242ac1c0002level0_row38\" class=\"row_heading level0 row38\" >32</th>\n",
              "                        <td id=\"T_939272a6_1a27_11ec_ac5a_0242ac1c0002row38_col0\" class=\"data row38 col0\" >6833.270787</td>\n",
              "            </tr>\n",
              "            <tr>\n",
              "                        <th id=\"T_939272a6_1a27_11ec_ac5a_0242ac1c0002level0_row39\" class=\"row_heading level0 row39\" >18</th>\n",
              "                        <td id=\"T_939272a6_1a27_11ec_ac5a_0242ac1c0002row39_col0\" class=\"data row39 col0\" >7336.943539</td>\n",
              "            </tr>\n",
              "            <tr>\n",
              "                        <th id=\"T_939272a6_1a27_11ec_ac5a_0242ac1c0002level0_row40\" class=\"row_heading level0 row40\" >67</th>\n",
              "                        <td id=\"T_939272a6_1a27_11ec_ac5a_0242ac1c0002row40_col0\" class=\"data row40 col0\" >7440.680292</td>\n",
              "            </tr>\n",
              "            <tr>\n",
              "                        <th id=\"T_939272a6_1a27_11ec_ac5a_0242ac1c0002level0_row41\" class=\"row_heading level0 row41\" >26</th>\n",
              "                        <td id=\"T_939272a6_1a27_11ec_ac5a_0242ac1c0002row41_col0\" class=\"data row41 col0\" >7649.417947</td>\n",
              "            </tr>\n",
              "            <tr>\n",
              "                        <th id=\"T_939272a6_1a27_11ec_ac5a_0242ac1c0002level0_row42\" class=\"row_heading level0 row42\" >49</th>\n",
              "                        <td id=\"T_939272a6_1a27_11ec_ac5a_0242ac1c0002row42_col0\" class=\"data row42 col0\" >8159.951296</td>\n",
              "            </tr>\n",
              "            <tr>\n",
              "                        <th id=\"T_939272a6_1a27_11ec_ac5a_0242ac1c0002level0_row43\" class=\"row_heading level0 row43\" >25</th>\n",
              "                        <td id=\"T_939272a6_1a27_11ec_ac5a_0242ac1c0002row43_col0\" class=\"data row43 col0\" >8988.230818</td>\n",
              "            </tr>\n",
              "            <tr>\n",
              "                        <th id=\"T_939272a6_1a27_11ec_ac5a_0242ac1c0002level0_row44\" class=\"row_heading level0 row44\" >17</th>\n",
              "                        <td id=\"T_939272a6_1a27_11ec_ac5a_0242ac1c0002row44_col0\" class=\"data row44 col0\" >10187.120498</td>\n",
              "            </tr>\n",
              "            <tr>\n",
              "                        <th id=\"T_939272a6_1a27_11ec_ac5a_0242ac1c0002level0_row45\" class=\"row_heading level0 row45\" >55</th>\n",
              "                        <td id=\"T_939272a6_1a27_11ec_ac5a_0242ac1c0002row45_col0\" class=\"data row45 col0\" >10716.664644</td>\n",
              "            </tr>\n",
              "            <tr>\n",
              "                        <th id=\"T_939272a6_1a27_11ec_ac5a_0242ac1c0002level0_row46\" class=\"row_heading level0 row46\" >22</th>\n",
              "                        <td id=\"T_939272a6_1a27_11ec_ac5a_0242ac1c0002row46_col0\" class=\"data row46 col0\" >10774.509717</td>\n",
              "            </tr>\n",
              "            <tr>\n",
              "                        <th id=\"T_939272a6_1a27_11ec_ac5a_0242ac1c0002level0_row47\" class=\"row_heading level0 row47\" >3</th>\n",
              "                        <td id=\"T_939272a6_1a27_11ec_ac5a_0242ac1c0002row47_col0\" class=\"data row47 col0\" >11793.698516</td>\n",
              "            </tr>\n",
              "            <tr>\n",
              "                        <th id=\"T_939272a6_1a27_11ec_ac5a_0242ac1c0002level0_row48\" class=\"row_heading level0 row48\" >80</th>\n",
              "                        <td id=\"T_939272a6_1a27_11ec_ac5a_0242ac1c0002row48_col0\" class=\"data row48 col0\" >12183.680224</td>\n",
              "            </tr>\n",
              "            <tr>\n",
              "                        <th id=\"T_939272a6_1a27_11ec_ac5a_0242ac1c0002level0_row49\" class=\"row_heading level0 row49\" >87</th>\n",
              "                        <td id=\"T_939272a6_1a27_11ec_ac5a_0242ac1c0002row49_col0\" class=\"data row49 col0\" >13418.882117</td>\n",
              "            </tr>\n",
              "            <tr>\n",
              "                        <th id=\"T_939272a6_1a27_11ec_ac5a_0242ac1c0002level0_row50\" class=\"row_heading level0 row50\" >74</th>\n",
              "                        <td id=\"T_939272a6_1a27_11ec_ac5a_0242ac1c0002row50_col0\" class=\"data row50 col0\" >13807.462764</td>\n",
              "            </tr>\n",
              "            <tr>\n",
              "                        <th id=\"T_939272a6_1a27_11ec_ac5a_0242ac1c0002level0_row51\" class=\"row_heading level0 row51\" >16</th>\n",
              "                        <td id=\"T_939272a6_1a27_11ec_ac5a_0242ac1c0002row51_col0\" class=\"data row51 col0\" >14245.638270</td>\n",
              "            </tr>\n",
              "            <tr>\n",
              "                        <th id=\"T_939272a6_1a27_11ec_ac5a_0242ac1c0002level0_row52\" class=\"row_heading level0 row52\" >97</th>\n",
              "                        <td id=\"T_939272a6_1a27_11ec_ac5a_0242ac1c0002row52_col0\" class=\"data row52 col0\" >14255.576919</td>\n",
              "            </tr>\n",
              "            <tr>\n",
              "                        <th id=\"T_939272a6_1a27_11ec_ac5a_0242ac1c0002level0_row53\" class=\"row_heading level0 row53\" >11</th>\n",
              "                        <td id=\"T_939272a6_1a27_11ec_ac5a_0242ac1c0002row53_col0\" class=\"data row53 col0\" >14505.638231</td>\n",
              "            </tr>\n",
              "            <tr>\n",
              "                        <th id=\"T_939272a6_1a27_11ec_ac5a_0242ac1c0002level0_row54\" class=\"row_heading level0 row54\" >14</th>\n",
              "                        <td id=\"T_939272a6_1a27_11ec_ac5a_0242ac1c0002row54_col0\" class=\"data row54 col0\" >14870.966037</td>\n",
              "            </tr>\n",
              "            <tr>\n",
              "                        <th id=\"T_939272a6_1a27_11ec_ac5a_0242ac1c0002level0_row55\" class=\"row_heading level0 row55\" >96</th>\n",
              "                        <td id=\"T_939272a6_1a27_11ec_ac5a_0242ac1c0002row55_col0\" class=\"data row55 col0\" >15210.942761</td>\n",
              "            </tr>\n",
              "            <tr>\n",
              "                        <th id=\"T_939272a6_1a27_11ec_ac5a_0242ac1c0002level0_row56\" class=\"row_heading level0 row56\" >82</th>\n",
              "                        <td id=\"T_939272a6_1a27_11ec_ac5a_0242ac1c0002row56_col0\" class=\"data row56 col0\" >15469.631753</td>\n",
              "            </tr>\n",
              "            <tr>\n",
              "                        <th id=\"T_939272a6_1a27_11ec_ac5a_0242ac1c0002level0_row57\" class=\"row_heading level0 row57\" >81</th>\n",
              "                        <td id=\"T_939272a6_1a27_11ec_ac5a_0242ac1c0002row57_col0\" class=\"data row57 col0\" >15470.400825</td>\n",
              "            </tr>\n",
              "            <tr>\n",
              "                        <th id=\"T_939272a6_1a27_11ec_ac5a_0242ac1c0002level0_row58\" class=\"row_heading level0 row58\" >34</th>\n",
              "                        <td id=\"T_939272a6_1a27_11ec_ac5a_0242ac1c0002row58_col0\" class=\"data row58 col0\" >15625.915402</td>\n",
              "            </tr>\n",
              "            <tr>\n",
              "                        <th id=\"T_939272a6_1a27_11ec_ac5a_0242ac1c0002level0_row59\" class=\"row_heading level0 row59\" >10</th>\n",
              "                        <td id=\"T_939272a6_1a27_11ec_ac5a_0242ac1c0002row59_col0\" class=\"data row59 col0\" >18321.272351</td>\n",
              "            </tr>\n",
              "            <tr>\n",
              "                        <th id=\"T_939272a6_1a27_11ec_ac5a_0242ac1c0002level0_row60\" class=\"row_heading level0 row60\" >1</th>\n",
              "                        <td id=\"T_939272a6_1a27_11ec_ac5a_0242ac1c0002row60_col0\" class=\"data row60 col0\" >19213.485088</td>\n",
              "            </tr>\n",
              "            <tr>\n",
              "                        <th id=\"T_939272a6_1a27_11ec_ac5a_0242ac1c0002level0_row61\" class=\"row_heading level0 row61\" >46</th>\n",
              "                        <td id=\"T_939272a6_1a27_11ec_ac5a_0242ac1c0002row61_col0\" class=\"data row61 col0\" >19944.741483</td>\n",
              "            </tr>\n",
              "            <tr>\n",
              "                        <th id=\"T_939272a6_1a27_11ec_ac5a_0242ac1c0002level0_row62\" class=\"row_heading level0 row62\" >9</th>\n",
              "                        <td id=\"T_939272a6_1a27_11ec_ac5a_0242ac1c0002row62_col0\" class=\"data row62 col0\" >20206.681878</td>\n",
              "            </tr>\n",
              "            <tr>\n",
              "                        <th id=\"T_939272a6_1a27_11ec_ac5a_0242ac1c0002level0_row63\" class=\"row_heading level0 row63\" >5</th>\n",
              "                        <td id=\"T_939272a6_1a27_11ec_ac5a_0242ac1c0002row63_col0\" class=\"data row63 col0\" >21365.583515</td>\n",
              "            </tr>\n",
              "            <tr>\n",
              "                        <th id=\"T_939272a6_1a27_11ec_ac5a_0242ac1c0002level0_row64\" class=\"row_heading level0 row64\" >79</th>\n",
              "                        <td id=\"T_939272a6_1a27_11ec_ac5a_0242ac1c0002row64_col0\" class=\"data row64 col0\" >21973.044932</td>\n",
              "            </tr>\n",
              "            <tr>\n",
              "                        <th id=\"T_939272a6_1a27_11ec_ac5a_0242ac1c0002level0_row65\" class=\"row_heading level0 row65\" >23</th>\n",
              "                        <td id=\"T_939272a6_1a27_11ec_ac5a_0242ac1c0002row65_col0\" class=\"data row65 col0\" >23931.473983</td>\n",
              "            </tr>\n",
              "            <tr>\n",
              "                        <th id=\"T_939272a6_1a27_11ec_ac5a_0242ac1c0002level0_row66\" class=\"row_heading level0 row66\" >7</th>\n",
              "                        <td id=\"T_939272a6_1a27_11ec_ac5a_0242ac1c0002row66_col0\" class=\"data row66 col0\" >24161.237413</td>\n",
              "            </tr>\n",
              "            <tr>\n",
              "                        <th id=\"T_939272a6_1a27_11ec_ac5a_0242ac1c0002level0_row67\" class=\"row_heading level0 row67\" >4</th>\n",
              "                        <td id=\"T_939272a6_1a27_11ec_ac5a_0242ac1c0002row67_col0\" class=\"data row67 col0\" >25974.630238</td>\n",
              "            </tr>\n",
              "            <tr>\n",
              "                        <th id=\"T_939272a6_1a27_11ec_ac5a_0242ac1c0002level0_row68\" class=\"row_heading level0 row68\" >93</th>\n",
              "                        <td id=\"T_939272a6_1a27_11ec_ac5a_0242ac1c0002row68_col0\" class=\"data row68 col0\" >27008.060746</td>\n",
              "            </tr>\n",
              "            <tr>\n",
              "                        <th id=\"T_939272a6_1a27_11ec_ac5a_0242ac1c0002level0_row69\" class=\"row_heading level0 row69\" >8</th>\n",
              "                        <td id=\"T_939272a6_1a27_11ec_ac5a_0242ac1c0002row69_col0\" class=\"data row69 col0\" >30191.263517</td>\n",
              "            </tr>\n",
              "            <tr>\n",
              "                        <th id=\"T_939272a6_1a27_11ec_ac5a_0242ac1c0002level0_row70\" class=\"row_heading level0 row70\" >13</th>\n",
              "                        <td id=\"T_939272a6_1a27_11ec_ac5a_0242ac1c0002row70_col0\" class=\"data row70 col0\" >30663.802634</td>\n",
              "            </tr>\n",
              "            <tr>\n",
              "                        <th id=\"T_939272a6_1a27_11ec_ac5a_0242ac1c0002level0_row71\" class=\"row_heading level0 row71\" >94</th>\n",
              "                        <td id=\"T_939272a6_1a27_11ec_ac5a_0242ac1c0002row71_col0\" class=\"data row71 col0\" >33405.883963</td>\n",
              "            </tr>\n",
              "            <tr>\n",
              "                        <th id=\"T_939272a6_1a27_11ec_ac5a_0242ac1c0002level0_row72\" class=\"row_heading level0 row72\" >91</th>\n",
              "                        <td id=\"T_939272a6_1a27_11ec_ac5a_0242ac1c0002row72_col0\" class=\"data row72 col0\" >33687.910758</td>\n",
              "            </tr>\n",
              "            <tr>\n",
              "                        <th id=\"T_939272a6_1a27_11ec_ac5a_0242ac1c0002level0_row73\" class=\"row_heading level0 row73\" >2</th>\n",
              "                        <td id=\"T_939272a6_1a27_11ec_ac5a_0242ac1c0002row73_col0\" class=\"data row73 col0\" >43607.020113</td>\n",
              "            </tr>\n",
              "            <tr>\n",
              "                        <th id=\"T_939272a6_1a27_11ec_ac5a_0242ac1c0002level0_row74\" class=\"row_heading level0 row74\" >40</th>\n",
              "                        <td id=\"T_939272a6_1a27_11ec_ac5a_0242ac1c0002row74_col0\" class=\"data row74 col0\" >44900.702727</td>\n",
              "            </tr>\n",
              "            <tr>\n",
              "                        <th id=\"T_939272a6_1a27_11ec_ac5a_0242ac1c0002level0_row75\" class=\"row_heading level0 row75\" >90</th>\n",
              "                        <td id=\"T_939272a6_1a27_11ec_ac5a_0242ac1c0002row75_col0\" class=\"data row75 col0\" >45232.084488</td>\n",
              "            </tr>\n",
              "            <tr>\n",
              "                        <th id=\"T_939272a6_1a27_11ec_ac5a_0242ac1c0002level0_row76\" class=\"row_heading level0 row76\" >65</th>\n",
              "                        <td id=\"T_939272a6_1a27_11ec_ac5a_0242ac1c0002row76_col0\" class=\"data row76 col0\" >45441.706224</td>\n",
              "            </tr>\n",
              "            <tr>\n",
              "                        <th id=\"T_939272a6_1a27_11ec_ac5a_0242ac1c0002level0_row77\" class=\"row_heading level0 row77\" >72</th>\n",
              "                        <td id=\"T_939272a6_1a27_11ec_ac5a_0242ac1c0002row77_col0\" class=\"data row77 col0\" >50566.515417</td>\n",
              "            </tr>\n",
              "            <tr>\n",
              "                        <th id=\"T_939272a6_1a27_11ec_ac5a_0242ac1c0002level0_row78\" class=\"row_heading level0 row78\" >38</th>\n",
              "                        <td id=\"T_939272a6_1a27_11ec_ac5a_0242ac1c0002row78_col0\" class=\"data row78 col0\" >61090.619568</td>\n",
              "            </tr>\n",
              "            <tr>\n",
              "                        <th id=\"T_939272a6_1a27_11ec_ac5a_0242ac1c0002level0_row79\" class=\"row_heading level0 row79\" >95</th>\n",
              "                        <td id=\"T_939272a6_1a27_11ec_ac5a_0242ac1c0002row79_col0\" class=\"data row79 col0\" >69824.423080</td>\n",
              "            </tr>\n",
              "            <tr>\n",
              "                        <th id=\"T_939272a6_1a27_11ec_ac5a_0242ac1c0002level0_row80\" class=\"row_heading level0 row80\" >92</th>\n",
              "                        <td id=\"T_939272a6_1a27_11ec_ac5a_0242ac1c0002row80_col0\" class=\"data row80 col0\" >75204.870531</td>\n",
              "            </tr>\n",
              "    </tbody></table>"
            ],
            "text/plain": [
              "<pandas.io.formats.style.Styler at 0x7f7ee58a4450>"
            ]
          },
          "metadata": {},
          "execution_count": 69
        }
      ]
    },
    {
      "cell_type": "code",
      "metadata": {
        "colab": {
          "base_uri": "https://localhost:8080/",
          "height": 728
        },
        "id": "Fc5K9WfC1Sij",
        "outputId": "bfac1f2b-30ab-41b5-cfe7-b3a510539146"
      },
      "source": [
        "plt.figure(figsize=(20,12))\n",
        "sns.barplot(weekly_sales_dept.index , weekly_sales_dept.values )\n",
        "plt.title('Average weekly sales per store',fontsize = 25)\n",
        "plt.xlabel('Dept Number',fontsize = 20)\n",
        "plt.ylabel('Sales per store',fontsize = 20)\n",
        "plt.grid()\n",
        "plt.show()"
      ],
      "execution_count": 75,
      "outputs": [
        {
          "output_type": "display_data",
          "data": {
            "image/png": "[encoded data removed]",
            "text/plain": [
              "<Figure size 1440x864 with 1 Axes>"
            ]
          },
          "metadata": {
            "needs_background": "light"
          }
        }
      ]
    },
    {
      "cell_type": "markdown",
      "metadata": {
        "id": "ZZCZQfjOJp_2"
      },
      "source": [
        "**Plotting Histograms**"
      ]
    },
    {
      "cell_type": "markdown",
      "metadata": {
        "id": "1YuCREKb54Ec"
      },
      "source": [
        "Plotting a normal distribution where sales greater than zero\n"
      ]
    },
    {
      "cell_type": "code",
      "metadata": {
        "colab": {
          "base_uri": "https://localhost:8080/",
          "height": 617
        },
        "id": "WkwHT8Ow6SLU",
        "outputId": "52c92e94-b36a-4df6-ca1e-df36fba47b04"
      },
      "source": [
        "train_sales = train_df_1[train_df_1['Weekly_Sales']>0]\n",
        "train_sales"
      ],
      "execution_count": 93,
      "outputs": [
        {
          "output_type": "execute_result",
          "data": {
            "text/html": [
              "<div>\n",
              "<style scoped>\n",
              "    .dataframe tbody tr th:only-of-type {\n",
              "        vertical-align: middle;\n",
              "    }\n",
              "\n",
              "    .dataframe tbody tr th {\n",
              "        vertical-align: top;\n",
              "    }\n",
              "\n",
              "    .dataframe thead th {\n",
              "        text-align: right;\n",
              "    }\n",
              "</style>\n",
              "<table border=\"1\" class=\"dataframe\">\n",
              "  <thead>\n",
              "    <tr style=\"text-align: right;\">\n",
              "      <th></th>\n",
              "      <th>Store</th>\n",
              "      <th>Dept</th>\n",
              "      <th>Date</th>\n",
              "      <th>Weekly_Sales</th>\n",
              "      <th>IsHoliday</th>\n",
              "      <th>Temperature</th>\n",
              "      <th>Fuel_Price</th>\n",
              "      <th>MarkDown1</th>\n",
              "      <th>MarkDown2</th>\n",
              "      <th>MarkDown3</th>\n",
              "      <th>MarkDown4</th>\n",
              "      <th>MarkDown5</th>\n",
              "      <th>CPI</th>\n",
              "      <th>Unemployment</th>\n",
              "      <th>Type</th>\n",
              "      <th>Size</th>\n",
              "      <th>week</th>\n",
              "      <th>year</th>\n",
              "    </tr>\n",
              "  </thead>\n",
              "  <tbody>\n",
              "    <tr>\n",
              "      <th>0</th>\n",
              "      <td>1</td>\n",
              "      <td>1</td>\n",
              "      <td>2010-02-05</td>\n",
              "      <td>24924.50</td>\n",
              "      <td>False</td>\n",
              "      <td>42.31</td>\n",
              "      <td>2.572</td>\n",
              "      <td>NaN</td>\n",
              "      <td>NaN</td>\n",
              "      <td>NaN</td>\n",
              "      <td>NaN</td>\n",
              "      <td>NaN</td>\n",
              "      <td>211.096358</td>\n",
              "      <td>8.106</td>\n",
              "      <td>A</td>\n",
              "      <td>151315</td>\n",
              "      <td>5</td>\n",
              "      <td>2010</td>\n",
              "    </tr>\n",
              "    <tr>\n",
              "      <th>1</th>\n",
              "      <td>1</td>\n",
              "      <td>1</td>\n",
              "      <td>2010-02-12</td>\n",
              "      <td>46039.49</td>\n",
              "      <td>True</td>\n",
              "      <td>38.51</td>\n",
              "      <td>2.548</td>\n",
              "      <td>NaN</td>\n",
              "      <td>NaN</td>\n",
              "      <td>NaN</td>\n",
              "      <td>NaN</td>\n",
              "      <td>NaN</td>\n",
              "      <td>211.242170</td>\n",
              "      <td>8.106</td>\n",
              "      <td>A</td>\n",
              "      <td>151315</td>\n",
              "      <td>6</td>\n",
              "      <td>2010</td>\n",
              "    </tr>\n",
              "    <tr>\n",
              "      <th>2</th>\n",
              "      <td>1</td>\n",
              "      <td>1</td>\n",
              "      <td>2010-02-19</td>\n",
              "      <td>41595.55</td>\n",
              "      <td>False</td>\n",
              "      <td>39.93</td>\n",
              "      <td>2.514</td>\n",
              "      <td>NaN</td>\n",
              "      <td>NaN</td>\n",
              "      <td>NaN</td>\n",
              "      <td>NaN</td>\n",
              "      <td>NaN</td>\n",
              "      <td>211.289143</td>\n",
              "      <td>8.106</td>\n",
              "      <td>A</td>\n",
              "      <td>151315</td>\n",
              "      <td>7</td>\n",
              "      <td>2010</td>\n",
              "    </tr>\n",
              "    <tr>\n",
              "      <th>3</th>\n",
              "      <td>1</td>\n",
              "      <td>1</td>\n",
              "      <td>2010-02-26</td>\n",
              "      <td>19403.54</td>\n",
              "      <td>False</td>\n",
              "      <td>46.63</td>\n",
              "      <td>2.561</td>\n",
              "      <td>NaN</td>\n",
              "      <td>NaN</td>\n",
              "      <td>NaN</td>\n",
              "      <td>NaN</td>\n",
              "      <td>NaN</td>\n",
              "      <td>211.319643</td>\n",
              "      <td>8.106</td>\n",
              "      <td>A</td>\n",
              "      <td>151315</td>\n",
              "      <td>8</td>\n",
              "      <td>2010</td>\n",
              "    </tr>\n",
              "    <tr>\n",
              "      <th>4</th>\n",
              "      <td>1</td>\n",
              "      <td>1</td>\n",
              "      <td>2010-03-05</td>\n",
              "      <td>21827.90</td>\n",
              "      <td>False</td>\n",
              "      <td>46.50</td>\n",
              "      <td>2.625</td>\n",
              "      <td>NaN</td>\n",
              "      <td>NaN</td>\n",
              "      <td>NaN</td>\n",
              "      <td>NaN</td>\n",
              "      <td>NaN</td>\n",
              "      <td>211.350143</td>\n",
              "      <td>8.106</td>\n",
              "      <td>A</td>\n",
              "      <td>151315</td>\n",
              "      <td>9</td>\n",
              "      <td>2010</td>\n",
              "    </tr>\n",
              "    <tr>\n",
              "      <th>...</th>\n",
              "      <td>...</td>\n",
              "      <td>...</td>\n",
              "      <td>...</td>\n",
              "      <td>...</td>\n",
              "      <td>...</td>\n",
              "      <td>...</td>\n",
              "      <td>...</td>\n",
              "      <td>...</td>\n",
              "      <td>...</td>\n",
              "      <td>...</td>\n",
              "      <td>...</td>\n",
              "      <td>...</td>\n",
              "      <td>...</td>\n",
              "      <td>...</td>\n",
              "      <td>...</td>\n",
              "      <td>...</td>\n",
              "      <td>...</td>\n",
              "      <td>...</td>\n",
              "    </tr>\n",
              "    <tr>\n",
              "      <th>421565</th>\n",
              "      <td>45</td>\n",
              "      <td>98</td>\n",
              "      <td>2012-09-28</td>\n",
              "      <td>508.37</td>\n",
              "      <td>False</td>\n",
              "      <td>64.88</td>\n",
              "      <td>3.997</td>\n",
              "      <td>4556.61</td>\n",
              "      <td>20.64</td>\n",
              "      <td>1.50</td>\n",
              "      <td>1601.01</td>\n",
              "      <td>3288.25</td>\n",
              "      <td>192.013558</td>\n",
              "      <td>8.684</td>\n",
              "      <td>B</td>\n",
              "      <td>118221</td>\n",
              "      <td>39</td>\n",
              "      <td>2012</td>\n",
              "    </tr>\n",
              "    <tr>\n",
              "      <th>421566</th>\n",
              "      <td>45</td>\n",
              "      <td>98</td>\n",
              "      <td>2012-10-05</td>\n",
              "      <td>628.10</td>\n",
              "      <td>False</td>\n",
              "      <td>64.89</td>\n",
              "      <td>3.985</td>\n",
              "      <td>5046.74</td>\n",
              "      <td>NaN</td>\n",
              "      <td>18.82</td>\n",
              "      <td>2253.43</td>\n",
              "      <td>2340.01</td>\n",
              "      <td>192.170412</td>\n",
              "      <td>8.667</td>\n",
              "      <td>B</td>\n",
              "      <td>118221</td>\n",
              "      <td>40</td>\n",
              "      <td>2012</td>\n",
              "    </tr>\n",
              "    <tr>\n",
              "      <th>421567</th>\n",
              "      <td>45</td>\n",
              "      <td>98</td>\n",
              "      <td>2012-10-12</td>\n",
              "      <td>1061.02</td>\n",
              "      <td>False</td>\n",
              "      <td>54.47</td>\n",
              "      <td>4.000</td>\n",
              "      <td>1956.28</td>\n",
              "      <td>NaN</td>\n",
              "      <td>7.89</td>\n",
              "      <td>599.32</td>\n",
              "      <td>3990.54</td>\n",
              "      <td>192.327265</td>\n",
              "      <td>8.667</td>\n",
              "      <td>B</td>\n",
              "      <td>118221</td>\n",
              "      <td>41</td>\n",
              "      <td>2012</td>\n",
              "    </tr>\n",
              "    <tr>\n",
              "      <th>421568</th>\n",
              "      <td>45</td>\n",
              "      <td>98</td>\n",
              "      <td>2012-10-19</td>\n",
              "      <td>760.01</td>\n",
              "      <td>False</td>\n",
              "      <td>56.47</td>\n",
              "      <td>3.969</td>\n",
              "      <td>2004.02</td>\n",
              "      <td>NaN</td>\n",
              "      <td>3.18</td>\n",
              "      <td>437.73</td>\n",
              "      <td>1537.49</td>\n",
              "      <td>192.330854</td>\n",
              "      <td>8.667</td>\n",
              "      <td>B</td>\n",
              "      <td>118221</td>\n",
              "      <td>42</td>\n",
              "      <td>2012</td>\n",
              "    </tr>\n",
              "    <tr>\n",
              "      <th>421569</th>\n",
              "      <td>45</td>\n",
              "      <td>98</td>\n",
              "      <td>2012-10-26</td>\n",
              "      <td>1076.80</td>\n",
              "      <td>False</td>\n",
              "      <td>58.85</td>\n",
              "      <td>3.882</td>\n",
              "      <td>4018.91</td>\n",
              "      <td>58.08</td>\n",
              "      <td>100.00</td>\n",
              "      <td>211.94</td>\n",
              "      <td>858.33</td>\n",
              "      <td>192.308899</td>\n",
              "      <td>8.667</td>\n",
              "      <td>B</td>\n",
              "      <td>118221</td>\n",
              "      <td>43</td>\n",
              "      <td>2012</td>\n",
              "    </tr>\n",
              "  </tbody>\n",
              "</table>\n",
              "<p>420212 rows × 18 columns</p>\n",
              "</div>"
            ],
            "text/plain": [
              "        Store  Dept       Date  Weekly_Sales  ...  Type    Size  week  year\n",
              "0           1     1 2010-02-05      24924.50  ...     A  151315     5  2010\n",
              "1           1     1 2010-02-12      46039.49  ...     A  151315     6  2010\n",
              "2           1     1 2010-02-19      41595.55  ...     A  151315     7  2010\n",
              "3           1     1 2010-02-26      19403.54  ...     A  151315     8  2010\n",
              "4           1     1 2010-03-05      21827.90  ...     A  151315     9  2010\n",
              "...       ...   ...        ...           ...  ...   ...     ...   ...   ...\n",
              "421565     45    98 2012-09-28        508.37  ...     B  118221    39  2012\n",
              "421566     45    98 2012-10-05        628.10  ...     B  118221    40  2012\n",
              "421567     45    98 2012-10-12       1061.02  ...     B  118221    41  2012\n",
              "421568     45    98 2012-10-19        760.01  ...     B  118221    42  2012\n",
              "421569     45    98 2012-10-26       1076.80  ...     B  118221    43  2012\n",
              "\n",
              "[420212 rows x 18 columns]"
            ]
          },
          "metadata": {},
          "execution_count": 93
        }
      ]
    },
    {
      "cell_type": "code",
      "metadata": {
        "colab": {
          "base_uri": "https://localhost:8080/",
          "height": 472
        },
        "id": "Ng3wO0SZ9r9b",
        "outputId": "50e362d0-9b48-4d6e-94a4-c7f78f05a568"
      },
      "source": [
        "# Taking natural log of the data for sales more than zero\n",
        "# We can see the skewness as we have taken the normal distribution into log normal distribution\n",
        "sales_greater_than_zero = np.log1p(train_sales['Weekly_Sales'])\n",
        "plt.figure(figsize=(13,7))\n",
        "sns.distplot(sales_greater_than_zero)\n",
        "plt.title('Histogram for weekly sales greater than zero',fontsize = 20)\n",
        "plt.xlabel('Week',fontsize = 20)\n",
        "plt.ylabel('Sales per store',fontsize = 20)\n",
        "plt.show()"
      ],
      "execution_count": 86,
      "outputs": [
        {
          "output_type": "display_data",
          "data": {
            "image/png": "[encoded data removed]",
            "text/plain": [
              "<Figure size 936x504 with 1 Axes>"
            ]
          },
          "metadata": {
            "needs_background": "light"
          }
        }
      ]
    },
    {
      "cell_type": "markdown",
      "metadata": {
        "id": "SPZKytXdKHnv"
      },
      "source": [
        "Observation : **Week 9** had the maximum sales per store(approximately)."
      ]
    },
    {
      "cell_type": "markdown",
      "metadata": {
        "id": "6wRoY6vF-K2r"
      },
      "source": [
        "**Plotting Heatmaps**"
      ]
    },
    {
      "cell_type": "code",
      "metadata": {
        "colab": {
          "base_uri": "https://localhost:8080/",
          "height": 745
        },
        "id": "U-ibbSws-MM6",
        "outputId": "b9715f17-1b38-42a8-dde3-14786c927873"
      },
      "source": [
        "plt.figure(figsize=(25,15))\n",
        "sns.heatmap(train_df_1.corr() , annot = True )\n",
        "plt.show()"
      ],
      "execution_count": 90,
      "outputs": [
        {
          "output_type": "display_data",
          "data": {
            "image/png": "[encoded data removed]",
            "text/plain": [
              "<Figure size 1800x1080 with 2 Axes>"
            ]
          },
          "metadata": {
            "needs_background": "light"
          }
        }
      ]
    },
    {
      "cell_type": "markdown",
      "metadata": {
        "id": "HOdzDrvXKYEz"
      },
      "source": [
        "Conclusions : \n",
        "1. Maximum weekly sales for Stores : **Store 10**\n",
        "2. Maximum weekly sales for Dept : **Dept 73**\n",
        "3. Weekwise maximum weekly sales in 2010 : **Week 52**\n",
        "4. Weekwise maximum weekly sales in 2011 : **Week 52**\n",
        "5. Weekwise maximum weekly sales in 2012 : **Week 14**\n",
        "6. Was weekly sales Skewed : **Yes , Positively Skewed**\n",
        "7. Maximum weekly sales per store : **Store 20**\n",
        "8. Maximum weekly sales per dept : **Dept 92**\n",
        "9. Weekly maximum weekly sales per store : **Week 9**"
      ]
    },
    {
      "cell_type": "markdown",
      "metadata": {
        "id": "twmZN2mbKdRu"
      },
      "source": [
        "### **THANK YOU**"
      ]
    }
  ]
}
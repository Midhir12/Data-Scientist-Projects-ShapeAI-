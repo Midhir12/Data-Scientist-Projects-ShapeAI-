{
  "nbformat": 4,
  "nbformat_minor": 0,
  "metadata": {
    "colab": {
      "name": "Project4_Decision_Tree_Regressor.ipynb",
      "provenance": []
    },
    "kernelspec": {
      "name": "python3",
      "display_name": "Python 3"
    },
    "language_info": {
      "name": "python"
    }
  },
  "cells": [
    {
      "cell_type": "markdown",
      "source": [
        "### **SHAPEAI - DATA SCIENTIST TRAINING & INTERNSHIP**"
      ],
      "metadata": {
        "id": "4b7-gOnvov-3"
      }
    },
    {
      "cell_type": "markdown",
      "source": [
        "### **Author : Midhir Nambiar**"
      ],
      "metadata": {
        "id": "LYjWb7FTozx2"
      }
    },
    {
      "cell_type": "markdown",
      "source": [
        "### **Task : Decision Tree Regressor**"
      ],
      "metadata": {
        "id": "5FmQh42vo2hU"
      }
    },
    {
      "cell_type": "markdown",
      "source": [
        "Outline:\n",
        "\n",
        "1. Importing Dataset\n",
        "2. Data Analysis\n",
        "3. Feature Scaling\n",
        "4. Train-Test Split\n",
        "5. Model Building\n",
        "6. Model Evaluation"
      ],
      "metadata": {
        "id": "a0BrPwWqptEg"
      }
    },
    {
      "cell_type": "markdown",
      "source": [
        "Problem Statement - In this dataset we have one independent variable which is Temperature and a dependent variable Revenue. Build a Decision Tree Regressor to study the relationship between these two variables and then predict the Revenue of the Ice Cream Shop based on a particular Temperature that day."
      ],
      "metadata": {
        "id": "4MnClDRSa15W"
      }
    },
    {
      "cell_type": "markdown",
      "source": [
        "**Importing Libraries & Dataset**"
      ],
      "metadata": {
        "id": "1oUAUOl_qJii"
      }
    },
    {
      "cell_type": "code",
      "source": [
        "import numpy as np\n",
        "import pandas as pd\n",
        "import matplotlib.pyplot as plt\n",
        "import seaborn as sns\n",
        "from sklearn.tree import DecisionTreeRegressor"
      ],
      "metadata": {
        "id": "mfU0eWiDZfwM"
      },
      "execution_count": 3,
      "outputs": []
    },
    {
      "cell_type": "code",
      "execution_count": 61,
      "metadata": {
        "id": "07T1hONTZZgB"
      },
      "outputs": [],
      "source": [
        "df = pd.read_csv('https://raw.githubusercontent.com/mk-gurucharan/Regression/master/IceCreamData.csv')"
      ]
    },
    {
      "cell_type": "markdown",
      "source": [
        "**Data Analysis**"
      ],
      "metadata": {
        "id": "6vftwBZAqWYZ"
      }
    },
    {
      "cell_type": "code",
      "source": [
        "df.head()"
      ],
      "metadata": {
        "colab": {
          "base_uri": "https://localhost:8080/",
          "height": 206
        },
        "id": "hP_Qj1q0qViO",
        "outputId": "661ba165-2198-4560-fae1-66d761399a3e"
      },
      "execution_count": 62,
      "outputs": [
        {
          "output_type": "execute_result",
          "data": {
            "text/html": [
              "\n",
              "  <div id=\"df-2da5fc94-051c-435c-9fc5-d234c7c6ebc7\">\n",
              "    <div class=\"colab-df-container\">\n",
              "      <div>\n",
              "<style scoped>\n",
              "    .dataframe tbody tr th:only-of-type {\n",
              "        vertical-align: middle;\n",
              "    }\n",
              "\n",
              "    .dataframe tbody tr th {\n",
              "        vertical-align: top;\n",
              "    }\n",
              "\n",
              "    .dataframe thead th {\n",
              "        text-align: right;\n",
              "    }\n",
              "</style>\n",
              "<table border=\"1\" class=\"dataframe\">\n",
              "  <thead>\n",
              "    <tr style=\"text-align: right;\">\n",
              "      <th></th>\n",
              "      <th>Temperature</th>\n",
              "      <th>Revenue</th>\n",
              "    </tr>\n",
              "  </thead>\n",
              "  <tbody>\n",
              "    <tr>\n",
              "      <th>0</th>\n",
              "      <td>24.566884</td>\n",
              "      <td>534.799028</td>\n",
              "    </tr>\n",
              "    <tr>\n",
              "      <th>1</th>\n",
              "      <td>26.005191</td>\n",
              "      <td>625.190122</td>\n",
              "    </tr>\n",
              "    <tr>\n",
              "      <th>2</th>\n",
              "      <td>27.790554</td>\n",
              "      <td>660.632289</td>\n",
              "    </tr>\n",
              "    <tr>\n",
              "      <th>3</th>\n",
              "      <td>20.595335</td>\n",
              "      <td>487.706960</td>\n",
              "    </tr>\n",
              "    <tr>\n",
              "      <th>4</th>\n",
              "      <td>11.503498</td>\n",
              "      <td>316.240194</td>\n",
              "    </tr>\n",
              "  </tbody>\n",
              "</table>\n",
              "</div>\n",
              "      <button class=\"colab-df-convert\" onclick=\"convertToInteractive('df-2da5fc94-051c-435c-9fc5-d234c7c6ebc7')\"\n",
              "              title=\"Convert this dataframe to an interactive table.\"\n",
              "              style=\"display:none;\">\n",
              "        \n",
              "  <svg xmlns=\"http://www.w3.org/2000/svg\" height=\"24px\"viewBox=\"0 0 24 24\"\n",
              "       width=\"24px\">\n",
              "    <path d=\"M0 0h24v24H0V0z\" fill=\"none\"/>\n",
              "    <path d=\"M18.56 5.44l.94 2.06.94-2.06 2.06-.94-2.06-.94-.94-2.06-.94 2.06-2.06.94zm-11 1L8.5 8.5l.94-2.06 2.06-.94-2.06-.94L8.5 2.5l-.94 2.06-2.06.94zm10 10l.94 2.06.94-2.06 2.06-.94-2.06-.94-.94-2.06-.94 2.06-2.06.94z\"/><path d=\"M17.41 7.96l-1.37-1.37c-.4-.4-.92-.59-1.43-.59-.52 0-1.04.2-1.43.59L10.3 9.45l-7.72 7.72c-.78.78-.78 2.05 0 2.83L4 21.41c.39.39.9.59 1.41.59.51 0 1.02-.2 1.41-.59l7.78-7.78 2.81-2.81c.8-.78.8-2.07 0-2.86zM5.41 20L4 18.59l7.72-7.72 1.47 1.35L5.41 20z\"/>\n",
              "  </svg>\n",
              "      </button>\n",
              "      \n",
              "  <style>\n",
              "    .colab-df-container {\n",
              "      display:flex;\n",
              "      flex-wrap:wrap;\n",
              "      gap: 12px;\n",
              "    }\n",
              "\n",
              "    .colab-df-convert {\n",
              "      background-color: #E8F0FE;\n",
              "      border: none;\n",
              "      border-radius: 50%;\n",
              "      cursor: pointer;\n",
              "      display: none;\n",
              "      fill: #1967D2;\n",
              "      height: 32px;\n",
              "      padding: 0 0 0 0;\n",
              "      width: 32px;\n",
              "    }\n",
              "\n",
              "    .colab-df-convert:hover {\n",
              "      background-color: #E2EBFA;\n",
              "      box-shadow: 0px 1px 2px rgba(60, 64, 67, 0.3), 0px 1px 3px 1px rgba(60, 64, 67, 0.15);\n",
              "      fill: #174EA6;\n",
              "    }\n",
              "\n",
              "    [theme=dark] .colab-df-convert {\n",
              "      background-color: #3B4455;\n",
              "      fill: #D2E3FC;\n",
              "    }\n",
              "\n",
              "    [theme=dark] .colab-df-convert:hover {\n",
              "      background-color: #434B5C;\n",
              "      box-shadow: 0px 1px 3px 1px rgba(0, 0, 0, 0.15);\n",
              "      filter: drop-shadow(0px 1px 2px rgba(0, 0, 0, 0.3));\n",
              "      fill: #FFFFFF;\n",
              "    }\n",
              "  </style>\n",
              "\n",
              "      <script>\n",
              "        const buttonEl =\n",
              "          document.querySelector('#df-2da5fc94-051c-435c-9fc5-d234c7c6ebc7 button.colab-df-convert');\n",
              "        buttonEl.style.display =\n",
              "          google.colab.kernel.accessAllowed ? 'block' : 'none';\n",
              "\n",
              "        async function convertToInteractive(key) {\n",
              "          const element = document.querySelector('#df-2da5fc94-051c-435c-9fc5-d234c7c6ebc7');\n",
              "          const dataTable =\n",
              "            await google.colab.kernel.invokeFunction('convertToInteractive',\n",
              "                                                     [key], {});\n",
              "          if (!dataTable) return;\n",
              "\n",
              "          const docLinkHtml = 'Like what you see? Visit the ' +\n",
              "            '<a target=\"_blank\" href=https://colab.research.google.com/notebooks/data_table.ipynb>data table notebook</a>'\n",
              "            + ' to learn more about interactive tables.';\n",
              "          element.innerHTML = '';\n",
              "          dataTable['output_type'] = 'display_data';\n",
              "          await google.colab.output.renderOutput(dataTable, element);\n",
              "          const docLink = document.createElement('div');\n",
              "          docLink.innerHTML = docLinkHtml;\n",
              "          element.appendChild(docLink);\n",
              "        }\n",
              "      </script>\n",
              "    </div>\n",
              "  </div>\n",
              "  "
            ],
            "text/plain": [
              "   Temperature     Revenue\n",
              "0    24.566884  534.799028\n",
              "1    26.005191  625.190122\n",
              "2    27.790554  660.632289\n",
              "3    20.595335  487.706960\n",
              "4    11.503498  316.240194"
            ]
          },
          "metadata": {},
          "execution_count": 62
        }
      ]
    },
    {
      "cell_type": "code",
      "source": [
        "df.tail()"
      ],
      "metadata": {
        "colab": {
          "base_uri": "https://localhost:8080/",
          "height": 206
        },
        "id": "Lfhja0GhaLEa",
        "outputId": "e2396675-b99e-4487-ae38-f7bc780bbf25"
      },
      "execution_count": 5,
      "outputs": [
        {
          "output_type": "execute_result",
          "data": {
            "text/html": [
              "\n",
              "  <div id=\"df-e79572c8-4031-4d1b-83ce-50b4d1176443\">\n",
              "    <div class=\"colab-df-container\">\n",
              "      <div>\n",
              "<style scoped>\n",
              "    .dataframe tbody tr th:only-of-type {\n",
              "        vertical-align: middle;\n",
              "    }\n",
              "\n",
              "    .dataframe tbody tr th {\n",
              "        vertical-align: top;\n",
              "    }\n",
              "\n",
              "    .dataframe thead th {\n",
              "        text-align: right;\n",
              "    }\n",
              "</style>\n",
              "<table border=\"1\" class=\"dataframe\">\n",
              "  <thead>\n",
              "    <tr style=\"text-align: right;\">\n",
              "      <th></th>\n",
              "      <th>Temperature</th>\n",
              "      <th>Revenue</th>\n",
              "    </tr>\n",
              "  </thead>\n",
              "  <tbody>\n",
              "    <tr>\n",
              "      <th>495</th>\n",
              "      <td>22.274899</td>\n",
              "      <td>524.746364</td>\n",
              "    </tr>\n",
              "    <tr>\n",
              "      <th>496</th>\n",
              "      <td>32.893092</td>\n",
              "      <td>755.818399</td>\n",
              "    </tr>\n",
              "    <tr>\n",
              "      <th>497</th>\n",
              "      <td>12.588157</td>\n",
              "      <td>306.090719</td>\n",
              "    </tr>\n",
              "    <tr>\n",
              "      <th>498</th>\n",
              "      <td>22.362402</td>\n",
              "      <td>566.217304</td>\n",
              "    </tr>\n",
              "    <tr>\n",
              "      <th>499</th>\n",
              "      <td>28.957736</td>\n",
              "      <td>655.660388</td>\n",
              "    </tr>\n",
              "  </tbody>\n",
              "</table>\n",
              "</div>\n",
              "      <button class=\"colab-df-convert\" onclick=\"convertToInteractive('df-e79572c8-4031-4d1b-83ce-50b4d1176443')\"\n",
              "              title=\"Convert this dataframe to an interactive table.\"\n",
              "              style=\"display:none;\">\n",
              "        \n",
              "  <svg xmlns=\"http://www.w3.org/2000/svg\" height=\"24px\"viewBox=\"0 0 24 24\"\n",
              "       width=\"24px\">\n",
              "    <path d=\"M0 0h24v24H0V0z\" fill=\"none\"/>\n",
              "    <path d=\"M18.56 5.44l.94 2.06.94-2.06 2.06-.94-2.06-.94-.94-2.06-.94 2.06-2.06.94zm-11 1L8.5 8.5l.94-2.06 2.06-.94-2.06-.94L8.5 2.5l-.94 2.06-2.06.94zm10 10l.94 2.06.94-2.06 2.06-.94-2.06-.94-.94-2.06-.94 2.06-2.06.94z\"/><path d=\"M17.41 7.96l-1.37-1.37c-.4-.4-.92-.59-1.43-.59-.52 0-1.04.2-1.43.59L10.3 9.45l-7.72 7.72c-.78.78-.78 2.05 0 2.83L4 21.41c.39.39.9.59 1.41.59.51 0 1.02-.2 1.41-.59l7.78-7.78 2.81-2.81c.8-.78.8-2.07 0-2.86zM5.41 20L4 18.59l7.72-7.72 1.47 1.35L5.41 20z\"/>\n",
              "  </svg>\n",
              "      </button>\n",
              "      \n",
              "  <style>\n",
              "    .colab-df-container {\n",
              "      display:flex;\n",
              "      flex-wrap:wrap;\n",
              "      gap: 12px;\n",
              "    }\n",
              "\n",
              "    .colab-df-convert {\n",
              "      background-color: #E8F0FE;\n",
              "      border: none;\n",
              "      border-radius: 50%;\n",
              "      cursor: pointer;\n",
              "      display: none;\n",
              "      fill: #1967D2;\n",
              "      height: 32px;\n",
              "      padding: 0 0 0 0;\n",
              "      width: 32px;\n",
              "    }\n",
              "\n",
              "    .colab-df-convert:hover {\n",
              "      background-color: #E2EBFA;\n",
              "      box-shadow: 0px 1px 2px rgba(60, 64, 67, 0.3), 0px 1px 3px 1px rgba(60, 64, 67, 0.15);\n",
              "      fill: #174EA6;\n",
              "    }\n",
              "\n",
              "    [theme=dark] .colab-df-convert {\n",
              "      background-color: #3B4455;\n",
              "      fill: #D2E3FC;\n",
              "    }\n",
              "\n",
              "    [theme=dark] .colab-df-convert:hover {\n",
              "      background-color: #434B5C;\n",
              "      box-shadow: 0px 1px 3px 1px rgba(0, 0, 0, 0.15);\n",
              "      filter: drop-shadow(0px 1px 2px rgba(0, 0, 0, 0.3));\n",
              "      fill: #FFFFFF;\n",
              "    }\n",
              "  </style>\n",
              "\n",
              "      <script>\n",
              "        const buttonEl =\n",
              "          document.querySelector('#df-e79572c8-4031-4d1b-83ce-50b4d1176443 button.colab-df-convert');\n",
              "        buttonEl.style.display =\n",
              "          google.colab.kernel.accessAllowed ? 'block' : 'none';\n",
              "\n",
              "        async function convertToInteractive(key) {\n",
              "          const element = document.querySelector('#df-e79572c8-4031-4d1b-83ce-50b4d1176443');\n",
              "          const dataTable =\n",
              "            await google.colab.kernel.invokeFunction('convertToInteractive',\n",
              "                                                     [key], {});\n",
              "          if (!dataTable) return;\n",
              "\n",
              "          const docLinkHtml = 'Like what you see? Visit the ' +\n",
              "            '<a target=\"_blank\" href=https://colab.research.google.com/notebooks/data_table.ipynb>data table notebook</a>'\n",
              "            + ' to learn more about interactive tables.';\n",
              "          element.innerHTML = '';\n",
              "          dataTable['output_type'] = 'display_data';\n",
              "          await google.colab.output.renderOutput(dataTable, element);\n",
              "          const docLink = document.createElement('div');\n",
              "          docLink.innerHTML = docLinkHtml;\n",
              "          element.appendChild(docLink);\n",
              "        }\n",
              "      </script>\n",
              "    </div>\n",
              "  </div>\n",
              "  "
            ],
            "text/plain": [
              "     Temperature     Revenue\n",
              "495    22.274899  524.746364\n",
              "496    32.893092  755.818399\n",
              "497    12.588157  306.090719\n",
              "498    22.362402  566.217304\n",
              "499    28.957736  655.660388"
            ]
          },
          "metadata": {},
          "execution_count": 5
        }
      ]
    },
    {
      "cell_type": "code",
      "source": [
        "df.shape"
      ],
      "metadata": {
        "colab": {
          "base_uri": "https://localhost:8080/"
        },
        "id": "88CJA89laM6B",
        "outputId": "278c394d-f702-45f8-8517-0ffaf3fe9cf5"
      },
      "execution_count": 6,
      "outputs": [
        {
          "output_type": "execute_result",
          "data": {
            "text/plain": [
              "(500, 2)"
            ]
          },
          "metadata": {},
          "execution_count": 6
        }
      ]
    },
    {
      "cell_type": "code",
      "source": [
        "df.isnull().sum()"
      ],
      "metadata": {
        "colab": {
          "base_uri": "https://localhost:8080/"
        },
        "id": "7NmcwXg-aOcx",
        "outputId": "013cdfd4-d84c-43da-be7e-4e14f4a40c7b"
      },
      "execution_count": 12,
      "outputs": [
        {
          "output_type": "execute_result",
          "data": {
            "text/plain": [
              "Temperature    0\n",
              "Revenue        0\n",
              "dtype: int64"
            ]
          },
          "metadata": {},
          "execution_count": 12
        }
      ]
    },
    {
      "cell_type": "code",
      "source": [
        "df.describe()"
      ],
      "metadata": {
        "colab": {
          "base_uri": "https://localhost:8080/",
          "height": 300
        },
        "id": "dF2dooBOaRh8",
        "outputId": "63d5d436-3af2-4197-d714-3fff8f75f6c3"
      },
      "execution_count": 8,
      "outputs": [
        {
          "output_type": "execute_result",
          "data": {
            "text/html": [
              "\n",
              "  <div id=\"df-96f0d00c-5eb0-46ad-9fb7-16cad1dc7348\">\n",
              "    <div class=\"colab-df-container\">\n",
              "      <div>\n",
              "<style scoped>\n",
              "    .dataframe tbody tr th:only-of-type {\n",
              "        vertical-align: middle;\n",
              "    }\n",
              "\n",
              "    .dataframe tbody tr th {\n",
              "        vertical-align: top;\n",
              "    }\n",
              "\n",
              "    .dataframe thead th {\n",
              "        text-align: right;\n",
              "    }\n",
              "</style>\n",
              "<table border=\"1\" class=\"dataframe\">\n",
              "  <thead>\n",
              "    <tr style=\"text-align: right;\">\n",
              "      <th></th>\n",
              "      <th>Temperature</th>\n",
              "      <th>Revenue</th>\n",
              "    </tr>\n",
              "  </thead>\n",
              "  <tbody>\n",
              "    <tr>\n",
              "      <th>count</th>\n",
              "      <td>500.000000</td>\n",
              "      <td>500.000000</td>\n",
              "    </tr>\n",
              "    <tr>\n",
              "      <th>mean</th>\n",
              "      <td>22.232225</td>\n",
              "      <td>521.570777</td>\n",
              "    </tr>\n",
              "    <tr>\n",
              "      <th>std</th>\n",
              "      <td>8.096388</td>\n",
              "      <td>175.404751</td>\n",
              "    </tr>\n",
              "    <tr>\n",
              "      <th>min</th>\n",
              "      <td>0.000000</td>\n",
              "      <td>10.000000</td>\n",
              "    </tr>\n",
              "    <tr>\n",
              "      <th>25%</th>\n",
              "      <td>17.122258</td>\n",
              "      <td>405.558681</td>\n",
              "    </tr>\n",
              "    <tr>\n",
              "      <th>50%</th>\n",
              "      <td>22.392791</td>\n",
              "      <td>529.368565</td>\n",
              "    </tr>\n",
              "    <tr>\n",
              "      <th>75%</th>\n",
              "      <td>27.740674</td>\n",
              "      <td>642.257922</td>\n",
              "    </tr>\n",
              "    <tr>\n",
              "      <th>max</th>\n",
              "      <td>45.000000</td>\n",
              "      <td>1000.000000</td>\n",
              "    </tr>\n",
              "  </tbody>\n",
              "</table>\n",
              "</div>\n",
              "      <button class=\"colab-df-convert\" onclick=\"convertToInteractive('df-96f0d00c-5eb0-46ad-9fb7-16cad1dc7348')\"\n",
              "              title=\"Convert this dataframe to an interactive table.\"\n",
              "              style=\"display:none;\">\n",
              "        \n",
              "  <svg xmlns=\"http://www.w3.org/2000/svg\" height=\"24px\"viewBox=\"0 0 24 24\"\n",
              "       width=\"24px\">\n",
              "    <path d=\"M0 0h24v24H0V0z\" fill=\"none\"/>\n",
              "    <path d=\"M18.56 5.44l.94 2.06.94-2.06 2.06-.94-2.06-.94-.94-2.06-.94 2.06-2.06.94zm-11 1L8.5 8.5l.94-2.06 2.06-.94-2.06-.94L8.5 2.5l-.94 2.06-2.06.94zm10 10l.94 2.06.94-2.06 2.06-.94-2.06-.94-.94-2.06-.94 2.06-2.06.94z\"/><path d=\"M17.41 7.96l-1.37-1.37c-.4-.4-.92-.59-1.43-.59-.52 0-1.04.2-1.43.59L10.3 9.45l-7.72 7.72c-.78.78-.78 2.05 0 2.83L4 21.41c.39.39.9.59 1.41.59.51 0 1.02-.2 1.41-.59l7.78-7.78 2.81-2.81c.8-.78.8-2.07 0-2.86zM5.41 20L4 18.59l7.72-7.72 1.47 1.35L5.41 20z\"/>\n",
              "  </svg>\n",
              "      </button>\n",
              "      \n",
              "  <style>\n",
              "    .colab-df-container {\n",
              "      display:flex;\n",
              "      flex-wrap:wrap;\n",
              "      gap: 12px;\n",
              "    }\n",
              "\n",
              "    .colab-df-convert {\n",
              "      background-color: #E8F0FE;\n",
              "      border: none;\n",
              "      border-radius: 50%;\n",
              "      cursor: pointer;\n",
              "      display: none;\n",
              "      fill: #1967D2;\n",
              "      height: 32px;\n",
              "      padding: 0 0 0 0;\n",
              "      width: 32px;\n",
              "    }\n",
              "\n",
              "    .colab-df-convert:hover {\n",
              "      background-color: #E2EBFA;\n",
              "      box-shadow: 0px 1px 2px rgba(60, 64, 67, 0.3), 0px 1px 3px 1px rgba(60, 64, 67, 0.15);\n",
              "      fill: #174EA6;\n",
              "    }\n",
              "\n",
              "    [theme=dark] .colab-df-convert {\n",
              "      background-color: #3B4455;\n",
              "      fill: #D2E3FC;\n",
              "    }\n",
              "\n",
              "    [theme=dark] .colab-df-convert:hover {\n",
              "      background-color: #434B5C;\n",
              "      box-shadow: 0px 1px 3px 1px rgba(0, 0, 0, 0.15);\n",
              "      filter: drop-shadow(0px 1px 2px rgba(0, 0, 0, 0.3));\n",
              "      fill: #FFFFFF;\n",
              "    }\n",
              "  </style>\n",
              "\n",
              "      <script>\n",
              "        const buttonEl =\n",
              "          document.querySelector('#df-96f0d00c-5eb0-46ad-9fb7-16cad1dc7348 button.colab-df-convert');\n",
              "        buttonEl.style.display =\n",
              "          google.colab.kernel.accessAllowed ? 'block' : 'none';\n",
              "\n",
              "        async function convertToInteractive(key) {\n",
              "          const element = document.querySelector('#df-96f0d00c-5eb0-46ad-9fb7-16cad1dc7348');\n",
              "          const dataTable =\n",
              "            await google.colab.kernel.invokeFunction('convertToInteractive',\n",
              "                                                     [key], {});\n",
              "          if (!dataTable) return;\n",
              "\n",
              "          const docLinkHtml = 'Like what you see? Visit the ' +\n",
              "            '<a target=\"_blank\" href=https://colab.research.google.com/notebooks/data_table.ipynb>data table notebook</a>'\n",
              "            + ' to learn more about interactive tables.';\n",
              "          element.innerHTML = '';\n",
              "          dataTable['output_type'] = 'display_data';\n",
              "          await google.colab.output.renderOutput(dataTable, element);\n",
              "          const docLink = document.createElement('div');\n",
              "          docLink.innerHTML = docLinkHtml;\n",
              "          element.appendChild(docLink);\n",
              "        }\n",
              "      </script>\n",
              "    </div>\n",
              "  </div>\n",
              "  "
            ],
            "text/plain": [
              "       Temperature      Revenue\n",
              "count   500.000000   500.000000\n",
              "mean     22.232225   521.570777\n",
              "std       8.096388   175.404751\n",
              "min       0.000000    10.000000\n",
              "25%      17.122258   405.558681\n",
              "50%      22.392791   529.368565\n",
              "75%      27.740674   642.257922\n",
              "max      45.000000  1000.000000"
            ]
          },
          "metadata": {},
          "execution_count": 8
        }
      ]
    },
    {
      "cell_type": "code",
      "source": [
        "plt.figure(figsize=(6,6))\n",
        "plt.scatter(df.Temperature , df.Revenue)\n",
        "plt.xlabel('Temperature')\n",
        "plt.ylabel('Revenue')\n",
        "plt.show()"
      ],
      "metadata": {
        "colab": {
          "base_uri": "https://localhost:8080/",
          "height": 388
        },
        "id": "-UmOJqxwgLbc",
        "outputId": "b4592eb2-af77-48c4-ab1c-8bcb9656b98a"
      },
      "execution_count": 18,
      "outputs": [
        {
          "output_type": "display_data",
          "data": {
            "image/png": "[encoded data removed]",
            "text/plain": [
              "<Figure size 432x432 with 1 Axes>"
            ]
          },
          "metadata": {
            "needs_background": "light"
          }
        }
      ]
    },
    {
      "cell_type": "markdown",
      "source": [
        "**Conclusion** : As the Temperature increases the Revenue tends to increase."
      ],
      "metadata": {
        "id": "1sJYfbX3g4HU"
      }
    },
    {
      "cell_type": "code",
      "source": [
        "plt.figure(figsize=(6,6))\n",
        "sns.heatmap(df.corr(),annot = True)\n",
        "plt.show()"
      ],
      "metadata": {
        "colab": {
          "base_uri": "https://localhost:8080/",
          "height": 378
        },
        "id": "cdcSm2Xxg9Y2",
        "outputId": "4e459912-e525-4243-e409-29d9573a4423"
      },
      "execution_count": 19,
      "outputs": [
        {
          "output_type": "display_data",
          "data": {
            "image/png": "[encoded data removed]",
            "text/plain": [
              "<Figure size 432x432 with 2 Axes>"
            ]
          },
          "metadata": {
            "needs_background": "light"
          }
        }
      ]
    },
    {
      "cell_type": "markdown",
      "source": [
        "**Conclusion** : Strongly co-related."
      ],
      "metadata": {
        "id": "6aoBFdkrhLOU"
      }
    },
    {
      "cell_type": "code",
      "source": [
        "plt.figure(figsize=(6,6))\n",
        "df.boxplot()\n",
        "plt.show()"
      ],
      "metadata": {
        "colab": {
          "base_uri": "https://localhost:8080/",
          "height": 374
        },
        "id": "JjSZunz8hPU1",
        "outputId": "001852e1-50fa-4ec2-ceef-c4113543b3da"
      },
      "execution_count": 22,
      "outputs": [
        {
          "output_type": "display_data",
          "data": {
            "image/png": "[encoded data removed]",
            "text/plain": [
              "<Figure size 432x432 with 1 Axes>"
            ]
          },
          "metadata": {
            "needs_background": "light"
          }
        }
      ]
    },
    {
      "cell_type": "markdown",
      "source": [
        "**Conclusion** - We observe 4-5 outliers."
      ],
      "metadata": {
        "id": "o_Wc9G6MpfQk"
      }
    },
    {
      "cell_type": "markdown",
      "source": [
        "**Feature Scaling**"
      ],
      "metadata": {
        "id": "wGEQNrKGjBmj"
      }
    },
    {
      "cell_type": "code",
      "source": [
        "x = np.array(df.Temperature.values)\n",
        "y = np.array(df.Revenue.values)"
      ],
      "metadata": {
        "id": "e4NmPL2Yix_l"
      },
      "execution_count": 24,
      "outputs": []
    },
    {
      "cell_type": "code",
      "source": [
        "from sklearn.preprocessing import StandardScaler\n",
        "stanscale = StandardScaler()\n",
        "x = stanscale.fit_transform(x.reshape(-1,1))\n",
        "y = stanscale.fit_transform(y.reshape(-1,1))"
      ],
      "metadata": {
        "id": "ZYPgA9RXjDgb"
      },
      "execution_count": 26,
      "outputs": []
    },
    {
      "cell_type": "code",
      "source": [
        "x"
      ],
      "metadata": {
        "colab": {
          "base_uri": "https://localhost:8080/"
        },
        "id": "xO6Jg093paQ5",
        "outputId": "e1f5b1c1-12e0-4358-d46c-5a068959c8fd"
      },
      "execution_count": 60,
      "outputs": [
        {
          "output_type": "execute_result",
          "data": {
            "text/plain": [
              "array([[ 2.88646938e-01],\n",
              "       [ 4.66472813e-01],\n",
              "       [ 6.87207155e-01],\n",
              "       [-2.02377839e-01],\n",
              "       [-1.32645236e+00],\n",
              "       [-9.74212604e-01],\n",
              "       [-1.05392466e+00],\n",
              "       [ 1.06348347e+00],\n",
              "       [-2.62791798e+00],\n",
              "       [ 1.16677850e+00],\n",
              "       [-1.33241706e+00],\n",
              "       [-2.29561034e+00],\n",
              "       [-4.22883244e-01],\n",
              "       [-1.06421991e+00],\n",
              "       [ 2.13984539e+00],\n",
              "       [-4.63520159e-01],\n",
              "       [ 4.57841071e-01],\n",
              "       [ 2.50770714e+00],\n",
              "       [ 9.09618484e-01],\n",
              "       [-5.64120830e-02],\n",
              "       [ 3.98800292e-01],\n",
              "       [-8.67631874e-01],\n",
              "       [ 4.78581709e-02],\n",
              "       [-7.38537629e-01],\n",
              "       [ 2.03936834e-01],\n",
              "       [-4.02300861e-01],\n",
              "       [-8.12379770e-01],\n",
              "       [ 8.59615819e-01],\n",
              "       [-3.96575215e-01],\n",
              "       [ 1.59340614e+00],\n",
              "       [ 2.41301047e-01],\n",
              "       [-8.65576964e-01],\n",
              "       [-1.66181939e+00],\n",
              "       [-4.94418314e-01],\n",
              "       [ 1.65630865e+00],\n",
              "       [ 1.83293659e+00],\n",
              "       [ 6.46925683e-03],\n",
              "       [-5.82960408e-01],\n",
              "       [ 1.17524197e+00],\n",
              "       [-6.40739806e-01],\n",
              "       [ 9.53556269e-02],\n",
              "       [-1.66619595e+00],\n",
              "       [-4.27391732e-01],\n",
              "       [-1.00423786e+00],\n",
              "       [-4.44879393e-01],\n",
              "       [-8.10522478e-01],\n",
              "       [-1.58786604e-01],\n",
              "       [ 1.03891985e+00],\n",
              "       [-2.17429348e-01],\n",
              "       [ 1.11231998e+00],\n",
              "       [-1.95818846e+00],\n",
              "       [ 6.12439338e-01],\n",
              "       [ 7.91454058e-01],\n",
              "       [ 7.13006017e-01],\n",
              "       [-1.47198481e+00],\n",
              "       [ 6.28141192e-01],\n",
              "       [ 1.36041748e+00],\n",
              "       [ 1.77254959e+00],\n",
              "       [-1.20783148e+00],\n",
              "       [-9.70851806e-01],\n",
              "       [-7.33118188e-01],\n",
              "       [-1.31827435e+00],\n",
              "       [ 1.39945497e+00],\n",
              "       [-2.25581779e+00],\n",
              "       [-2.12725844e-01],\n",
              "       [-1.93980636e+00],\n",
              "       [-2.98541050e-01],\n",
              "       [-1.30283301e+00],\n",
              "       [-9.19908634e-02],\n",
              "       [-4.27617473e-01],\n",
              "       [-1.17995261e+00],\n",
              "       [ 6.99145033e-01],\n",
              "       [ 5.84115589e-01],\n",
              "       [ 6.35879493e-01],\n",
              "       [ 2.31123227e-01],\n",
              "       [ 8.10786797e-01],\n",
              "       [ 2.25533093e+00],\n",
              "       [ 4.09696191e-01],\n",
              "       [ 7.99804862e-01],\n",
              "       [ 8.94078177e-01],\n",
              "       [-7.67931408e-01],\n",
              "       [-9.26361090e-01],\n",
              "       [-7.54501450e-03],\n",
              "       [ 8.41156301e-01],\n",
              "       [ 8.62665932e-01],\n",
              "       [-7.25404533e-01],\n",
              "       [ 6.85964080e-01],\n",
              "       [-1.10055680e+00],\n",
              "       [ 8.74451414e-01],\n",
              "       [-9.70309476e-01],\n",
              "       [ 1.01326358e+00],\n",
              "       [-1.62684468e+00],\n",
              "       [ 1.03654921e-01],\n",
              "       [-1.68704162e+00],\n",
              "       [-1.22153726e+00],\n",
              "       [-1.63364192e+00],\n",
              "       [-2.43217502e-01],\n",
              "       [-3.54719314e-01],\n",
              "       [-9.32988718e-01],\n",
              "       [-1.51798124e+00],\n",
              "       [-2.78768270e-01],\n",
              "       [ 1.20815979e+00],\n",
              "       [-9.82288224e-01],\n",
              "       [-5.65474834e-01],\n",
              "       [ 5.39400850e-01],\n",
              "       [-6.14474231e-01],\n",
              "       [ 1.89064852e-01],\n",
              "       [-8.21454994e-01],\n",
              "       [ 7.67077313e-01],\n",
              "       [ 6.79398993e-01],\n",
              "       [ 3.94036064e-01],\n",
              "       [-4.64522410e-01],\n",
              "       [ 2.48617228e-01],\n",
              "       [ 1.16665738e+00],\n",
              "       [-5.61576690e-01],\n",
              "       [ 1.19422599e+00],\n",
              "       [ 4.56579476e-01],\n",
              "       [ 8.75313568e-01],\n",
              "       [-1.38139614e+00],\n",
              "       [ 4.03595836e-01],\n",
              "       [ 8.75453564e-02],\n",
              "       [-1.15357574e+00],\n",
              "       [ 7.45597399e-01],\n",
              "       [ 1.02993823e+00],\n",
              "       [-1.19440757e+00],\n",
              "       [-3.92288076e-01],\n",
              "       [-7.71470878e-01],\n",
              "       [ 4.89070767e-01],\n",
              "       [ 1.13502445e+00],\n",
              "       [ 1.24440516e+00],\n",
              "       [-6.61997289e-02],\n",
              "       [-2.17252745e-01],\n",
              "       [-3.46050709e-01],\n",
              "       [-2.59965379e-01],\n",
              "       [-1.99527140e+00],\n",
              "       [ 7.53862170e-02],\n",
              "       [ 2.90998975e-01],\n",
              "       [ 7.80852883e-01],\n",
              "       [-3.03260324e-01],\n",
              "       [-1.20932797e+00],\n",
              "       [ 1.78904963e+00],\n",
              "       [-3.22635212e-01],\n",
              "       [ 1.25824136e+00],\n",
              "       [-3.66510196e-01],\n",
              "       [-3.09601723e-01],\n",
              "       [-1.68072041e+00],\n",
              "       [ 8.89972534e-01],\n",
              "       [-3.68504650e-01],\n",
              "       [ 2.94625242e-01],\n",
              "       [-1.21033967e+00],\n",
              "       [ 2.86380963e-01],\n",
              "       [-1.23914265e+00],\n",
              "       [-1.23219424e+00],\n",
              "       [-3.06309209e-01],\n",
              "       [ 1.38077329e-01],\n",
              "       [-1.34537532e-01],\n",
              "       [-4.14410256e-01],\n",
              "       [ 7.46701930e-01],\n",
              "       [-7.20326082e-01],\n",
              "       [ 8.35963394e-01],\n",
              "       [-1.48204030e+00],\n",
              "       [-1.37907840e+00],\n",
              "       [ 4.03974117e-01],\n",
              "       [ 7.04614330e-01],\n",
              "       [ 7.69917983e-01],\n",
              "       [-1.10411867e+00],\n",
              "       [ 4.65335650e-01],\n",
              "       [ 1.30717509e+00],\n",
              "       [ 1.29621457e+00],\n",
              "       [ 1.22088332e+00],\n",
              "       [ 3.14831782e-01],\n",
              "       [-8.90561038e-01],\n",
              "       [ 1.47425784e-01],\n",
              "       [ 1.60540975e+00],\n",
              "       [-7.23595961e-01],\n",
              "       [-2.07157088e-01],\n",
              "       [-1.12487691e-01],\n",
              "       [ 5.82498222e-01],\n",
              "       [ 4.97645461e-02],\n",
              "       [ 1.36230004e+00],\n",
              "       [-1.63699246e+00],\n",
              "       [ 5.74006309e-01],\n",
              "       [-1.08082341e-01],\n",
              "       [-2.74904687e-02],\n",
              "       [ 8.52702505e-01],\n",
              "       [-7.46873537e-01],\n",
              "       [ 1.62303035e+00],\n",
              "       [-1.36548915e+00],\n",
              "       [-7.01802762e-01],\n",
              "       [ 1.00121403e+00],\n",
              "       [-1.15371266e+00],\n",
              "       [-2.98899718e-01],\n",
              "       [-1.60431676e-01],\n",
              "       [ 1.67996379e-01],\n",
              "       [-7.01542500e-01],\n",
              "       [ 1.04278821e+00],\n",
              "       [-1.53551852e+00],\n",
              "       [ 1.15571614e+00],\n",
              "       [ 3.94390070e-01],\n",
              "       [ 3.72009925e-01],\n",
              "       [ 5.73837337e-01],\n",
              "       [-9.98564126e-02],\n",
              "       [ 2.14094080e-01],\n",
              "       [-1.45705745e+00],\n",
              "       [-2.02884647e+00],\n",
              "       [-7.52495666e-01],\n",
              "       [ 2.13529347e-01],\n",
              "       [-1.53924363e+00],\n",
              "       [ 2.15584139e-01],\n",
              "       [-1.50038944e+00],\n",
              "       [ 1.92103253e-02],\n",
              "       [ 6.29317134e-01],\n",
              "       [-2.45401684e-01],\n",
              "       [ 1.13840758e-01],\n",
              "       [-8.00945159e-01],\n",
              "       [ 6.60304872e-01],\n",
              "       [-4.27209790e-01],\n",
              "       [ 5.20395359e-02],\n",
              "       [-5.24116521e-01],\n",
              "       [-1.12752833e+00],\n",
              "       [ 3.17786899e-01],\n",
              "       [-4.48732200e-01],\n",
              "       [ 4.49256826e-01],\n",
              "       [ 4.96832113e-01],\n",
              "       [-1.09638936e+00],\n",
              "       [-8.55268928e-02],\n",
              "       [ 6.05307835e-01],\n",
              "       [ 5.82558177e-01],\n",
              "       [ 1.96754980e+00],\n",
              "       [-2.22491609e+00],\n",
              "       [-1.58608933e+00],\n",
              "       [-2.57023498e-01],\n",
              "       [-3.10435769e-01],\n",
              "       [-3.75515089e-01],\n",
              "       [-3.78347120e-01],\n",
              "       [ 1.71659786e+00],\n",
              "       [ 1.45721363e-01],\n",
              "       [ 9.50396994e-01],\n",
              "       [ 1.20818411e+00],\n",
              "       [ 9.31717468e-01],\n",
              "       [-1.37229543e+00],\n",
              "       [ 1.42541849e-01],\n",
              "       [ 6.76636975e-01],\n",
              "       [-8.88235260e-01],\n",
              "       [-1.96330392e+00],\n",
              "       [-9.85212866e-01],\n",
              "       [ 3.94486745e-01],\n",
              "       [ 3.08462010e-01],\n",
              "       [-7.33418593e-01],\n",
              "       [-5.04837764e-01],\n",
              "       [-4.51777471e-01],\n",
              "       [ 1.24903862e+00],\n",
              "       [-1.81386986e+00],\n",
              "       [ 1.14226895e+00],\n",
              "       [ 7.54564914e-01],\n",
              "       [-5.68141103e-01],\n",
              "       [-6.53132396e-02],\n",
              "       [-4.66021827e-01],\n",
              "       [ 1.26696408e+00],\n",
              "       [-6.02289839e-01],\n",
              "       [-1.51475829e-01],\n",
              "       [ 1.66276014e-01],\n",
              "       [ 1.05467508e+00],\n",
              "       [ 5.51828813e-02],\n",
              "       [ 8.18834232e-01],\n",
              "       [-1.55542573e+00],\n",
              "       [-4.60665393e-01],\n",
              "       [-2.08867616e+00],\n",
              "       [ 1.63519308e+00],\n",
              "       [ 3.14772883e-01],\n",
              "       [ 2.96278600e-01],\n",
              "       [ 7.73901607e-01],\n",
              "       [ 3.35978439e-01],\n",
              "       [ 3.97613839e-01],\n",
              "       [ 2.04169887e-03],\n",
              "       [ 3.12754887e-01],\n",
              "       [ 2.66816440e-02],\n",
              "       [ 1.58268754e+00],\n",
              "       [ 1.42329067e+00],\n",
              "       [ 3.64136848e-02],\n",
              "       [ 7.70584398e-01],\n",
              "       [ 1.56436952e-01],\n",
              "       [ 4.75524657e-01],\n",
              "       [ 8.20119731e-01],\n",
              "       [-1.06212913e-02],\n",
              "       [ 5.07502678e-01],\n",
              "       [ 3.42489644e-01],\n",
              "       [ 5.22215104e-01],\n",
              "       [-5.28037925e-03],\n",
              "       [-8.29726141e-01],\n",
              "       [-5.65680429e-01],\n",
              "       [ 8.03345572e-01],\n",
              "       [ 6.54898497e-01],\n",
              "       [ 6.12773999e-01],\n",
              "       [-1.46246075e+00],\n",
              "       [-5.74145439e-01],\n",
              "       [ 2.83078678e-01],\n",
              "       [ 1.94928907e+00],\n",
              "       [-6.52480212e-01],\n",
              "       [-1.79110101e+00],\n",
              "       [-2.02438052e+00],\n",
              "       [ 5.72123333e-01],\n",
              "       [ 2.79571175e-01],\n",
              "       [-4.07633606e-02],\n",
              "       [ 9.63860731e-01],\n",
              "       [-1.17492009e-01],\n",
              "       [ 1.26513135e+00],\n",
              "       [-6.35682250e-01],\n",
              "       [ 1.37022492e+00],\n",
              "       [ 1.45929870e-01],\n",
              "       [-4.02339078e-01],\n",
              "       [-1.23156587e+00],\n",
              "       [ 3.65862311e-01],\n",
              "       [ 5.97948887e-01],\n",
              "       [ 4.31889352e-01],\n",
              "       [ 9.74910703e-03],\n",
              "       [ 3.56545800e-01],\n",
              "       [-9.84589474e-03],\n",
              "       [ 7.50030826e-01],\n",
              "       [-6.43176889e-02],\n",
              "       [-8.79546982e-01],\n",
              "       [ 3.88448618e-01],\n",
              "       [-4.68856191e-01],\n",
              "       [ 7.89211472e-02],\n",
              "       [-9.73110977e-01],\n",
              "       [-1.85093290e+00],\n",
              "       [ 3.70356368e-01],\n",
              "       [-1.55913392e-01],\n",
              "       [-3.03782046e-01],\n",
              "       [ 2.43465905e+00],\n",
              "       [ 7.93365359e-01],\n",
              "       [ 8.66626854e-01],\n",
              "       [-7.89932779e-01],\n",
              "       [-1.64869132e-01],\n",
              "       [ 1.01684254e+00],\n",
              "       [ 3.19786925e-01],\n",
              "       [-2.94621632e-01],\n",
              "       [-1.40350388e-02],\n",
              "       [ 1.46254060e+00],\n",
              "       [-1.56707459e+00],\n",
              "       [ 4.10343361e-01],\n",
              "       [-3.91384968e-01],\n",
              "       [ 1.05762647e-01],\n",
              "       [-1.75551040e+00],\n",
              "       [ 9.24151012e-01],\n",
              "       [-1.24164821e+00],\n",
              "       [ 1.59027125e+00],\n",
              "       [ 3.37305107e-01],\n",
              "       [ 1.97235509e+00],\n",
              "       [-4.01438511e-01],\n",
              "       [-4.35660729e-01],\n",
              "       [-1.85562750e+00],\n",
              "       [-1.17793882e+00],\n",
              "       [ 2.83944865e-01],\n",
              "       [ 2.16756690e+00],\n",
              "       [ 9.90941968e-01],\n",
              "       [ 2.76969279e-01],\n",
              "       [-2.45796822e-01],\n",
              "       [-2.47988805e-01],\n",
              "       [-9.06898167e-01],\n",
              "       [ 8.10457187e-01],\n",
              "       [ 9.23799789e-01],\n",
              "       [ 5.11544866e-01],\n",
              "       [-1.91103736e+00],\n",
              "       [ 1.25427301e-01],\n",
              "       [ 2.56676178e-01],\n",
              "       [ 4.30961143e-01],\n",
              "       [-6.77274949e-02],\n",
              "       [ 4.89528006e-01],\n",
              "       [-7.79316320e-02],\n",
              "       [-4.13994478e-01],\n",
              "       [-2.71567974e+00],\n",
              "       [-3.23226614e-01],\n",
              "       [-2.63136634e-01],\n",
              "       [ 2.16660922e-01],\n",
              "       [ 8.67785401e-01],\n",
              "       [ 1.56132878e+00],\n",
              "       [-1.36680031e+00],\n",
              "       [ 4.81438925e-01],\n",
              "       [ 2.17934540e+00],\n",
              "       [-2.25164350e-01],\n",
              "       [-5.39177948e-01],\n",
              "       [-4.80374362e-01],\n",
              "       [-1.52466545e+00],\n",
              "       [ 3.49153742e-01],\n",
              "       [-1.25460727e+00],\n",
              "       [ 1.82546176e+00],\n",
              "       [-9.27316353e-01],\n",
              "       [-1.86995515e+00],\n",
              "       [ 1.96140214e+00],\n",
              "       [ 5.80021509e-01],\n",
              "       [-1.21151555e+00],\n",
              "       [-1.49753441e+00],\n",
              "       [-5.75893318e-01],\n",
              "       [-1.25734284e+00],\n",
              "       [ 1.01076901e+00],\n",
              "       [-1.84177193e+00],\n",
              "       [ 4.95471973e-02],\n",
              "       [ 7.18839387e-01],\n",
              "       [ 1.39489543e+00],\n",
              "       [ 2.48278447e-01],\n",
              "       [ 2.02720763e+00],\n",
              "       [-2.74869386e+00],\n",
              "       [ 2.61721525e-01],\n",
              "       [ 4.86707999e-01],\n",
              "       [-2.09249716e+00],\n",
              "       [-5.23622647e-01],\n",
              "       [ 1.07969231e+00],\n",
              "       [ 9.25571879e-01],\n",
              "       [ 1.28799967e+00],\n",
              "       [-1.36382338e-01],\n",
              "       [-4.55051303e-01],\n",
              "       [-9.49646422e-01],\n",
              "       [ 2.41514226e+00],\n",
              "       [ 6.04023363e-01],\n",
              "       [-2.73956736e-01],\n",
              "       [-2.06373768e-01],\n",
              "       [ 6.53342357e-01],\n",
              "       [ 9.88575011e-01],\n",
              "       [-6.82873984e-02],\n",
              "       [-2.69777665e-01],\n",
              "       [-6.09896906e-01],\n",
              "       [-6.22232499e-01],\n",
              "       [ 1.63351287e+00],\n",
              "       [-3.85566470e-01],\n",
              "       [-4.05488134e-01],\n",
              "       [ 4.80931561e-01],\n",
              "       [-2.78100579e-01],\n",
              "       [ 6.78662220e-01],\n",
              "       [-1.49083107e-01],\n",
              "       [ 3.89231014e-01],\n",
              "       [ 2.32604438e-01],\n",
              "       [ 6.63532491e-01],\n",
              "       [-1.66614030e+00],\n",
              "       [ 6.56472226e-01],\n",
              "       [-7.80826301e-01],\n",
              "       [-6.23528479e-01],\n",
              "       [ 8.11164762e-01],\n",
              "       [-6.30470911e-01],\n",
              "       [-1.66140519e+00],\n",
              "       [ 1.08775907e+00],\n",
              "       [-3.74523684e-01],\n",
              "       [ 6.05466483e-01],\n",
              "       [ 9.70398816e-01],\n",
              "       [ 2.81490687e+00],\n",
              "       [-4.10932058e-01],\n",
              "       [-8.81435478e-01],\n",
              "       [-4.13922552e-02],\n",
              "       [ 8.99568644e-01],\n",
              "       [-3.65164265e-01],\n",
              "       [ 9.45533668e-01],\n",
              "       [-7.68495660e-02],\n",
              "       [ 3.40775969e-01],\n",
              "       [ 1.10379429e+00],\n",
              "       [ 1.53874624e+00],\n",
              "       [-1.64639350e-01],\n",
              "       [ 1.84153271e+00],\n",
              "       [ 5.10404179e-01],\n",
              "       [ 1.61950026e+00],\n",
              "       [ 2.78511813e-01],\n",
              "       [ 2.03207146e+00],\n",
              "       [ 8.24397864e-01],\n",
              "       [-1.24985809e+00],\n",
              "       [-1.31512671e+00],\n",
              "       [-5.90614976e-01],\n",
              "       [-1.65128400e-01],\n",
              "       [ 2.23428551e+00],\n",
              "       [ 5.31384903e-01],\n",
              "       [ 2.13653762e+00],\n",
              "       [ 2.04928639e-02],\n",
              "       [-1.59772760e+00],\n",
              "       [-3.38450145e-01],\n",
              "       [-8.78162869e-04],\n",
              "       [-4.13568834e-01],\n",
              "       [-5.93615097e-02],\n",
              "       [-5.03568715e-01],\n",
              "       [-9.10714661e-01],\n",
              "       [ 8.15689884e-01],\n",
              "       [ 3.83418021e-01],\n",
              "       [-4.60402144e-01],\n",
              "       [ 3.09797555e-02],\n",
              "       [ 9.70905758e-01],\n",
              "       [-6.47150147e-01],\n",
              "       [ 6.24216061e-01],\n",
              "       [-2.14709880e+00],\n",
              "       [ 1.45275735e-01],\n",
              "       [-1.22777667e+00],\n",
              "       [ 1.28588821e+00],\n",
              "       [-6.83503593e-01],\n",
              "       [ 5.85042583e-01],\n",
              "       [ 1.96914036e-01],\n",
              "       [ 1.51329248e+00],\n",
              "       [ 1.01874284e-01],\n",
              "       [-9.02628610e-01],\n",
              "       [ 3.56050740e-01],\n",
              "       [ 5.27604251e-03],\n",
              "       [ 1.31806239e+00],\n",
              "       [-1.19234988e+00],\n",
              "       [ 1.60945395e-02],\n",
              "       [ 8.31512423e-01]])"
            ]
          },
          "metadata": {},
          "execution_count": 60
        }
      ]
    },
    {
      "cell_type": "markdown",
      "source": [
        "**Train-test Split**"
      ],
      "metadata": {
        "id": "akZuaGDbpDbx"
      }
    },
    {
      "cell_type": "code",
      "source": [
        "from sklearn.model_selection import train_test_split\n",
        "x_train , x_test , y_train , y_test = train_test_split(x, y ,test_size = 0.3 , random_state = 8) "
      ],
      "metadata": {
        "id": "cJTnlx0qkJl-"
      },
      "execution_count": 43,
      "outputs": []
    },
    {
      "cell_type": "code",
      "source": [
        "x_train.shape"
      ],
      "metadata": {
        "colab": {
          "base_uri": "https://localhost:8080/"
        },
        "id": "NeOqdG6ypR2a",
        "outputId": "516307b3-d8b6-4738-fbd9-fb20b1b02064"
      },
      "execution_count": 57,
      "outputs": [
        {
          "output_type": "execute_result",
          "data": {
            "text/plain": [
              "(350, 1)"
            ]
          },
          "metadata": {},
          "execution_count": 57
        }
      ]
    },
    {
      "cell_type": "code",
      "source": [
        "y_test.shape"
      ],
      "metadata": {
        "colab": {
          "base_uri": "https://localhost:8080/"
        },
        "id": "u2iHmbAfpVBJ",
        "outputId": "0fc58c92-5931-4a7a-e046-0af8578fb037"
      },
      "execution_count": 59,
      "outputs": [
        {
          "output_type": "execute_result",
          "data": {
            "text/plain": [
              "(150, 1)"
            ]
          },
          "metadata": {},
          "execution_count": 59
        }
      ]
    },
    {
      "cell_type": "markdown",
      "source": [
        "**Model Building**"
      ],
      "metadata": {
        "id": "fkN-p86XpMTJ"
      }
    },
    {
      "cell_type": "code",
      "source": [
        "regressor = DecisionTreeRegressor()\n",
        "regressor.fit(x_train , y_train)"
      ],
      "metadata": {
        "colab": {
          "base_uri": "https://localhost:8080/"
        },
        "id": "1Boz7bBKlEnt",
        "outputId": "2479b2d0-c447-4db4-efcc-523847213227"
      },
      "execution_count": 44,
      "outputs": [
        {
          "output_type": "execute_result",
          "data": {
            "text/plain": [
              "DecisionTreeRegressor()"
            ]
          },
          "metadata": {},
          "execution_count": 44
        }
      ]
    },
    {
      "cell_type": "code",
      "source": [
        "y_pred = regressor.predict(x_test)\n",
        "y_pred"
      ],
      "metadata": {
        "colab": {
          "base_uri": "https://localhost:8080/"
        },
        "id": "9eB9j5iZlbG6",
        "outputId": "e0909614-1196-4361-a61a-2f699fa806ea"
      },
      "execution_count": 45,
      "outputs": [
        {
          "output_type": "execute_result",
          "data": {
            "text/plain": [
              "array([-0.25552954,  1.48629159, -1.37936228,  0.05237395, -0.41716459,\n",
              "        1.29197884, -2.79076772, -0.40016144, -0.08639334, -0.25267312,\n",
              "       -0.65659518, -0.14585954, -1.06032727,  0.08068369,  0.97236746,\n",
              "        0.23786102, -0.27975599,  0.60537868, -0.68009371,  1.4411823 ,\n",
              "       -1.50251145, -0.25255822,  0.058048  ,  2.19088314,  0.7443656 ,\n",
              "        0.59133586, -0.67976922, -0.24955341,  1.05663762,  0.27420067,\n",
              "        0.538471  ,  1.7469346 , -1.88294733,  0.59133586,  1.19858663,\n",
              "        0.21437683, -1.38824381,  0.24390764,  0.51694091, -0.29482373,\n",
              "       -1.17517016, -0.40016144, -1.15373355,  0.08353288, -0.28459414,\n",
              "        0.33957359, -0.200285  , -1.70461521,  0.47398418, -1.08098769,\n",
              "        0.10339158,  0.21152949,  0.76085569, -0.72075308, -1.76390188,\n",
              "       -1.56813776,  0.41511845, -0.25552954,  0.00886707,  0.60537868,\n",
              "        0.82501096, -0.8019631 ,  0.49683036,  2.11062281,  1.99279015,\n",
              "       -0.19060725,  0.73137498,  0.28456138, -0.12272493, -2.79076772,\n",
              "        1.08202985,  0.9198355 , -1.08098769,  1.54944578,  0.06707526,\n",
              "        1.6132537 , -0.48119124, -0.38683705,  0.68170472, -0.67784116,\n",
              "        0.16475842,  0.70146879, -0.0811164 , -1.29912314, -2.14544922,\n",
              "        1.04269495,  0.51744319, -1.17517016,  0.62630785, -0.61147179,\n",
              "        1.10135306,  1.48629159, -1.11626546, -0.67784116,  0.33957359,\n",
              "       -0.67976922, -0.66002458,  0.78200228,  0.97236746,  0.92785685,\n",
              "       -0.25267312, -1.01699838,  0.17832966,  0.0924237 , -0.27975599,\n",
              "       -1.17517016, -0.09032116,  0.73137498, -0.64012127, -0.21821526,\n",
              "        0.23860659,  0.05982587, -0.50648495,  1.64231559,  0.51694091,\n",
              "        0.72467275, -0.8019631 , -1.70461521,  0.51744319, -0.52061439,\n",
              "        0.14337264,  0.82236209,  0.80459288,  0.69349245,  0.13886467,\n",
              "       -0.38453344, -2.22516355, -1.91231928, -0.33387782, -0.0811164 ,\n",
              "        1.10135306, -0.88639913, -0.8019631 , -0.38453344, -1.08098769,\n",
              "        0.71161729, -0.14585954,  1.00198276, -0.82758043, -0.08639334,\n",
              "       -0.25552954, -1.38965387, -0.8367043 ,  0.78200228, -1.41936203,\n",
              "       -1.50940546,  0.21152949,  2.5333798 ,  1.00198276, -0.07333424])"
            ]
          },
          "metadata": {},
          "execution_count": 45
        }
      ]
    },
    {
      "cell_type": "code",
      "source": [
        "plt.figure(figsize=(7,7))\n",
        "plt.scatter(x_test , y_test , color ='red')\n",
        "plt.scatter(x_test , y_pred , color ='green')\n",
        "plt.xlabel('x_test')\n",
        "plt.ylabel('Actual in red , Pred in green')\n",
        "plt.show()"
      ],
      "metadata": {
        "colab": {
          "base_uri": "https://localhost:8080/",
          "height": 443
        },
        "id": "NBGLg8wFlrot",
        "outputId": "4272ca1b-a997-4175-ac32-fa537d888409"
      },
      "execution_count": 46,
      "outputs": [
        {
          "output_type": "display_data",
          "data": {
            "image/png": "[encoded data removed]",
            "text/plain": [
              "<Figure size 504x504 with 1 Axes>"
            ]
          },
          "metadata": {
            "needs_background": "light"
          }
        }
      ]
    },
    {
      "cell_type": "markdown",
      "source": [
        "**Model Evaluation**"
      ],
      "metadata": {
        "id": "M3AOQYwipPJh"
      }
    },
    {
      "cell_type": "code",
      "source": [
        "from sklearn.metrics import r2_score , mean_squared_error , mean_absolute_error"
      ],
      "metadata": {
        "id": "tisbgbzPmKLm"
      },
      "execution_count": 47,
      "outputs": []
    },
    {
      "cell_type": "code",
      "source": [
        "r2_score(y_test , y_pred)"
      ],
      "metadata": {
        "colab": {
          "base_uri": "https://localhost:8080/"
        },
        "id": "ydRHJNPymQ4_",
        "outputId": "4bd9377c-032e-45d8-fbc8-766449949d21"
      },
      "execution_count": 48,
      "outputs": [
        {
          "output_type": "execute_result",
          "data": {
            "text/plain": [
              "0.9617190188249334"
            ]
          },
          "metadata": {},
          "execution_count": 48
        }
      ]
    },
    {
      "cell_type": "markdown",
      "source": [
        "### **THANK YOU**"
      ],
      "metadata": {
        "id": "G5cl_5XFqEB0"
      }
    }
  ]
}